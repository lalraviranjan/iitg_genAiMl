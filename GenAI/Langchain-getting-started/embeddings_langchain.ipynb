{
 "cells": [
  {
   "cell_type": "code",
   "execution_count": 1,
   "id": "4f0431a5",
   "metadata": {},
   "outputs": [
    {
     "data": {
      "text/plain": [
       "True"
      ]
     },
     "execution_count": 1,
     "metadata": {},
     "output_type": "execute_result"
    }
   ],
   "source": [
    "import os\n",
    "from dotenv import load_dotenv\n",
    "load_dotenv()"
   ]
  },
  {
   "cell_type": "code",
   "execution_count": null,
   "id": "4a20ce5c",
   "metadata": {},
   "outputs": [],
   "source": [
    "os.environ['LANGCHAIN_API_KEY'] = os.getenv('LANGCHAIN_API_KEY')"
   ]
  },
  {
   "cell_type": "markdown",
   "id": "cc237d10",
   "metadata": {},
   "source": [
    "#### Sentence transformers in hugging face\n",
    "The Sentence Transformer is a library built on top of Hugging Face's Transformers library. It is specifically designed for tasks like sentence embeddings, semantic similarity, and clustering. It provides pre-trained models that can convert sentences or text into dense vector representations (embeddings) that capture semantic meaning.\n",
    "\n",
    "Key Features:\n",
    "1. Semantic Embeddings: Converts sentences into fixed-size dense vectors.\n",
    "2. Pre-trained Models: Includes models fine-tuned for tasks like semantic similarity, clustering, and information retrieval.\n",
    "3. Hugging Face Integration: Compatible with Hugging Face's Transformers library.\n",
    "    - Applications:\n",
    "    - Semantic search\n",
    "    - Clustering\n",
    "    - Text classification\n",
    "    - Question answering"
   ]
  },
  {
   "cell_type": "code",
   "execution_count": 4,
   "id": "464ee3ca",
   "metadata": {},
   "outputs": [
    {
     "name": "stdout",
     "output_type": "stream",
     "text": [
      "WARNING:tensorflow:From c:\\Users\\lalra\\anaconda3\\envs\\huggingface\\Lib\\site-packages\\tf_keras\\src\\losses.py:2976: The name tf.losses.sparse_softmax_cross_entropy is deprecated. Please use tf.compat.v1.losses.sparse_softmax_cross_entropy instead.\n",
      "\n"
     ]
    },
    {
     "data": {
      "application/vnd.jupyter.widget-view+json": {
       "model_id": "35d88b596f0c4899b5c57acf6dd07421",
       "version_major": 2,
       "version_minor": 0
      },
      "text/plain": [
       "modules.json:   0%|          | 0.00/349 [00:00<?, ?B/s]"
      ]
     },
     "metadata": {},
     "output_type": "display_data"
    },
    {
     "name": "stderr",
     "output_type": "stream",
     "text": [
      "c:\\Users\\lalra\\anaconda3\\envs\\huggingface\\Lib\\site-packages\\huggingface_hub\\file_download.py:144: UserWarning: `huggingface_hub` cache-system uses symlinks by default to efficiently store duplicated files but your machine does not support them in C:\\Users\\lalra\\.cache\\huggingface\\hub\\models--sentence-transformers--all-MiniLM-L6-v2. Caching files will still work but in a degraded version that might require more space on your disk. This warning can be disabled by setting the `HF_HUB_DISABLE_SYMLINKS_WARNING` environment variable. For more details, see https://huggingface.co/docs/huggingface_hub/how-to-cache#limitations.\n",
      "To support symlinks on Windows, you either need to activate Developer Mode or to run Python as an administrator. In order to activate developer mode, see this article: https://docs.microsoft.com/en-us/windows/apps/get-started/enable-your-device-for-development\n",
      "  warnings.warn(message)\n"
     ]
    },
    {
     "data": {
      "application/vnd.jupyter.widget-view+json": {
       "model_id": "5ff183575a9847aea9d1fda5a6c621e3",
       "version_major": 2,
       "version_minor": 0
      },
      "text/plain": [
       "config_sentence_transformers.json:   0%|          | 0.00/116 [00:00<?, ?B/s]"
      ]
     },
     "metadata": {},
     "output_type": "display_data"
    },
    {
     "data": {
      "application/vnd.jupyter.widget-view+json": {
       "model_id": "c71d1ec83da94d188ab778bc2cd145a2",
       "version_major": 2,
       "version_minor": 0
      },
      "text/plain": [
       "README.md:   0%|          | 0.00/10.5k [00:00<?, ?B/s]"
      ]
     },
     "metadata": {},
     "output_type": "display_data"
    },
    {
     "data": {
      "application/vnd.jupyter.widget-view+json": {
       "model_id": "ab3004b365394938965073a9a69e76c6",
       "version_major": 2,
       "version_minor": 0
      },
      "text/plain": [
       "sentence_bert_config.json:   0%|          | 0.00/53.0 [00:00<?, ?B/s]"
      ]
     },
     "metadata": {},
     "output_type": "display_data"
    },
    {
     "data": {
      "application/vnd.jupyter.widget-view+json": {
       "model_id": "0059d4a54d334c9d89f7bf1ffae5a25d",
       "version_major": 2,
       "version_minor": 0
      },
      "text/plain": [
       "config.json:   0%|          | 0.00/612 [00:00<?, ?B/s]"
      ]
     },
     "metadata": {},
     "output_type": "display_data"
    },
    {
     "name": "stderr",
     "output_type": "stream",
     "text": [
      "Xet Storage is enabled for this repo, but the 'hf_xet' package is not installed. Falling back to regular HTTP download. For better performance, install the package with: `pip install huggingface_hub[hf_xet]` or `pip install hf_xet`\n"
     ]
    },
    {
     "data": {
      "application/vnd.jupyter.widget-view+json": {
       "model_id": "3727e569f2dc46569e68ddc8c591bee8",
       "version_major": 2,
       "version_minor": 0
      },
      "text/plain": [
       "model.safetensors:   0%|          | 0.00/90.9M [00:00<?, ?B/s]"
      ]
     },
     "metadata": {},
     "output_type": "display_data"
    },
    {
     "data": {
      "application/vnd.jupyter.widget-view+json": {
       "model_id": "1ca4dc62235c45a697be3212246131ce",
       "version_major": 2,
       "version_minor": 0
      },
      "text/plain": [
       "tokenizer_config.json:   0%|          | 0.00/350 [00:00<?, ?B/s]"
      ]
     },
     "metadata": {},
     "output_type": "display_data"
    },
    {
     "data": {
      "application/vnd.jupyter.widget-view+json": {
       "model_id": "def3abdf1d2142d498824c236e1aa419",
       "version_major": 2,
       "version_minor": 0
      },
      "text/plain": [
       "vocab.txt:   0%|          | 0.00/232k [00:00<?, ?B/s]"
      ]
     },
     "metadata": {},
     "output_type": "display_data"
    },
    {
     "data": {
      "application/vnd.jupyter.widget-view+json": {
       "model_id": "28fa25cef74040e0a79df8d6ba3d6441",
       "version_major": 2,
       "version_minor": 0
      },
      "text/plain": [
       "tokenizer.json:   0%|          | 0.00/466k [00:00<?, ?B/s]"
      ]
     },
     "metadata": {},
     "output_type": "display_data"
    },
    {
     "data": {
      "application/vnd.jupyter.widget-view+json": {
       "model_id": "d985b86b7e92411c9f106c029361c0b9",
       "version_major": 2,
       "version_minor": 0
      },
      "text/plain": [
       "special_tokens_map.json:   0%|          | 0.00/112 [00:00<?, ?B/s]"
      ]
     },
     "metadata": {},
     "output_type": "display_data"
    },
    {
     "data": {
      "application/vnd.jupyter.widget-view+json": {
       "model_id": "f3c430507b1e4370aeaeb79d28153e8d",
       "version_major": 2,
       "version_minor": 0
      },
      "text/plain": [
       "config.json:   0%|          | 0.00/190 [00:00<?, ?B/s]"
      ]
     },
     "metadata": {},
     "output_type": "display_data"
    }
   ],
   "source": [
    "import torch\n",
    "from langchain_huggingface import HuggingFaceEmbeddings\n",
    "embeddings = HuggingFaceEmbeddings(\n",
    "    model_name=\"all-MiniLM-L6-v2\",\n",
    "    model_kwargs={\"device\": \"cuda\" if torch.cuda.is_available() else \"cpu\"}\n",
    ")"
   ]
  },
  {
   "cell_type": "code",
   "execution_count": 6,
   "id": "651e6d73",
   "metadata": {},
   "outputs": [
    {
     "data": {
      "text/plain": [
       "[0.0437503382563591,\n",
       " 0.07590808719396591,\n",
       " 0.010780653916299343,\n",
       " 0.08961338549852371,\n",
       " -0.002957237185910344,\n",
       " -0.08190883696079254,\n",
       " 0.024802401661872864,\n",
       " -0.05387593060731888,\n",
       " -0.023736190050840378,\n",
       " 0.04016643390059471,\n",
       " 0.10044591873884201,\n",
       " -0.007916945964097977,\n",
       " 0.04069444537162781,\n",
       " -0.000980785465799272,\n",
       " 0.00016740172577556223,\n",
       " -0.07142097502946854,\n",
       " 0.010239196009933949,\n",
       " -0.027195632457733154,\n",
       " -0.09860707819461823,\n",
       " 0.045962996780872345,\n",
       " 0.09550978243350983,\n",
       " 0.08297312259674072,\n",
       " 0.008822725154459476,\n",
       " 0.025006888434290886,\n",
       " -0.045074462890625,\n",
       " 0.0061945863999426365,\n",
       " -0.022486282512545586,\n",
       " 0.03833475708961487,\n",
       " 0.029465051367878914,\n",
       " -0.029545672237873077,\n",
       " 0.0059788841754198074,\n",
       " 0.030077029019594193,\n",
       " 0.07824529707431793,\n",
       " 0.03276558220386505,\n",
       " 0.009977121837437153,\n",
       " 0.011915854178369045,\n",
       " 0.03651103749871254,\n",
       " -0.031047319993376732,\n",
       " -0.020898137241601944,\n",
       " 0.0036641359329223633,\n",
       " 0.044271375983953476,\n",
       " -0.11569225788116455,\n",
       " -0.0161600224673748,\n",
       " 0.0006744085694663227,\n",
       " 0.01862303912639618,\n",
       " 0.01331230066716671,\n",
       " -0.03287116065621376,\n",
       " 0.02476503886282444,\n",
       " 0.01571517623960972,\n",
       " -0.028708944097161293,\n",
       " -0.05577206239104271,\n",
       " -0.08110465109348297,\n",
       " -0.019173884764313698,\n",
       " -0.004213032778352499,\n",
       " 0.011145547032356262,\n",
       " 0.012875254265964031,\n",
       " 0.030835043638944626,\n",
       " -0.029766058549284935,\n",
       " 0.04600116237998009,\n",
       " 0.029983753338456154,\n",
       " -0.08420811593532562,\n",
       " 0.007333357818424702,\n",
       " -0.01787901110947132,\n",
       " 0.06792833656072617,\n",
       " 0.12877076864242554,\n",
       " -0.021804194897413254,\n",
       " -0.029005752876400948,\n",
       " -0.05270830914378166,\n",
       " -0.0639815703034401,\n",
       " -0.04281891882419586,\n",
       " -0.013234177604317665,\n",
       " 0.025600412860512733,\n",
       " 0.08034207671880722,\n",
       " 0.05760308727622032,\n",
       " -0.045920681208372116,\n",
       " 0.012656674720346928,\n",
       " 0.014679886400699615,\n",
       " -0.07889782637357712,\n",
       " 0.108132503926754,\n",
       " 0.0828152745962143,\n",
       " 0.0001468102855142206,\n",
       " -0.11849728971719742,\n",
       " -0.014023617841303349,\n",
       " 0.058088261634111404,\n",
       " 0.009441073052585125,\n",
       " -0.024450231343507767,\n",
       " 0.03446587547659874,\n",
       " -0.04209481552243233,\n",
       " -0.10362447798252106,\n",
       " -0.015068937093019485,\n",
       " -0.10475404560565948,\n",
       " -0.06076716259121895,\n",
       " -0.004018235020339489,\n",
       " 0.03016827628016472,\n",
       " -0.11695954203605652,\n",
       " -0.031171735376119614,\n",
       " -0.026553407311439514,\n",
       " -0.006055981386452913,\n",
       " -0.11461959779262543,\n",
       " 0.06936176866292953,\n",
       " 0.026560069993138313,\n",
       " 0.03969995677471161,\n",
       " 0.05622483789920807,\n",
       " 0.07434689253568649,\n",
       " -0.03336098790168762,\n",
       " 0.0020633689127862453,\n",
       " -0.028642753139138222,\n",
       " 0.003300212789326906,\n",
       " 0.007928368635475636,\n",
       " -0.025425799190998077,\n",
       " -0.05147607624530792,\n",
       " -0.026670975610613823,\n",
       " 0.0828857347369194,\n",
       " -0.044786542654037476,\n",
       " 0.02568710222840309,\n",
       " -0.07598122209310532,\n",
       " -0.08329009264707565,\n",
       " 0.01986979879438877,\n",
       " -0.04802605137228966,\n",
       " 0.05920771136879921,\n",
       " 0.04449252039194107,\n",
       " 0.019067952409386635,\n",
       " -0.010262567549943924,\n",
       " -0.00486727012321353,\n",
       " -0.033206745982170105,\n",
       " -0.008940006606280804,\n",
       " 0.059803370386362076,\n",
       " -6.87086513226006e-33,\n",
       " 0.0347711518406868,\n",
       " -0.04484682157635689,\n",
       " 0.06677825003862381,\n",
       " 0.13676822185516357,\n",
       " -0.009682022035121918,\n",
       " -0.013881873339414597,\n",
       " -0.056356921792030334,\n",
       " 0.054511908441782,\n",
       " -0.007155784405767918,\n",
       " 0.02274376153945923,\n",
       " 0.04269101843237877,\n",
       " -0.05885259062051773,\n",
       " 1.6532223526155576e-05,\n",
       " 0.07773776352405548,\n",
       " 0.018931260332465172,\n",
       " 0.13633698225021362,\n",
       " -0.0723012313246727,\n",
       " 0.007042615674436092,\n",
       " -0.028775213286280632,\n",
       " 0.13258351385593414,\n",
       " -0.06758902221918106,\n",
       " 0.015549913048744202,\n",
       " 0.020894240587949753,\n",
       " 0.012227541767060757,\n",
       " -0.06782233715057373,\n",
       " -0.045527081936597824,\n",
       " 0.0014343459624797106,\n",
       " -0.06252140551805496,\n",
       " 0.031300537288188934,\n",
       " 0.020072415471076965,\n",
       " -0.014543442055583,\n",
       " -0.030981967225670815,\n",
       " -0.010144044645130634,\n",
       " 0.04597732797265053,\n",
       " 0.012053785845637321,\n",
       " 0.01647726446390152,\n",
       " 0.024773407727479935,\n",
       " -0.09029978513717651,\n",
       " -0.0750180333852768,\n",
       " 0.0022837610449641943,\n",
       " -0.09146802127361298,\n",
       " 0.01083819568157196,\n",
       " 0.01510984543710947,\n",
       " -0.003009332809597254,\n",
       " 0.027968408539891243,\n",
       " -0.017603421583771706,\n",
       " -0.02264595776796341,\n",
       " 0.020048759877681732,\n",
       " 0.03377349302172661,\n",
       " 0.05967368185520172,\n",
       " -0.05102546140551567,\n",
       " 0.080763079226017,\n",
       " 0.03077121265232563,\n",
       " 0.0064952862448990345,\n",
       " 0.017482420429587364,\n",
       " 0.053629543632268906,\n",
       " 0.053560275584459305,\n",
       " -0.018474308773875237,\n",
       " -0.02533269114792347,\n",
       " 0.09828884154558182,\n",
       " -0.024880746379494667,\n",
       " 0.08494013547897339,\n",
       " -0.013600754551589489,\n",
       " 0.04159773513674736,\n",
       " 0.023848630487918854,\n",
       " -0.02060837298631668,\n",
       " -0.013246456161141396,\n",
       " -0.03482752665877342,\n",
       " 0.05131325498223305,\n",
       " 0.028226543217897415,\n",
       " -0.0001823580387281254,\n",
       " -0.04212320223450661,\n",
       " -0.052422575652599335,\n",
       " 0.0900929793715477,\n",
       " 0.01889721304178238,\n",
       " 0.0019456056179478765,\n",
       " 0.08574386686086655,\n",
       " 0.006874547339975834,\n",
       " 0.02567562274634838,\n",
       " -0.03659121319651604,\n",
       " 0.07417048513889313,\n",
       " -0.07797198742628098,\n",
       " 0.045277129858732224,\n",
       " -0.05357348173856735,\n",
       " -0.019172916188836098,\n",
       " -0.01876474916934967,\n",
       " -0.034526996314525604,\n",
       " -0.1397487074136734,\n",
       " 0.00027862770366482437,\n",
       " -0.00857354886829853,\n",
       " -0.017869148403406143,\n",
       " 0.06213236227631569,\n",
       " 0.04246513918042183,\n",
       " -0.016500262543559074,\n",
       " -0.00375918741337955,\n",
       " 3.1616514829578725e-33,\n",
       " 0.08502368628978729,\n",
       " 0.0683601051568985,\n",
       " -0.08224919438362122,\n",
       " 0.019504845142364502,\n",
       " 0.03722598776221275,\n",
       " -0.04292404279112816,\n",
       " -0.03893624246120453,\n",
       " 0.09217579662799835,\n",
       " -0.06976421177387238,\n",
       " 0.11043286323547363,\n",
       " 0.006500902120023966,\n",
       " 0.01637088507413864,\n",
       " 0.05795794352889061,\n",
       " 0.0023887481074780226,\n",
       " 0.03386932611465454,\n",
       " -0.041840579360723495,\n",
       " 0.08785659819841385,\n",
       " -0.02576509676873684,\n",
       " -0.015203699469566345,\n",
       " 0.022162364795804024,\n",
       " -0.02603008970618248,\n",
       " 0.05390138924121857,\n",
       " -0.04761980101466179,\n",
       " 0.070904940366745,\n",
       " -0.05268797278404236,\n",
       " -0.008691416122019291,\n",
       " 0.03866707161068916,\n",
       " -0.027988912537693977,\n",
       " -0.09242502599954605,\n",
       " 0.03341682255268097,\n",
       " -0.006396496202796698,\n",
       " 0.025634674355387688,\n",
       " -0.10134559869766235,\n",
       " 0.00047119896044023335,\n",
       " 0.011023650877177715,\n",
       " 0.010066298767924309,\n",
       " -0.0323445163667202,\n",
       " -0.11101450026035309,\n",
       " -0.04442441463470459,\n",
       " -0.005686838645488024,\n",
       " -0.054964758455753326,\n",
       " 0.015118983574211597,\n",
       " 0.020432699471712112,\n",
       " 0.0675208568572998,\n",
       " -0.06566949933767319,\n",
       " 0.018029015511274338,\n",
       " -0.05969838798046112,\n",
       " -0.07216562330722809,\n",
       " -0.048586778342723846,\n",
       " 0.014911620877683163,\n",
       " -0.09551931917667389,\n",
       " 0.0019969132263213396,\n",
       " 0.031818799674510956,\n",
       " -0.051414426416158676,\n",
       " -0.086595319211483,\n",
       " -0.011863214895129204,\n",
       " -0.06922727823257446,\n",
       " -0.028238076716661453,\n",
       " -0.0045644063502550125,\n",
       " -0.02610195428133011,\n",
       " -0.07257339358329773,\n",
       " 0.08110769093036652,\n",
       " 0.020718444138765335,\n",
       " 0.09302583336830139,\n",
       " 0.018452860414981842,\n",
       " -0.09345012158155441,\n",
       " -0.013190843164920807,\n",
       " 0.0888231098651886,\n",
       " 0.030987104400992393,\n",
       " -0.0813869759440422,\n",
       " 0.03009055182337761,\n",
       " 0.04507714882493019,\n",
       " -0.0753498449921608,\n",
       " 0.00844580214470625,\n",
       " -0.04038732126355171,\n",
       " 0.02283768355846405,\n",
       " -0.02117832563817501,\n",
       " -0.05063963681459427,\n",
       " -0.003277543932199478,\n",
       " -0.02369648963212967,\n",
       " 0.014556990936398506,\n",
       " -0.015475163236260414,\n",
       " 0.0028117485344409943,\n",
       " 0.01245061680674553,\n",
       " -0.05335332453250885,\n",
       " 0.07569962739944458,\n",
       " 0.02446887455880642,\n",
       " 0.030595041811466217,\n",
       " -0.02928299270570278,\n",
       " 0.0038365719374269247,\n",
       " -0.012240791693329811,\n",
       " -0.047028232365846634,\n",
       " 0.026607805863022804,\n",
       " 0.011130898259580135,\n",
       " -0.04391391947865486,\n",
       " -2.3292708206668067e-08,\n",
       " -0.09592584520578384,\n",
       " 0.01089364942163229,\n",
       " -0.009829647839069366,\n",
       " 0.047608498483896255,\n",
       " -0.016389556229114532,\n",
       " 0.010082836262881756,\n",
       " 0.004767405800521374,\n",
       " -0.037758197635412216,\n",
       " -0.06351401656866074,\n",
       " -0.025061756372451782,\n",
       " 0.05784917622804642,\n",
       " 0.11844300478696823,\n",
       " -0.11577276140451431,\n",
       " 0.0007100607035681605,\n",
       " 0.027537506073713303,\n",
       " 0.008664005436003208,\n",
       " 0.0015665258979424834,\n",
       " 0.018204983323812485,\n",
       " -0.00813834648579359,\n",
       " 0.041901666671037674,\n",
       " -0.031430549919605255,\n",
       " 0.05371716991066933,\n",
       " -0.00013195493374951184,\n",
       " 0.0158064141869545,\n",
       " -0.009427317418158054,\n",
       " -0.028576893731951714,\n",
       " 0.08067946135997772,\n",
       " 0.04307754710316658,\n",
       " -0.003677121829241514,\n",
       " -0.021138420328497887,\n",
       " 0.11632346361875534,\n",
       " 0.07498320192098618,\n",
       " -0.08116266131401062,\n",
       " 0.012108664959669113,\n",
       " -0.07479578256607056,\n",
       " 0.055453360080718994,\n",
       " 0.029243236407637596,\n",
       " 0.017345184460282326,\n",
       " 0.05029703676700592,\n",
       " -0.02970098704099655,\n",
       " -0.09578435868024826,\n",
       " 0.06925952434539795,\n",
       " -0.05775492638349533,\n",
       " -0.012099264189600945,\n",
       " -0.0009492550743743777,\n",
       " -0.0181112140417099,\n",
       " 0.0015091195236891508,\n",
       " -0.05044947564601898,\n",
       " -0.002107173204421997,\n",
       " -0.07831127941608429,\n",
       " -0.0414772592484951,\n",
       " 0.04181128740310669,\n",
       " 0.07616601139307022,\n",
       " -0.03986236825585365,\n",
       " 0.06709365546703339,\n",
       " 0.054804205894470215,\n",
       " 0.02659313939511776,\n",
       " 0.014539634808897972,\n",
       " -0.02715161070227623,\n",
       " 0.03901692479848862,\n",
       " 0.1203957125544548,\n",
       " -0.0013508920092135668,\n",
       " 0.054219502955675125,\n",
       " -0.03628489002585411]"
      ]
     },
     "execution_count": 6,
     "metadata": {},
     "output_type": "execute_result"
    }
   ],
   "source": [
    "query = \"Hello world! This is a test sentence.\"\n",
    "# Get the embedding for the text\n",
    "query_result = embeddings.embed_query(query)\n",
    "query_result"
   ]
  },
  {
   "cell_type": "markdown",
   "id": "2ca70104",
   "metadata": {},
   "source": [
    "#### Load, Chunk and store in Vector Db"
   ]
  },
  {
   "cell_type": "code",
   "execution_count": 7,
   "id": "10fd87d2",
   "metadata": {},
   "outputs": [],
   "source": [
    "with open(\"speech.txt\", \"r\", encoding=\"utf-8\") as f:\n",
    "    text = f.read()"
   ]
  },
  {
   "cell_type": "code",
   "execution_count": 8,
   "id": "140658b4",
   "metadata": {},
   "outputs": [
    {
     "data": {
      "text/plain": [
       "[Document(metadata={'source': 'speech.txt'}, page_content='The world must be made safe for democracy. Its peace must be planted upon the tested foundations of political liberty. We have no selfish ends to serve. We desire no conquest, no dominion. We seek no indemnities for ourselves, no material compensation for the sacrifices we shall freely make. We are but one of the champions of the rights of mankind. We shall be satisfied when those rights have been made as secure as the faith and the freedom of nations can make them.\\n\\nJust because we fight without rancor and without selfish object, seeking nothing for ourselves but what we shall wish to share with all free peoples, we shall, I feel confident, conduct our operations as belligerents without passion and ourselves observe with proud punctilio the principles of right and of fair play we profess to be fighting for.\\n\\n…\\n\\nIt will be all the easier for us to conduct ourselves as belligerents in a high spirit of right and fairness because we act without animus, not in enmity toward a people or with the desire to bring any injury or disadvantage upon them, but only in armed opposition to an irresponsible government which has thrown aside all considerations of humanity and of right and is running amuck. We are, let me say again, the sincere friends of the German people, and shall desire nothing so much as the early reestablishment of intimate relations of mutual advantage between us—however hard it may be for them, for the time being, to believe that this is spoken from our hearts.\\n\\nWe have borne with their present government through all these bitter months because of that friendship—exercising a patience and forbearance which would otherwise have been impossible. We shall, happily, still have an opportunity to prove that friendship in our daily attitude and actions toward the millions of men and women of German birth and native sympathy who live among us and share our life, and we shall be proud to prove it toward all who are in fact loyal to their neighbors and to the government in the hour of test. They are, most of them, as true and loyal Americans as if they had never known any other fealty or allegiance. They will be prompt to stand with us in rebuking and restraining the few who may be of a different mind and purpose. If there should be disloyalty, it will be dealt with with a firm hand of stern repression; but, if it lifts its head at all, it will lift it only here and there and without countenance except from a lawless and malignant few.\\n\\nIt is a distressing and oppressive duty, gentlemen of the Congress, which I have performed in thus addressing you. There are, it may be, many months of fiery trial and sacrifice ahead of us. It is a fearful thing to lead this great peaceful people into war, into the most terrible and disastrous of all wars, civilization itself seeming to be in the balance. But the right is more precious than peace, and we shall fight for the things which we have always carried nearest our hearts—for democracy, for the right of those who submit to authority to have a voice in their own governments, for the rights and liberties of small nations, for a universal dominion of right by such a concert of free peoples as shall bring peace and safety to all nations and make the world itself at last free.\\n\\nTo such a task we can dedicate our lives and our fortunes, everything that we are and everything that we have, with the pride of those who know that the day has come when America is privileged to spend her blood and her might for the principles that gave her birth and happiness and the peace which she has treasured. God helping her, she can do no other.')]"
      ]
     },
     "execution_count": 8,
     "metadata": {},
     "output_type": "execute_result"
    }
   ],
   "source": [
    "# Load the text into a LangChain document loader\n",
    "from langchain_community.document_loaders import TextLoader\n",
    "loader = TextLoader(\"speech.txt\")\n",
    "documents = loader.load()\n",
    "documents"
   ]
  },
  {
   "cell_type": "code",
   "execution_count": 15,
   "id": "8f937a6f",
   "metadata": {},
   "outputs": [
    {
     "data": {
      "text/plain": [
       "[Document(metadata={'source': 'speech.txt'}, page_content='The world must be made safe for democracy. Its peace must be planted upon the tested foundations of political liberty. We have no selfish ends to serve. We desire no conquest, no dominion. We seek no indemnities for ourselves, no material compensation for the sacrifices we shall freely make. We are but one of the champions of the rights of mankind. We shall be satisfied when those rights have been made as secure as the faith and the freedom of nations can make them.\\n\\nJust because we fight without rancor and without selfish object, seeking nothing for ourselves but what we shall wish to share with all free peoples, we shall, I feel confident, conduct our operations as belligerents without passion and ourselves observe with proud punctilio the principles of right and of fair play we profess to be fighting for.\\n\\n…'),\n",
       " Document(metadata={'source': 'speech.txt'}, page_content='…\\n\\nIt will be all the easier for us to conduct ourselves as belligerents in a high spirit of right and fairness because we act without animus, not in enmity toward a people or with the desire to bring any injury or disadvantage upon them, but only in armed opposition to an irresponsible government which has thrown aside all considerations of humanity and of right and is running amuck. We are, let me say again, the sincere friends of the German people, and shall desire nothing so much as the early reestablishment of intimate relations of mutual advantage between us—however hard it may be for them, for the time being, to believe that this is spoken from our hearts.'),\n",
       " Document(metadata={'source': 'speech.txt'}, page_content='We have borne with their present government through all these bitter months because of that friendship—exercising a patience and forbearance which would otherwise have been impossible. We shall, happily, still have an opportunity to prove that friendship in our daily attitude and actions toward the millions of men and women of German birth and native sympathy who live among us and share our life, and we shall be proud to prove it toward all who are in fact loyal to their neighbors and to the government in the hour of test. They are, most of them, as true and loyal Americans as if they had never known any other fealty or allegiance. They will be prompt to stand with us in rebuking and restraining the few who may be of a different mind and purpose. If there should be disloyalty, it will be dealt with with a firm hand of stern repression; but, if it lifts its head at all, it will lift it only here and there and without countenance except from a lawless and malignant few.'),\n",
       " Document(metadata={'source': 'speech.txt'}, page_content='It is a distressing and oppressive duty, gentlemen of the Congress, which I have performed in thus addressing you. There are, it may be, many months of fiery trial and sacrifice ahead of us. It is a fearful thing to lead this great peaceful people into war, into the most terrible and disastrous of all wars, civilization itself seeming to be in the balance. But the right is more precious than peace, and we shall fight for the things which we have always carried nearest our hearts—for democracy, for the right of those who submit to authority to have a voice in their own governments, for the rights and liberties of small nations, for a universal dominion of right by such a concert of free peoples as shall bring peace and safety to all nations and make the world itself at last free.'),\n",
       " Document(metadata={'source': 'speech.txt'}, page_content='To such a task we can dedicate our lives and our fortunes, everything that we are and everything that we have, with the pride of those who know that the day has come when America is privileged to spend her blood and her might for the principles that gave her birth and happiness and the peace which she has treasured. God helping her, she can do no other.')]"
      ]
     },
     "execution_count": 15,
     "metadata": {},
     "output_type": "execute_result"
    }
   ],
   "source": [
    "#Split the text into chunks of 1000 characters\n",
    "from langchain.text_splitter import RecursiveCharacterTextSplitter\n",
    "text_splitter = RecursiveCharacterTextSplitter(chunk_size=1000, chunk_overlap=100)\n",
    "split_documents = text_splitter.split_documents(documents)\n",
    "split_documents"
   ]
  },
  {
   "cell_type": "code",
   "execution_count": 16,
   "id": "8345c2a6",
   "metadata": {},
   "outputs": [
    {
     "data": {
      "text/plain": [
       "<langchain_community.vectorstores.chroma.Chroma at 0x23f35c70620>"
      ]
     },
     "execution_count": 16,
     "metadata": {},
     "output_type": "execute_result"
    }
   ],
   "source": [
    "# Get the embeddings for the split_document and store it in vectorstore\n",
    "from langchain.vectorstores import Chroma\n",
    "db = Chroma.from_documents(documents=split_documents, embedding=embeddings, persist_directory=\"chroma_db\")\n",
    "db"
   ]
  },
  {
   "cell_type": "code",
   "execution_count": null,
   "id": "7f62a139",
   "metadata": {},
   "outputs": [
    {
     "data": {
      "text/plain": [
       "'It is a distressing and oppressive duty, gentlemen of the Congress, which I have performed in thus addressing you. There are, it may be, many months of fiery trial and sacrifice ahead of us. It is a fearful thing to lead this great peaceful people into war, into the most terrible and disastrous of all wars, civilization itself seeming to be in the balance. But the right is more precious than peace, and we shall fight for the things which we have always carried nearest our hearts—for democracy, for the right of those who submit to authority to have a voice in their own governments, for the rights and liberties of small nations, for a universal dominion of right by such a concert of free peoples as shall bring peace and safety to all nations and make the world itself at last free.'"
      ]
     },
     "execution_count": 17,
     "metadata": {},
     "output_type": "execute_result"
    }
   ],
   "source": [
    "# Query the vector store for the most similar text document to the query text\n",
    "query_text = \"What is peace?\"\n",
    "\n",
    "query_result = db.similarity_search(query_text, k=1)\n",
    "query_result[0].page_content"
   ]
  },
  {
   "cell_type": "markdown",
   "id": "f9867479",
   "metadata": {},
   "source": [
    "#### Using Retriever\n"
   ]
  },
  {
   "cell_type": "code",
   "execution_count": 20,
   "id": "5d6e6304",
   "metadata": {},
   "outputs": [
    {
     "data": {
      "text/plain": [
       "'It is a distressing and oppressive duty, gentlemen of the Congress, which I have performed in thus addressing you. There are, it may be, many months of fiery trial and sacrifice ahead of us. It is a fearful thing to lead this great peaceful people into war, into the most terrible and disastrous of all wars, civilization itself seeming to be in the balance. But the right is more precious than peace, and we shall fight for the things which we have always carried nearest our hearts—for democracy, for the right of those who submit to authority to have a voice in their own governments, for the rights and liberties of small nations, for a universal dominion of right by such a concert of free peoples as shall bring peace and safety to all nations and make the world itself at last free.'"
      ]
     },
     "execution_count": 20,
     "metadata": {},
     "output_type": "execute_result"
    }
   ],
   "source": [
    "# retriever\n",
    "# Convert the FAISS vector store into a retriever object\n",
    "retriever = db.as_retriever()\n",
    "\n",
    "# Use the retriever to find the most relevant documents for the given query\n",
    "# The `invoke` method retrieves the top `k` most similar documents based on the query\n",
    "docs = retriever.invoke(query_text, k=1)\n",
    "\n",
    "# Access and print the content of the first retrieved document\n",
    "docs[0].page_content"
   ]
  },
  {
   "cell_type": "markdown",
   "id": "cb6ceea8",
   "metadata": {},
   "source": [
    "#### Similarity Score"
   ]
  },
  {
   "cell_type": "code",
   "execution_count": 19,
   "id": "1f77e103",
   "metadata": {},
   "outputs": [
    {
     "name": "stdout",
     "output_type": "stream",
     "text": [
      "Result 1:\n",
      "Content: It is a distressing and oppressive duty, gentlemen of the Congress, which I have performed in thus addressing you. There are, it may be, many months of fiery trial and sacrifice ahead of us. It is a fearful thing to lead this great peaceful people into war, into the most terrible and disastrous of all wars, civilization itself seeming to be in the balance. But the right is more precious than peace, and we shall fight for the things which we have always carried nearest our hearts—for democracy, for the right of those who submit to authority to have a voice in their own governments, for the rights and liberties of small nations, for a universal dominion of right by such a concert of free peoples as shall bring peace and safety to all nations and make the world itself at last free.\n",
      "Score: 1.0816224813461304\n",
      "---\n",
      "Result 2:\n",
      "Content: It is a distressing and oppressive duty, gentlemen of the Congress, which I have performed in thus addressing you. There are, it may be, many months of fiery trial and sacrifice ahead of us. It is a fearful thing to lead this great peaceful people into war, into the most terrible and disastrous of all wars, civilization itself seeming to be in the balance. But the right is more precious than peace, and we shall fight for the things which we have always carried nearest our hearts—for democracy, for the right of those who submit to authority to have a voice in their own governments, for the rights and liberties of small nations, for a universal dominion of right by such a concert of free peoples as shall bring peace and safety to all nations and make the world itself at last free.\n",
      "Score: 1.0816224813461304\n",
      "---\n",
      "Result 3:\n",
      "Content: The world must be made safe for democracy. Its peace must be planted upon the tested foundations of political liberty. We have no selfish ends to serve. We desire no conquest, no dominion. We seek no indemnities for ourselves, no material compensation for the sacrifices we shall freely make. We are but one of the champions of the rights of mankind. We shall be satisfied when those rights have been made as secure as the faith and the freedom of nations can make them.\n",
      "\n",
      "Just because we fight without rancor and without selfish object, seeking nothing for ourselves but what we shall wish to share with all free peoples, we shall, I feel confident, conduct our operations as belligerents without passion and ourselves observe with proud punctilio the principles of right and of fair play we profess to be fighting for.\n",
      "\n",
      "…\n",
      "Score: 1.1890064477920532\n",
      "---\n"
     ]
    }
   ],
   "source": [
    "# Perform a similarity search with scores\n",
    "results = db.similarity_search_with_score(query_text, k=3)\n",
    "\n",
    "# Display the results\n",
    "for i, (doc, score) in enumerate(results):\n",
    "    print(f\"Result {i+1}:\")\n",
    "    print(f\"Content: {doc.page_content}\")\n",
    "    print(f\"Score: {score}\")\n",
    "    print(\"---\")"
   ]
  }
 ],
 "metadata": {
  "kernelspec": {
   "display_name": "huggingface",
   "language": "python",
   "name": "python3"
  },
  "language_info": {
   "codemirror_mode": {
    "name": "ipython",
    "version": 3
   },
   "file_extension": ".py",
   "mimetype": "text/x-python",
   "name": "python",
   "nbconvert_exporter": "python",
   "pygments_lexer": "ipython3",
   "version": "3.12.3"
  }
 },
 "nbformat": 4,
 "nbformat_minor": 5
}
