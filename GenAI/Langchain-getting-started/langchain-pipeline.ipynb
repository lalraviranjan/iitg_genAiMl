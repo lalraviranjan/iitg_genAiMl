{
 "cells": [
  {
   "cell_type": "code",
   "execution_count": 2,
   "id": "72660ede",
   "metadata": {},
   "outputs": [],
   "source": [
    "from transformers import pipeline, AutoTokenizer, AutoModelForCausalLM\n",
    "from langchain_community.llms import HuggingFacePipeline"
   ]
  },
  {
   "cell_type": "code",
   "execution_count": 15,
   "id": "afc001e8",
   "metadata": {},
   "outputs": [
    {
     "data": {
      "text/plain": [
       "True"
      ]
     },
     "execution_count": 15,
     "metadata": {},
     "output_type": "execute_result"
    }
   ],
   "source": [
    "import os\n",
    "from dotenv import load_dotenv\n",
    "load_dotenv()"
   ]
  },
  {
   "cell_type": "code",
   "execution_count": 5,
   "id": "de496477",
   "metadata": {},
   "outputs": [
    {
     "name": "stdout",
     "output_type": "stream",
     "text": [
      "PyTorch version: 2.8.0.dev20250412+cu128\n",
      "CUDA available: True\n",
      "cuDNN version: 90701\n",
      "GPU Name: NVIDIA GeForce RTX 4060 Laptop GPU\n"
     ]
    },
    {
     "data": {
      "application/vnd.jupyter.widget-view+json": {
       "model_id": "672766dde89a43eb912c7e211181447f",
       "version_major": 2,
       "version_minor": 0
      },
      "text/plain": [
       "Loading checkpoint shards:   0%|          | 0/3 [00:00<?, ?it/s]"
      ]
     },
     "metadata": {},
     "output_type": "display_data"
    },
    {
     "name": "stdout",
     "output_type": "stream",
     "text": [
      "Allocated: 4.1411968 GB\n",
      "Reserved:  4.471128064 GB\n",
      "MistralForCausalLM\n"
     ]
    }
   ],
   "source": [
    "from mistral_7b_hf import model, tokenizer"
   ]
  },
  {
   "cell_type": "code",
   "execution_count": 6,
   "id": "b09941d9",
   "metadata": {},
   "outputs": [
    {
     "name": "stderr",
     "output_type": "stream",
     "text": [
      "Device set to use cuda:0\n",
      "C:\\Users\\lalra\\AppData\\Local\\Temp\\ipykernel_24416\\3705109517.py:12: LangChainDeprecationWarning: The class `HuggingFacePipeline` was deprecated in LangChain 0.0.37 and will be removed in 1.0. An updated version of the class exists in the :class:`~langchain-huggingface package and should be used instead. To use it run `pip install -U :class:`~langchain-huggingface` and import as `from :class:`~langchain_huggingface import HuggingFacePipeline``.\n",
      "  llm = HuggingFacePipeline(pipeline=pipe)\n"
     ]
    }
   ],
   "source": [
    "pipe = pipeline(\n",
    "    \"text-generation\",\n",
    "    model=model,\n",
    "    tokenizer=tokenizer,\n",
    "    max_new_tokens=200,\n",
    "    do_sample=True,\n",
    "    temperature=0.7,\n",
    "    top_p=0.95,\n",
    "    repetition_penalty=1.1,\n",
    ")\n",
    "\n",
    "llm = HuggingFacePipeline(pipeline=pipe)"
   ]
  },
  {
   "cell_type": "code",
   "execution_count": 7,
   "id": "2191c851",
   "metadata": {},
   "outputs": [
    {
     "name": "stderr",
     "output_type": "stream",
     "text": [
      "Setting `pad_token_id` to `eos_token_id`:2 for open-end generation.\n"
     ]
    },
    {
     "data": {
      "text/plain": [
       "'What is the capital of India? Well, it’s New Delhi, but the question has a more nuanced answer.\\n\\nThe capital of India is Delhi (New Delhi), which was officially declared as the capital in 1956. It is a city that is not only rich in culture and history but also serves as the political hub of the country. However, the constitution of India recognizes two parts as its capital – New Delhi and Chandigarh.\\n\\nChandigarh, located near the border of Punjab and Haryana, is recognized as the capital of both states and is considered the capital of India for administrative purposes. The city was designed by French architect Le Corbusier and was built to serve as a new capital for both Punjab and Haryana post-partition.\\n\\nSo, while New Delhi is the political capital and the seat of the Government of India, Chandigarh shares some administrative responsibilities with Delhi and serves as the capital for'"
      ]
     },
     "execution_count": 7,
     "metadata": {},
     "output_type": "execute_result"
    }
   ],
   "source": [
    "llm.invoke(\"What is the capital of India?\")"
   ]
  },
  {
   "cell_type": "code",
   "execution_count": 11,
   "id": "92e1d5fe",
   "metadata": {},
   "outputs": [],
   "source": [
    "from langchain_core.tracers.context import tracing_v2_enabled"
   ]
  },
  {
   "cell_type": "code",
   "execution_count": 12,
   "id": "06d2d197",
   "metadata": {},
   "outputs": [
    {
     "name": "stderr",
     "output_type": "stream",
     "text": [
      "Setting `pad_token_id` to `eos_token_id`:2 for open-end generation.\n"
     ]
    },
    {
     "name": "stdout",
     "output_type": "stream",
     "text": [
      "Who is the prime minister of India?\n",
      "\n",
      "Narendra Modi is the current Prime Minister of India, having taken office on May 26, 2014. He belongs to the Bharatiya Janata Party (BJP). Prior to serving as Prime Minister, he was the Chief Minister of Gujarat from October 2001 to May 2014.\n",
      "\n",
      "Prime Minister Narendra Modi has a strong presence on social media and is known for his active engagement with the public through various digital platforms such as Twitter, Instagram, Facebook, and LinkedIn. He is often considered one of the most tech-savvy leaders in the world.\n"
     ]
    }
   ],
   "source": [
    "with tracing_v2_enabled(project_name=os.getenv(\"LANGCHAIN_PROJECT\")):\n",
    "    response = llm.invoke(\"Who is the prime minister of India?\")\n",
    "    print(response)"
   ]
  }
 ],
 "metadata": {
  "kernelspec": {
   "display_name": "huggingface",
   "language": "python",
   "name": "python3"
  },
  "language_info": {
   "codemirror_mode": {
    "name": "ipython",
    "version": 3
   },
   "file_extension": ".py",
   "mimetype": "text/x-python",
   "name": "python",
   "nbconvert_exporter": "python",
   "pygments_lexer": "ipython3",
   "version": "3.12.3"
  }
 },
 "nbformat": 4,
 "nbformat_minor": 5
}
