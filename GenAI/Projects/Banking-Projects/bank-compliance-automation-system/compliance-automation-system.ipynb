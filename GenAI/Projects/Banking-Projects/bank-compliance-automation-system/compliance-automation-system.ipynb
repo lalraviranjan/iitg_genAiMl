{
 "cells": [
  {
   "cell_type": "code",
   "execution_count": 8,
   "id": "78fc8369",
   "metadata": {},
   "outputs": [],
   "source": [
    "import os\n",
    "from dotenv import load_dotenv\n",
    "from functools import lru_cache\n",
    "\n",
    "load_dotenv()\n",
    "os.environ['LANGCHAIN_API_KEY'] = os.getenv('LANGCHAIN_API_KEY')\n",
    "os.environ['LANGCHAIN_TRACING_V2'] = 'true'\n",
    "os.environ['Langchain_Project'] = os.getenv('LANGCHAIN_PROJECT')\n",
    "os.environ['HF_TOKEN'] = os.getenv('HF_TOKEN')"
   ]
  },
  {
   "cell_type": "code",
   "execution_count": null,
   "id": "56172f84",
   "metadata": {},
   "outputs": [
    {
     "name": "stdout",
     "output_type": "stream",
     "text": [
      "WARNING:tensorflow:From c:\\Users\\lalra\\anaconda3\\envs\\huggingface\\Lib\\site-packages\\tf_keras\\src\\losses.py:2976: The name tf.losses.sparse_softmax_cross_entropy is deprecated. Please use tf.compat.v1.losses.sparse_softmax_cross_entropy instead.\n",
      "\n"
     ]
    }
   ],
   "source": [
    "from langchain_huggingface import HuggingFaceEmbeddings\n",
    "\n",
    "# @lru_cache(maxsize=1)\n",
    "# def getEmbeddings(model_name=None, model_kwargs=None, encode_kwargs=None):\n",
    "#     \"\"\"\n",
    "#     Get the embeddings model.\n",
    "#     \"\"\"\n",
    "#     return HuggingFaceEmbeddings(\n",
    "#         model_name=model_name,\n",
    "#         model_kwargs=model_kwargs or {},\n",
    "#         encode_kwargs=encode_kwargs or {}\n",
    "#     )\n",
    "\n",
    "model_name = 'BAAI/bge-large-en-v1.5'\n",
    "model_kwargs = {\"device\": \"cuda\"}\n",
    "encode_kwargs = {'normalize_embeddings': False}\n",
    "\n",
    "embeddings = HuggingFaceEmbeddings(\n",
    "    model_name=model_name,\n",
    "    model_kwargs=model_kwargs,\n",
    "    encode_kwargs=encode_kwargs\n",
    "    )"
   ]
  },
  {
   "cell_type": "code",
   "execution_count": 10,
   "id": "69f4e41f",
   "metadata": {},
   "outputs": [],
   "source": [
    "# from langchain_openai import ChatOpenAI\n",
    "\n",
    "# @lru_cache(maxsize=1)\n",
    "# def getLLM():\n",
    "#     \"\"\"\n",
    "#     Get the LLM model.\n",
    "#     \"\"\"\n",
    "#     return ChatOpenAI(\n",
    "#         temperature=0,\n",
    "#         model_name=\"gpt-3.5-turbo\",\n",
    "#         openai_api_key=os.getenv('OPENAI_API_KEY')\n",
    "#     )\n",
    "# llm = getLLM()"
   ]
  },
  {
   "cell_type": "code",
   "execution_count": 11,
   "id": "c9d712b3",
   "metadata": {},
   "outputs": [
    {
     "data": {
      "text/plain": [
       "ChatGroq(client=<groq.resources.chat.completions.Completions object at 0x0000024C11BB2540>, async_client=<groq.resources.chat.completions.AsyncCompletions object at 0x0000024C13768E30>, model_name='Gemma2-9b-it', model_kwargs={}, groq_api_key=SecretStr('**********'))"
      ]
     },
     "execution_count": 11,
     "metadata": {},
     "output_type": "execute_result"
    }
   ],
   "source": [
    "from langchain_groq import ChatGroq\n",
    "groq_api_key = os.getenv('GROQ_API_KEY')\n",
    "llm = ChatGroq(api_key=groq_api_key, model=\"Gemma2-9b-it\")\n",
    "llm"
   ]
  },
  {
   "cell_type": "markdown",
   "id": "8a1b29a8",
   "metadata": {},
   "source": [
    "### Load and Split Documents in Chunks"
   ]
  },
  {
   "cell_type": "code",
   "execution_count": 12,
   "id": "0a68cf17",
   "metadata": {},
   "outputs": [
    {
     "data": {
      "text/plain": [
       "[Document(metadata={'producer': 'Adobe PDF Library 10.0', 'creator': 'Acrobat PDFMaker 10.1 for Word', 'creationdate': '2017-08-21T16:29:57-04:00', 'source': 'bank-Regulatory-Agreement.pdf', 'file_path': 'bank-Regulatory-Agreement.pdf', 'total_pages': 34, 'format': 'PDF 1.5', 'title': 'REGULATORY AGREEMENT', 'author': 'Joseph N. Center', 'subject': '', 'keywords': '', 'moddate': '2017-08-21T16:30:03-04:00', 'trapped': '', 'modDate': \"D:20170821163003-04'00'\", 'creationDate': \"D:20170821162957-04'00'\", 'page': 0}, page_content='1 \\nTHIS REGULATORY AGREEMENT (“Agreement”), entered into as of the ____ day of __________, \\n20__, by and between ___________________________ Housing Development Fund [Company, Inc.] \\n[Corporation] (“HDFC”), a corporation formed pursuant to the Business Corporation Law and Article XI \\nof the Private Housing Finance Law, having an address at ________________, and the City of New \\nYork (“City”), acting by and through its Department of Housing Preservation and Development \\n(“HPD”), having an office at 100 Gold Street, New York, New York 10038. \\n \\nWHEREAS, the HDFC is the fee owner of real property located in the Borough of _________, City \\nand State of New York, identified as Block ____, Lot[s] _____ on the Tax Map of the City, and known \\nby the street address _______________________, New York (“Property”), as more particularly \\ndescribed in Exhibit A annexed hereto and made a part hereof; and'),\n",
       " Document(metadata={'producer': 'Adobe PDF Library 10.0', 'creator': 'Acrobat PDFMaker 10.1 for Word', 'creationdate': '2017-08-21T16:29:57-04:00', 'source': 'bank-Regulatory-Agreement.pdf', 'file_path': 'bank-Regulatory-Agreement.pdf', 'total_pages': 34, 'format': 'PDF 1.5', 'title': 'REGULATORY AGREEMENT', 'author': 'Joseph N. Center', 'subject': '', 'keywords': '', 'moddate': '2017-08-21T16:30:03-04:00', 'trapped': '', 'modDate': \"D:20170821163003-04'00'\", 'creationDate': \"D:20170821162957-04'00'\", 'page': 0}, page_content='by the street address _______________________, New York (“Property”), as more particularly \\ndescribed in Exhibit A annexed hereto and made a part hereof; and \\n \\nWHEREAS, the City is conveying real property, [making a loan,] [making a grant,] [providing a tax \\nexemption] to the HDFC and providing other good and valuable consideration; \\n \\nWHEREAS, this Agreement sets forth the terms under which the Property shall be preserved and \\nused as affordable housing providing cooperative homeownership opportunities for low-income \\nhouseholds. \\n \\nNOW THEREFORE, the parties hereto, on behalf of themselves and their successors and assigns, in \\nconsideration of the mutual promises and agreements contained herein, and other good and valuable \\nconsideration, the receipt and sufficiency of which is hereby acknowledged, hereby agree as follows: \\n \\n1. \\nDefinitions \\n \\n“Annual Household Income” shall mean the total income from all sources received for the prior'),\n",
       " Document(metadata={'producer': 'Adobe PDF Library 10.0', 'creator': 'Acrobat PDFMaker 10.1 for Word', 'creationdate': '2017-08-21T16:29:57-04:00', 'source': 'bank-Regulatory-Agreement.pdf', 'file_path': 'bank-Regulatory-Agreement.pdf', 'total_pages': 34, 'format': 'PDF 1.5', 'title': 'REGULATORY AGREEMENT', 'author': 'Joseph N. Center', 'subject': '', 'keywords': '', 'moddate': '2017-08-21T16:30:03-04:00', 'trapped': '', 'modDate': \"D:20170821163003-04'00'\", 'creationDate': \"D:20170821162957-04'00'\", 'page': 0}, page_content='1. \\nDefinitions \\n \\n“Annual Household Income” shall mean the total income from all sources received for the prior \\ncalendar year by all members of the Household, including, but not limited to, all gross income \\nfrom full-time employment, part-time employment, self-employment, babysitting/caretaking, \\npublic assistance, social security, supplemental security income, pension, disability \\ncompensation, unemployment compensation, alimony, child support and interest derived from \\nall assets wherever located throughout the world.  Annual Household Income shall not include \\nany rental assistance or food stamp payments.  Such income shall be evidenced by the \\nHousehold\\'s federal tax return for such year and such other evidence as the Board or Monitor \\nmay require. \\n \\n“Apartment” shall mean a dwelling unit within the Property. \\n \\n“Asset Limit” shall mean one hundred seventy-five percent (175%) of Median. \\n \\n\"Board\" shall mean the board of directors of the HDFC.'),\n",
       " Document(metadata={'producer': 'Adobe PDF Library 10.0', 'creator': 'Acrobat PDFMaker 10.1 for Word', 'creationdate': '2017-08-21T16:29:57-04:00', 'source': 'bank-Regulatory-Agreement.pdf', 'file_path': 'bank-Regulatory-Agreement.pdf', 'total_pages': 34, 'format': 'PDF 1.5', 'title': 'REGULATORY AGREEMENT', 'author': 'Joseph N. Center', 'subject': '', 'keywords': '', 'moddate': '2017-08-21T16:30:03-04:00', 'trapped': '', 'modDate': \"D:20170821163003-04'00'\", 'creationDate': \"D:20170821162957-04'00'\", 'page': 0}, page_content='“Apartment” shall mean a dwelling unit within the Property. \\n \\n“Asset Limit” shall mean one hundred seventy-five percent (175%) of Median. \\n \\n\"Board\" shall mean the board of directors of the HDFC. \\n \\n“Books And Records” shall mean any physical or electronic books, records, accounts, reports, \\nmaterials, documentation, and/or information of or relating to the HDFC and/or the \\nmanagement, operations, assets, liabilities, and activities of the HDFC, including, but not \\nlimited to, any Required Reports or other items specified in Section 11 and any journals, \\nledgers, account statements, checkbooks, vouchers, contracts, correspondence, stock books, or \\nminute books. \\n \\n“By-Laws” shall mean the corporate by-laws of the HDFC. \\n \\n“Carrying Cost” shall mean, with respect to any Apartment, the sum of (i) the monthly \\nMaintenance for such Apartment, (ii) the monthly cost of any special assessment, other than a'),\n",
       " Document(metadata={'producer': 'Adobe PDF Library 10.0', 'creator': 'Acrobat PDFMaker 10.1 for Word', 'creationdate': '2017-08-21T16:29:57-04:00', 'source': 'bank-Regulatory-Agreement.pdf', 'file_path': 'bank-Regulatory-Agreement.pdf', 'total_pages': 34, 'format': 'PDF 1.5', 'title': 'REGULATORY AGREEMENT', 'author': 'Joseph N. Center', 'subject': '', 'keywords': '', 'moddate': '2017-08-21T16:30:03-04:00', 'trapped': '', 'modDate': \"D:20170821163003-04'00'\", 'creationDate': \"D:20170821162957-04'00'\", 'page': 0}, page_content='“Carrying Cost” shall mean, with respect to any Apartment, the sum of (i) the monthly \\nMaintenance for such Apartment, (ii) the monthly cost of any special assessment, other than a \\nProhibited Event Fee, with respect to such Apartment, (iii) the monthly amortization payment \\non any Cooperative Loan with respect to such Apartment, and (iv) the actual or estimated')]"
      ]
     },
     "execution_count": 12,
     "metadata": {},
     "output_type": "execute_result"
    }
   ],
   "source": [
    "from functools import lru_cache\n",
    "from langchain_text_splitters import RecursiveCharacterTextSplitter\n",
    "from langchain.document_loaders import PyMuPDFLoader, UnstructuredWordDocumentLoader\n",
    "\n",
    "def load_file(file_path: str):\n",
    "    \"\"\"\n",
    "    Dynamically load PDF or DOCX file and return documents.\n",
    "    \"\"\"\n",
    "    ext = file_path.split('.')[-1].lower()\n",
    "    if ext == 'pdf':\n",
    "        loader = PyMuPDFLoader(file_path)\n",
    "    elif ext == 'docx':\n",
    "        loader = UnstructuredWordDocumentLoader(file_path)\n",
    "    else:\n",
    "        raise ValueError(f\"Unsupported file type: {ext}\")\n",
    "    \n",
    "    return loader.load()\n",
    "\n",
    "def getDocuments(file_path: str, chunk_size: int = 1000, chunk_overlap: int = 200):\n",
    "    \"\"\"\n",
    "    Load and chunk the document using RecursiveCharacterTextSplitter.\n",
    "    \"\"\"\n",
    "    documents = load_file(file_path)\n",
    "\n",
    "    text_splitter = RecursiveCharacterTextSplitter(\n",
    "        chunk_size=chunk_size,\n",
    "        chunk_overlap=chunk_overlap,\n",
    "    )\n",
    "\n",
    "    return text_splitter.split_documents(documents)\n",
    "\n",
    "documents = getDocuments('bank-Regulatory-Agreement.pdf', 1000, 200)\n",
    "documents[:5]"
   ]
  },
  {
   "cell_type": "code",
   "execution_count": 32,
   "id": "5de8eddf",
   "metadata": {},
   "outputs": [],
   "source": [
    "from langchain_community.vectorstores import FAISS\n",
    "vectorstore = FAISS.from_documents(\n",
    "    documents=documents,\n",
    "    embedding=embeddings,\n",
    ")\n",
    "vectorstore.save_local('faiss_index')"
   ]
  },
  {
   "cell_type": "code",
   "execution_count": 15,
   "id": "f9c7dcdb",
   "metadata": {},
   "outputs": [],
   "source": [
    "vectorstore = FAISS.load_local('faiss_index', embeddings, allow_dangerous_deserialization=True)"
   ]
  },
  {
   "cell_type": "code",
   "execution_count": 16,
   "id": "99539ebd",
   "metadata": {},
   "outputs": [
    {
     "name": "stdout",
     "output_type": "stream",
     "text": [
      "initial occupancy of an Apartment by such Household or any member thereof, (iii) any \n",
      "Household that already holds, or includes any person who holds, Shares allocated to another \n",
      "Apartment, unless such Household or person simultaneously sells such Shares to an Eligible \n",
      "Household in compliance with this Agreement, (iv) except as provided in the preceding clause \n",
      "of this sentence, any Household that has previously purchased, or includes any person who \n",
      "has previously purchased, a home, a condominium unit, or the shares attributable to a \n",
      "cooperative dwelling unit through a governmentally subsidized affordable housing program, or \n",
      "(v) a corporation, partnership, limited liability company, or other entity. \n",
      " \n",
      "“IRC” shall mean the Internal Revenue Code of 1986, as amended, and any rules or \n",
      "regulations promulgated pursuant thereto. \n",
      " \n",
      "“Income Limit” shall mean one hundred twenty percent (120%) of Median.\n"
     ]
    }
   ],
   "source": [
    "query = \"Household Limit?\"\n",
    "result = vectorstore.similarity_search(query, k=1)\n",
    "print(result[0].page_content)"
   ]
  },
  {
   "cell_type": "code",
   "execution_count": 17,
   "id": "2e3509cd",
   "metadata": {},
   "outputs": [
    {
     "data": {
      "text/plain": [
       "[Document(metadata={'source': 'regulatory-upload.docx'}, page_content='Regulatory Guidelines for Customer Data Management, Record Retention, and Financial Eligibility\\n\\nSection 1: Customer Data Privacy and Retention\\n\\n1.1 Data Retention Period'),\n",
       " Document(metadata={'source': 'regulatory-upload.docx'}, page_content='1.1 Data Retention Period\\n\\nAll customer Personally Identifiable Information (PII) must be retained for no longer than 7 years from the date of account closure, unless required by legal obligations.\\n\\n1.2 Data Encryption Standard'),\n",
       " Document(metadata={'source': 'regulatory-upload.docx'}, page_content='1.2 Data Encryption Standard\\n\\nAll customer data must be stored using at least AES-256 encryption both at rest and in transit.\\n\\n1.3 PII Access Control'),\n",
       " Document(metadata={'source': 'regulatory-upload.docx'}, page_content='1.3 PII Access Control\\n\\nOnly authorized personnel with role-based access control (RBAC) are permitted to access PII. Access logs must be retained for a minimum of 2 years.\\n\\n1.4 Third-Party Disclosure'),\n",
       " Document(metadata={'source': 'regulatory-upload.docx'}, page_content='1.4 Third-Party Disclosure\\n\\nNo customer data may be shared with external vendors unless a signed Data Processing Agreement (DPA) exists and customer consent has been explicitly recorded.\\n\\n🔹 Section 2: Financial Eligibility for Credit Products')]"
      ]
     },
     "execution_count": 17,
     "metadata": {},
     "output_type": "execute_result"
    }
   ],
   "source": [
    "documents = getDocuments('regulatory-upload.docx', 250, 70)\n",
    "documents[:5]"
   ]
  },
  {
   "cell_type": "code",
   "execution_count": 18,
   "id": "3cbc4a9d",
   "metadata": {},
   "outputs": [
    {
     "data": {
      "text/plain": [
       "[{'text': 'Regulatory Guidelines for Customer Data Management, Record Retention, and Financial Eligibility\\n\\nSection 1: Customer Data Privacy and Retention\\n\\n1.1 Data Retention Period'},\n",
       " {'text': '1.1 Data Retention Period\\n\\nAll customer Personally Identifiable Information (PII) must be retained for no longer than 7 years from the date of account closure, unless required by legal obligations.\\n\\n1.2 Data Encryption Standard'},\n",
       " {'text': '1.2 Data Encryption Standard\\n\\nAll customer data must be stored using at least AES-256 encryption both at rest and in transit.\\n\\n1.3 PII Access Control'},\n",
       " {'text': '1.3 PII Access Control\\n\\nOnly authorized personnel with role-based access control (RBAC) are permitted to access PII. Access logs must be retained for a minimum of 2 years.\\n\\n1.4 Third-Party Disclosure'},\n",
       " {'text': '1.4 Third-Party Disclosure\\n\\nNo customer data may be shared with external vendors unless a signed Data Processing Agreement (DPA) exists and customer consent has been explicitly recorded.\\n\\n🔹 Section 2: Financial Eligibility for Credit Products'},\n",
       " {'text': '🔹 Section 2: Financial Eligibility for Credit Products\\n\\n2.1 Minimum Income Threshold\\n\\nApplicants for personal loans must have a verifiable monthly income of at least ₹25,000, or equivalent foreign currency if residing abroad.'},\n",
       " {'text': '2.2 Asset Declaration Requirement\\n\\nAll applicants must disclose movable and immovable assets, including real estate, mutual funds, equity, and gold holdings.\\n\\n2.3 Debt-to-Income Ratio'},\n",
       " {'text': '2.3 Debt-to-Income Ratio\\n\\nApproved applicants must maintain a DTI ratio less than 40% at the time of loan sanctioning.\\n\\n\\n\\n2.4 Loan Eligibility Blacklist'},\n",
       " {'text': '2.4 Loan Eligibility Blacklist\\n\\nApplicants who have defaulted on any credit obligation in the last 3 years are not eligible for personal or unsecured loans.\\n\\n🔹 Section 3: Record-Keeping and Audit Guidelines\\n\\n3.1 Document Archival Policy'},\n",
       " {'text': '3.1 Document Archival Policy\\n\\nAll financial transaction records must be stored for a minimum of 10 years, preferably in immutable format (e.g., blockchain or WORM storage).\\n\\n3.2 Audit Frequency'},\n",
       " {'text': '3.2 Audit Frequency\\n\\nInternal compliance audits must be conducted at least once every 6 months. Findings must be submitted to the central compliance system.\\n\\n3.3 Tamper Detection'},\n",
       " {'text': '3.3 Tamper Detection\\n\\nAll logs must support tamper-evident features. Manual override of logs without audit trace is prohibited.\\n\\n🔹 Section 4: Customer Consent and Communication\\n\\n4.1 Marketing Opt-In'},\n",
       " {'text': '4.1 Marketing Opt-In\\n\\nCustomers must opt-in explicitly for all marketing communications. Pre-ticked checkboxes do not qualify as consent.\\n\\n4.2 Policy Updates'},\n",
       " {'text': '4.2 Policy Updates\\n\\nAny changes in data usage or retention policy must be communicated to customers at least 30 days prior to enforcement.\\n\\n4.3 Grievance Redressal SLA'},\n",
       " {'text': '4.3 Grievance Redressal SLA\\n\\nAll customer grievances must be acknowledged within 48 hours and resolved within 7 working days.\\n\\n🔹 Section 5: Regulatory Reporting and Escalation\\n\\n5.1 Reporting Obligations'},\n",
       " {'text': '5.1 Reporting Obligations\\n\\nSuspicious financial activities exceeding ₹10,00,000 must be reported to FIU-IND within 24 hours of detection.\\n\\n\\n\\n5.2 Escalation Matrix'},\n",
       " {'text': '5.2 Escalation Matrix\\n\\nAny regulatory breach must follow a 3-level escalation protocol:\\n→ Level 1: Internal Compliance Officer\\n→ Level 2: Chief Compliance Officer\\n→ Level 3: Independent Regulator (e.g., RBI, SEBI)\\n\\n5.3 Whistleblower Protection'},\n",
       " {'text': '5.3 Whistleblower Protection\\n\\nEmployees reporting regulatory violations shall be protected under the Bank’s Whistleblower Policy and no punitive action may be taken against them.'}]"
      ]
     },
     "execution_count": 18,
     "metadata": {},
     "output_type": "execute_result"
    }
   ],
   "source": [
    "uploaded_clauses = [{\"text\": doc.page_content} for doc in documents]\n",
    "uploaded_clauses"
   ]
  },
  {
   "cell_type": "code",
   "execution_count": 19,
   "id": "834ef84b",
   "metadata": {},
   "outputs": [
    {
     "data": {
      "text/plain": [
       "18"
      ]
     },
     "execution_count": 19,
     "metadata": {},
     "output_type": "execute_result"
    }
   ],
   "source": [
    "len(uploaded_clauses)"
   ]
  },
  {
   "cell_type": "code",
   "execution_count": 20,
   "id": "512e248e",
   "metadata": {},
   "outputs": [
    {
     "name": "stderr",
     "output_type": "stream",
     "text": [
      "C:\\Users\\lalra\\AppData\\Local\\Temp\\ipykernel_17376\\3945871286.py:25: LangChainDeprecationWarning: The class `LLMChain` was deprecated in LangChain 0.1.17 and will be removed in 1.0. Use :meth:`~RunnableSequence, e.g., `prompt | llm`` instead.\n",
      "  chain = LLMChain(\n"
     ]
    }
   ],
   "source": [
    "from langchain.prompts import PromptTemplate\n",
    "from langchain.chains import LLMChain\n",
    "\n",
    "prompt_template = PromptTemplate(\n",
    "    input_variables=[\"uploaded_clause\", \"match_1\", \"match_2\"],\n",
    "    template=\"\"\"\n",
    "    You are a compliance assistant. Analyze if the following uploaded clause complies with regulations.\n",
    "\n",
    "    Uploaded Clause:\n",
    "    \"{uploaded_clause}\"\n",
    "\n",
    "    Top 2 Matching Regulatory Clauses:\n",
    "    1. \"{match_1}\"\n",
    "    2. \"{match_2}\"\n",
    "\n",
    "    Think step-by-step:\n",
    "    - Compare the uploaded clause with the regulations\n",
    "    - Highlight similarities/differences\n",
    "    - Return only a structured JSON:\n",
    "    \n",
    "    {{\"compliant\": true/false, \"reasoning\": \"...\"}}\n",
    "\"\"\"\n",
    ")\n",
    "\n",
    "chain = LLMChain(\n",
    "    llm=llm,\n",
    "    prompt=prompt_template,\n",
    "    # verbose=True\n",
    ")"
   ]
  },
  {
   "cell_type": "code",
   "execution_count": 21,
   "id": "c5289f32",
   "metadata": {},
   "outputs": [
    {
     "data": {
      "text/plain": [
       "'Regulatory Guidelines for Customer Data Management, Record Retention, and Financial Eligibility\\n\\nSection 1: Customer Data Privacy and Retention\\n\\n1.1 Data Retention Period'"
      ]
     },
     "execution_count": 21,
     "metadata": {},
     "output_type": "execute_result"
    }
   ],
   "source": [
    "uploaded_clauses[0]['text']"
   ]
  },
  {
   "cell_type": "code",
   "execution_count": 22,
   "id": "0d0da22b",
   "metadata": {},
   "outputs": [
    {
     "data": {
      "text/plain": [
       "'7 \\n \\n13. \\nsuch other documents and records as HPD, the Manager, or the Monitor shall deem \\nnecessary. \\n \\n“Restriction Period” shall mean a period commencing on the Commencement Date and \\nexpiring upon the Expiration Date. \\n \\n“Retirement Plan” shall mean (i) a defined benefit pension plan, (ii) an Individual Retirement \\nAccount established pursuant to IRC §408, (iii) a Roth Individual Retirement Account \\nestablished pursuant to IRC §408A, (iv) a qualified profit-sharing plan established pursuant to \\nIRC §401(k), (v) a Roth qualified profit-sharing plan established pursuant to IRC §401(k) and \\n§402A, (vi) a tax-sheltered annuity established pursuant to IRC §403(b), (vii) a Roth tax-\\nsheltered annuity established pursuant to IRC §403(b) and §402A, (viii) a deferred \\ncompensation plan established pursuant to IRC §Section 457, (ix) a Roth deferred \\ncompensation plan established pursuant to IRC §Section 457 and §402A, (x) a governmental'"
      ]
     },
     "execution_count": 22,
     "metadata": {},
     "output_type": "execute_result"
    }
   ],
   "source": [
    "result_1 = vectorstore.similarity_search(uploaded_clauses[0]['text'], k=2)\n",
    "result_1[0].page_content"
   ]
  },
  {
   "cell_type": "code",
   "execution_count": 23,
   "id": "28523e99",
   "metadata": {},
   "outputs": [
    {
     "name": "stdout",
     "output_type": "stream",
     "text": [
      "{'uploaded_clause': 'Regulatory Guidelines for Customer Data Management, Record Retention, and Financial Eligibility\\n\\nSection 1: Customer Data Privacy and Retention\\n\\n1.1 Data Retention Period', 'match_1': '7 \\n \\n13. \\nsuch other documents and records as HPD, the Manager, or the Monitor shall deem \\nnecessary. \\n \\n“Restriction Period” shall mean a period commencing on the Commencement Date and \\nexpiring upon the Expiration Date. \\n \\n“Retirement Plan” shall mean (i) a defined benefit pension plan, (ii) an Individual Retirement \\nAccount established pursuant to IRC §408, (iii) a Roth Individual Retirement Account \\nestablished pursuant to IRC §408A, (iv) a qualified profit-sharing plan established pursuant to \\nIRC §401(k), (v) a Roth qualified profit-sharing plan established pursuant to IRC §401(k) and \\n§402A, (vi) a tax-sheltered annuity established pursuant to IRC §403(b), (vii) a Roth tax-\\nsheltered annuity established pursuant to IRC §403(b) and §402A, (viii) a deferred \\ncompensation plan established pursuant to IRC §Section 457, (ix) a Roth deferred \\ncompensation plan established pursuant to IRC §Section 457 and §402A, (x) a governmental', 'match_2': 'financial and other reporting requirements. \\n \\nb. \\nDuring the Restriction Period, the HDFC shall annually prepare, or cause to be \\nprepared, the Required Reports. \\n \\nc. \\nOn or before each Reporting Date, the HDFC shall provide to the Monitor, the \\nManager, and HPD all Required Reports. \\n \\nd. \\nThe HDFC shall submit, or shall cause the Manager to submit, such reports and \\ninformation regarding the management and operation of the Property and the affairs of \\nthe HDFC as HPD may at any time direct by written notice, within the time specified in \\nsuch notice and to the Monitor and/or HPD as specified in such notice. \\n \\ne. \\nThe HDFC shall retain, and shall not dispose of, Books And Records for a minimum of \\nsix (6) years.  With respect to any Books And Records created in the final six (6) years of \\nthe Restriction Period, this obligation shall continue after the expiration of the Restriction \\nPeriod. \\n \\nf. \\nHPD may at any time perform such investigations of the management and operation of', 'text': '```json\\n{\"compliant\": false, \"reasoning\": \"The uploaded clause is incomplete and lacks specific details about data retention periods.  \\\\n\\\\n-  It only mentions a \\'Data Retention Period\\' without defining its duration.\\\\n\\\\n-  The provided matching regulatory clauses focus on reporting requirements, restrictions periods, and record retention for  financial and operational matters, not specifically on customer data privacy and retention.\\\\n\\\\nTo determine compliance, we need a clear statement outlining how long customer data will be retained, in alignment with relevant privacy regulations like GDPR, CCPA, or other applicable laws.\"}\\n``` \\n'}\n"
     ]
    }
   ],
   "source": [
    "llm_response = chain.invoke({\n",
    "    \"uploaded_clause\": uploaded_clauses[0]['text'],\n",
    "    \"match_1\": result_1[0].page_content,\n",
    "    \"match_2\": result_1[1].page_content\n",
    "})\n",
    "\n",
    "print(llm_response)"
   ]
  },
  {
   "cell_type": "code",
   "execution_count": 24,
   "id": "cd1ff424",
   "metadata": {},
   "outputs": [
    {
     "data": {
      "text/plain": [
       "{'uploaded_clause': 'Regulatory Guidelines for Customer Data Management, Record Retention, and Financial Eligibility\\n\\nSection 1: Customer Data Privacy and Retention\\n\\n1.1 Data Retention Period',\n",
       " 'match_1': '7 \\n \\n13. \\nsuch other documents and records as HPD, the Manager, or the Monitor shall deem \\nnecessary. \\n \\n“Restriction Period” shall mean a period commencing on the Commencement Date and \\nexpiring upon the Expiration Date. \\n \\n“Retirement Plan” shall mean (i) a defined benefit pension plan, (ii) an Individual Retirement \\nAccount established pursuant to IRC §408, (iii) a Roth Individual Retirement Account \\nestablished pursuant to IRC §408A, (iv) a qualified profit-sharing plan established pursuant to \\nIRC §401(k), (v) a Roth qualified profit-sharing plan established pursuant to IRC §401(k) and \\n§402A, (vi) a tax-sheltered annuity established pursuant to IRC §403(b), (vii) a Roth tax-\\nsheltered annuity established pursuant to IRC §403(b) and §402A, (viii) a deferred \\ncompensation plan established pursuant to IRC §Section 457, (ix) a Roth deferred \\ncompensation plan established pursuant to IRC §Section 457 and §402A, (x) a governmental',\n",
       " 'match_2': 'financial and other reporting requirements. \\n \\nb. \\nDuring the Restriction Period, the HDFC shall annually prepare, or cause to be \\nprepared, the Required Reports. \\n \\nc. \\nOn or before each Reporting Date, the HDFC shall provide to the Monitor, the \\nManager, and HPD all Required Reports. \\n \\nd. \\nThe HDFC shall submit, or shall cause the Manager to submit, such reports and \\ninformation regarding the management and operation of the Property and the affairs of \\nthe HDFC as HPD may at any time direct by written notice, within the time specified in \\nsuch notice and to the Monitor and/or HPD as specified in such notice. \\n \\ne. \\nThe HDFC shall retain, and shall not dispose of, Books And Records for a minimum of \\nsix (6) years.  With respect to any Books And Records created in the final six (6) years of \\nthe Restriction Period, this obligation shall continue after the expiration of the Restriction \\nPeriod. \\n \\nf. \\nHPD may at any time perform such investigations of the management and operation of',\n",
       " 'text': '```json\\n{\"compliant\": false, \"reasoning\": \"The uploaded clause is incomplete and lacks specific details about data retention periods.  \\\\n\\\\n-  It only mentions a \\'Data Retention Period\\' without defining its duration.\\\\n\\\\n-  The provided matching regulatory clauses focus on reporting requirements, restrictions periods, and record retention for  financial and operational matters, not specifically on customer data privacy and retention.\\\\n\\\\nTo determine compliance, we need a clear statement outlining how long customer data will be retained, in alignment with relevant privacy regulations like GDPR, CCPA, or other applicable laws.\"}\\n``` \\n'}"
      ]
     },
     "execution_count": 24,
     "metadata": {},
     "output_type": "execute_result"
    }
   ],
   "source": [
    "llm_response"
   ]
  },
  {
   "cell_type": "code",
   "execution_count": 25,
   "id": "9235c6e2",
   "metadata": {},
   "outputs": [
    {
     "name": "stdout",
     "output_type": "stream",
     "text": [
      "Reasoning: ```json\n",
      "{\"compliant\": false, \"reasoning\": \"The uploaded clause is incomplete and lacks specific details about data retention periods.  \\n\\n-  It only mentions a 'Data Retention Period' without defining its duration.\\n\\n-  The provided matching regulatory clauses focus on reporting requirements, restrictions periods, and record retention for  financial and operational matters, not specifically on customer data privacy and retention.\\n\\nTo determine compliance, we need a clear statement outlining how long customer data will be retained, in alignment with relevant privacy regulations like GDPR, CCPA, or other applicable laws.\"}\n",
      "``` \n",
      "\n"
     ]
    }
   ],
   "source": [
    "# If llm_response is already a dictionary, no need to clean or parse it\n",
    "\n",
    "# print(\"Uploaded Clause:\", llm_response.get(\"uploaded_clause\"))\n",
    "# print(\"Match 1:\", parsed_response.get(\"match_1\"))\n",
    "# print(\"Match 2:\", parsed_response.get(\"match_2\"))\n",
    "print(\"Reasoning:\", llm_response.get(\"text\"))"
   ]
  },
  {
   "cell_type": "code",
   "execution_count": 29,
   "id": "ed6ca51f",
   "metadata": {},
   "outputs": [],
   "source": [
    "import uuid\n",
    "result = []\n",
    "unique_id = f\"compliance_{uuid.uuid4().hex[:8]}\"\n",
    "\n",
    "for clause in uploaded_clauses:\n",
    "    query = clause['text']\n",
    "    \n",
    "    matches = vectorstore.similarity_search(query, k=2)\n",
    "    \n",
    "    llm_response = chain.invoke({\n",
    "        \"uploaded_clause\": query,\n",
    "        \"match_1\": matches[0].page_content,\n",
    "        \"match_2\": matches[1].page_content\n",
    "    })\n",
    "    \n",
    "    result.append({\n",
    "        \"file_name\": unique_id,\n",
    "        \"llm_response\": llm_response\n",
    "    })"
   ]
  },
  {
   "cell_type": "code",
   "execution_count": 27,
   "id": "a5eea84f",
   "metadata": {},
   "outputs": [
    {
     "data": {
      "text/plain": [
       "[{'llm_response': {'uploaded_clause': 'Regulatory Guidelines for Customer Data Management, Record Retention, and Financial Eligibility\\n\\nSection 1: Customer Data Privacy and Retention\\n\\n1.1 Data Retention Period',\n",
       "   'match_1': '7 \\n \\n13. \\nsuch other documents and records as HPD, the Manager, or the Monitor shall deem \\nnecessary. \\n \\n“Restriction Period” shall mean a period commencing on the Commencement Date and \\nexpiring upon the Expiration Date. \\n \\n“Retirement Plan” shall mean (i) a defined benefit pension plan, (ii) an Individual Retirement \\nAccount established pursuant to IRC §408, (iii) a Roth Individual Retirement Account \\nestablished pursuant to IRC §408A, (iv) a qualified profit-sharing plan established pursuant to \\nIRC §401(k), (v) a Roth qualified profit-sharing plan established pursuant to IRC §401(k) and \\n§402A, (vi) a tax-sheltered annuity established pursuant to IRC §403(b), (vii) a Roth tax-\\nsheltered annuity established pursuant to IRC §403(b) and §402A, (viii) a deferred \\ncompensation plan established pursuant to IRC §Section 457, (ix) a Roth deferred \\ncompensation plan established pursuant to IRC §Section 457 and §402A, (x) a governmental',\n",
       "   'match_2': 'financial and other reporting requirements. \\n \\nb. \\nDuring the Restriction Period, the HDFC shall annually prepare, or cause to be \\nprepared, the Required Reports. \\n \\nc. \\nOn or before each Reporting Date, the HDFC shall provide to the Monitor, the \\nManager, and HPD all Required Reports. \\n \\nd. \\nThe HDFC shall submit, or shall cause the Manager to submit, such reports and \\ninformation regarding the management and operation of the Property and the affairs of \\nthe HDFC as HPD may at any time direct by written notice, within the time specified in \\nsuch notice and to the Monitor and/or HPD as specified in such notice. \\n \\ne. \\nThe HDFC shall retain, and shall not dispose of, Books And Records for a minimum of \\nsix (6) years.  With respect to any Books And Records created in the final six (6) years of \\nthe Restriction Period, this obligation shall continue after the expiration of the Restriction \\nPeriod. \\n \\nf. \\nHPD may at any time perform such investigations of the management and operation of',\n",
       "   'text': '```json\\n{\\n \"compliant\": false,\\n \"reasoning\": \"The uploaded clause only states the section title and a sub-section title (\\'Data Retention Period\\'). It lacks specific details about data retention periods, which are crucial for regulatory compliance. The provided matching clauses offer examples of data retention requirements (e.g., 6 years) but do not directly align with the uploaded clause\\'s limited content.\"\\n}\\n``` \\n\\n\\nLet me explain the reasoning:\\n\\n* **Missing Information:** The uploaded clause is too general. It tells us there\\'s a section on data privacy and retention, but it doesn\\'t specify *how long* data should be retained, *what types* of data are covered, or *how* data should be protected. \\n* **Regulatory Requirements:**  Data retention regulations (like GDPR, CCPA, HIPAA) are very specific. They dictate how long different types of customer data must be kept, the conditions under which data can be deleted, and the security measures needed to protect it. The uploaded clause doesn\\'t meet this level of detail.\\n* **Matching Clauses:** While the matching clauses provide examples of data retention periods and reporting requirements, they don\\'t directly address the same points as the uploaded clause. They offer more complete regulatory frameworks, not specific guidance on what the uploaded clause should contain. \\n\\n\\n\\nTo determine compliance, we need a clause that clearly outlines the data retention policies for this specific context.\\n'}},\n",
       " {'llm_response': {'uploaded_clause': '1.1 Data Retention Period\\n\\nAll customer Personally Identifiable Information (PII) must be retained for no longer than 7 years from the date of account closure, unless required by legal obligations.\\n\\n1.2 Data Encryption Standard',\n",
       "   'match_1': 'financial and other reporting requirements. \\n \\nb. \\nDuring the Restriction Period, the HDFC shall annually prepare, or cause to be \\nprepared, the Required Reports. \\n \\nc. \\nOn or before each Reporting Date, the HDFC shall provide to the Monitor, the \\nManager, and HPD all Required Reports. \\n \\nd. \\nThe HDFC shall submit, or shall cause the Manager to submit, such reports and \\ninformation regarding the management and operation of the Property and the affairs of \\nthe HDFC as HPD may at any time direct by written notice, within the time specified in \\nsuch notice and to the Monitor and/or HPD as specified in such notice. \\n \\ne. \\nThe HDFC shall retain, and shall not dispose of, Books And Records for a minimum of \\nsix (6) years.  With respect to any Books And Records created in the final six (6) years of \\nthe Restriction Period, this obligation shall continue after the expiration of the Restriction \\nPeriod. \\n \\nf. \\nHPD may at any time perform such investigations of the management and operation of',\n",
       "   'match_2': '7 \\n \\n13. \\nsuch other documents and records as HPD, the Manager, or the Monitor shall deem \\nnecessary. \\n \\n“Restriction Period” shall mean a period commencing on the Commencement Date and \\nexpiring upon the Expiration Date. \\n \\n“Retirement Plan” shall mean (i) a defined benefit pension plan, (ii) an Individual Retirement \\nAccount established pursuant to IRC §408, (iii) a Roth Individual Retirement Account \\nestablished pursuant to IRC §408A, (iv) a qualified profit-sharing plan established pursuant to \\nIRC §401(k), (v) a Roth qualified profit-sharing plan established pursuant to IRC §401(k) and \\n§402A, (vi) a tax-sheltered annuity established pursuant to IRC §403(b), (vii) a Roth tax-\\nsheltered annuity established pursuant to IRC §403(b) and §402A, (viii) a deferred \\ncompensation plan established pursuant to IRC §Section 457, (ix) a Roth deferred \\ncompensation plan established pursuant to IRC §Section 457 and §402A, (x) a governmental',\n",
       "   'text': '```json\\n{\\n \"compliant\": false,\\n \"reasoning\": \"The uploaded clause focuses on data retention for customer PII and encryption standards. The provided regulatory clauses are excerpts related to reporting requirements, record retention for a specific organization (HDFC), and definitions within a legal context. There\\'s no direct overlap in scope or subject matter.  To determine compliance, we\\'d need regulations directly addressing data retention and encryption for PII.\"\\n}\\n``` \\n\\n\\n**Explanation:**\\n\\n1. **Different Focus:** The uploaded clause deals with data privacy (PII retention and encryption), while the regulatory excerpts center around financial reporting, record-keeping obligations for a specific entity (HDFC), and definitions within a legal framework.\\n\\n2. **Lack of Direct Relevance:** The provided regulations don\\'t offer guidance on how long PII should be retained or what encryption standards should be used.\\n\\n3. **Need for Specific Regulations:** To assess compliance, we require regulations that explicitly address data privacy practices like PII retention periods and encryption requirements. \\n\\n\\nLet me know if you have regulations that directly pertain to data privacy – I\\'d be happy to help with a more accurate compliance analysis.\\n'}},\n",
       " {'llm_response': {'uploaded_clause': '1.2 Data Encryption Standard\\n\\nAll customer data must be stored using at least AES-256 encryption both at rest and in transit.\\n\\n1.3 PII Access Control',\n",
       "   'match_1': 'regulatory agreement. \\n• \\nThe price for any sale of share(s) may not exceed limits established in the \\nregulatory agreement, and a portion of any profits must be paid to the \\ncorporation. \\n• \\nAny sale of share(s) requires the approval of an independent monitor \\nretained by the corporation. \\n• \\nThis certificate is non-transferable.  Upon any sale of shares, this certificate \\nshall be surrendered to the monitor, which shall issue a new certificate. \\n• \\nAny purchaser of share(s) shall be required to occupy the apartment to \\nwhich such shares are allocated as such purchaser’s sole primary \\nresidence.” \\n \\n2. \\nShares shall not be sold (i) to any Ineligible Household, (ii) for a Sale Price that \\nexceeds the applicable Maximum Sale Price, (iii) to any purchaser who fails to',\n",
       "   'match_2': '28 \\n6. \\nI understand that HPD may require me to provide an annual certification or affidavit regarding \\nmy compliance with the Owner Occupancy Requirements and that HPD may use any lawful \\nmeans to investigate my compliance with the Owner Occupancy Requirements. \\n \\n7. \\nI understand that a misstatement or misrepresentation in this Affidavit may result in civil or \\ncriminal penalties and that any violation of the Owner Occupancy Requirements may result in \\nlegal action against me or the imposition of additional fees, charges, or special assessments in \\nconnection with the Apartment. \\n \\n8. \\nI am eighteen (18) or more years of age and have the legal capacity to deliver this Affidavit. \\n \\n \\n_____________________________ \\nName: \\n \\nSworn to before me on \\nthe ___ day of ___, 20__ \\n \\n__________________ \\n    Notary Public',\n",
       "   'text': '```json\\n{\"compliant\": false, \"reasoning\": \"The uploaded clause deals with data security (encryption and access control), while the provided regulatory clauses focus on share sales, pricing restrictions, and owner occupancy requirements.  There is no overlap in subject matter.\"}\\n``` \\n\\n\\nLet me know if you\\'d like me to analyze the clause against a different set of regulations! \\n'}},\n",
       " {'llm_response': {'uploaded_clause': '1.3 PII Access Control\\n\\nOnly authorized personnel with role-based access control (RBAC) are permitted to access PII. Access logs must be retained for a minimum of 2 years.\\n\\n1.4 Third-Party Disclosure',\n",
       "   'match_1': '7 \\n \\n13. \\nsuch other documents and records as HPD, the Manager, or the Monitor shall deem \\nnecessary. \\n \\n“Restriction Period” shall mean a period commencing on the Commencement Date and \\nexpiring upon the Expiration Date. \\n \\n“Retirement Plan” shall mean (i) a defined benefit pension plan, (ii) an Individual Retirement \\nAccount established pursuant to IRC §408, (iii) a Roth Individual Retirement Account \\nestablished pursuant to IRC §408A, (iv) a qualified profit-sharing plan established pursuant to \\nIRC §401(k), (v) a Roth qualified profit-sharing plan established pursuant to IRC §401(k) and \\n§402A, (vi) a tax-sheltered annuity established pursuant to IRC §403(b), (vii) a Roth tax-\\nsheltered annuity established pursuant to IRC §403(b) and §402A, (viii) a deferred \\ncompensation plan established pursuant to IRC §Section 457, (ix) a Roth deferred \\ncompensation plan established pursuant to IRC §Section 457 and §402A, (x) a governmental',\n",
       "   'match_2': 'the Restriction Period, this obligation shall continue after the expiration of the Restriction \\nPeriod. \\n \\nf. \\nHPD may at any time perform such investigations of the management and operation of \\nthe Property and the finances of the HDFC as HPD deems necessary or appropriate, and \\nmay order the HDFC to furnish such reports and information as HPD may require with \\nrespect thereto.  HPD shall, upon five (5) days’ written notice to the HDFC, (i) have full \\nand unfettered access to all Books And Records of the HDFC, and (ii) examine under \\noath any Directors, officers, employees, or agents of the HDFC. \\n \\ng. \\nThe HDFC will cooperate with the Monitor and HPD and shall, upon the receipt of a \\nwritten request therefore from the Monitor or HPD,  (i) provide the Monitor or HPD with \\naccess to and/or copies of all Books And Records or such Books And Records as may \\nbe specified in such request, (ii) permit the Monitor and HPD to review, examine, and',\n",
       "   'text': '```json\\n{\"compliant\": false, \"reasoning\": \"The uploaded clause focuses on PII access control and third-party disclosure, while the provided regulatory clauses deal with access to records, investigations, and reporting obligations related to a specific project or program (likely involving housing). There\\'s no direct overlap in scope or requirements.\"}\\n``` \\n\\n\\nLet me break down the reasoning:\\n\\n1. **Different Focus:** The uploaded clause addresses data security (PII access and logs) and data sharing with third parties. The regulatory clauses, on the other hand, center on transparency and oversight, granting access to records and information for monitoring and auditing purposes.\\n\\n2. **Lack of Specific Requirements:** The regulatory clauses outline specific rights and obligations related to record access, investigations, and reporting, but they don\\'t directly mandate how a company should handle PII or third-party disclosures.\\n\\n3. **Context Matters:**  To determine compliance, we need to understand the specific context of the uploaded clause.  What industry or sector does it apply to?  What are the specific regulations governing PII handling and third-party disclosures in that context?\\n\\n\\nLet me know if you have the full regulatory text or more context about the uploaded clause, and I can provide a more detailed analysis. \\n'}},\n",
       " {'llm_response': {'uploaded_clause': '1.4 Third-Party Disclosure\\n\\nNo customer data may be shared with external vendors unless a signed Data Processing Agreement (DPA) exists and customer consent has been explicitly recorded.\\n\\n🔹 Section 2: Financial Eligibility for Credit Products',\n",
       "   'match_1': 'consent, HPD may, upon ten (10) days’ written notice to the HDFC and at the cost of \\nthe HDFC, (i) perform such functions of the Monitor as HPD deems necessary and \\nappropriate, (ii) designate a third party to perform such functions, and/or (ii) appoint a \\nnew Monitor and require the HDFC to enter into a Monitoring Contract with such \\nMonitor upon such terms as HPD shall reasonably determine. \\n \\nf. \\nIf HPD determines at any time that there is no Monitor, or that the Monitor is not \\nproperly performing one or more functions of the Monitor specified in this Agreement, \\nHPD may, upon ten (10) days’ written notice to the HDFC and at the cost of the HDFC, \\n(i) perform such functions of the Monitor as HPD deems necessary and appropriate, (ii) \\ndesignate a third party to perform such functions, and/or (ii) appoint a new Monitor and \\nrequire the HDFC to enter into a Monitoring Contract with such Monitor upon such \\nterms as HPD shall reasonably determine. \\n \\ng.',\n",
       "   'match_2': '9 \\nsubmit an Owner Occupancy Affidavit, or (iv) to any purchaser who owns or \\nleases any other residential property in, or within a one hundred (100) mile \\nradius of, New York City. \\n \\n3. \\nEvery Sale of Shares shall require the prior written approval of the Board and \\nthe Monitor, either or both of which may require an interview with the proposed \\npurchaser. \\n \\na. \\nThe By-Laws, any amendment thereto, and all Proprietary Leases shall \\nprovide that any Sale of Shares requires the prior written approval of the \\nBoard and the Monitor. \\n \\nb. \\nNo Sale of Shares shall be final or effective until the Board receives the \\nwritten approval of the Monitor.  \\n \\nb. \\nThe provisions of this Section 3.b shall apply to all Sales of Shares by the HDFC. \\n \\n1. \\nThe HDFC shall not sell Shares (i) to any Ineligible Household, (ii) for a Sale \\nPrice that exceeds the applicable Maximum Sale Price, or (iii) to any purchaser \\nwho fails to submit an Owner Occupancy Affidavit. \\n \\n2.',\n",
       "   'text': '```json\\n{\"compliant\": false, \"reasoning\": \"The provided clause focuses on data sharing with third-party vendors and requires a signed DPA and explicit customer consent. The regulatory clauses provided deal with monitoring contracts, shareholder sales, and affordability criteria for credit products. There is no direct overlap or similarity in subject matter.\"}\\n``` \\n\\n\\n'}},\n",
       " {'llm_response': {'uploaded_clause': '🔹 Section 2: Financial Eligibility for Credit Products\\n\\n2.1 Minimum Income Threshold\\n\\nApplicants for personal loans must have a verifiable monthly income of at least ₹25,000, or equivalent foreign currency if residing abroad.',\n",
       "   'match_1': '1. \\nDefinitions \\n \\n“Annual Household Income” shall mean the total income from all sources received for the prior \\ncalendar year by all members of the Household, including, but not limited to, all gross income \\nfrom full-time employment, part-time employment, self-employment, babysitting/caretaking, \\npublic assistance, social security, supplemental security income, pension, disability \\ncompensation, unemployment compensation, alimony, child support and interest derived from \\nall assets wherever located throughout the world.  Annual Household Income shall not include \\nany rental assistance or food stamp payments.  Such income shall be evidenced by the \\nHousehold\\'s federal tax return for such year and such other evidence as the Board or Monitor \\nmay require. \\n \\n“Apartment” shall mean a dwelling unit within the Property. \\n \\n“Asset Limit” shall mean one hundred seventy-five percent (175%) of Median. \\n \\n\"Board\" shall mean the board of directors of the HDFC.',\n",
       "   'match_2': 'Household or any member thereof. \\n \\n“HPD” shall have the meaning first set forth above. \\n \\n\"HPD Loan\" shall mean any loan made by HPD with respect to the Property. \\n \\n\"HPD Mortgage\" shall mean any mortgage held by HPD securing an HPD Loan. \\n \\n“Ineligible Household” shall mean (i) a Household, other than a Nonpurchasing Tenant or \\nInitial Shareholder, whose Annual Household Income on the date of purchase of Shares, \\nexecution of a Lease or Sublease, or initial occupancy of an Apartment by such Household or \\nany member thereof exceeds the Income Limit, (ii) a Household, other than a Nonpurchasing \\nTenant or Initial Shareholder, whose Household Assets exceed a cumulative value equal to \\nthe Asset Limit on the date of the purchase of Shares, execution of a Lease or Sublease, or \\ninitial occupancy of an Apartment by such Household or any member thereof, (iii) any \\nHousehold that already holds, or includes any person who holds, Shares allocated to another',\n",
       "   'text': '```json\\n{\\n \"compliant\": false,\\n \"reasoning\": \"The uploaded clause focuses solely on minimum monthly income for personal loan eligibility. The provided regulatory clauses define terms like \\'Annual Household Income\\' and \\'Asset Limit\\', establishing income and asset eligibility criteria within a broader housing context (likely related to subsidized or affordable housing).  There\\'s no direct comparison possible as the uploaded clause lacks the comprehensive framework present in the regulatory texts.\" \\n}\\n``` \\n'}},\n",
       " {'llm_response': {'uploaded_clause': '2.2 Asset Declaration Requirement\\n\\nAll applicants must disclose movable and immovable assets, including real estate, mutual funds, equity, and gold holdings.\\n\\n2.3 Debt-to-Income Ratio',\n",
       "   'match_1': \"Purpose: \\n \\n____ These funds are intended to fund an operating shortfall for the Property which is described in \\nthe supporting documentation submitted herewith. \\n \\n____ These funds are intended to pay for capital needs for the Property described in the supporting \\ndocumentation submitted herewith, which include one or more contractor's bids (three or more \\nbids for requests of $10,000 or more). \\n \\n \\n \\n______________________________________ \\n___________________________ Housing  \\nDevelopment Fund [Company, Inc.] [Corporation]\",\n",
       "   'match_2': 'conducted fairly and appropriately in accordance with the By-Laws. \\n \\n“Eligible Household” shall mean a Household (i) whose Annual Household Income does not \\nexceed the Income Limit on the date of the purchase of Shares, execution of a Lease or \\nSublease, or initial occupancy of an Apartment by such Household or any member thereof, \\nand (ii) whose Household Assets do not exceed a cumulative value equal to the Asset Limit on \\nthe date of the purchase of Shares, execution of a Lease or Sublease, or initial occupancy of \\nan Apartment by such Household or any member thereof. \\n \\n“Expiration Date” shall mean the later of (i) a date which is thirty (30) years from the \\nCommencement Date, or (ii) the date upon which (a) the Property is not receiving any form of \\nabatement of or exemption from real property taxation, (b) the Property is not subject to any \\nmortgage or lien held by or on behalf of the City or any other governmental entity, and (c) the',\n",
       "   'text': '```json\\n{\\n \"compliant\": false,\\n \"reasoning\": \"The uploaded clause requires disclosure of assets like real estate, mutual funds, equity, and gold holdings.  The provided regulatory clauses focus on: \\\\n1.  Purpose of funds and \\\\n2.  Eligibility criteria for households based on income and asset limits. There is no direct match or clear indication that the uploaded clause aligns with these regulations.\" \\n}\\n``` \\n\\n\\n**Explanation:**\\n\\n1. **No Direct Match:** The uploaded clause about asset declarations doesn\\'t directly relate to the purpose of funds or household eligibility criteria outlined in the regulatory clauses.\\n\\n2. **Different Focus:** The regulatory clauses emphasize the use of funds and who qualifies for benefits, while the uploaded clause deals with a general requirement for applicants to disclose their assets.\\n\\n3. **Lack of Context:**  Without more context about the specific regulations and the purpose of the document containing the uploaded clause, it\\'s difficult to definitively say whether it complies. \\n\\n\\n'}},\n",
       " {'llm_response': {'uploaded_clause': '2.3 Debt-to-Income Ratio\\n\\nApproved applicants must maintain a DTI ratio less than 40% at the time of loan sanctioning.\\n\\n\\n\\n2.4 Loan Eligibility Blacklist',\n",
       "   'match_1': 'regulations promulgated pursuant thereto. \\n \\n“Income Limit” shall mean one hundred twenty percent (120%) of Median. \\n \\n“Initial Shareholder” shall mean a Household that (i) was a leaseholding tenant of an \\nApartment on the Conversion Date, and (ii) purchased Shares on the Conversion Date. \\n \\n“Lease” shall mean an actual or proposed lease or other agreement between the HDFC and a \\nTenant or Nonpurchasing Tenant regarding the occupancy of an Apartment by such Tenant or \\nNonpurchasing Tenant, but shall not include a Proprietary Lease. \\n \\n\"Lender\" shall mean any private institutional lender providing a permanent loan for the \\nacquisition or improvement of the Property. \\n \\n“Maintenance\" shall mean, with respect to any Shareholder’s Apartment, the monthly \\nmaintenance fee that the HDFC charges to the Shareholder with respect to such Apartment.',\n",
       "   'match_2': 'Monitor; \\n \\n2. \\nAn affidavit from the Board, in form and substance acceptable to the Monitor, \\nstating that the proposed Subtenant is an Eligible Household, (ii) the rent stated \\nin the Sublease does not exceed the Maximum Sublease Rent, and (iii) the \\nBoard has approved the Sublease; \\n \\n3. \\nAn affidavit from the Shareholder, in form and substance acceptable to the \\nMonitor, stating that the proposed Subtenant is an Eligible Household and the \\nrent stated in the Sublease is accurate, reflects the full value of all consideration \\nto be received by the Shareholder, and does not exceed the Maximum \\nSublease Rent; \\n \\n4. \\nAn affidavit from the proposed Subtenant, in form and substance acceptable to \\nthe Monitor, stating that such proposed Subtenant is an Eligible Household and \\nthat the rent stated in the Sublease is accurate, reflects the full value of all \\nconsideration to be delivered to the Shareholder, and does not exceed the \\nMaximum Sublease Rent; and \\n \\n5.',\n",
       "   'text': '```json\\n{\\n \"compliant\": false,\\n \"reasoning\": \"The uploaded clause focuses on debt-to-income ratios (DTI) and a \\'Loan Eligibility Blacklist\\'.  The provided regulatory clauses deal with  income limits, lease definitions, lender roles, maintenance fees, subletting requirements, and eligible households. There\\'s no direct overlap or mention of DTI or blacklists in the regulations.\" \\n}\\n``` \\n\\n\\n**Explanation:**\\n\\n1. **Comparison:** The uploaded clause sets specific financial criteria (DTI < 40%) and mentions a  \"Loan Eligibility Blacklist\". The regulatory clauses, on the other hand, define terms related to housing (e.g., Income Limit, Lease, Maintenance), and outline requirements for subletting (e.g., Eligible Household, Maximum Sublease Rent). \\n\\n2. **Differences:**  The key difference is the subject matter. The uploaded clause focuses on loan qualification standards, while the regulations address broader aspects of housing ownership and tenant/shareholder relationships within a specific type of housing development (likely a cooperative or similar model).\\n\\n3. **Conclusion:** Because there\\'s no direct connection between the uploaded clause and the provided regulations, it cannot be determined if it complies. \\n\\n\\n\\nLet me know if you have more clauses or a more specific context for the regulations! \\n'}},\n",
       " {'llm_response': {'uploaded_clause': '2.4 Loan Eligibility Blacklist\\n\\nApplicants who have defaulted on any credit obligation in the last 3 years are not eligible for personal or unsecured loans.\\n\\n🔹 Section 3: Record-Keeping and Audit Guidelines\\n\\n3.1 Document Archival Policy',\n",
       "   'match_1': 'Household or any member thereof. \\n \\n“HPD” shall have the meaning first set forth above. \\n \\n\"HPD Loan\" shall mean any loan made by HPD with respect to the Property. \\n \\n\"HPD Mortgage\" shall mean any mortgage held by HPD securing an HPD Loan. \\n \\n“Ineligible Household” shall mean (i) a Household, other than a Nonpurchasing Tenant or \\nInitial Shareholder, whose Annual Household Income on the date of purchase of Shares, \\nexecution of a Lease or Sublease, or initial occupancy of an Apartment by such Household or \\nany member thereof exceeds the Income Limit, (ii) a Household, other than a Nonpurchasing \\nTenant or Initial Shareholder, whose Household Assets exceed a cumulative value equal to \\nthe Asset Limit on the date of the purchase of Shares, execution of a Lease or Sublease, or \\ninitial occupancy of an Apartment by such Household or any member thereof, (iii) any \\nHousehold that already holds, or includes any person who holds, Shares allocated to another',\n",
       "   'match_2': 'acquisition of Shares by an Ineligible Household through inheritance or as the result of \\nCooperative Loan enforcement proceedings shall not constitute a Prohibited Event until the \\nearlier of (a) the date, if any, upon which such Ineligible Household commences occupancy of \\nthe Apartment to which such Shares are allocated, (b) the date of any of the events described \\nin clauses (ii) through (vi) of the preceding sentence, or (c) one year from the date of such \\nacquisition of Shares through inheritance or as the result of Cooperative Loan enforcement \\nproceedings. \\n \\n“Prohibited Event Cure Date” shall mean the first date upon which a Prohibited Event with \\nrespect to an Apartment has been entirely cured, so that no set of facts existing on such date \\nconcerning either the Apartment or the Shares allocated thereto would constitute a Prohibited \\nEvent, as determined by the Monitor. \\n \\n“Prohibited Event Date” shall mean the date upon which a Prohibited Event occurs with',\n",
       "   'text': '```json\\n{\"compliant\": false, \"reasoning\": \"The uploaded clause focuses on loan eligibility criteria based on credit history, while the provided regulatory clauses pertain to income and asset limits for specific housing programs (HPD Loans). There is no direct overlap or indication that the uploaded clause aligns with these regulations.\"}\\n``` \\n\\n\\nLet me break down why:\\n\\n1. **Focus:** The uploaded clause deals with excluding applicants with recent credit defaults from loans. The regulatory clauses define \"Ineligible Households\" based on income and asset levels for a particular housing program.\\n\\n2. **Scope:** The uploaded clause is general and applies to \"personal or unsecured loans.\" The regulatory clauses are specific to a particular housing program (HPD) and its associated loans (\"HPD Loans\").\\n\\n3. **No Direct Similarity:**  There are no keywords, phrases, or concepts in common between the uploaded clause and the provided regulatory clauses that suggest compliance. \\n\\n\\nTherefore, based on the provided information, it\\'s safe to conclude that the uploaded clause is not directly compliant with the given regulations. \\n'}},\n",
       " {'llm_response': {'uploaded_clause': '3.1 Document Archival Policy\\n\\nAll financial transaction records must be stored for a minimum of 10 years, preferably in immutable format (e.g., blockchain or WORM storage).\\n\\n3.2 Audit Frequency',\n",
       "   'match_1': 'financial and other reporting requirements. \\n \\nb. \\nDuring the Restriction Period, the HDFC shall annually prepare, or cause to be \\nprepared, the Required Reports. \\n \\nc. \\nOn or before each Reporting Date, the HDFC shall provide to the Monitor, the \\nManager, and HPD all Required Reports. \\n \\nd. \\nThe HDFC shall submit, or shall cause the Manager to submit, such reports and \\ninformation regarding the management and operation of the Property and the affairs of \\nthe HDFC as HPD may at any time direct by written notice, within the time specified in \\nsuch notice and to the Monitor and/or HPD as specified in such notice. \\n \\ne. \\nThe HDFC shall retain, and shall not dispose of, Books And Records for a minimum of \\nsix (6) years.  With respect to any Books And Records created in the final six (6) years of \\nthe Restriction Period, this obligation shall continue after the expiration of the Restriction \\nPeriod. \\n \\nf. \\nHPD may at any time perform such investigations of the management and operation of',\n",
       "   'match_2': 'the Restriction Period, this obligation shall continue after the expiration of the Restriction \\nPeriod. \\n \\nf. \\nHPD may at any time perform such investigations of the management and operation of \\nthe Property and the finances of the HDFC as HPD deems necessary or appropriate, and \\nmay order the HDFC to furnish such reports and information as HPD may require with \\nrespect thereto.  HPD shall, upon five (5) days’ written notice to the HDFC, (i) have full \\nand unfettered access to all Books And Records of the HDFC, and (ii) examine under \\noath any Directors, officers, employees, or agents of the HDFC. \\n \\ng. \\nThe HDFC will cooperate with the Monitor and HPD and shall, upon the receipt of a \\nwritten request therefore from the Monitor or HPD,  (i) provide the Monitor or HPD with \\naccess to and/or copies of all Books And Records or such Books And Records as may \\nbe specified in such request, (ii) permit the Monitor and HPD to review, examine, and',\n",
       "   'text': '```json\\n{\"compliant\": false, \"reasoning\": \"The uploaded clause mandates a 10-year document archival period for financial transaction records, while the regulations specify a 6-year retention period.  Additionally, the clause emphasizes immutable storage, a requirement not explicitly stated in the provided regulations. \"}\\n``` \\n'}},\n",
       " {'llm_response': {'uploaded_clause': '3.2 Audit Frequency\\n\\nInternal compliance audits must be conducted at least once every 6 months. Findings must be submitted to the central compliance system.\\n\\n3.3 Tamper Detection',\n",
       "   'match_1': \"access to and/or copies of all Books And Records or such Books And Records as may \\nbe specified in such request, (ii) permit the Monitor and HPD to review, examine, and \\naudit such Books And Records during normal business hours, (iii) facilitate inspections, \\nand (iv) respond to all requests of the Monitor and HPD. \\n \\nh. \\nUpon ten (10) days' written notice from HPD specifying the time and place of examination, \\nthe HDFC and any of its Directors, officers, employees, or agents, shall submit under oath \\nto an oral examination by authorized representatives of HPD concerning any or all \\nmatters relating to the Property, and shall produce for examination, review, and/or audit \\nby HPD such Books And Records as such notice may specify. \\n \\n12. \\nTraining \\n \\na. \\nThe Monitor, in its sole discretion, may approve, modify, or reject the Training Plan.  If \\nthe Monitor rejects the Training Plan, the HDFC shall modify such Training Plan in\",\n",
       "   'match_2': 'financial and other reporting requirements. \\n \\nb. \\nDuring the Restriction Period, the HDFC shall annually prepare, or cause to be \\nprepared, the Required Reports. \\n \\nc. \\nOn or before each Reporting Date, the HDFC shall provide to the Monitor, the \\nManager, and HPD all Required Reports. \\n \\nd. \\nThe HDFC shall submit, or shall cause the Manager to submit, such reports and \\ninformation regarding the management and operation of the Property and the affairs of \\nthe HDFC as HPD may at any time direct by written notice, within the time specified in \\nsuch notice and to the Monitor and/or HPD as specified in such notice. \\n \\ne. \\nThe HDFC shall retain, and shall not dispose of, Books And Records for a minimum of \\nsix (6) years.  With respect to any Books And Records created in the final six (6) years of \\nthe Restriction Period, this obligation shall continue after the expiration of the Restriction \\nPeriod. \\n \\nf. \\nHPD may at any time perform such investigations of the management and operation of',\n",
       "   'text': '```json\\n{\"compliant\": false, \"reasoning\": \"While the uploaded clause mentions audit frequency and tamper detection, it lacks the specific requirements and provisions outlined in the provided regulatory clauses. \\n\\nThe uploaded clause does not address:\\n\\n*  Detailed access rights for auditors (as seen in clause 1)\\n*  Mandatory oral examinations and sworn testimony (clause 1)\\n*  Specific reporting requirements (clause 2)\\n*  Retention periods for Books and Records (clause 2)\\n\\nTherefore, it does not fully comply with the regulations.\"}\\n``` \\n\\n\\nLet me know if you have any other clauses you\\'d like me to analyze!'}},\n",
       " {'llm_response': {'uploaded_clause': '3.3 Tamper Detection\\n\\nAll logs must support tamper-evident features. Manual override of logs without audit trace is prohibited.\\n\\n🔹 Section 4: Customer Consent and Communication\\n\\n4.1 Marketing Opt-In',\n",
       "   'match_1': 'Sale; \\n \\nc. \\nAn affidavit from the proposed purchaser of the Shares, in form and \\nsubstance acceptable to the Monitor, stating that such proposed \\npurchaser is an Eligible Household and that the Sale Price stated in the \\ncontract is accurate, reflects the full value of all consideration to be \\ndelivered to the HDFC, and does not exceed the Maximum Sale Price; \\nand \\n \\nd. \\nSuch other documentation as the Monitor shall require. \\n \\n3. \\nThe By-Laws and the Monitoring Contract shall provide that: \\n \\na. \\nThe Monitor shall evaluate and approve or disapprove each proposed \\nSale of Shares by the HDFC based on the information and \\ndocumentation submitted by the Board, information obtained from any \\ninterview, and the requirements of this Agreement, the Certificate Of \\nIncorporation, and the By-Laws; and  \\n \\nb. \\nThe Monitor shall not approve any Sale of Shares (i) to any Ineligible \\nHousehold, (ii) for a Sale Price that exceeds the applicable Maximum',\n",
       "   'match_2': '9 \\nsubmit an Owner Occupancy Affidavit, or (iv) to any purchaser who owns or \\nleases any other residential property in, or within a one hundred (100) mile \\nradius of, New York City. \\n \\n3. \\nEvery Sale of Shares shall require the prior written approval of the Board and \\nthe Monitor, either or both of which may require an interview with the proposed \\npurchaser. \\n \\na. \\nThe By-Laws, any amendment thereto, and all Proprietary Leases shall \\nprovide that any Sale of Shares requires the prior written approval of the \\nBoard and the Monitor. \\n \\nb. \\nNo Sale of Shares shall be final or effective until the Board receives the \\nwritten approval of the Monitor.  \\n \\nb. \\nThe provisions of this Section 3.b shall apply to all Sales of Shares by the HDFC. \\n \\n1. \\nThe HDFC shall not sell Shares (i) to any Ineligible Household, (ii) for a Sale \\nPrice that exceeds the applicable Maximum Sale Price, or (iii) to any purchaser \\nwho fails to submit an Owner Occupancy Affidavit. \\n \\n2.',\n",
       "   'text': '```json\\n{\"compliant\": false, \"reasoning\": \"The uploaded clause focuses on tamper-evident logging and audit trails, while the provided regulatory clauses deal with the sale of shares in a housing cooperative, including eligibility criteria for purchasers and approval processes. There is no direct overlap in subject matter, making it impossible to assess compliance based on these regulations.\"}\\n``` \\n\\n\\n**Explanation:**\\n\\n1. **No Direct Relevance:** The uploaded clause about tamper-evident logging is unrelated to the regulatory clauses about share sales in a housing cooperative. \\n\\n2. **Different Domains:**  The two sets of clauses operate in distinct domains:\\n\\n    * **Uploaded Clause:**  Information security and data integrity.\\n    * **Regulatory Clauses:** Real estate transactions, cooperative ownership rules.\\n\\n\\nTherefore, we cannot determine compliance with the provided regulations based on the uploaded clause. \\n'}},\n",
       " {'llm_response': {'uploaded_clause': '4.1 Marketing Opt-In\\n\\nCustomers must opt-in explicitly for all marketing communications. Pre-ticked checkboxes do not qualify as consent.\\n\\n4.2 Policy Updates',\n",
       "   'match_1': 'subletting. \\n \\nf. \\nThe provisions of this Section 7 shall only apply to Subleases by Nonpurchasing \\nTenants to the extent permitted by applicable law.  \\n \\n8. \\nMonitoring \\n \\nThe HDFC shall enter into the Monitoring Contract with the Monitor.  All changes to the \\nMonitoring Contract, and all changes of the Monitor, shall require the prior written consent of \\nHPD.',\n",
       "   'match_2': '14 \\nb. \\nEvery Sublease shall require the prior written approval of both the Board and the \\nMonitor, either or both of which may require an interview with the proposed Subtenant.  \\nThe By-Laws, any amendment thereto, and all Proprietary Leases shall provide that \\nany Sublease requires the prior written approval of both the Board and the Monitor.  No \\nSublease shall be final or effective, and no Subtenant shall be permitted to commence \\noccupancy of an Apartment, until the Board receives the written approval of the \\nMonitor. \\n \\nc. \\nIn connection with any proposed Sublease, the Board shall deliver to the Monitor the \\nfollowing documents: \\n \\n1. \\nA copy of the Sublease, which shall expressly provide that such Sublease shall \\nbe of no force or effect without the written approval of the Board and the \\nMonitor; \\n \\n2. \\nAn affidavit from the Board, in form and substance acceptable to the Monitor, \\nstating that the proposed Subtenant is an Eligible Household, (ii) the rent stated',\n",
       "   'text': '```json\\n{\"compliant\": false, \"reasoning\": \"The uploaded clause pertains to marketing opt-in and policy updates, while the provided regulatory clauses focus on subletting procedures. There is no direct overlap or similarity in subject matter.\"}\\n``` \\n\\n\\nLet me know if you\\'d like me to analyze the clause against different regulatory frameworks. \\n'}},\n",
       " {'llm_response': {'uploaded_clause': '4.2 Policy Updates\\n\\nAny changes in data usage or retention policy must be communicated to customers at least 30 days prior to enforcement.\\n\\n4.3 Grievance Redressal SLA',\n",
       "   'match_1': 'Books And Records and the Property, and receive and review such other \\ndocuments and records as the Manager shall reasonably request in order to \\nensure compliance with this Agreement.  \\n \\ne. \\nNotwithstanding any provision of this Agreement to the contrary, HPD may at \\nany time, by written notice to the HDFC, waive in writing the requirement that \\nthe HDFC hire a Manager and enter into a Management Contract.  Such written \\nnotice shall specify the period of such waiver, which shall not exceed twelve \\n(12) months, but which may be renewed by further written notice from HPD to \\nthe HDFC at any time during the final three (3) months of such period.  Any \\nsuch notice shall become ineffective unless, within thirty (30) days following \\nsuch notice, the HDFC delivers to HPD written notice that the HDFC intends to \\nexercise such waiver and self-manage the Property.  During the term of any \\nsuch waiver, the HDFC shall perform and be responsible for all functions,',\n",
       "   'match_2': '17 \\ninto a Management Contract with such Manager upon such terms as HPD shall \\nreasonably determine. \\n \\n7. \\nThe Management Contract shall provide that either party may, with the prior \\nwritten consent of HPD, terminate the Management Contract, with or without \\ncause, upon sixty (60) days’ written notice to the other party and to HPD.  If \\neither party serves such notice of termination, the HDFC shall take all actions \\nnecessary to retain a new Manager approved by HPD on or before the \\ntermination date. \\n \\n8. \\nThe HDFC shall not, without the prior written consent of HPD, withhold from the \\nManager or otherwise fail to pay to the Manager any funds due under the \\nManagement Contract. \\n \\n9. \\nThe Management Contract shall provide that the Manager shall monitor the \\nBooks And Records of the HDFC, including an annual physical inspection of the \\nBooks And Records and the Property, and receive and review such other \\ndocuments and records as the Manager shall reasonably request in order to',\n",
       "   'text': '```json\\n{\\n \"compliant\": false,\\n \"reasoning\": \"While the uploaded clause mentions a 30-day notice period for policy changes, the provided regulatory clauses focus on management contracts, property management, and financial oversight. There\\'s no direct overlap or requirement for customer notification on policy updates within the context of these regulations.\"\\n}\\n``` \\n\\n\\n**Explanation:**\\n\\n1. **Comparison:** The uploaded clause deals with customer notification for data usage and retention policy changes. The regulatory clauses primarily address the management contract between a housing development firm (HDFC) and a property manager.\\n\\n2. **Differences:** \\n   - **Subject Matter:** The uploaded clause focuses on data privacy and customer communication, while the regulations deal with property management practices, record-keeping, and financial responsibilities.\\n   - **Scope:** The uploaded clause applies to specific policy changes, while the regulations establish broader frameworks for management contracts and property operations.\\n\\n3. **Conclusion:**  The uploaded clause does not directly address the regulatory requirements outlined in the provided clauses. Therefore, it cannot be definitively stated as compliant or non-compliant based solely on these regulations. \\n\\n\\n'}},\n",
       " {'llm_response': {'uploaded_clause': '4.3 Grievance Redressal SLA\\n\\nAll customer grievances must be acknowledged within 48 hours and resolved within 7 working days.\\n\\n🔹 Section 5: Regulatory Reporting and Escalation\\n\\n5.1 Reporting Obligations',\n",
       "   'match_1': 'upon not less than five (5) days written notice to the parties involved to determine if any penalties \\nshould attach for the failure of a person to testify. \\n \\n(e) \\nIf any non-governmental party to the hearing requests an adjournment, the commissioner or \\nagency head who convened the hearing may, upon granting the adjournment, suspend any \\ncontract, lease, permit, or license pending the final determination pursuant to paragraph (g) below \\nwithout the City incurring any penalty or damages for delay or otherwise. \\n \\n(f) \\nThe penalties which may attach after a final determination by the commissioner or agency head \\nmay include but shall not exceed: \\n \\n(1) \\nThe disqualification for a period not to exceed five (5) years from the date of an adverse \\ndetermination for any person, or any entity of which such person was a member at the \\ntime the testimony was sought, from submitting bids for, or transacting business with, or',\n",
       "   'match_2': 'Books And Records and the Property, and receive and review such other \\ndocuments and records as the Manager shall reasonably request in order to \\nensure compliance with this Agreement.  \\n \\ne. \\nNotwithstanding any provision of this Agreement to the contrary, HPD may at \\nany time, by written notice to the HDFC, waive in writing the requirement that \\nthe HDFC hire a Manager and enter into a Management Contract.  Such written \\nnotice shall specify the period of such waiver, which shall not exceed twelve \\n(12) months, but which may be renewed by further written notice from HPD to \\nthe HDFC at any time during the final three (3) months of such period.  Any \\nsuch notice shall become ineffective unless, within thirty (30) days following \\nsuch notice, the HDFC delivers to HPD written notice that the HDFC intends to \\nexercise such waiver and self-manage the Property.  During the term of any \\nsuch waiver, the HDFC shall perform and be responsible for all functions,',\n",
       "   'text': '```json\\n{\"compliant\": false, \"reasoning\": \"The uploaded clause focuses on customer grievance response times, while the provided regulatory clauses pertain to hearings, penalties, and management oversight in a specific context (likely related to housing or contracts with a city). There are no clear similarities or overlaps in subject matter.  To assess compliance, we need regulations directly addressing customer service standards or grievance handling.\"}\\n``` \\n\\n\\n**Explanation:**\\n\\n1. **Subject Matter Mismatch:** The uploaded clause deals with customer service (grievance acknowledgment and resolution times). The regulatory clauses provided focus on:\\n    -  Hearing procedures and potential penalties for non-compliance.\\n    - Management contract requirements and waivers.\\n\\n2. **Lack of Direct Relevance:**  There\\'s no direct connection between the uploaded clause and the provided regulatory examples.\\n\\n3. **Need for Specific Regulations:** To determine compliance, we need to compare the clause with regulations that specifically address customer service standards, grievance handling, or related areas. \\n\\n\\nLet me know if you provide regulations related to customer service, and I can give a more accurate compliance assessment.\\n'}},\n",
       " {'llm_response': {'uploaded_clause': '5.1 Reporting Obligations\\n\\nSuspicious financial activities exceeding ₹10,00,000 must be reported to FIU-IND within 24 hours of detection.\\n\\n\\n\\n5.2 Escalation Matrix',\n",
       "   'match_1': 'the Restriction Period, this obligation shall continue after the expiration of the Restriction \\nPeriod. \\n \\nf. \\nHPD may at any time perform such investigations of the management and operation of \\nthe Property and the finances of the HDFC as HPD deems necessary or appropriate, and \\nmay order the HDFC to furnish such reports and information as HPD may require with \\nrespect thereto.  HPD shall, upon five (5) days’ written notice to the HDFC, (i) have full \\nand unfettered access to all Books And Records of the HDFC, and (ii) examine under \\noath any Directors, officers, employees, or agents of the HDFC. \\n \\ng. \\nThe HDFC will cooperate with the Monitor and HPD and shall, upon the receipt of a \\nwritten request therefore from the Monitor or HPD,  (i) provide the Monitor or HPD with \\naccess to and/or copies of all Books And Records or such Books And Records as may \\nbe specified in such request, (ii) permit the Monitor and HPD to review, examine, and',\n",
       "   'match_2': 'financial and other reporting requirements. \\n \\nb. \\nDuring the Restriction Period, the HDFC shall annually prepare, or cause to be \\nprepared, the Required Reports. \\n \\nc. \\nOn or before each Reporting Date, the HDFC shall provide to the Monitor, the \\nManager, and HPD all Required Reports. \\n \\nd. \\nThe HDFC shall submit, or shall cause the Manager to submit, such reports and \\ninformation regarding the management and operation of the Property and the affairs of \\nthe HDFC as HPD may at any time direct by written notice, within the time specified in \\nsuch notice and to the Monitor and/or HPD as specified in such notice. \\n \\ne. \\nThe HDFC shall retain, and shall not dispose of, Books And Records for a minimum of \\nsix (6) years.  With respect to any Books And Records created in the final six (6) years of \\nthe Restriction Period, this obligation shall continue after the expiration of the Restriction \\nPeriod. \\n \\nf. \\nHPD may at any time perform such investigations of the management and operation of',\n",
       "   'text': '```json\\n{\"compliant\": false, \"reasoning\": \"The uploaded clause mentions reporting suspicious financial activities to FIU-IND, but the provided regulatory clauses focus on reporting requirements for a specific entity (\\'HDFC\\') and an external entity (\\'HPD\\') within a defined \\'Restriction Period\\'. There is no direct mention of reporting to FIU-IND or thresholds for reporting suspicious activities in the given regulatory clauses.  Therefore, it\\'s not possible to definitively assess compliance based solely on these comparisons.\"}\\n``` \\n\\n**Explanation:**\\n\\n1. **Focus:** The uploaded clause deals with reporting suspicious financial activities to FIU-IND with a specific threshold (₹10,00,000). The regulatory clauses are centered around  reporting obligations of \\'HDFC\\' to \\'HPD\\' and a \\'Monitor\\' within a \\'Restriction Period\\'.\\n\\n2. **No Direct Match:** There\\'s no explicit mention of FIU-IND or similar reporting requirements for suspicious activities in the provided regulatory text. \\n\\n3. **Context:** To determine compliance, we need more context:\\n    * What is the specific industry or sector the clause applies to?\\n    * What are the full legal and regulatory frameworks governing this industry?\\n    * What is the definition of \\'suspicious financial activities\\' in this context?\\n\\n\\n\\nLet me know if you can provide more context or the full regulatory framework. \\n'}},\n",
       " {'llm_response': {'uploaded_clause': '5.2 Escalation Matrix\\n\\nAny regulatory breach must follow a 3-level escalation protocol:\\n→ Level 1: Internal Compliance Officer\\n→ Level 2: Chief Compliance Officer\\n→ Level 3: Independent Regulator (e.g., RBI, SEBI)\\n\\n5.3 Whistleblower Protection',\n",
       "   'match_1': '1. \\nInstitute and prosecute, or direct and authorize the Manager to institute and \\nprosecute, any proceeding at law or in equity to abate, prevent, or enjoin any \\nsuch Default or to compel specific performance by the HDFC, its successors or \\nassigns, of the obligations of the HDFC pursuant to this Agreement, any other \\nagreement with the City, the Management Agreement, the Monitoring \\nAgreement, the Private Housing Finance Law, the Business Corporation Law, \\nor any other applicable law or agreement; \\n \\n2. \\nTerminate the membership of the entire Board, or any one or more specific \\nDirectors, and appoint replacement Directors sufficient to constitute a two thirds \\n(2/3) majority of such Board, notwithstanding any contrary provision in the \\nCertificate Of Incorporation or the By-Laws and notwithstanding the fact that \\nsome of all of such replacement Directors may not be Shareholders; or \\n \\n3. \\nPerform or order, or direct and authorize the Manager to perform or order, such',\n",
       "   'match_2': 'a. \\nThe HDFC shall establish and maintain such reserve accounts as are included and/or \\nrequired in the development budget and the documents of any loan obtained by the \\nHDFC for the Property. \\n \\nb. \\nIf required by HPD, the Manager, or any Lender, the HDFC shall also escrow, and/or \\ncreate pre-funded reserves for, any or all Charges in such amount and manner as may \\nbe prescribed by the party requiring such escrow or reserve. \\n \\nc. \\nAny reserve shall be held in an FDIC-insured checking account in the name of the \\nHDFC in a bank or other financial institution located in New York City and acceptable \\nto HPD and the Manager.  \\n \\nd. \\nThe HDFC shall not withdraw funds from any reserve account without the prior written \\nconsent of the Monitor and HPD. \\n \\ne. \\nThe HDFC may, from time to time, but no more frequently than monthly, request HPD \\napproval of a withdrawal from the Reserve Fund to fund an operating shortfall for the',\n",
       "   'text': '```json\\n{\"compliant\": false, \"reasoning\": \"The uploaded clause focuses on escalation protocols for regulatory breaches and whistleblower protection. The provided regulatory clauses deal with entirely different topics: enforcement actions in case of defaults and reserve account management. There\\'s no direct overlap or similarity between the uploaded clause and the given regulatory clauses.\"}\\n``` \\n\\n\\nLet me know if you\\'d like me to analyze the clause against a different set of regulations! \\n'}},\n",
       " {'llm_response': {'uploaded_clause': '5.3 Whistleblower Protection\\n\\nEmployees reporting regulatory violations shall be protected under the Bank’s Whistleblower Policy and no punitive action may be taken against them.',\n",
       "   'match_1': 'the Restriction Period, this obligation shall continue after the expiration of the Restriction \\nPeriod. \\n \\nf. \\nHPD may at any time perform such investigations of the management and operation of \\nthe Property and the finances of the HDFC as HPD deems necessary or appropriate, and \\nmay order the HDFC to furnish such reports and information as HPD may require with \\nrespect thereto.  HPD shall, upon five (5) days’ written notice to the HDFC, (i) have full \\nand unfettered access to all Books And Records of the HDFC, and (ii) examine under \\noath any Directors, officers, employees, or agents of the HDFC. \\n \\ng. \\nThe HDFC will cooperate with the Monitor and HPD and shall, upon the receipt of a \\nwritten request therefore from the Monitor or HPD,  (i) provide the Monitor or HPD with \\naccess to and/or copies of all Books And Records or such Books And Records as may \\nbe specified in such request, (ii) permit the Monitor and HPD to review, examine, and',\n",
       "   'match_2': '18 \\nor Monitor, or any of their respective immediate family members, (ii) any entity in which \\nany of the legal or beneficial interest is held by the Manager or the Monitor, any \\ndirector, officer, or employee of the Manager or Monitor, or any of their respective \\nimmediate family members, or (iii) any entity in which any director, officer, or employee \\nof the Manager or Monitor, or any of their respective immediate family members is a \\ndirector, officer, or employee.  \\n \\n11. \\nBooks And Records \\n \\na. \\nThe HDFC shall keep and maintain, or cause the Manager to keep and maintain, full \\nand accurate Books And Records regarding maintenance, operation, and management \\nof the Property and shall comply with, or cause the Manager to comply with, customary \\nfinancial and other reporting requirements. \\n \\nb. \\nDuring the Restriction Period, the HDFC shall annually prepare, or cause to be \\nprepared, the Required Reports. \\n \\nc.',\n",
       "   'text': '```json\\n{\"compliant\": false, \"reasoning\": \"While the uploaded clause mentions whistleblower protection, it doesn\\'t specify the scope or mechanism for reporting, nor does it align with the specific regulatory clauses provided. The regulatory clauses focus on financial reporting, record keeping, and HPD\\'s access and oversight,  rather than employee whistleblowing.\"}\\n``` \\n'}}]"
      ]
     },
     "execution_count": 27,
     "metadata": {},
     "output_type": "execute_result"
    }
   ],
   "source": [
    "result"
   ]
  },
  {
   "cell_type": "code",
   "execution_count": 31,
   "id": "ee5cbdb0",
   "metadata": {},
   "outputs": [
    {
     "name": "stdout",
     "output_type": "stream",
     "text": [
      "Results saved successfully to compliance_3cdb43e2.json\n"
     ]
    }
   ],
   "source": [
    "import json\n",
    "file_name = f\"{unique_id}.json\"\n",
    "try:\n",
    "    with open(file_name, 'w', encoding='utf-8') as json_file:\n",
    "        json.dump(result, json_file, ensure_ascii=False, indent=4)\n",
    "    print(f\"Results saved successfully to {file_name}\")\n",
    "except Exception as e:\n",
    "    raise RuntimeError(f\"Failed to save the file {file_name}: {e}\")"
   ]
  },
  {
   "cell_type": "code",
   "execution_count": 39,
   "id": "984f1991",
   "metadata": {},
   "outputs": [],
   "source": [
    "import os\n",
    "import json\n",
    "RESULT_FOLDER = \"results\"\n",
    "file_id = 'fd45291b'\n",
    "json_file_path = os.path.join(RESULT_FOLDER, f\"compliance_{file_id}.json\")\n",
    "json_file_path = json_file_path.replace(\"\\\\\", \"/\")\n",
    "json_file_path\n",
    "with open(json_file_path, 'r', encoding='utf-8') as json_file:\n",
    "    data = json.load(json_file)"
   ]
  },
  {
   "cell_type": "code",
   "execution_count": 40,
   "id": "7e25afc7",
   "metadata": {},
   "outputs": [],
   "source": [
    "with open(json_file_path, \"r\", encoding=\"utf-8\") as f:\n",
    "        data = json.load(f)"
   ]
  },
  {
   "cell_type": "code",
   "execution_count": null,
   "id": "a0acf86e",
   "metadata": {},
   "outputs": [],
   "source": []
  },
  {
   "cell_type": "code",
   "execution_count": null,
   "id": "ed31000e",
   "metadata": {},
   "outputs": [],
   "source": []
  }
 ],
 "metadata": {
  "kernelspec": {
   "display_name": "huggingface",
   "language": "python",
   "name": "python3"
  },
  "language_info": {
   "codemirror_mode": {
    "name": "ipython",
    "version": 3
   },
   "file_extension": ".py",
   "mimetype": "text/x-python",
   "name": "python",
   "nbconvert_exporter": "python",
   "pygments_lexer": "ipython3",
   "version": "3.12.3"
  }
 },
 "nbformat": 4,
 "nbformat_minor": 5
}
