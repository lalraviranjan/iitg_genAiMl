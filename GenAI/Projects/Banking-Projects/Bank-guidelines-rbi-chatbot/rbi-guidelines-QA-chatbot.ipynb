{
 "cells": [
  {
   "cell_type": "markdown",
   "id": "437d1d9c",
   "metadata": {},
   "source": [
    "# RBI-QA Chatbot: Using Langchain | PineCone | Redis | OpenAi"
   ]
  },
  {
   "cell_type": "code",
   "execution_count": 61,
   "id": "0dd8c5ac",
   "metadata": {},
   "outputs": [],
   "source": [
    "import os\n",
    "from dotenv import load_dotenv\n",
    "\n",
    "PINECONE_API_KEY = os.getenv(\"PINECONE_API_KEY\")\n",
    "OPENAI_API_KEY = os.getenv(\"OPENAI_API_KEY\")\n",
    "\n",
    "load_dotenv()\n",
    "# This is needed to enable LangSmith logging/tracing for chains, prompts, and LLM calls.\n",
    "os.environ['LANGCHAIN_API_KEY'] = os.getenv('LANGCHAIN_API_KEY')\n",
    "\n",
    "# Setting this to 'true' will start recording all your chain/agent/LLM activity for debugging and evaluation.\n",
    "os.environ['LANGCHAIN_TRACING_V2'] = 'true'\n",
    "\n",
    "# This helps organize and filter traces inside the LangSmith dashboard based on this project.\n",
    "os.environ['Langchain_Project'] = os.getenv('LANGCHAIN_PROJECT')"
   ]
  },
  {
   "cell_type": "markdown",
   "id": "21fd88b0",
   "metadata": {},
   "source": [
    "### Utilize OenAi embeddings to convert text chunks into vectors"
   ]
  },
  {
   "cell_type": "code",
   "execution_count": 52,
   "id": "a057d909",
   "metadata": {},
   "outputs": [],
   "source": [
    "from langchain.embeddings import OpenAIEmbeddings\n",
    "embeddings = OpenAIEmbeddings(openai_api_key=OPENAI_API_KEY)"
   ]
  },
  {
   "cell_type": "markdown",
   "id": "cd9c1749",
   "metadata": {},
   "source": [
    "### Load and Split documents into Chunks"
   ]
  },
  {
   "cell_type": "code",
   "execution_count": null,
   "id": "e5dcae21",
   "metadata": {},
   "outputs": [
    {
     "data": {
      "text/plain": [
       "[Document(metadata={'producer': 'Adobe PDF Library 17.0', 'creator': 'Adobe InDesign 19.3 (Windows)', 'creationdate': '2024-05-29T12:25:28+05:30', 'moddate': '2024-06-03T16:37:45+05:30', 'title': '', 'trapped': '/False', 'source': 'rbi-annual-report-2023-2024.pdf', 'total_pages': 310, 'page': 1, 'page_label': '2'}, page_content='Report of the Central Board of Directors on the working of the Reserve Bank of India\\nfor the year ended March 31, 2024 submitted to the Central Government in terms of  \\nSection 53(2) of the Reserve Bank of India Act, 1934\\nRESERVE BANK OF INDIA ANNUAL REPORT\\n2023-24'),\n",
       " Document(metadata={'producer': 'Adobe PDF Library 17.0', 'creator': 'Adobe InDesign 19.3 (Windows)', 'creationdate': '2024-05-29T12:25:28+05:30', 'moddate': '2024-06-03T16:37:45+05:30', 'title': '', 'trapped': '/False', 'source': 'rbi-annual-report-2023-2024.pdf', 'total_pages': 310, 'page': 5, 'page_label': '6'}, page_content='GOVERNOR\\nShaktikanta Das\\nDEPUTY GOVERNORS\\nMichael Debabrata Patra\\nM. Rajeshwar Rao\\nT. Rabi Sankar\\nSwaminathan J.\\nDIRECTORS NOMINATED UNDER \\nSECTION 8 (1) (b) OF THE RBI ACT, 1934\\nRevathy Iyer\\nSachin Chaturvedi\\nDIRECTORS NOMINATED UNDER \\nSECTION 8 (1) (c) OF THE RBI ACT, 1934\\nSatish Kashinath Marathe \\nSwaminathan Gurumurthy\\nAnand Gopal Mahindra\\nVenu Srinivasan\\nPankaj Ramanbhai Patel\\nRavindra H. Dholakia\\nDIRECTORS NOMINATED UNDER \\nSECTION 8 (1) (d) OF THE RBI ACT, 1934\\nAjay Seth \\nVivek Joshi  \\nMEMBERS OF LOCAL BOARDS\\n \\nWESTERN AREA\\nEASTERN AREA\\nSachin Chaturvedi\\n \\nNORTHERN AREA\\nRevathy Iyer\\n \\nSOUTHERN AREA\\n(Position as on May 27, 2024)\\nCENTRAL BOARD / LOCAL BOARDS'),\n",
       " Document(metadata={'producer': 'Adobe PDF Library 17.0', 'creator': 'Adobe InDesign 19.3 (Windows)', 'creationdate': '2024-05-29T12:25:28+05:30', 'moddate': '2024-06-03T16:37:45+05:30', 'title': '', 'trapped': '/False', 'source': 'rbi-annual-report-2023-2024.pdf', 'total_pages': 310, 'page': 6, 'page_label': '7'}, page_content='PRINCIPAL OFFICERS\\nEXECUTIVE DIRECTORS   .......................................................................\\n  .......................................................................\\n  .......................................................................\\n  .......................................................................\\n  .......................................................................\\n  .......................................................................\\n  .......................................................................\\n  .......................................................................\\n  .......................................................................\\n  .......................................................................\\n  .......................................................................\\n  .......................................................................\\n  .......................................................................'),\n",
       " Document(metadata={'producer': 'Adobe PDF Library 17.0', 'creator': 'Adobe InDesign 19.3 (Windows)', 'creationdate': '2024-05-29T12:25:28+05:30', 'moddate': '2024-06-03T16:37:45+05:30', 'title': '', 'trapped': '/False', 'source': 'rbi-annual-report-2023-2024.pdf', 'total_pages': 310, 'page': 6, 'page_label': '7'}, page_content='.......................................................................\\n  .......................................................................\\n  .......................................................................\\n  .......................................................................\\n  .......................................................................\\nS. C. Murmu\\nO. P. Mall\\nSaurav Sinha\\nVivek Deep\\nJayant Kumar Dash\\nR. Subramanian\\nRohit Jain\\nRadha Shyam Ratho \\nAjay Kumar\\nRajiv Ranjan\\nNeeraj Nigam\\nP. Vasudevan\\nMuneesh Kapur\\nManoranjan Mishra\\nR. Lakshmi Kanth Rao\\nSudha Balakrishnan (Chief Financial Officer)\\nCENTRAL OFFICE\\nCentral Vigilance Cell ................................................................................\\nConsumer Education and Protection Department .....................................\\nCorporate Strategy and Budget Department .............................................'),\n",
       " Document(metadata={'producer': 'Adobe PDF Library 17.0', 'creator': 'Adobe InDesign 19.3 (Windows)', 'creationdate': '2024-05-29T12:25:28+05:30', 'moddate': '2024-06-03T16:37:45+05:30', 'title': '', 'trapped': '/False', 'source': 'rbi-annual-report-2023-2024.pdf', 'total_pages': 310, 'page': 6, 'page_label': '7'}, page_content='Consumer Education and Protection Department .....................................\\nCorporate Strategy and Budget Department .............................................\\nDepartment of Regulation..........................................................................\\nDepartment of Supervision ........................................................................\\nDepartment of Communication ..................................................................\\nDepartment of Currency Management ......................................................\\nDepartment of Economic and Policy Research .........................................  \\nDepartment of External Investments and Operations................................\\nDepartment of Government and Bank Accounts .......................................\\nDepartment of Information Technology ......................................................\\nDepartment of Payment and Settlement Systems.....................................')]"
      ]
     },
     "execution_count": 53,
     "metadata": {},
     "output_type": "execute_result"
    }
   ],
   "source": [
    "from langchain.document_loaders import PyPDFLoader\n",
    "from langchain.text_splitter import RecursiveCharacterTextSplitter\n",
    "\n",
    "loader = PyPDFLoader('rbi-annual-report-2023-2024.pdf')\n",
    "documents = loader.load()\n",
    "\n",
    "text_splitter = RecursiveCharacterTextSplitter(\n",
    "    chunk_size= 1000,\n",
    "    chunk_overlap= 200,\n",
    "    separators=[\"\\n\\n\", \"\\n\", \".\", \" \", \"\"]\n",
    ")\n",
    "\n",
    "docs = text_splitter.split_documents(documents)\n",
    "docs[:5]"
   ]
  },
  {
   "cell_type": "markdown",
   "id": "0cdb4a4d",
   "metadata": {},
   "source": [
    "### Initialize PineCone with Hybrid Search"
   ]
  },
  {
   "cell_type": "code",
   "execution_count": 54,
   "id": "685ebcae",
   "metadata": {},
   "outputs": [
    {
     "name": "stdout",
     "output_type": "stream",
     "text": [
      "Current indexes in Pinecone Db : ['langchain-hybrid-search-with-pinecone', 'banking-hybrid-search-with-pinecone', 'langchain-hybrid-search-pinecone']\n",
      "Index `banking-hybrid-search-with-pinecone` already exist.\n"
     ]
    }
   ],
   "source": [
    "from langchain_community.retrievers import PineconeHybridSearchRetriever\n",
    "from pinecone import ServerlessSpec, Pinecone\n",
    "\n",
    "#Initialize Pinecone client using Pinecone Api key\n",
    "pc = Pinecone(api_key=PINECONE_API_KEY)\n",
    "existing_indexes = pc.list_indexes()\n",
    "\n",
    "print(\"Current indexes in Pinecone Db :\", pc.list_indexes().names() )\n",
    "\n",
    "index_name = \"banking-hybrid-search-with-pinecone\"\n",
    "\n",
    "try:\n",
    "    if index_name not in pc.list_indexes().names():\n",
    "        pc.create_index(\n",
    "            index_name,\n",
    "            dimension=1536,\n",
    "            metric=\"dotproduct\",\n",
    "            spec=ServerlessSpec(cloud=\"aws\", region=\"us-east-1\")\n",
    "        )\n",
    "        print(f\"Index '{index_name}' created successfully.\")\n",
    "    else:\n",
    "        print(f\"Index `{index_name}` already exist.\")        \n",
    "except Exception as e:\n",
    "    print(f\"Error Creating index '{index_name}: {e}\")\n"
   ]
  },
  {
   "cell_type": "markdown",
   "id": "be911789",
   "metadata": {},
   "source": [
    "### Fit BM25 Encoder for Sparse Retrieval"
   ]
  },
  {
   "cell_type": "code",
   "execution_count": 55,
   "id": "b67eadc6",
   "metadata": {},
   "outputs": [
    {
     "data": {
      "application/vnd.jupyter.widget-view+json": {
       "model_id": "d1d1f5a57f1e4c82a88e189def69afe9",
       "version_major": 2,
       "version_minor": 0
      },
      "text/plain": [
       "  0%|          | 0/1183 [00:00<?, ?it/s]"
      ]
     },
     "metadata": {},
     "output_type": "display_data"
    },
    {
     "data": {
      "text/plain": [
       "<pinecone_text.sparse.bm25_encoder.BM25Encoder at 0x2481f102b40>"
      ]
     },
     "execution_count": 55,
     "metadata": {},
     "output_type": "execute_result"
    }
   ],
   "source": [
    "from pinecone_text.sparse import BM25Encoder\n",
    "\n",
    "bm25_encoder = BM25Encoder.default()\n",
    "sentences = [doc.page_content for doc in docs]\n",
    "bm25_encoder.fit(sentences)"
   ]
  },
  {
   "cell_type": "markdown",
   "id": "d81ebddd",
   "metadata": {},
   "source": [
    "### Create Hybrid Retriever : Combine Dense and sparse retrievers from PineConeHybridSearchRetriever"
   ]
  },
  {
   "cell_type": "code",
   "execution_count": 56,
   "id": "d1d91b30",
   "metadata": {},
   "outputs": [
    {
     "data": {
      "application/vnd.jupyter.widget-view+json": {
       "model_id": "20a52e3314e140acbb39b18852628004",
       "version_major": 2,
       "version_minor": 0
      },
      "text/plain": [
       "  0%|          | 0/37 [00:00<?, ?it/s]"
      ]
     },
     "metadata": {},
     "output_type": "display_data"
    }
   ],
   "source": [
    "index = pc.Index(index_name)\n",
    "retriever = PineconeHybridSearchRetriever(\n",
    "    index=index,\n",
    "    embeddings=embeddings,\n",
    "    sparse_encoder=bm25_encoder,\n",
    "    top_k=4,\n",
    "    alpha=0.5\n",
    ")\n",
    "\n",
    "retriever.add_texts(texts=sentences)"
   ]
  },
  {
   "cell_type": "markdown",
   "id": "cfaecf45",
   "metadata": {},
   "source": [
    "### Prompt Engineering with Chain of thought, to guide the model through a reasoning process"
   ]
  },
  {
   "cell_type": "code",
   "execution_count": 57,
   "id": "8db10522",
   "metadata": {},
   "outputs": [],
   "source": [
    "from langchain.chat_models import ChatOpenAI\n",
    "llm = ChatOpenAI(temperature=0, model_name=\"gpt-3.5-turbo\")"
   ]
  },
  {
   "cell_type": "code",
   "execution_count": 79,
   "id": "4ae370a4",
   "metadata": {},
   "outputs": [],
   "source": [
    "from langchain_core.prompts import ChatPromptTemplate, MessagesPlaceholder\n",
    "from langchain_core.runnables.history import RunnableWithMessageHistory\n",
    "from langchain_community.chat_message_histories import ChatMessageHistory\n",
    "from langchain_core.output_parsers import StrOutputParser\n",
    "\n",
    "# template with memory placeholder\n",
    "chat_prompt = ChatPromptTemplate.from_messages([\n",
    "    (\"system\", \"\"\"You are an RBI expert assistant. \n",
    "     - Do NOT answer anything outside the RBI Annual Report 2023-24.\n",
    "     - If information is missing or ambiguous, respond with 'The report does not specify this'.\n",
    "     - If any important information explain them in the list.\n",
    "     - Explain in not more than 500 words.\n",
    "     \"\"\"),\n",
    "    MessagesPlaceholder(variable_name=\"chat_history\"),\n",
    "    (\"user\", \"{input}\")\n",
    "])\n",
    "\n",
    "parser = StrOutputParser()\n",
    "\n",
    "# wrap your llm with prompt\n",
    "chain = chat_prompt | llm | parser"
   ]
  },
  {
   "cell_type": "code",
   "execution_count": 64,
   "id": "76eb77c5",
   "metadata": {},
   "outputs": [
    {
     "name": "stdout",
     "output_type": "stream",
     "text": [
      "bar\n"
     ]
    }
   ],
   "source": [
    "import redis\n",
    "REDIS_URL = os.getenv('REDIS_HOST')\n",
    "# Create a Redis client from the URL\n",
    "r = redis.Redis.from_url(REDIS_URL, decode_responses=True)\n",
    "try:\n",
    "    # Test the connection\n",
    "    r.set('foo', 'bar')\n",
    "    print(r.get('foo'))  # Expected output: 'bar'\n",
    "except Exception as e:\n",
    "    print(\"Redis connection failed:\", e)"
   ]
  },
  {
   "cell_type": "code",
   "execution_count": 80,
   "id": "f169d3d1",
   "metadata": {},
   "outputs": [],
   "source": [
    "from langchain_community.chat_message_histories import RedisChatMessageHistory\n",
    "\n",
    "# function provides Redis-based history based on session_id\n",
    "def get_redis_history(session_id: str):\n",
    "    return RedisChatMessageHistory(\n",
    "        session_id=session_id,\n",
    "        url=REDIS_URL\n",
    "    )"
   ]
  },
  {
   "cell_type": "code",
   "execution_count": 81,
   "id": "647c338c",
   "metadata": {},
   "outputs": [],
   "source": [
    "runnable = RunnableWithMessageHistory(\n",
    "    chain,\n",
    "    get_redis_history,\n",
    "    input_message_key=\"input\",\n",
    "    history_messages_key=\"chat_history\"\n",
    ")"
   ]
  },
  {
   "cell_type": "code",
   "execution_count": 86,
   "id": "83aacbba",
   "metadata": {},
   "outputs": [],
   "source": [
    "def get_chat_response(user_input: str, session_id: str) -> str:\n",
    "    \"\"\"\n",
    "    Invokes Langchain runnables with message history with user input and session id\n",
    "    \n",
    "    Args:\n",
    "        user_input(str): The user's query or message\n",
    "        session_id(str): Unique session identifier for tracking conversation history\n",
    "    \n",
    "    Returns:\n",
    "        str: LLM-generated response\n",
    "    \"\"\"\n",
    "    try:\n",
    "        response = runnable.invoke(\n",
    "            {\"input\": user_input},\n",
    "            config={\"configurable\": {\"session_id\": session_id}}\n",
    "        )\n",
    "        return response\n",
    "    except Exception as e:\n",
    "        return f\"An error occured {str(e)}\""
   ]
  },
  {
   "cell_type": "code",
   "execution_count": 87,
   "id": "d4f3deaa",
   "metadata": {},
   "outputs": [
    {
     "name": "stdout",
     "output_type": "stream",
     "text": [
      "The Reserve Bank of India (RBI) formulates and implements monetary policy in India to achieve the dual objectives of maintaining price stability and promoting economic growth. The RBI's monetary policy framework is guided by the Reserve Bank of India Act, 1934, and is implemented through various tools and mechanisms.\n",
      "\n",
      "Key aspects of RBI's monetary policy include:\n",
      "\n",
      "1. **Monetary Policy Committee (MPC)**: The MPC is responsible for determining the policy interest rate, which is the repo rate. The MPC comprises six members, with three members nominated by the Government of India and three members from the RBI, including the Governor. The MPC meets periodically to review economic and financial indicators and decide on the appropriate stance of monetary policy.\n",
      "\n",
      "2. **Repo Rate**: The repo rate is the rate at which the RBI lends money to commercial banks against government securities. Changes in the repo rate influence borrowing costs for banks, which, in turn, affect interest rates in the economy. The repo rate is a key tool used by the RBI to manage liquidity and credit conditions in the economy.\n",
      "\n",
      "3. **Reverse Repo Rate**: The reverse repo rate is the rate at which the RBI borrows money from commercial banks. It acts as a tool for absorbing excess liquidity from the banking system.\n",
      "\n",
      "4. **Cash Reserve Ratio (CRR)**: The CRR is the percentage of deposits that banks are required to maintain with the RBI in cash. By adjusting the CRR, the RBI can control the liquidity available to banks for lending.\n",
      "\n",
      "5. **Statutory Liquidity Ratio (SLR)**: The SLR is the percentage of deposits that banks are required to invest in specified securities. Changes in the SLR impact the liquidity position of banks and their ability to lend.\n",
      "\n",
      "6. **Open Market Operations (OMO)**: OMOs involve buying and selling of government securities by the RBI to manage liquidity in the banking system. OMOs are used to inject or absorb liquidity from the system as needed.\n",
      "\n",
      "Overall, RBI's monetary policy plays a crucial role in influencing interest rates, inflation, and economic growth in India. By using a combination of policy tools and mechanisms, the RBI aims to achieve its objectives of price stability and sustainable economic growth in the country.\n"
     ]
    }
   ],
   "source": [
    "response = get_chat_response(\"Tell me about RBI's monetary policy\", \"user_123\")\n",
    "print(response)"
   ]
  },
  {
   "cell_type": "code",
   "execution_count": 88,
   "id": "771462a2",
   "metadata": {},
   "outputs": [
    {
     "name": "stdout",
     "output_type": "stream",
     "text": [
      "The repo rate, short for repurchase rate, is the rate at which the Reserve Bank of India (RBI) lends money to commercial banks against government securities. When banks need to borrow funds from the RBI to meet their short-term liquidity needs, they can do so by providing government securities as collateral. The repo rate acts as a benchmark for short-term interest rates in the economy.\n",
      "\n",
      "Changes in the repo rate have a direct impact on the cost of borrowing for banks. When the RBI lowers the repo rate, borrowing becomes cheaper for banks, leading to lower interest rates in the economy. This, in turn, can stimulate borrowing and investment, boosting economic activity. Conversely, when the RBI raises the repo rate, borrowing becomes more expensive, leading to higher interest rates and potentially slowing down economic growth to control inflation.\n",
      "\n",
      "The repo rate is a key tool used by the RBI to implement monetary policy and achieve its objectives of price stability and economic growth. The Monetary Policy Committee (MPC) reviews economic and financial conditions periodically to determine the appropriate level of the repo rate based on inflation and growth prospects in the economy.\n"
     ]
    }
   ],
   "source": [
    "response = get_chat_response(\"What is repo rate\", \"user_123\")\n",
    "print(response)"
   ]
  },
  {
   "cell_type": "code",
   "execution_count": 89,
   "id": "77057939",
   "metadata": {},
   "outputs": [
    {
     "name": "stdout",
     "output_type": "stream",
     "text": [
      "The repo rate is a crucial tool in the Reserve Bank of India's (RBI) monetary policy toolkit, influencing the cost of borrowing and lending in the economy. Here are some additional insights on the repo rate and its significance:\n",
      "\n",
      "1. **Transmission Mechanism**: The repo rate serves as a signal for the overall interest rate environment in the economy. Changes in the repo rate by the RBI impact the cost of funds for banks, which, in turn, affects the interest rates they charge on loans and deposits. Lowering the repo rate encourages banks to borrow more from the RBI at cheaper rates, leading to lower lending rates in the economy. This can stimulate borrowing for investments, consumption, and overall economic activity.\n",
      "\n",
      "2. **Inflation Management**: The repo rate plays a crucial role in the RBI's inflation targeting framework. By adjusting the repo rate, the RBI aims to manage inflation within the target range. If inflation is rising above the target, the RBI may increase the repo rate to reduce demand and control prices. Conversely, if inflation is below the target, the RBI may lower the repo rate to stimulate economic activity and boost inflation.\n",
      "\n",
      "3. **Liquidity Management**: The repo rate also helps in managing liquidity in the banking system. By adjusting the repo rate, the RBI can influence the availability of funds in the market. Lowering the repo rate injects liquidity into the system, making funds more accessible for banks and businesses. Conversely, raising the repo rate absorbs liquidity, tightening the availability of funds.\n",
      "\n",
      "4. **Monetary Policy Committee (MPC) Decision**: The decision on the repo rate is taken by the MPC, which consists of members from the RBI and external experts. The MPC meets at regular intervals to assess economic conditions, inflation trends, and growth prospects before deciding on the appropriate level of the repo rate. This committee-based approach ensures a systematic and transparent decision-making process in setting the monetary policy stance.\n",
      "\n",
      "5. **Impact on Borrowers and Savers**: Changes in the repo rate have a direct impact on borrowers and savers. Lower repo rates lead to reduced borrowing costs for individuals and businesses, making loans more affordable. On the other hand, savers may see lower returns on their deposits when interest rates decline due to a cut in the repo rate.\n",
      "\n",
      "In conclusion, the repo rate is a powerful tool used by the RBI to regulate liquidity, manage inflation, and support economic growth. By adjusting the repo rate strategically, the RBI aims to achieve its objectives of price stability and sustainable economic development in India.\n"
     ]
    }
   ],
   "source": [
    "response = get_chat_response(\"Explain more on this\", \"user_123\")\n",
    "print(response)"
   ]
  },
  {
   "cell_type": "code",
   "execution_count": 90,
   "id": "fd1e81e5",
   "metadata": {},
   "outputs": [
    {
     "name": "stdout",
     "output_type": "stream",
     "text": [
      "The RBI Annual Report 2023-24 does not specify the exact procedures or mechanisms in place for handling a situation where a bank goes bankrupt. However, in general terms, when a bank faces insolvency or bankruptcy, there are established procedures and regulatory frameworks in place to address such situations. Here are some key points to consider:\n",
      "\n",
      "1. **Resolution Mechanisms**: In India, the Insolvency and Bankruptcy Code (IBC) provides a framework for the resolution of insolvency and bankruptcy cases, including those involving financial institutions such as banks. The IBC outlines procedures for the initiation of insolvency proceedings, appointment of resolution professionals, and the formulation of resolution plans to address the financial distress of a bank.\n",
      "\n",
      "2. **Regulatory Oversight**: The RBI plays a crucial role in overseeing the banking sector and ensuring financial stability. In the event of a bank facing financial difficulties, the RBI may intervene through various measures such as capital infusion, restructuring, or even initiating the process of resolution or liquidation as per the regulatory framework.\n",
      "\n",
      "3. **Deposit Insurance**: The Deposit Insurance and Credit Guarantee Corporation (DICGC) provides insurance coverage to depositors in case a bank is unable to repay its deposits due to insolvency or bankruptcy. The DICGC insures each depositor's deposits up to a certain limit, currently set at Rs. 5 lakh per depositor per bank.\n",
      "\n",
      "4. **Resolution Process**: Depending on the severity of the situation, the resolution process for a bankrupt bank may involve restructuring its operations, merging with another bank, or even liquidation. The objective is to protect depositors' interests, maintain financial stability, and ensure the orderly functioning of the banking system.\n",
      "\n",
      "5. **Role of Regulators**: The RBI, along with other regulatory authorities, works to ensure that the resolution process is conducted in a transparent and efficient manner. Regulatory oversight is essential to safeguard the interests of depositors, maintain market confidence, and uphold the integrity of the financial system.\n",
      "\n",
      "In summary, when a bank faces insolvency or bankruptcy, there are established mechanisms and regulatory frameworks in place to address the situation. The resolution process aims to protect depositors' interests, maintain financial stability, and ensure the orderly functioning of the banking sector.\n"
     ]
    }
   ],
   "source": [
    "response = get_chat_response(\"What happens when bank gets bankrupt\", \"user_123\")\n",
    "print(response)"
   ]
  },
  {
   "cell_type": "code",
   "execution_count": 91,
   "id": "0f1ace02",
   "metadata": {},
   "outputs": [
    {
     "name": "stdout",
     "output_type": "stream",
     "text": [
      "The RBI Annual Report 2023-24 does not specifically mention or discuss Large Language Models (LLMs). Therefore, I do not have information on Large Language Models from the RBI Annual Report. If you have any other questions related to the RBI or its operations, please feel free to ask.\n"
     ]
    }
   ],
   "source": [
    "response = get_chat_response(\"What is Large Language Model\", \"user_123\")\n",
    "print(response)"
   ]
  },
  {
   "cell_type": "code",
   "execution_count": 92,
   "id": "35d7fd46",
   "metadata": {},
   "outputs": [
    {
     "name": "stdout",
     "output_type": "stream",
     "text": [
      "The RBI Annual Report 2023-24 provides information on Foreign Direct Investment (FDI) flows to India. However, the specific details regarding FDI flows to India in the report are not available. For detailed and up-to-date information on FDI flows to India, you may refer to the latest data and reports published by the Ministry of Commerce and Industry, Department for Promotion of Industry and Internal Trade (DPIIT), or other relevant government sources.\n"
     ]
    }
   ],
   "source": [
    "response = get_chat_response(\"What are FOREIGN DIRECT INVESTMENT FLOWS TO INDIA\", \"user_123\")\n",
    "print(response)"
   ]
  },
  {
   "cell_type": "code",
   "execution_count": 93,
   "id": "a0870d6b",
   "metadata": {},
   "outputs": [
    {
     "name": "stdout",
     "output_type": "stream",
     "text": [
      "The RBI Annual Report 2023-24 does not provide specific details about Appendix Table 9. Without the exact content or context of Appendix Table 9 from the report, I am unable to provide a detailed explanation. If you can provide the specific data or information included in Appendix Table 9, I would be happy to help analyze and explain it further. Alternatively, you may refer to the RBI Annual Report itself to access the details and context of Appendix Table 9 for a comprehensive understanding.\n"
     ]
    }
   ],
   "source": [
    "response = get_chat_response(\"Explain APPENDIX TABLE 9:\", \"user_123\")\n",
    "print(response)"
   ]
  }
 ],
 "metadata": {
  "kernelspec": {
   "display_name": "huggingface",
   "language": "python",
   "name": "python3"
  },
  "language_info": {
   "codemirror_mode": {
    "name": "ipython",
    "version": 3
   },
   "file_extension": ".py",
   "mimetype": "text/x-python",
   "name": "python",
   "nbconvert_exporter": "python",
   "pygments_lexer": "ipython3",
   "version": "3.12.3"
  }
 },
 "nbformat": 4,
 "nbformat_minor": 5
}
