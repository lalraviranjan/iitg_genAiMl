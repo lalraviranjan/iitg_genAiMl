{
 "cells": [
  {
   "cell_type": "code",
   "execution_count": 15,
   "id": "89dfedaf",
   "metadata": {},
   "outputs": [],
   "source": [
    "import os\n",
    "from dotenv import load_dotenv\n",
    "load_dotenv()\n",
    "\n",
    "PINECONE_API_KEY = os.getenv(\"PINECONE_API_KEY\")\n",
    "OPENAI_API_KEY = os.getenv(\"OPENAI_API_KEY\")\n",
    "\n",
    "# This is needed to enable LangSmith logging/tracing for chains, prompts, and LLM calls.\n",
    "os.environ['LANGCHAIN_API_KEY'] = os.getenv('LANGCHAIN_API_KEY')\n",
    "\n",
    "# Setting this to 'true' will start recording all your chain/agent/LLM activity for debugging and evaluation.\n",
    "os.environ['LANGCHAIN_TRACING_V2'] = 'true'\n",
    "\n",
    "# This helps organize and filter traces inside the LangSmith dashboard based on this project.\n",
    "os.environ['Langchain_Project'] = os.getenv('LANGCHAIN_PROJECT')"
   ]
  },
  {
   "cell_type": "code",
   "execution_count": null,
   "id": "eef813ec",
   "metadata": {},
   "outputs": [],
   "source": [
    "# Import the Pinecone hybrid retriever from LangChain community integrations\n",
    "from langchain_community.retrievers import PineconeHybridSearchRetriever\n",
    "# Import Pinecone client and serverless deployment specification\n",
    "from pinecone import Pinecone, ServerlessSpec\n",
    "\n",
    "# Initialize the Pinecone client using the provided API key\n",
    "# We are doing this so we can create and interact with Pinecone indexes\n",
    "pc = Pinecone(api_key=PINECONE_API_KEY)\n",
    "\n",
    "# List all existing indexes in the Pinecone project\n",
    "# This helps us check whether our target index already exists or not\n",
    "existing_indexes = pc.list_indexes()\n",
    "\n",
    "# Define the name of the index we want to create/use for hybrid search\n",
    "index_name = \"langchain-hybrid-search-with-pinecone\"\n",
    "\n",
    "# Create the index only if it doesn't already exist\n",
    "# We are doing this to avoid overwriting an existing index and ensure idempotency\n",
    "if index_name not in pc.list_indexes().names():\n",
    "    pc.create_index(\n",
    "        index_name,\n",
    "        dimension=1536, # dimension of the dense vector embeddings\n",
    "        metric=\"dotproduct\",  # Dot product is used because it supports sparse + dense hybrid scoring\n",
    "        spec=ServerlessSpec(cloud=\"aws\", region=\"us-east-1\"), # Specifies the serverless deployment region and cloud provider\n",
    "    )    "
   ]
  },
  {
   "cell_type": "code",
   "execution_count": 17,
   "id": "ba16a524",
   "metadata": {},
   "outputs": [],
   "source": [
    "# vector embedding\n",
    "from langchain.embeddings import OpenAIEmbeddings\n",
    "embeddings = OpenAIEmbeddings(openai_api_key=OPENAI_API_KEY)"
   ]
  },
  {
   "cell_type": "code",
   "execution_count": null,
   "id": "b40833ad",
   "metadata": {},
   "outputs": [
    {
     "data": {
      "text/plain": [
       "<pinecone_text.sparse.bm25_encoder.BM25Encoder at 0x268bfadeae0>"
      ]
     },
     "execution_count": 18,
     "metadata": {},
     "output_type": "execute_result"
    }
   ],
   "source": [
    "# Import BM25Encoder from Pinecone's text module\n",
    "# We are using BM25 to generate sparse vector embeddings for keyword-based search\n",
    "from pinecone_text.sparse import BM25Encoder\n",
    "\n",
    "# Initialize the BM25 encoder using default parameters\n",
    "# This encoder helps us convert text into sparse vectors based on keyword importance\n",
    "bm25_encoder = BM25Encoder().default()\n",
    "bm25_encoder"
   ]
  },
  {
   "cell_type": "code",
   "execution_count": 26,
   "id": "97dc1f73",
   "metadata": {},
   "outputs": [],
   "source": [
    "from langchain_community.document_loaders import PyPDFLoader\n",
    "from langchain.text_splitter import RecursiveCharacterTextSplitter"
   ]
  },
  {
   "cell_type": "code",
   "execution_count": null,
   "id": "c171783b",
   "metadata": {},
   "outputs": [
    {
     "data": {
      "text/plain": [
       "[Document(metadata={'producer': 'Microsoft® Word 2021', 'creator': 'Microsoft® Word 2021', 'creationdate': '2025-02-01T03:54:26+05:30', 'author': 'hss', 'moddate': '2025-02-01T03:56:01+05:30', 'title': '', 'source': 'indian_budget_speech_2025.pdf', 'total_pages': 60, 'page': 0, 'page_label': '1'}, page_content='GOVERNMENT OF INDIA\\nBUDGET 2025-2026\\nSPEECH\\nOF\\nNIRMALA SITHARAMAN\\nMINISTER OF FINANCE\\nFebruary 1,  2025'),\n",
       " Document(metadata={'producer': 'Microsoft® Word 2021', 'creator': 'Microsoft® Word 2021', 'creationdate': '2025-02-01T03:54:26+05:30', 'author': 'hss', 'moddate': '2025-02-01T03:56:01+05:30', 'title': '', 'source': 'indian_budget_speech_2025.pdf', 'total_pages': 60, 'page': 2, 'page_label': '3'}, page_content='CONTENTS \\n \\nPART – A \\n Page No. \\nIntroduction 1 \\nBudget Theme 1 \\nAgriculture as the 1st engine 3 \\nMSMEs as the 2nd engine 6 \\nInvestment as the 3rd engine 8 \\nA. Investing in People 8 \\nB. Investing in the Economy 10 \\nC. Investing in Innovation 14 \\nExports as the 4th engine 15 \\nReforms as the Fuel 16 \\nFiscal Policy 18 \\n \\n \\nPART – B \\nIndirect taxes 20 \\nDirect Taxes  23 \\n \\nAnnexure to Part-A 29 \\nAnnexure to Part-B 31'),\n",
       " Document(metadata={'producer': 'Microsoft® Word 2021', 'creator': 'Microsoft® Word 2021', 'creationdate': '2025-02-01T03:54:26+05:30', 'author': 'hss', 'moddate': '2025-02-01T03:56:01+05:30', 'title': '', 'source': 'indian_budget_speech_2025.pdf', 'total_pages': 60, 'page': 4, 'page_label': '5'}, page_content='Budget 2025-2026 \\n \\nSpeech of \\nNirmala Sitharaman \\nMinister of Finance \\nFebruary 1, 2025 \\nHon’ble Speaker,  \\n I present the Budget for 2025-26. \\nIntroduction \\n1. This Budget continues our Government’s efforts to: \\na) accelerate growth,  \\nb) secure inclusive development,  \\nc) invigorate private sector investments,  \\nd) uplift household sentiments, and \\ne) enhance spending power of India’s rising middle class.  \\n2. Together, we embark on a journey to unlock our nation’s tremendous \\npotential for greater prosperity and global positioning under the leadership of \\nHon’ble Prime Minister Shri Narendra Modi. \\n3. As we complete the first quarter of the 21 st century, continuing \\ngeopolitical headwinds suggest lower  global economic growth over the \\nmedium term. However, our aspiration for a Viksit Bharat inspires us, and the \\ntransformative work we have done during our Government’s first two terms \\nguides us, to march forward resolutely.  \\nBudget Theme'),\n",
       " Document(metadata={'producer': 'Microsoft® Word 2021', 'creator': 'Microsoft® Word 2021', 'creationdate': '2025-02-01T03:54:26+05:30', 'author': 'hss', 'moddate': '2025-02-01T03:56:01+05:30', 'title': '', 'source': 'indian_budget_speech_2025.pdf', 'total_pages': 60, 'page': 4, 'page_label': '5'}, page_content='guides us, to march forward resolutely.  \\nBudget Theme \\n4. Our economy is the fastest-growing among all major global economies. \\nOur development track record of the past 10 years and structural reforms have \\ndrawn global attention. Confidence in India’s capability and potential has only'),\n",
       " Document(metadata={'producer': 'Microsoft® Word 2021', 'creator': 'Microsoft® Word 2021', 'creationdate': '2025-02-01T03:54:26+05:30', 'author': 'hss', 'moddate': '2025-02-01T03:56:01+05:30', 'title': '', 'source': 'indian_budget_speech_2025.pdf', 'total_pages': 60, 'page': 5, 'page_label': '6'}, page_content='2  \\n \\ngrown in this period. We see the next five years as a unique opportunity to \\nrealize ‘Sabka Vikas’, stimulating balanced growth of all regions. \\n5. The great Telugu poet and playwright Gurajada Appa Rao had said, \\n‘Desamante Matti Kaadoi, Desamante Manushuloi’; meaning, ‘A country is not \\njust its soil, a country is its people.’ In line with this, for us, Viksit Bharat, \\nencompasses: \\na) zero-poverty; \\nb) hundred per cent good quality school education;   \\nc) access to high-quality, affordable, and comprehensive healthcare; \\nd) hundred per cent skilled labour with meaningful employment; \\ne) seventy per cent women in economic activities; and \\nf) farmers making our country the ‘food basket of the world’.  \\n6. In this Budget, the proposed development measures span ten broad \\nareas focusing on Garib, Youth, Annadata and Nari. \\n1) Spurring Agricultural Growth and Productivity; \\n2) Building Rural Prosperity and Resilience;  \\n3) Taking Everyone Together on an Inclusive Growth path;')]"
      ]
     },
     "execution_count": 29,
     "metadata": {},
     "output_type": "execute_result"
    }
   ],
   "source": [
    "# Load the PDF document using PyPDFLoader\n",
    "# This will help us extract raw text from the given PDF file\n",
    "loader = PyPDFLoader(\"indian_budget_speech_2025.pdf\")\n",
    "document = loader.load()\n",
    "\n",
    "# This is used to split large documents into smaller chunks to fit within model token limits\n",
    "text_splitter = RecursiveCharacterTextSplitter(\n",
    "    chunk_size=1000,\n",
    "    chunk_overlap=100\n",
    ")\n",
    "\n",
    "# This will return a list of smaller document chunks, suitable for embedding\n",
    "docs = text_splitter.split_documents(document)\n",
    "docs[:5]"
   ]
  },
  {
   "cell_type": "markdown",
   "id": "c80dbd67",
   "metadata": {},
   "source": [
    "BM25Encoder works with tokenized text, not with metadata or structured Document objects.\n",
    "\n",
    "docs is a list of Document objects with attributes like .page_content, .metadata.\n",
    "\n",
    "So you need to extract just the .page_content."
   ]
  },
  {
   "cell_type": "code",
   "execution_count": null,
   "id": "e97ee576",
   "metadata": {},
   "outputs": [
    {
     "data": {
      "text/plain": [
       "['GOVERNMENT OF INDIA\\nBUDGET 2025-2026\\nSPEECH\\nOF\\nNIRMALA SITHARAMAN\\nMINISTER OF FINANCE\\nFebruary 1,  2025',\n",
       " 'CONTENTS \\n \\nPART – A \\n Page No. \\nIntroduction 1 \\nBudget Theme 1 \\nAgriculture as the 1st engine 3 \\nMSMEs as the 2nd engine 6 \\nInvestment as the 3rd engine 8 \\nA. Investing in People 8 \\nB. Investing in the Economy 10 \\nC. Investing in Innovation 14 \\nExports as the 4th engine 15 \\nReforms as the Fuel 16 \\nFiscal Policy 18 \\n \\n \\nPART – B \\nIndirect taxes 20 \\nDirect Taxes  23 \\n \\nAnnexure to Part-A 29 \\nAnnexure to Part-B 31',\n",
       " 'Budget 2025-2026 \\n \\nSpeech of \\nNirmala Sitharaman \\nMinister of Finance \\nFebruary 1, 2025 \\nHon’ble Speaker,  \\n I present the Budget for 2025-26. \\nIntroduction \\n1. This Budget continues our Government’s efforts to: \\na) accelerate growth,  \\nb) secure inclusive development,  \\nc) invigorate private sector investments,  \\nd) uplift household sentiments, and \\ne) enhance spending power of India’s rising middle class.  \\n2. Together, we embark on a journey to unlock our nation’s tremendous \\npotential for greater prosperity and global positioning under the leadership of \\nHon’ble Prime Minister Shri Narendra Modi. \\n3. As we complete the first quarter of the 21 st century, continuing \\ngeopolitical headwinds suggest lower  global economic growth over the \\nmedium term. However, our aspiration for a Viksit Bharat inspires us, and the \\ntransformative work we have done during our Government’s first two terms \\nguides us, to march forward resolutely.  \\nBudget Theme',\n",
       " 'guides us, to march forward resolutely.  \\nBudget Theme \\n4. Our economy is the fastest-growing among all major global economies. \\nOur development track record of the past 10 years and structural reforms have \\ndrawn global attention. Confidence in India’s capability and potential has only',\n",
       " '2  \\n \\ngrown in this period. We see the next five years as a unique opportunity to \\nrealize ‘Sabka Vikas’, stimulating balanced growth of all regions. \\n5. The great Telugu poet and playwright Gurajada Appa Rao had said, \\n‘Desamante Matti Kaadoi, Desamante Manushuloi’; meaning, ‘A country is not \\njust its soil, a country is its people.’ In line with this, for us, Viksit Bharat, \\nencompasses: \\na) zero-poverty; \\nb) hundred per cent good quality school education;   \\nc) access to high-quality, affordable, and comprehensive healthcare; \\nd) hundred per cent skilled labour with meaningful employment; \\ne) seventy per cent women in economic activities; and \\nf) farmers making our country the ‘food basket of the world’.  \\n6. In this Budget, the proposed development measures span ten broad \\nareas focusing on Garib, Youth, Annadata and Nari. \\n1) Spurring Agricultural Growth and Productivity; \\n2) Building Rural Prosperity and Resilience;  \\n3) Taking Everyone Together on an Inclusive Growth path;']"
      ]
     },
     "execution_count": 31,
     "metadata": {},
     "output_type": "execute_result"
    }
   ],
   "source": [
    "# Extract the page content from each document chunk\n",
    "# This will create a list of sentences (or text chunks) from the document\n",
    "# We use 'doc.page_content' to retrieve the actual text content from each document chunk\n",
    "sentences = [doc.page_content for doc in docs]\n",
    "sentences[:5]"
   ]
  },
  {
   "cell_type": "code",
   "execution_count": null,
   "id": "31785ab7",
   "metadata": {},
   "outputs": [
    {
     "data": {
      "application/vnd.jupyter.widget-view+json": {
       "model_id": "46d8b7b8661e4beab7e9b8b2a448c181",
       "version_major": 2,
       "version_minor": 0
      },
      "text/plain": [
       "  0%|          | 0/134 [00:00<?, ?it/s]"
      ]
     },
     "metadata": {},
     "output_type": "display_data"
    }
   ],
   "source": [
    "# We are training a BM25 encoder using the text chunks from the PDF.\n",
    "# The encoder will learn the best way to rank and search these text chunks based on their relevance.\n",
    "\n",
    "# Fit the BM25 encoder with the sentences (text chunks)\n",
    "# This will learn the BM25 model from the provided sentences\n",
    "bm25_encoder.fit(sentences)\n",
    "\n",
    "# Dump the learned BM25 values to a JSON file for later use\n",
    "# This will save the learned BM25 model parameters to a file 'bm25_values.json'\n",
    "bm25_encoder.dump('bm25_values.json')\n",
    "\n",
    "# Load the previously saved BM25 encoder from the JSON file\n",
    "# This allows us to use the encoder without retraining it each time\n",
    "bm25_encoder = BM25Encoder().load('bm25_values.json')"
   ]
  },
  {
   "cell_type": "code",
   "execution_count": null,
   "id": "37747a9f",
   "metadata": {},
   "outputs": [
    {
     "data": {
      "application/vnd.jupyter.widget-view+json": {
       "model_id": "21dbd798482a46c38212656a23326cdc",
       "version_major": 2,
       "version_minor": 0
      },
      "text/plain": [
       "  0%|          | 0/5 [00:00<?, ?it/s]"
      ]
     },
     "metadata": {},
     "output_type": "display_data"
    }
   ],
   "source": [
    "# Initialize the Pinecone index using the previously created index name\n",
    "# This will allow us to interact with the Pinecone index (e.g., for querying or inserting vectors)\n",
    "index = pc.Index(index_name)\n",
    "\n",
    "# Create a retriever using Pinecone Hybrid Search with both dense (embedding) and sparse (BM25) search\n",
    "# The retriever combines the results from the dense and sparse encoders based on the specified alpha value\n",
    "# The top_k parameter controls how many results are returned from the search\n",
    "retriever = PineconeHybridSearchRetriever(\n",
    "    index=index,\n",
    "    embeddings=embeddings,\n",
    "    sparse_encoder=bm25_encoder,\n",
    "    top_k=4,  # Adjust as needed\n",
    "    alpha=0.5  # Adjust the weight between dense and sparse scores\n",
    ")\n",
    "\n",
    "# Add the text chunks (sentences) to the Pinecone index for retrieval\n",
    "# This step uploads the sentences (from the document) into the Pinecone index \n",
    "# so they can be searched using the hybrid search mechanism (dense + sparse).\n",
    "retriever.add_texts(texts=sentences)  # Explicitly pass the `texts` parameter"
   ]
  },
  {
   "cell_type": "code",
   "execution_count": 34,
   "id": "1408c538",
   "metadata": {},
   "outputs": [],
   "source": [
    "from langchain.chains import RetrievalQA\n",
    "from langchain.chat_models import ChatOpenAI  # or HuggingFaceHub or AzureOpenAI"
   ]
  },
  {
   "cell_type": "code",
   "execution_count": 35,
   "id": "3ae0a2f9",
   "metadata": {},
   "outputs": [],
   "source": [
    "llm = ChatOpenAI(temperature=0, model_name=\"gpt-4\")  # Or \"gpt-3.5-turbo\""
   ]
  },
  {
   "cell_type": "code",
   "execution_count": null,
   "id": "9fdb78c0",
   "metadata": {},
   "outputs": [],
   "source": [
    "# Create a Retrieval-based QA chain using the retriever\n",
    "# This step sets up a retrieval-based question-answering chain \n",
    "# by integrating the retriever with a language model (llm) \n",
    "# to process user queries, retrieve relevant documents, and generate answers.\n",
    "qa_chain = RetrievalQA.from_chain_type(\n",
    "    llm=llm,\n",
    "    retriever=retriever,\n",
    "    return_source_documents=True  # optional, for seeing where the answer came from\n",
    ")"
   ]
  },
  {
   "cell_type": "code",
   "execution_count": 37,
   "id": "68a93937",
   "metadata": {},
   "outputs": [
    {
     "name": "stdout",
     "output_type": "stream",
     "text": [
      "Answer: The speech is about the Government of India's budget for the fiscal year 2025-2026. It was delivered by Nirmala Sitharaman, the Minister of Finance, on February 1, 2025. The budget aims to accelerate growth, secure inclusive development, invigorate private sector investments, uplift household sentiments, and enhance the spending power of India's rising middle class. The speech also discusses the government's efforts towards digitalization, resolving income tax disputes, promoting investment and employment, and providing tax certainty for electronics manufacturing schemes. The budget's development measures focus on ten areas including agricultural growth, rural prosperity, and inclusive growth.\n"
     ]
    }
   ],
   "source": [
    "query = \"What is the speech about?\"\n",
    "result = qa_chain({\"query\": query})\n",
    "\n",
    "print(\"Answer:\", result[\"result\"])"
   ]
  },
  {
   "cell_type": "code",
   "execution_count": 38,
   "id": "56b644f2",
   "metadata": {},
   "outputs": [
    {
     "name": "stdout",
     "output_type": "stream",
     "text": [
      "Answer: The sectors announced for the budget include rural piped water supply schemes, urban sector reforms, tourism, medical tourism, research, development and innovation, indirect taxes, pension sector, KYC simplification, company mergers, bilateral investment treaties, and regulatory reforms.\n"
     ]
    }
   ],
   "source": [
    "query = \"What sectors have been announced for the budget?\"\n",
    "result = qa_chain({\"query\": query})\n",
    "\n",
    "print(\"Answer:\", result[\"result\"])"
   ]
  },
  {
   "cell_type": "code",
   "execution_count": 39,
   "id": "ede6ede5",
   "metadata": {},
   "outputs": [
    {
     "name": "stdout",
     "output_type": "stream",
     "text": [
      "Answer: The tax benefits announced include a tax rebate for taxpayers with up to ` 12 lakh of normal income, such that there is no tax payable by them. This is in addition to the benefit due to slab rate reduction. For example, a taxpayer with an income of ` 12 lakh will get a benefit of ` 80,000 in tax. A person with an income of ` 18 lakh will get a tax benefit of ` 70,000, and a person with an income of ` 25 lakh gets a benefit of ` 1,10,000. \n",
      "\n",
      "Additionally, the benefits of the existing tonnage tax scheme are proposed to be extended to inland vessels registered under the Indian Vessels Act, 2021. \n",
      "\n",
      "For start-ups, the period of incorporation is proposed to be extended by 5 years to allow the benefit available to start-ups which are incorporated before 1.4.2030. \n",
      "\n",
      "Specific benefits are also proposed for ship-leasing units, insurance offices and treasury centres of global companies which are set up in the International Financial Services Centre (IFSC). \n",
      "\n",
      "Finally, it is proposed to reduce certain tax deducted at source (TDS) and tax collected at source (TCS) rates to reduce multiplicity of rates and compliance burden.\n"
     ]
    }
   ],
   "source": [
    "query = \"What tax benefits have been anounced?\"\n",
    "result = qa_chain({\"query\": query})\n",
    "\n",
    "print(\"Answer:\", result[\"result\"])"
   ]
  },
  {
   "cell_type": "code",
   "execution_count": null,
   "id": "eb55167e",
   "metadata": {},
   "outputs": [],
   "source": []
  }
 ],
 "metadata": {
  "kernelspec": {
   "display_name": "huggingface",
   "language": "python",
   "name": "python3"
  },
  "language_info": {
   "codemirror_mode": {
    "name": "ipython",
    "version": 3
   },
   "file_extension": ".py",
   "mimetype": "text/x-python",
   "name": "python",
   "nbconvert_exporter": "python",
   "pygments_lexer": "ipython3",
   "version": "3.12.3"
  }
 },
 "nbformat": 4,
 "nbformat_minor": 5
}
