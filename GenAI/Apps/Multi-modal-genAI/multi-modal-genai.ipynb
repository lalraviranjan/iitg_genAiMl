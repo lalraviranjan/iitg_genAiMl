{
 "cells": [
  {
   "cell_type": "markdown",
   "id": "6d902792",
   "metadata": {},
   "source": [
    "## Pass Multi Modal data to Models using GROQ API"
   ]
  },
  {
   "cell_type": "markdown",
   "id": "18c54c79",
   "metadata": {},
   "source": [
    "### Images"
   ]
  },
  {
   "cell_type": "code",
   "execution_count": 1,
   "id": "7b0c7363",
   "metadata": {},
   "outputs": [
    {
     "data": {
      "text/plain": [
       "True"
      ]
     },
     "execution_count": 1,
     "metadata": {},
     "output_type": "execute_result"
    }
   ],
   "source": [
    "import os\n",
    "from dotenv import load_dotenv\n",
    "load_dotenv()"
   ]
  },
  {
   "cell_type": "code",
   "execution_count": 2,
   "id": "a3ae9dcc",
   "metadata": {},
   "outputs": [],
   "source": [
    "#Multi Modal\n",
    "from langchain_groq import ChatGroq\n",
    "llm = ChatGroq(api_key=os.getenv('GROQ_API_KEY'), model='meta-llama/llama-4-scout-17b-16e-instruct')"
   ]
  },
  {
   "cell_type": "code",
   "execution_count": 3,
   "id": "2be1d44b",
   "metadata": {},
   "outputs": [
    {
     "data": {
      "text/plain": [
       "AIMessage(content=\"Hello! It's nice to meet you. Is there something I can help you with, or would you like to chat?\", additional_kwargs={}, response_metadata={'token_usage': {'completion_tokens': 25, 'prompt_tokens': 11, 'total_tokens': 36, 'completion_time': 0.050252637, 'prompt_time': 0.002219653, 'queue_time': 0.045060797, 'total_time': 0.05247229}, 'model_name': 'meta-llama/llama-4-scout-17b-16e-instruct', 'system_fingerprint': 'fp_79da0e0073', 'finish_reason': 'stop', 'logprobs': None}, id='run-e52c556c-03a1-401b-aef0-bab7f71db98a-0', usage_metadata={'input_tokens': 11, 'output_tokens': 25, 'total_tokens': 36})"
      ]
     },
     "execution_count": 3,
     "metadata": {},
     "output_type": "execute_result"
    }
   ],
   "source": [
    "llm.invoke(\"Hello\")"
   ]
  },
  {
   "cell_type": "code",
   "execution_count": 4,
   "id": "b6a07dd7",
   "metadata": {},
   "outputs": [],
   "source": [
    "from langchain_core.messages import SystemMessage, HumanMessage"
   ]
  },
  {
   "cell_type": "code",
   "execution_count": 5,
   "id": "e7bce4e4",
   "metadata": {},
   "outputs": [],
   "source": [
    "image_url = 'https://images.pexels.com/photos/5886503/pexels-photo-5886503.jpeg?_gl=1*1i0rsaq*_ga*NTc3NTMzNjk3LjE3NTE3MDAyMzE.*_ga_8JE65Q40S6*czE3NTE3MDAyMzAkbzEkZzAkdDE3NTE3MDAyMzAkajYwJGwwJGgw'\n",
    "# image_data = base64.b64encode(httpx.get(image_url).content).decode(\"utf-8\")\n",
    "messages = [\n",
    "    SystemMessage(content=\"You are a helpful assistant that understands images.\"),\n",
    "    HumanMessage(content=[\n",
    "        {\"type\": \"text\", \"text\": \"Describe this image.\"},\n",
    "        {\"type\": \"image_url\", \"image_url\": {\"url\": image_url}}\n",
    "    ])\n",
    "]"
   ]
  },
  {
   "cell_type": "code",
   "execution_count": 6,
   "id": "5a276bd4",
   "metadata": {},
   "outputs": [],
   "source": [
    "response = llm.invoke(messages)"
   ]
  },
  {
   "cell_type": "code",
   "execution_count": 7,
   "id": "93f040bb",
   "metadata": {},
   "outputs": [
    {
     "name": "stdout",
     "output_type": "stream",
     "text": [
      "The image depicts a serene mountain landscape at sunset, with lush greenery and a vibrant sky.\n",
      "\n",
      "*   **Sky:**\n",
      "    *   The sky is a gradient of dark blue to orange.\n",
      "    *   There are scattered clouds throughout the sky.\n",
      "    *   The sun is setting behind the mountains, casting a warm glow.\n",
      "*   **Mountains:**\n",
      "    *   The mountains are covered in dense green trees.\n",
      "    *   The mountains are rugged and rocky.\n",
      "    *   The sun is setting behind the mountains, casting a warm glow.\n",
      "*   **Trees:**\n",
      "    *   The trees are tall and lush.\n",
      "    *   They are a vibrant green color.\n",
      "    *   They cover the mountains and foreground.\n",
      "*   **Foreground:**\n",
      "    *   The foreground features a variety of green plants and trees.\n",
      "    *   The plants are in the foreground, with the mountains and sky in the background.\n",
      "\n",
      "The image captures a peaceful and natural scene, with the sun setting over the mountains and casting a warm glow over the landscape.\n"
     ]
    }
   ],
   "source": [
    "print(response.content)"
   ]
  }
 ],
 "metadata": {
  "kernelspec": {
   "display_name": "huggingface",
   "language": "python",
   "name": "python3"
  },
  "language_info": {
   "codemirror_mode": {
    "name": "ipython",
    "version": 3
   },
   "file_extension": ".py",
   "mimetype": "text/x-python",
   "name": "python",
   "nbconvert_exporter": "python",
   "pygments_lexer": "ipython3",
   "version": "3.12.3"
  }
 },
 "nbformat": 4,
 "nbformat_minor": 5
}
