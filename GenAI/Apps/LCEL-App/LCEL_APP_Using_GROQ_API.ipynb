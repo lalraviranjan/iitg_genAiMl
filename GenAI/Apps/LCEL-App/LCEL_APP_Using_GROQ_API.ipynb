{
 "cells": [
  {
   "cell_type": "markdown",
   "id": "ed13812a",
   "metadata": {},
   "source": [
    "### LCEL\n",
    "LCEL (LangChain Expression Language) is a concise, chainable syntax for composing LangChain components like prompts, models, retrievers, and output parsers in a pipeline. It simplifies building modular, readable, and reusable workflows for language model applications."
   ]
  },
  {
   "cell_type": "code",
   "execution_count": 33,
   "id": "95c0840b",
   "metadata": {},
   "outputs": [],
   "source": [
    "import os\n",
    "from dotenv import load_dotenv\n",
    "from langchain_ollama import OllamaLLM\n",
    "# Loads environment variables from a .env file into your system's environment.\n",
    "load_dotenv()\n",
    "# os.environ is a dictionary in Python that holds all the environment variables available to your system during the program's execution.\n",
    "\n",
    "# This is needed to enable LangSmith logging/tracing for chains, prompts, and LLM calls.\n",
    "os.environ['LANGCHAIN_API_KEY'] = os.getenv('LANGCHAIN_API_KEY')\n",
    "\n",
    "# Setting this to 'true' will start recording all your chain/agent/LLM activity for debugging and evaluation.\n",
    "os.environ['LANGCHAIN_TRACING_V2'] = 'true'\n",
    "\n",
    "# This helps organize and filter traces inside the LangSmith dashboard based on this project.\n",
    "os.environ['Langchain_Project'] = os.getenv('LANGCHAIN_PROJECT')"
   ]
  },
  {
   "cell_type": "code",
   "execution_count": 34,
   "id": "8d41e72d",
   "metadata": {},
   "outputs": [],
   "source": [
    "groq_api_key = os.getenv(\"GROQ_API_KEY\")"
   ]
  },
  {
   "cell_type": "code",
   "execution_count": 35,
   "id": "d3413da1",
   "metadata": {},
   "outputs": [
    {
     "data": {
      "text/plain": [
       "ChatGroq(client=<groq.resources.chat.completions.Completions object at 0x000001A2FE8E4E90>, async_client=<groq.resources.chat.completions.AsyncCompletions object at 0x000001A2FE8F4590>, model_name='Gemma2-9b-it', model_kwargs={}, groq_api_key=SecretStr('**********'))"
      ]
     },
     "execution_count": 35,
     "metadata": {},
     "output_type": "execute_result"
    }
   ],
   "source": [
    "from langchain_openai import ChatOpenAI\n",
    "from langchain_groq import ChatGroq\n",
    "\n",
    "model = ChatGroq(api_key=groq_api_key, model=\"Gemma2-9b-it\")\n",
    "model"
   ]
  },
  {
   "cell_type": "markdown",
   "id": "d838924e",
   "metadata": {},
   "source": [
    "##### Without Using LCEL to inference LLM, Prompt and Stroutput Chains"
   ]
  },
  {
   "cell_type": "code",
   "execution_count": 36,
   "id": "9ce9c34c",
   "metadata": {},
   "outputs": [
    {
     "name": "stdout",
     "output_type": "stream",
     "text": [
      "content=\"Hello How are you? in French is:\\n\\n**Bonjour, comment allez-vous ?** \\n\\n\\nLet me know if you have any other phrases you'd like translated!\\n\" additional_kwargs={} response_metadata={'token_usage': {'completion_tokens': 39, 'prompt_tokens': 21, 'total_tokens': 60, 'completion_time': 0.070909091, 'prompt_time': 0.002119957, 'queue_time': 0.233693447, 'total_time': 0.073029048}, 'model_name': 'Gemma2-9b-it', 'system_fingerprint': 'fp_10c08bf97d', 'finish_reason': 'stop', 'logprobs': None} id='run-e7e5d459-163d-4112-9a50-de5558be877f-0' usage_metadata={'input_tokens': 21, 'output_tokens': 39, 'total_tokens': 60}\n"
     ]
    }
   ],
   "source": [
    "from langchain_core.messages import HumanMessage, SystemMessage\n",
    "\n",
    "messages = [\n",
    "    SystemMessage(content=\"Translate the following from English to French\"),\n",
    "    HumanMessage(content=\"Hello How are you?\")\n",
    "]\n",
    "\n",
    "response = model.invoke(messages)\n",
    "print(response)"
   ]
  },
  {
   "cell_type": "code",
   "execution_count": 37,
   "id": "808edcd6",
   "metadata": {},
   "outputs": [
    {
     "name": "stdout",
     "output_type": "stream",
     "text": [
      "Hello How are you? in French is:\n",
      "\n",
      "**Bonjour, comment allez-vous ?** \n",
      "\n",
      "\n",
      "Let me know if you have any other phrases you'd like translated!\n",
      "\n"
     ]
    }
   ],
   "source": [
    "from langchain_core.output_parsers import StrOutputParser\n",
    "\n",
    "parser = StrOutputParser()\n",
    "output_response = parser.invoke(response)\n",
    "print(output_response)"
   ]
  },
  {
   "cell_type": "markdown",
   "id": "8ccb533f",
   "metadata": {},
   "source": [
    "##### With Using LCEL to inference LLM, Prompt and Stroutput Chains"
   ]
  },
  {
   "cell_type": "code",
   "execution_count": 38,
   "id": "a8205a87",
   "metadata": {},
   "outputs": [
    {
     "data": {
      "text/plain": [
       "'Here are a few ways to translate \"Hello, How are you?\" to French:\\n\\n**Formal:**\\n\\n* **Bonjour, comment allez-vous ?** (This is the most polite and formal way to greet someone.)\\n\\n**Informal:**\\n\\n* **Salut, comment ça va ?** (This is a more casual way to greet someone you know well.)\\n* **Coucou, comment vas-tu ?** (This is a very informal greeting, often used with friends or family.)\\n\\nThe best option depends on the context and your relationship with the person you are greeting. \\n\\n\\n\\n'"
      ]
     },
     "execution_count": 38,
     "metadata": {},
     "output_type": "execute_result"
    }
   ],
   "source": [
    "chain = (model|parser).invoke(messages)\n",
    "chain"
   ]
  },
  {
   "cell_type": "markdown",
   "id": "5e683092",
   "metadata": {},
   "source": [
    "#### Using PromptTemplate with LCEL : An efficient technique of LCEL"
   ]
  },
  {
   "cell_type": "code",
   "execution_count": 39,
   "id": "9e5c5952",
   "metadata": {},
   "outputs": [],
   "source": [
    "from langchain_core.prompts import ChatPromptTemplate\n",
    "\n",
    "template = \"You are a French language tutor. Translate the following sentence in {language}:\"\n",
    "\n",
    "prompt = ChatPromptTemplate(\n",
    "    [\n",
    "        (\"system\", template),\n",
    "        (\"user\", \"{text}\")\n",
    "    ]\n",
    ")"
   ]
  },
  {
   "cell_type": "code",
   "execution_count": 40,
   "id": "dff88fcd",
   "metadata": {},
   "outputs": [
    {
     "data": {
      "text/plain": [
       "'There are two ways to translate \"Hello, how are you?\" in French, depending on the level of formality:\\n\\n**Formal:**\\n\\n* **Bonjour, comment allez-vous ?** (This is the most polite and formal way to greet someone.)\\n\\n**Informal:**\\n\\n* **Salut, comment vas-tu ?** (This is a more casual way to greet someone you know well.)\\n\\n\\nLet me know if you\\'d like to learn more French greetings! 😊\\n\\n'"
      ]
     },
     "execution_count": 40,
     "metadata": {},
     "output_type": "execute_result"
    }
   ],
   "source": [
    "chain = prompt | model | parser\n",
    "result = chain.invoke({\"language\":\"French\", \"text\":\"Hello How are you?\"})\n",
    "result"
   ]
  },
  {
   "cell_type": "code",
   "execution_count": 41,
   "id": "741eab6a",
   "metadata": {},
   "outputs": [
    {
     "name": "stdout",
     "output_type": "stream",
     "text": [
      "There are two ways to translate \"Hello, how are you?\" in French, depending on the level of formality:\n",
      "\n",
      "**Formal:**\n",
      "\n",
      "* **Bonjour, comment allez-vous ?** (This is the most polite and formal way to greet someone.)\n",
      "\n",
      "**Informal:**\n",
      "\n",
      "* **Salut, comment vas-tu ?** (This is a more casual way to greet someone you know well.)\n",
      "\n",
      "\n",
      "Let me know if you'd like to learn more French greetings! 😊\n",
      "\n",
      "\n"
     ]
    }
   ],
   "source": [
    "print(result)"
   ]
  }
 ],
 "metadata": {
  "kernelspec": {
   "display_name": "huggingface",
   "language": "python",
   "name": "python3"
  },
  "language_info": {
   "codemirror_mode": {
    "name": "ipython",
    "version": 3
   },
   "file_extension": ".py",
   "mimetype": "text/x-python",
   "name": "python",
   "nbconvert_exporter": "python",
   "pygments_lexer": "ipython3",
   "version": "3.12.3"
  }
 },
 "nbformat": 4,
 "nbformat_minor": 5
}
