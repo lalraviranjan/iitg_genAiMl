{
 "cells": [
  {
   "cell_type": "markdown",
   "id": "256ab1d2",
   "metadata": {},
   "source": [
    "1. document loader - `from langchain_community.document_loaders import WebBaseLoader`\n",
    "\n",
    "2. text splitter - `from langchain_text_splitters import RecursiveCharacterTextSplitter`\n",
    "\n",
    "3. embeddings- `from langchain_openai.embeddings import OpenAIEmbeddings`\n",
    "\n",
    "4. store in vector db - `from langchain_community.vectorstores import FAISS`\n",
    "\n",
    "5. prompt template - `from langchain_core.prompts import PromptTemplate`\n",
    "\n",
    "6. retriever - `vectorstore.as_retriever()`\n",
    "\n",
    "7. invokation - `retrieval_chain.invoke({\n",
    "    \"input\": \"Who was APJ Abdul Kalam?\"\n",
    "})`"
   ]
  },
  {
   "cell_type": "code",
   "execution_count": 2,
   "id": "c01cefe7",
   "metadata": {},
   "outputs": [
    {
     "data": {
      "text/plain": [
       "True"
      ]
     },
     "execution_count": 2,
     "metadata": {},
     "output_type": "execute_result"
    }
   ],
   "source": [
    "import os\n",
    "from dotenv import load_dotenv\n",
    "\n",
    "load_dotenv()"
   ]
  },
  {
   "cell_type": "code",
   "execution_count": 3,
   "id": "2c19654a",
   "metadata": {},
   "outputs": [
    {
     "name": "stderr",
     "output_type": "stream",
     "text": [
      "USER_AGENT environment variable not set, consider setting it to identify your requests.\n"
     ]
    }
   ],
   "source": [
    "from langchain_community.document_loaders import WebBaseLoader\n",
    "docs = WebBaseLoader(\"https://en.wikipedia.org/wiki/A._P._J._Abdul_Kalam\").load()"
   ]
  },
  {
   "cell_type": "code",
   "execution_count": 4,
   "id": "6f7912d8",
   "metadata": {},
   "outputs": [],
   "source": [
    "from langchain_text_splitters import RecursiveCharacterTextSplitter\n",
    "text_splitter = RecursiveCharacterTextSplitter(chunk_size=1000, chunk_overlap=200)\n",
    "documents = text_splitter.split_documents(docs)\n"
   ]
  },
  {
   "cell_type": "code",
   "execution_count": 5,
   "id": "83fb6778",
   "metadata": {},
   "outputs": [],
   "source": [
    "from langchain_openai.embeddings import OpenAIEmbeddings\n",
    "embeddings = OpenAIEmbeddings(model='text-embedding-3-small', chunk_size=1)"
   ]
  },
  {
   "cell_type": "code",
   "execution_count": 6,
   "id": "480fa8cd",
   "metadata": {},
   "outputs": [],
   "source": [
    "from langchain_community.vectorstores import FAISS\n",
    "vectorstore = FAISS.from_documents(documents, embeddings)"
   ]
  },
  {
   "cell_type": "code",
   "execution_count": 7,
   "id": "5c58d978",
   "metadata": {},
   "outputs": [],
   "source": [
    "query = \"Where was APJ Kalam born?\"\n",
    "similar_docs = vectorstore.similarity_search(query, k=2)"
   ]
  },
  {
   "cell_type": "code",
   "execution_count": 8,
   "id": "d348972c",
   "metadata": {},
   "outputs": [],
   "source": [
    "from langchain_openai import ChatOpenAI\n",
    "llm = ChatOpenAI(model=\"gpt-4\")"
   ]
  },
  {
   "cell_type": "code",
   "execution_count": 9,
   "id": "cbf62f7b",
   "metadata": {},
   "outputs": [],
   "source": [
    "from langchain_core.prompts import PromptTemplate\n",
    "from langchain_core.output_parsers import StrOutputParser\n",
    "from langchain.chains.combine_documents import create_stuff_documents_chain\n",
    "from langchain.chains import create_retrieval_chain\n"
   ]
  },
  {
   "cell_type": "code",
   "execution_count": 10,
   "id": "814863bc",
   "metadata": {},
   "outputs": [],
   "source": [
    "# Define the prompt\n",
    "prompt = PromptTemplate(\n",
    "    input_variables=[\"context\", \"input\"],\n",
    "    template=\"\"\"\n",
    "Answer the following question using only the context below. Be concise and accurate.\n",
    "\n",
    "<context>\n",
    "{context}\n",
    "</context>\n",
    "\n",
    "Question: {input}\n",
    "response:\"\"\"\n",
    ")\n",
    "\n",
    "# Create document chain\n",
    "document_chain = create_stuff_documents_chain(llm=llm, prompt=prompt)"
   ]
  },
  {
   "cell_type": "code",
   "execution_count": 11,
   "id": "ec791575",
   "metadata": {},
   "outputs": [],
   "source": [
    "# Attach output parser\n",
    "from langchain_core.output_parsers import StrOutputParser\n",
    "\n",
    "chain_with_parser = document_chain | StrOutputParser()"
   ]
  },
  {
   "cell_type": "code",
   "execution_count": 12,
   "id": "054c333f",
   "metadata": {},
   "outputs": [],
   "source": [
    "# Create retriever and full pipeline\n",
    "retriever = vectorstore.as_retriever()\n",
    "retrieval_chain = create_retrieval_chain(retriever, chain_with_parser)"
   ]
  },
  {
   "cell_type": "code",
   "execution_count": 13,
   "id": "979f2ece",
   "metadata": {},
   "outputs": [],
   "source": [
    "# Final invoke call with structured output\n",
    "response = retrieval_chain.invoke({\n",
    "    \"input\": \"Who was APJ Abdul Kalam?\"\n",
    "})"
   ]
  },
  {
   "cell_type": "code",
   "execution_count": 14,
   "id": "52fdc641",
   "metadata": {},
   "outputs": [
    {
     "data": {
      "text/plain": [
       "{'input': 'Who was APJ Abdul Kalam?',\n",
       " 'context': [Document(id='52b1fbcd-6fe5-43fd-a571-c3d08ca014d0', metadata={'source': 'https://en.wikipedia.org/wiki/A._P._J._Abdul_Kalam', 'title': 'A. P. J. Abdul Kalam - Wikipedia', 'language': 'en'}, page_content=\"A.\\xa0P.\\xa0J. Abdul KalamOfficial portrait in 2002President of IndiaIn office25 July 2002\\xa0– 25 July 2007Prime MinisterAtal Bihari VajpayeeManmohan SinghVice PresidentKrishan KantBhairon Singh ShekhawatPreceded byK. R. NarayananSucceeded byPratibha PatilPrincipal Scientific Adviser to the Government of IndiaIn officeNovember 1999\\xa0– November 2001PresidentK. R. NarayananPrime MinisterAtal Bihari VajpayeePreceded byOffice establishedSucceeded byRajagopala ChidambaramDirector General of Defence Research and Development OrganisationIn office1992-1999Preceded byRaja RamannaSucceeded byVasudev Kalkunte Aatre\\nPersonal detailsBorn(1931-10-15)15 October 1931Rameswaram, Madras Presidency, British India (present day Tamil Nadu, India)Died27 July 2015(2015-07-27) (aged\\xa083)Shillong, Meghalaya, IndiaResting placeDr. A.P.J. Abdul Kalam Memorial, \\nRameswaram, Tamil Nadu, IndiaPolitical partyIndependent[1]Alma mater\\nSt. Joseph's College (BEng)\\nMadras Institute of Technology (MEng)\"),\n",
       "  Document(id='ae8e9710-eab5-4a92-ae5a-ad6136781997', metadata={'source': 'https://en.wikipedia.org/wiki/A._P._J._Abdul_Kalam', 'title': 'A. P. J. Abdul Kalam - Wikipedia', 'language': 'en'}, page_content='Avul Pakir Jainulabdeen Abdul Kalam (/ˈʌbdʊl kəˈlɑːm/ ⓘ UB-duul kə-LAHM; 15 October 1931\\xa0– 27 July 2015) was an Indian aerospace scientist and statesman who served as the  president of India from 2002 to 2007.\\nBorn and raised in a Muslim family in Rameswaram, Tamil Nadu, Kalam studied physics and aerospace engineering. He spent the next four decades as a scientist and science administrator, mainly at the Defence Research and Development Organisation (DRDO) and Indian Space Research Organisation (ISRO) and was intimately involved in India\\'s civilian space programme and military missile development efforts. He was known as the \"Missile Man of India\" for his work on the development of ballistic missile and launch vehicle technology. He also played a pivotal organisational, technical, and political role in Pokhran-II nuclear tests in 1998, India\\'s second such test after the first test in 1974.'),\n",
       "  Document(id='20a4fe54-3cdd-4115-b678-d786fd21281f', metadata={'source': 'https://en.wikipedia.org/wiki/A._P._J._Abdul_Kalam', 'title': 'A. P. J. Abdul Kalam - Wikipedia', 'language': 'en'}, page_content='^ \"When Dr APJ Abdul Kalam learnt from failure and Isro bounced back to life\". India Today. 23 August 2024. Archived from the original on 1 October 2024. Retrieved 1 January 2025.\\n\\n^ \"APJ Abdul Kalam, profile\". Rashtrapathi Bhavan. Archived from the original on 27 December 2024. Retrieved 1 June 2024.\\n\\n^ a b c \"Lesser Known Facts About Dr APJ Abdul Kalam\". The New Indian Express. 28 July 2015. Retrieved 1 June 2024.\\n\\n^ \"Missile Chronology, 1971–1979\" (PDF). James Martin Center for Nonproliferation Studies at Monterey Institute of International Studies, Nuclear Threat Initiative. July 2003. Archived (PDF) from the original on 20 November 2012. Retrieved 1 March 2012.\\n\\n^ a b c \"The prime motivator\". Frontline. 5 July 2002. Archived from the original on 21 October 2006. Retrieved 5 July 2012.\\n\\n^ Pandit, Rajat (9 January 2008). \"Missile plan: Some hits, misses\". The Times of India. TNN. Archived from the original on 18 November 2011. Retrieved 1 March 2012.'),\n",
       "  Document(id='9b50f2cc-08e1-486d-bd73-c3b60a8764da', metadata={'source': 'https://en.wikipedia.org/wiki/A._P._J._Abdul_Kalam', 'title': 'A. P. J. Abdul Kalam - Wikipedia', 'language': 'en'}, page_content='^ \"Institute to be named after Kalam\". The Hindu. 31 July 2015. Archived from the original on 22 December 2016. Retrieved 28 August 2015.\\n\\n^ \"Complex to be named after Abdul Kalam\". The Hindu. 4 August 2015. Archived from the original on 22 December 2016. Retrieved 28 August 2015.\\n\\n^ \"New arts and science college named after Dr APJ Abdul Kalam coming up in Tamil Nadu\". India Today. 8 February 2019. Retrieved 1 June 2024.\\n\\n^ Rohde, David (19 July 2002). \"Nuclear Scientist, 70, a Folk Hero, Is Elected India\\'s President\". The New York Times. Archived from the original on 9 November 2012. Retrieved 29 June 2012.\\n\\n^ Pruthi, Raj (2003). President Apj Abdul Kalam. Anmol Publications. ISBN\\xa0978-81-261-1344-6. Archived from the original on 3 June 2016. Retrieved 9 October 2015.\\n\\n^ Bhushan, K.; Katyal, G. (2002). A.P.J. Abdul Kalam: The Visionary of India. APH Publishing. ISBN\\xa0978-81-7648-380-3. Archived from the original on 7 May 2016. Retrieved 9 October 2015.')],\n",
       " 'answer': 'APJ Abdul Kalam was an Indian aerospace scientist and statesman who served as the President of India from 2002 to 2007. He played a significant role in India\\'s civilian space programme, military missile development efforts and the Pokhran-II nuclear tests in 1998. He was known as the \"Missile Man of India\" for his work on the development of ballistic missile and launch vehicle technology.'}"
      ]
     },
     "execution_count": 14,
     "metadata": {},
     "output_type": "execute_result"
    }
   ],
   "source": [
    "response"
   ]
  },
  {
   "cell_type": "code",
   "execution_count": 15,
   "id": "0375fa39",
   "metadata": {},
   "outputs": [
    {
     "name": "stdout",
     "output_type": "stream",
     "text": [
      "APJ Abdul Kalam was an Indian aerospace scientist and statesman who served as the President of India from 2002 to 2007. He played a significant role in India's civilian space programme, military missile development efforts and the Pokhran-II nuclear tests in 1998. He was known as the \"Missile Man of India\" for his work on the development of ballistic missile and launch vehicle technology.\n"
     ]
    }
   ],
   "source": [
    "print(response[\"answer\"])"
   ]
  }
 ],
 "metadata": {
  "kernelspec": {
   "display_name": "huggingface",
   "language": "python",
   "name": "python3"
  },
  "language_info": {
   "codemirror_mode": {
    "name": "ipython",
    "version": 3
   },
   "file_extension": ".py",
   "mimetype": "text/x-python",
   "name": "python",
   "nbconvert_exporter": "python",
   "pygments_lexer": "ipython3",
   "version": "3.12.3"
  }
 },
 "nbformat": 4,
 "nbformat_minor": 5
}
