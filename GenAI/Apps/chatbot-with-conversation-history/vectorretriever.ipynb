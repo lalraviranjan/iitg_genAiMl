{
 "cells": [
  {
   "cell_type": "markdown",
   "metadata": {},
   "source": [
    "### Vector stores and retrievers\n",
    "This video tutorial will familiarize you with LangChain's vector store and retriever abstractions. These abstractions are designed to support retrieval of data-- from (vector) databases and other sources-- for integration with LLM workflows. They are important for applications that fetch data to be reasoned over as part of model inference, as in the case of retrieval-augmented generation.\n",
    "\n",
    "We will cover \n",
    "- Documents\n",
    "- Vector stores\n",
    "- Retrievers\n"
   ]
  },
  {
   "cell_type": "markdown",
   "metadata": {},
   "source": [
    "### Documents\n",
    "LangChain implements a Document abstraction, which is intended to represent a unit of text and associated metadata. It has two attributes:\n",
    "\n",
    "- page_content: a string representing the content;\n",
    "- metadata: a dict containing arbitrary metadata.\n",
    "The metadata attribute can capture information about the source of the document, its relationship to other documents, and other information. Note that an individual Document object often represents a chunk of a larger document.\n",
    "\n",
    "Let's generate some sample documents:"
   ]
  },
  {
   "cell_type": "code",
   "execution_count": 2,
   "metadata": {},
   "outputs": [],
   "source": [
    "from langchain_core.documents import Document\n",
    "\n",
    "documents = [\n",
    "    Document(\n",
    "        page_content=\"Dogs are great companions, known for their loyalty and friendliness.\",\n",
    "        metadata={\"source\": \"mammal-pets-doc\"},\n",
    "    ),\n",
    "    Document(\n",
    "        page_content=\"Cats are independent pets that often enjoy their own space.\",\n",
    "        metadata={\"source\": \"mammal-pets-doc\"},\n",
    "    ),\n",
    "    Document(\n",
    "        page_content=\"Goldfish are popular pets for beginners, requiring relatively simple care.\",\n",
    "        metadata={\"source\": \"fish-pets-doc\"},\n",
    "    ),\n",
    "    Document(\n",
    "        page_content=\"Parrots are intelligent birds capable of mimicking human speech.\",\n",
    "        metadata={\"source\": \"bird-pets-doc\"},\n",
    "    ),\n",
    "    Document(\n",
    "        page_content=\"Rabbits are social animals that need plenty of space to hop around.\",\n",
    "        metadata={\"source\": \"mammal-pets-doc\"},\n",
    "    ),\n",
    "]"
   ]
  },
  {
   "cell_type": "code",
   "execution_count": 3,
   "metadata": {},
   "outputs": [
    {
     "data": {
      "text/plain": [
       "[Document(metadata={'source': 'mammal-pets-doc'}, page_content='Dogs are great companions, known for their loyalty and friendliness.'),\n",
       " Document(metadata={'source': 'mammal-pets-doc'}, page_content='Cats are independent pets that often enjoy their own space.'),\n",
       " Document(metadata={'source': 'fish-pets-doc'}, page_content='Goldfish are popular pets for beginners, requiring relatively simple care.'),\n",
       " Document(metadata={'source': 'bird-pets-doc'}, page_content='Parrots are intelligent birds capable of mimicking human speech.'),\n",
       " Document(metadata={'source': 'mammal-pets-doc'}, page_content='Rabbits are social animals that need plenty of space to hop around.')]"
      ]
     },
     "execution_count": 3,
     "metadata": {},
     "output_type": "execute_result"
    }
   ],
   "source": [
    "documents"
   ]
  },
  {
   "cell_type": "code",
   "execution_count": 4,
   "metadata": {},
   "outputs": [
    {
     "data": {
      "text/plain": [
       "ChatGroq(client=<groq.resources.chat.completions.Completions object at 0x00000204E87B96D0>, async_client=<groq.resources.chat.completions.AsyncCompletions object at 0x00000204E87BA7B0>, model_name='Llama3-8b-8192', model_kwargs={}, groq_api_key=SecretStr('**********'))"
      ]
     },
     "execution_count": 4,
     "metadata": {},
     "output_type": "execute_result"
    }
   ],
   "source": [
    "import os\n",
    "from dotenv import load_dotenv\n",
    "load_dotenv()\n",
    "from langchain_groq import ChatGroq\n",
    "groq_api_key=os.getenv(\"GROQ_API_KEY\")\n",
    "\n",
    "os.environ[\"HF_TOKEN\"]=os.getenv(\"HF_TOKEN\")\n",
    "os.environ[\"OPENAI_API_KEY\"] = os.getenv(\"OPENAI_API_KEY\")\n",
    "\n",
    "llm=ChatGroq(groq_api_key=groq_api_key,model=\"Llama3-8b-8192\")\n",
    "llm"
   ]
  },
  {
   "cell_type": "code",
   "execution_count": 5,
   "metadata": {},
   "outputs": [
    {
     "data": {
      "text/plain": [
       "OpenAIEmbeddings(client=<openai.resources.embeddings.Embeddings object at 0x00000204E86B9790>, async_client=<openai.resources.embeddings.AsyncEmbeddings object at 0x00000204E87BD6D0>, model='text-embedding-3-small', dimensions=None, deployment='text-embedding-ada-002', openai_api_version=None, openai_api_base=None, openai_api_type=None, openai_proxy=None, embedding_ctx_length=8191, openai_api_key=SecretStr('**********'), openai_organization=None, allowed_special=None, disallowed_special=None, chunk_size=1000, max_retries=2, request_timeout=None, headers=None, tiktoken_enabled=True, tiktoken_model_name=None, show_progress_bar=False, model_kwargs={}, skip_empty=False, default_headers=None, default_query=None, retry_min_seconds=4, retry_max_seconds=20, http_client=None, http_async_client=None, check_embedding_ctx_length=True)"
      ]
     },
     "execution_count": 5,
     "metadata": {},
     "output_type": "execute_result"
    }
   ],
   "source": [
    "from langchain_openai import OpenAIEmbeddings\n",
    "embeddings = OpenAIEmbeddings(model=\"text-embedding-3-small\")\n",
    "embeddings"
   ]
  },
  {
   "cell_type": "code",
   "execution_count": 6,
   "metadata": {},
   "outputs": [
    {
     "data": {
      "text/plain": [
       "<langchain_chroma.vectorstores.Chroma at 0x204e87a5580>"
      ]
     },
     "execution_count": 6,
     "metadata": {},
     "output_type": "execute_result"
    }
   ],
   "source": [
    "## VectorStores\n",
    "from langchain_chroma import Chroma\n",
    "\n",
    "vectorstore=Chroma.from_documents(documents,embedding=embeddings)\n",
    "vectorstore\n"
   ]
  },
  {
   "cell_type": "code",
   "execution_count": 7,
   "metadata": {},
   "outputs": [
    {
     "data": {
      "text/plain": [
       "[Document(id='460e038d-e1d1-4d99-8736-1088899ad0c2', metadata={'source': 'mammal-pets-doc'}, page_content='Cats are independent pets that often enjoy their own space.'),\n",
       " Document(id='8deebe60-37ab-4f5c-958d-3a40ab7fb08d', metadata={'source': 'mammal-pets-doc'}, page_content='Dogs are great companions, known for their loyalty and friendliness.'),\n",
       " Document(id='cf15ba07-1ab5-4f8e-90f7-ac44092d1d63', metadata={'source': 'mammal-pets-doc'}, page_content='Rabbits are social animals that need plenty of space to hop around.'),\n",
       " Document(id='669e3b6f-9b61-46c8-b128-d33fef78a287', metadata={'source': 'fish-pets-doc'}, page_content='Goldfish are popular pets for beginners, requiring relatively simple care.')]"
      ]
     },
     "execution_count": 7,
     "metadata": {},
     "output_type": "execute_result"
    }
   ],
   "source": [
    "vectorstore.similarity_search(\"cat\")"
   ]
  },
  {
   "cell_type": "markdown",
   "metadata": {},
   "source": [
    "#### `similarity_search(\"cat\")`\n",
    "This is a **synchronous** (regular) method call. It blocks the current execution until the search is complete.\n",
    "\n",
    "- Used in traditional Python code (non-async functions)\n",
    "- Blocking: the code **waits** here until results are returned\n",
    "\n",
    "---\n",
    "\n",
    "### `await asimilarity_search(\"cat\")`\n",
    "This is the **asynchronous** version.\n",
    "\n",
    "-  Used **only inside `async def` functions**\n",
    "-  Non-blocking: while the search is running, other operations (like I/O or API calls) can continue\n",
    "-  You must **`await`** it to get the result\n",
    "\n",
    "---\n",
    "\n",
    "### 💡 When to Use What?\n",
    "\n",
    "| Use Case                             | Use Sync (`similarity_search`) | Use Async (`await asimilarity_search`) |\n",
    "|-------------------------------------|------------------------------|---------------------------------------|\n",
    "| Simple scripts or sync apps         | ✅                            | ❌                                     |\n",
    "| Async web servers (FastAPI, etc.)   | ❌                            | ✅                                     |\n",
    "| When running multiple I/O tasks     | ❌                            | ✅                                     |"
   ]
  },
  {
   "cell_type": "code",
   "execution_count": 8,
   "metadata": {},
   "outputs": [
    {
     "data": {
      "text/plain": [
       "[Document(id='460e038d-e1d1-4d99-8736-1088899ad0c2', metadata={'source': 'mammal-pets-doc'}, page_content='Cats are independent pets that often enjoy their own space.'),\n",
       " Document(id='8deebe60-37ab-4f5c-958d-3a40ab7fb08d', metadata={'source': 'mammal-pets-doc'}, page_content='Dogs are great companions, known for their loyalty and friendliness.'),\n",
       " Document(id='cf15ba07-1ab5-4f8e-90f7-ac44092d1d63', metadata={'source': 'mammal-pets-doc'}, page_content='Rabbits are social animals that need plenty of space to hop around.'),\n",
       " Document(id='669e3b6f-9b61-46c8-b128-d33fef78a287', metadata={'source': 'fish-pets-doc'}, page_content='Goldfish are popular pets for beginners, requiring relatively simple care.')]"
      ]
     },
     "execution_count": 8,
     "metadata": {},
     "output_type": "execute_result"
    }
   ],
   "source": [
    "## Async query\n",
    "await vectorstore.asimilarity_search(\"cat\")"
   ]
  },
  {
   "cell_type": "code",
   "execution_count": 9,
   "metadata": {},
   "outputs": [
    {
     "data": {
      "text/plain": [
       "[(Document(id='460e038d-e1d1-4d99-8736-1088899ad0c2', metadata={'source': 'mammal-pets-doc'}, page_content='Cats are independent pets that often enjoy their own space.'),\n",
       "  1.240580439567566),\n",
       " (Document(id='8deebe60-37ab-4f5c-958d-3a40ab7fb08d', metadata={'source': 'mammal-pets-doc'}, page_content='Dogs are great companions, known for their loyalty and friendliness.'),\n",
       "  1.550004005432129),\n",
       " (Document(id='cf15ba07-1ab5-4f8e-90f7-ac44092d1d63', metadata={'source': 'mammal-pets-doc'}, page_content='Rabbits are social animals that need plenty of space to hop around.'),\n",
       "  1.6296751499176025),\n",
       " (Document(id='669e3b6f-9b61-46c8-b128-d33fef78a287', metadata={'source': 'fish-pets-doc'}, page_content='Goldfish are popular pets for beginners, requiring relatively simple care.'),\n",
       "  1.7069001197814941)]"
      ]
     },
     "execution_count": 9,
     "metadata": {},
     "output_type": "execute_result"
    }
   ],
   "source": [
    "vectorstore.similarity_search_with_score(\"cat\")"
   ]
  },
  {
   "cell_type": "markdown",
   "metadata": {},
   "source": [
    "#### What is a Retriever?\n",
    "\n",
    "In LangChain and LLM-based apps:\n",
    "\n",
    "> **A Retriever is a component that fetches relevant documents (chunks of text) from a data source based on a user query.**\n",
    "\n",
    "---\n",
    "\n",
    "#### Why Use a Retriever?\n",
    "\n",
    "Because LLMs don't have your data by default. If you want your chatbot to answer based on:\n",
    "- Your PDFs\n",
    "- Internal docs\n",
    "- Product FAQs\n",
    "- Knowledge base\n",
    "\n",
    "You need to **retrieve** relevant chunks and feed them to the LLM → this is what **Retrievers** do.\n",
    "\n",
    "---\n",
    "\n",
    "#### Retrievers vs. VectorStore\n",
    "\n",
    "| Feature                     | VectorStore                          | Retriever                            |\n",
    "|----------------------------|---------------------------------------|--------------------------------------|\n",
    "| Purpose                    | Stores & indexes text embeddings     | Retrieves relevant text chunks       |\n",
    "| LCEL Compatibility         | ❌ Not a Runnable                     | ✅ Is a Runnable                      |\n",
    "| Usage in Chains            | Needs manual wrapping                | Plug-and-play in chains              |\n",
    "| Common Method              | `similarity_search()`                | `invoke()` or `get_relevant_documents()` |\n",
    "| Supports Async             | Only in specific methods             | ✅ Yes (via `.ainvoke()`)             |\n",
    "\n",
    "---\n",
    "\n",
    "#### Wrapping VectorStore with Retriever (Example):\n",
    "\n",
    "LangChain allows you to wrap `similarity_search` into a Runnable-compatible Retriever:\n",
    "\n",
    "```python\n",
    "from langchain_core.runnables import RunnableLambda\n",
    "\n",
    "retriever = RunnableLambda(lambda x: vectorstore.similarity_search(x[\"query\"]))\n",
    "```\n",
    "\n",
    "Now you can use it in a chain like:\n",
    "\n",
    "```python\n",
    "chain = (\n",
    "    {\"docs\": retriever, \"question\": lambda x: x[\"query\"]}\n",
    "    | some_prompt_template\n",
    "    | model\n",
    ")\n",
    "```\n",
    "\n",
    "---\n",
    "\n",
    "#### Why LangChain Retrievers are Powerful\n",
    "\n",
    "- They are **Runnables**, so they can be:\n",
    "  - Piped into chains\n",
    "  - Composed functionally with other steps\n",
    "  - Used with `|` (LCEL syntax)\n",
    "- Support both **sync** and **async**\n",
    "- Unified interface for **any retrieval logic** (not just vector-based!)\n",
    "\n",
    "---\n",
    "\n",
    "### 🔍 Summary\n",
    "\n",
    "- **Retrievers** fetch relevant chunks from your data for the LLM to use.\n",
    "- LangChain Retrievers are **Runnable-compatible**, perfect for LCEL chains.\n",
    "- You can wrap your own method (`similarity_search`) into a retriever using `RunnableLambda`."
   ]
  },
  {
   "cell_type": "code",
   "execution_count": 10,
   "metadata": {},
   "outputs": [
    {
     "data": {
      "text/plain": [
       "[[Document(id='460e038d-e1d1-4d99-8736-1088899ad0c2', metadata={'source': 'mammal-pets-doc'}, page_content='Cats are independent pets that often enjoy their own space.')],\n",
       " [Document(id='8deebe60-37ab-4f5c-958d-3a40ab7fb08d', metadata={'source': 'mammal-pets-doc'}, page_content='Dogs are great companions, known for their loyalty and friendliness.')]]"
      ]
     },
     "execution_count": 10,
     "metadata": {},
     "output_type": "execute_result"
    }
   ],
   "source": [
    "from typing import List\n",
    "\n",
    "from langchain_core.documents import Document\n",
    "from langchain_core.runnables import RunnableLambda\n",
    "\n",
    "retriever=RunnableLambda(vectorstore.similarity_search).bind(k=1)\n",
    "retriever.batch([\"cat\",\"dog\"])"
   ]
  },
  {
   "cell_type": "markdown",
   "metadata": {},
   "source": [
    "Vectorstores implement an as_retriever method that will generate a Retriever, specifically a VectorStoreRetriever. These retrievers include specific search_type and search_kwargs attributes that identify what methods of the underlying vector store to call, and how to parameterize them. For instance, we can replicate the above with the following:"
   ]
  },
  {
   "cell_type": "code",
   "execution_count": 11,
   "metadata": {},
   "outputs": [
    {
     "data": {
      "text/plain": [
       "[[Document(id='460e038d-e1d1-4d99-8736-1088899ad0c2', metadata={'source': 'mammal-pets-doc'}, page_content='Cats are independent pets that often enjoy their own space.')],\n",
       " [Document(id='8deebe60-37ab-4f5c-958d-3a40ab7fb08d', metadata={'source': 'mammal-pets-doc'}, page_content='Dogs are great companions, known for their loyalty and friendliness.')]]"
      ]
     },
     "execution_count": 11,
     "metadata": {},
     "output_type": "execute_result"
    }
   ],
   "source": [
    "retriever=vectorstore.as_retriever(\n",
    "    search_type=\"similarity\",\n",
    "    search_kwargs={\"k\":1}\n",
    ")\n",
    "retriever.batch([\"cat\",\"dog\"])\n"
   ]
  },
  {
   "cell_type": "code",
   "execution_count": null,
   "metadata": {},
   "outputs": [
    {
     "name": "stdout",
     "output_type": "stream",
     "text": [
      "According to the context, dogs are great companions, known for their loyalty and friendliness.\n"
     ]
    }
   ],
   "source": [
    "## RAG\n",
    "from langchain_core.prompts import ChatPromptTemplate\n",
    "from langchain_core.runnables import RunnablePassthrough\n",
    "\n",
    "# Define a prompt template that formats a user's question with retrieved context.\n",
    "# It uses a \"human\" message to simulate a human chat input to the model.\n",
    "message = \"\"\"\n",
    "Answer this question using the provided context only.\n",
    "\n",
    "{question}\n",
    "\n",
    "Context:\n",
    "{context}\n",
    "\"\"\"\n",
    "# Convert the message string into a ChatPromptTemplate for use with an LLM.\n",
    "prompt = ChatPromptTemplate.from_messages([(\"human\", message)])\n",
    "\n",
    "# Create a RAG (Retrieval-Augmented Generation) chain:\n",
    "# - \"context\" is retrieved using a retriever (typically a vectorstore retriever)\n",
    "# - \"question\" is passed as-is using RunnablePassthrough()\n",
    "# - The prompt then combines both into a final query\n",
    "# - The output goes to the LLM\n",
    "rag_chain = {\"context\": retriever, \"question\": RunnablePassthrough()} | prompt | llm\n",
    "\n",
    "# Invoke the RAG chain with a user question.\n",
    "# The retriever will fetch relevant documents, which will be passed to the prompt along with the question.\n",
    "response = rag_chain.invoke(\"tell me about dogs\")\n",
    "\n",
    "# Print the model's response content.\n",
    "print(response.content)\n",
    "\n"
   ]
  },
  {
   "cell_type": "code",
   "execution_count": null,
   "metadata": {},
   "outputs": [],
   "source": []
  }
 ],
 "metadata": {
  "kernelspec": {
   "display_name": "huggingface",
   "language": "python",
   "name": "python3"
  },
  "language_info": {
   "codemirror_mode": {
    "name": "ipython",
    "version": 3
   },
   "file_extension": ".py",
   "mimetype": "text/x-python",
   "name": "python",
   "nbconvert_exporter": "python",
   "pygments_lexer": "ipython3",
   "version": "3.12.3"
  }
 },
 "nbformat": 4,
 "nbformat_minor": 2
}
