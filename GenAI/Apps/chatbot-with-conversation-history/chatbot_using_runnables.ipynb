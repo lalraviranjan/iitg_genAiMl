{
 "cells": [
  {
   "cell_type": "code",
   "execution_count": 1,
   "id": "06f0d1a6",
   "metadata": {},
   "outputs": [],
   "source": [
    "import os\n",
    "from dotenv import load_dotenv\n",
    "# Loads environment variables from a .env file into your system's environment.\n",
    "load_dotenv()\n",
    "groq_api_key = os.getenv(\"GROQ_API_KEY\")"
   ]
  },
  {
   "cell_type": "code",
   "execution_count": 2,
   "id": "fd1c287f",
   "metadata": {},
   "outputs": [
    {
     "data": {
      "text/plain": [
       "ChatGroq(client=<groq.resources.chat.completions.Completions object at 0x000002326A735A90>, async_client=<groq.resources.chat.completions.AsyncCompletions object at 0x000002326A736C30>, model_name='Gemma2-9b-it', model_kwargs={}, groq_api_key=SecretStr('**********'))"
      ]
     },
     "execution_count": 2,
     "metadata": {},
     "output_type": "execute_result"
    }
   ],
   "source": [
    "from langchain_groq import ChatGroq\n",
    "\n",
    "model = ChatGroq(api_key=groq_api_key, model=\"Gemma2-9b-it\")\n",
    "model"
   ]
  },
  {
   "cell_type": "markdown",
   "id": "8fe73388",
   "metadata": {},
   "source": [
    "#### Using manual update with AIMesage to see Conversation History"
   ]
  },
  {
   "cell_type": "code",
   "execution_count": 3,
   "id": "bd4bce99",
   "metadata": {},
   "outputs": [
    {
     "data": {
      "text/plain": [
       "AIMessage(content=\"Hi Ravi, it's nice to meet you! \\n\\nThat's great that you're a software engineer and aspiring AI engineer. It's a really exciting field with lots of opportunities.  \\n\\nWhat aspects of AI are you most interested in? Do you have any specific projects or areas you're hoping to explore? \\n\\nI'm happy to chat about AI, answer any questions you have, or even help you brainstorm ideas if you'd like.\\n\", additional_kwargs={}, response_metadata={'token_usage': {'completion_tokens': 100, 'prompt_tokens': 26, 'total_tokens': 126, 'completion_time': 0.181818182, 'prompt_time': 0.002244774, 'queue_time': 0.230675411, 'total_time': 0.184062956}, 'model_name': 'Gemma2-9b-it', 'system_fingerprint': 'fp_10c08bf97d', 'finish_reason': 'stop', 'logprobs': None}, id='run-0c3e74e1-ed0b-4ec5-ac56-37d06d4acfd7-0', usage_metadata={'input_tokens': 26, 'output_tokens': 100, 'total_tokens': 126})"
      ]
     },
     "execution_count": 3,
     "metadata": {},
     "output_type": "execute_result"
    }
   ],
   "source": [
    "from langchain_core.messages import HumanMessage\n",
    "model.invoke([HumanMessage(content=\"Hi, My name is Ravi, I am a Software Engineer and an aspiring AI Engineer\")])"
   ]
  },
  {
   "cell_type": "code",
   "execution_count": 4,
   "id": "339231a2",
   "metadata": {},
   "outputs": [
    {
     "data": {
      "text/plain": [
       "AIMessage(content=\"You told me your profession is a **Software Engineer** and that you are an aspiring **AI Engineer**. \\n\\nIs there anything else you'd like to know or discuss? 😊  \\n\\n\", additional_kwargs={}, response_metadata={'token_usage': {'completion_tokens': 42, 'prompt_tokens': 70, 'total_tokens': 112, 'completion_time': 0.076363636, 'prompt_time': 0.003637161, 'queue_time': 0.235664751, 'total_time': 0.080000797}, 'model_name': 'Gemma2-9b-it', 'system_fingerprint': 'fp_10c08bf97d', 'finish_reason': 'stop', 'logprobs': None}, id='run-bc198c20-08f6-4209-977f-a9195a74f20a-0', usage_metadata={'input_tokens': 70, 'output_tokens': 42, 'total_tokens': 112})"
      ]
     },
     "execution_count": 4,
     "metadata": {},
     "output_type": "execute_result"
    }
   ],
   "source": [
    "from langchain_core.messages import AIMessage\n",
    "# Using the `model.invoke` method to simulate a conversation with the chatbot.\n",
    "# The conversation includes:\n",
    "# 1. A HumanMessage introducing the user as Ravi, a Software Engineer and aspiring AI Engineer.\n",
    "# 2. An AIMessage responding to Ravi's introduction.\n",
    "# 3. A follow-up HumanMessage asking the chatbot to recall Ravi's profession.\n",
    "# This demonstrates how the chatbot can remember and respond based on the conversation history.\n",
    "model.invoke(\n",
    "    [\n",
    "        HumanMessage(content=\"Hi, My name is Ravi, I am a Software Engineer and an aspiring AI Engineer\"),\n",
    "        AIMessage(content=\"Hi Ravi, it's nice to meet you!\\n\\nIt's great to hear that you're a Software Engineer and aspiring AI Engineer.\"),\n",
    "        HumanMessage(content=\"whats my profession?\"),\n",
    "    ]\n",
    ") \n",
    "# So, this is used to remember conversation history and provide context-aware responses."
   ]
  },
  {
   "cell_type": "markdown",
   "id": "b2b80186",
   "metadata": {},
   "source": [
    "#### What is **Message History** in an AI Chatbot?\n",
    "\n",
    "In the context of AI chatbots, **message history** refers to the **persistent or temporary memory of the past exchanges** between the user and the chatbot — including both the user's inputs and the model's outputs.\n",
    "\n",
    "This **conversation history** helps make the chatbot **stateful**, meaning it can **\"remember\" previous messages** and **respond in a more coherent and context-aware way**.\n",
    "\n",
    "---\n",
    "\n",
    "#### Why is Message History Important?\n",
    "\n",
    "Most LLMs (like GPT, Claude, etc.) are **stateless by default**, which means:\n",
    "- Every prompt is treated **independently**, unless you **manually provide context**.\n",
    "- Without message history, the bot would \"forget\" what was said earlier in the conversation.\n",
    "\n",
    "So to **maintain context**, we pass prior messages along with the new user message in the prompt to the model."
   ]
  },
  {
   "cell_type": "markdown",
   "id": "a158d4c0",
   "metadata": {},
   "source": [
    "#### Using ChatMessage History for Convertaion History"
   ]
  },
  {
   "cell_type": "code",
   "execution_count": 5,
   "id": "25455d4b",
   "metadata": {},
   "outputs": [],
   "source": [
    "from langchain_community.chat_message_histories import ChatMessageHistory\n",
    "from langchain_core.chat_history import BaseChatMessageHistory\n",
    "from langchain_core.runnables.history import RunnableWithMessageHistory\n",
    "\n",
    "# This is an in-memory store that maps each unique session ID (like a user's chat session) to its own ChatMessageHistory.\n",
    "# Think of it like a cache that holds ongoing conversations by session_id.\n",
    "store = {}\n",
    "\n",
    "# This function checks if a message history exists for the given session, If not, it initializes a new ChatMessageHistory() object and stores it in store using the session_id as the key\n",
    "def get_session_history(session_id:str)->BaseChatMessageHistory:\n",
    "    if session_id not in store:\n",
    "        store[session_id] = ChatMessageHistory()\n",
    "    return store[session_id]\n",
    "\n",
    "#  Wrap your model with RunnableWithMessageHistory\n",
    "# It calls your get_session_history() function to retrieve or initialize history for a given session ID, It loads all prior messages (Human and AI) from the history store\n",
    "# It appends the new human message to that history, It sends the entire message list to the model or chain and It stores the model’s response as an AI message back into the history\n",
    "with_message_history = RunnableWithMessageHistory(model, get_session_history)"
   ]
  },
  {
   "cell_type": "code",
   "execution_count": 6,
   "id": "bd84cd15",
   "metadata": {},
   "outputs": [],
   "source": [
    "# It creates a config dictionary that is passed to .invoke() in RunnableWithMessageHistory. This tells LangChain which conversation session to use\n",
    "config = {\"configurable\":{\"session_id\":\"chat1\"}}"
   ]
  },
  {
   "cell_type": "code",
   "execution_count": 7,
   "id": "04d5e604",
   "metadata": {},
   "outputs": [],
   "source": [
    "# If you use the same session_id, your chatbot will remember past messages — even across multiple .invoke() calls.\n",
    "response = with_message_history.invoke(\n",
    "    [\n",
    "        HumanMessage(content=\"Hi, My name is Ravi, I am a Software Engineer and an aspiring AI Engineer\"),\n",
    "    ],\n",
    "    config=config\n",
    ")"
   ]
  },
  {
   "cell_type": "code",
   "execution_count": 8,
   "id": "6c2c8d80",
   "metadata": {},
   "outputs": [
    {
     "name": "stdout",
     "output_type": "stream",
     "text": [
      "Hi Ravi, it's nice to meet you!\n",
      "\n",
      "It's great to hear that you're a Software Engineer and aspiring AI Engineer.  That's a really exciting field to be in.  \n",
      "\n",
      "Do you have any specific areas of AI that you're most interested in?  Or perhaps some projects you're working on or thinking about working on? I'd love to hear more about your goals and aspirations.\n",
      "\n"
     ]
    }
   ],
   "source": [
    "print(response.content)"
   ]
  },
  {
   "cell_type": "code",
   "execution_count": 9,
   "id": "58594f98",
   "metadata": {},
   "outputs": [],
   "source": [
    "# Change the config with session id\n",
    "# config1 = {\"configurable\":{\"session_id\":\"chat2\"}}\n",
    "response = with_message_history.invoke(\n",
    "    [\n",
    "        HumanMessage(content=\"Whats my name\")\n",
    "    ],\n",
    "    config=config\n",
    ")"
   ]
  },
  {
   "cell_type": "code",
   "execution_count": 10,
   "id": "5d000b4d",
   "metadata": {},
   "outputs": [
    {
     "name": "stdout",
     "output_type": "stream",
     "text": [
      "Your name is Ravi.  \n",
      "\n",
      "I remember that from our introduction! 😊 \n",
      "\n",
      "Is there anything else I can help you with?\n",
      "\n"
     ]
    }
   ],
   "source": [
    "print(response.content)"
   ]
  },
  {
   "cell_type": "code",
   "execution_count": 11,
   "id": "b9af1ada",
   "metadata": {},
   "outputs": [],
   "source": [
    "response = with_message_history.invoke(\n",
    "    [\n",
    "        HumanMessage(content=\"I wanted to be an IAS officer.\")\n",
    "    ],\n",
    "    config=config\n",
    ")"
   ]
  },
  {
   "cell_type": "code",
   "execution_count": 12,
   "id": "db306a2b",
   "metadata": {},
   "outputs": [
    {
     "name": "stdout",
     "output_type": "stream",
     "text": [
      "That's fantastic, Ravi!  Becoming an IAS officer is a very admirable goal. \n",
      "\n",
      "It requires dedication, hard work, and a strong commitment to public service. What aspects of the role appeal to you the most?  \n",
      "\n",
      "I'm happy to chat with you more about your aspirations if you'd like.  Perhaps you have questions about the process, or you want to brainstorm ways to prepare.  I'm here to listen and offer any support I can.\n",
      "\n"
     ]
    }
   ],
   "source": [
    "print(response.content)"
   ]
  },
  {
   "cell_type": "code",
   "execution_count": 13,
   "id": "39b7422f",
   "metadata": {},
   "outputs": [],
   "source": [
    "response = with_message_history.invoke(\n",
    "    [\n",
    "        HumanMessage(content=\"Whats my profession and whats my future plan?\")\n",
    "    ],\n",
    "    config=config\n",
    ")"
   ]
  },
  {
   "cell_type": "code",
   "execution_count": 14,
   "id": "a2e808a7",
   "metadata": {},
   "outputs": [
    {
     "name": "stdout",
     "output_type": "stream",
     "text": [
      "Based on our conversation, you are currently a Software Engineer and aspire to become an AI Engineer. \n",
      "\n",
      "You also mentioned wanting to be an IAS officer, which shows you have diverse and ambitious goals! \n",
      "\n",
      "Is there one path you're currently focusing on more than the others? \n",
      "\n",
      "\n",
      "I'm here to help you explore any of these paths further if you'd like.\n",
      "\n"
     ]
    }
   ],
   "source": [
    "print(response.content)"
   ]
  },
  {
   "cell_type": "code",
   "execution_count": 15,
   "id": "0e95c7ea",
   "metadata": {},
   "outputs": [
    {
     "name": "stdout",
     "output_type": "stream",
     "text": [
      "You said you wanted to become an IAS officer!  \n",
      "\n",
      "It's a challenging but rewarding career path.  \n",
      "\n",
      "Is there anything specific about that role that interests you?  Or perhaps you have some questions about what it takes to become an IAS officer? I'm happy to help you explore it further.\n",
      "\n"
     ]
    }
   ],
   "source": [
    "response = with_message_history.invoke(\n",
    "    [\n",
    "        HumanMessage(content=\"What I wanted to become?\")\n",
    "    ],\n",
    "    config=config\n",
    ")\n",
    "print(response.content)"
   ]
  },
  {
   "cell_type": "code",
   "execution_count": 16,
   "id": "6546e5d8",
   "metadata": {},
   "outputs": [
    {
     "name": "stdout",
     "output_type": "stream",
     "text": [
      "Yes, I remember your name is Ravi!  😊 \n",
      "\n",
      "Is there anything else I can help you with today?\n",
      "\n"
     ]
    }
   ],
   "source": [
    "response = with_message_history.invoke(\n",
    "    [\n",
    "        HumanMessage(content=\"Do you remember by Name?\")\n",
    "    ],\n",
    "    config=config\n",
    ")\n",
    "print(response.content)"
   ]
  },
  {
   "cell_type": "code",
   "execution_count": 17,
   "id": "2fcc0c79",
   "metadata": {},
   "outputs": [
    {
     "name": "stdout",
     "output_type": "stream",
     "text": [
      "{'chat1': InMemoryChatMessageHistory(messages=[HumanMessage(content='Hi, My name is Ravi, I am a Software Engineer and an aspiring AI Engineer', additional_kwargs={}, response_metadata={}), AIMessage(content=\"Hi Ravi, it's nice to meet you!\\n\\nIt's great to hear that you're a Software Engineer and aspiring AI Engineer.  That's a really exciting field to be in.  \\n\\nDo you have any specific areas of AI that you're most interested in?  Or perhaps some projects you're working on or thinking about working on? I'd love to hear more about your goals and aspirations.\\n\", additional_kwargs={}, response_metadata={'token_usage': {'completion_tokens': 92, 'prompt_tokens': 26, 'total_tokens': 118, 'completion_time': 0.167272727, 'prompt_time': 0.002119915, 'queue_time': 0.23469589, 'total_time': 0.169392642}, 'model_name': 'Gemma2-9b-it', 'system_fingerprint': 'fp_10c08bf97d', 'finish_reason': 'stop', 'logprobs': None}, id='run-634c97e4-024d-4b1a-a25c-20c3aa82a55a-0', usage_metadata={'input_tokens': 26, 'output_tokens': 92, 'total_tokens': 118}), HumanMessage(content='Whats my name', additional_kwargs={}, response_metadata={}), AIMessage(content='Your name is Ravi.  \\n\\nI remember that from our introduction! 😊 \\n\\nIs there anything else I can help you with?\\n', additional_kwargs={}, response_metadata={'token_usage': {'completion_tokens': 30, 'prompt_tokens': 129, 'total_tokens': 159, 'completion_time': 0.054545455, 'prompt_time': 0.006772024, 'queue_time': 0.236320796, 'total_time': 0.061317479}, 'model_name': 'Gemma2-9b-it', 'system_fingerprint': 'fp_10c08bf97d', 'finish_reason': 'stop', 'logprobs': None}, id='run-cdbf97bc-2ad4-4ec2-8769-a999ba0cc10a-0', usage_metadata={'input_tokens': 129, 'output_tokens': 30, 'total_tokens': 159}), HumanMessage(content='I wanted to be an IAS officer.', additional_kwargs={}, response_metadata={}), AIMessage(content=\"That's fantastic, Ravi!  Becoming an IAS officer is a very admirable goal. \\n\\nIt requires dedication, hard work, and a strong commitment to public service. What aspects of the role appeal to you the most?  \\n\\nI'm happy to chat with you more about your aspirations if you'd like.  Perhaps you have questions about the process, or you want to brainstorm ways to prepare.  I'm here to listen and offer any support I can.\\n\", additional_kwargs={}, response_metadata={'token_usage': {'completion_tokens': 101, 'prompt_tokens': 175, 'total_tokens': 276, 'completion_time': 0.183636364, 'prompt_time': 0.010640454, 'queue_time': 0.242705056, 'total_time': 0.194276818}, 'model_name': 'Gemma2-9b-it', 'system_fingerprint': 'fp_10c08bf97d', 'finish_reason': 'stop', 'logprobs': None}, id='run-7153ece1-36e9-4790-b104-b967bc8ae638-0', usage_metadata={'input_tokens': 175, 'output_tokens': 101, 'total_tokens': 276}), HumanMessage(content='Whats my profession and whats my future plan?', additional_kwargs={}, response_metadata={}), AIMessage(content=\"Based on our conversation, you are currently a Software Engineer and aspire to become an AI Engineer. \\n\\nYou also mentioned wanting to be an IAS officer, which shows you have diverse and ambitious goals! \\n\\nIs there one path you're currently focusing on more than the others? \\n\\n\\nI'm here to help you explore any of these paths further if you'd like.\\n\", additional_kwargs={}, response_metadata={'token_usage': {'completion_tokens': 81, 'prompt_tokens': 293, 'total_tokens': 374, 'completion_time': 0.147272727, 'prompt_time': 0.049439532, 'queue_time': 0.23355416, 'total_time': 0.196712259}, 'model_name': 'Gemma2-9b-it', 'system_fingerprint': 'fp_10c08bf97d', 'finish_reason': 'stop', 'logprobs': None}, id='run-4aa58f16-b863-4828-8471-1f255309cad5-0', usage_metadata={'input_tokens': 293, 'output_tokens': 81, 'total_tokens': 374}), HumanMessage(content='What I wanted to become?', additional_kwargs={}, response_metadata={}), AIMessage(content=\"You said you wanted to become an IAS officer!  \\n\\nIt's a challenging but rewarding career path.  \\n\\nIs there anything specific about that role that interests you?  Or perhaps you have some questions about what it takes to become an IAS officer? I'm happy to help you explore it further.\\n\", additional_kwargs={}, response_metadata={'token_usage': {'completion_tokens': 66, 'prompt_tokens': 388, 'total_tokens': 454, 'completion_time': 0.12, 'prompt_time': 0.014307016, 'queue_time': 0.235356482, 'total_time': 0.134307016}, 'model_name': 'Gemma2-9b-it', 'system_fingerprint': 'fp_10c08bf97d', 'finish_reason': 'stop', 'logprobs': None}, id='run-0644ab1c-2517-4e27-a69a-657b931da829-0', usage_metadata={'input_tokens': 388, 'output_tokens': 66, 'total_tokens': 454}), HumanMessage(content='Do you remember by Name?', additional_kwargs={}, response_metadata={}), AIMessage(content='Yes, I remember your name is Ravi!  😊 \\n\\nIs there anything else I can help you with today?\\n', additional_kwargs={}, response_metadata={'token_usage': {'completion_tokens': 27, 'prompt_tokens': 468, 'total_tokens': 495, 'completion_time': 0.049090909, 'prompt_time': 0.027292365, 'queue_time': 0.23243778600000004, 'total_time': 0.076383274}, 'model_name': 'Gemma2-9b-it', 'system_fingerprint': 'fp_10c08bf97d', 'finish_reason': 'stop', 'logprobs': None}, id='run-1d19e58c-bda4-47da-a7a2-1440d496079e-0', usage_metadata={'input_tokens': 468, 'output_tokens': 27, 'total_tokens': 495})])}\n"
     ]
    }
   ],
   "source": [
    "print(store)"
   ]
  }
 ],
 "metadata": {
  "kernelspec": {
   "display_name": "huggingface",
   "language": "python",
   "name": "python3"
  },
  "language_info": {
   "codemirror_mode": {
    "name": "ipython",
    "version": 3
   },
   "file_extension": ".py",
   "mimetype": "text/x-python",
   "name": "python",
   "nbconvert_exporter": "python",
   "pygments_lexer": "ipython3",
   "version": "3.12.3"
  }
 },
 "nbformat": 4,
 "nbformat_minor": 5
}
