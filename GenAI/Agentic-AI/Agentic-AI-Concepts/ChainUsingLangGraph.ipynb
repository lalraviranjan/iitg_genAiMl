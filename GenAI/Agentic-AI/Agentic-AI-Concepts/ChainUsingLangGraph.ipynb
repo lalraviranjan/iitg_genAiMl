{
 "cells": [
  {
   "cell_type": "markdown",
   "id": "7f2d62d5",
   "metadata": {},
   "source": [
    "### Chain Using LangGraph\n",
    "In this section we will see how we can build a simple chain using Langgraph that uses 4 important concepts\n",
    "\n",
    "- How to use chat messages as our graph state\n",
    "- How to use chat models in graph nodes\n",
    "- How to bind tools to our LLM in chat models\n",
    "- How to execute the tools call in our graph nodes "
   ]
  },
  {
   "cell_type": "code",
   "execution_count": 21,
   "id": "61bf6944",
   "metadata": {},
   "outputs": [
    {
     "data": {
      "text/plain": [
       "True"
      ]
     },
     "execution_count": 21,
     "metadata": {},
     "output_type": "execute_result"
    }
   ],
   "source": [
    "import os\n",
    "from dotenv import load_dotenv\n",
    "load_dotenv()"
   ]
  },
  {
   "cell_type": "markdown",
   "id": "e3a8d192",
   "metadata": {},
   "source": [
    "#### How to use chat messages as our graph state\n",
    "##### Messages\n",
    "\n",
    "We can use messages which can be used to capture different roles within a conversation.\n",
    "LangChain has various message types including HumanMessage, AIMessage, SystemMessage and ToolMessage.\n",
    "These represent a message from the user, from chat model, for the chat model to instruct behavior, and from a tool call.\n",
    "\n",
    "Every message have these important components.\n",
    "\n",
    "- content - content of the message\n",
    "- name - Specify the name of author\n",
    "- response_metadata - optionally, a dict of metadata (e.g., often populated by model provider for AIMessages)"
   ]
  },
  {
   "cell_type": "code",
   "execution_count": 22,
   "id": "43ec7064",
   "metadata": {},
   "outputs": [
    {
     "name": "stdout",
     "output_type": "stream",
     "text": [
      "==================================\u001b[1m Ai Message \u001b[0m==================================\n",
      "Name: LLMModel\n",
      "\n",
      "Please tell me how can I help\n",
      "================================\u001b[1m Human Message \u001b[0m=================================\n",
      "Name: Ravi\n",
      "\n",
      "I want to learn coding\n",
      "==================================\u001b[1m Ai Message \u001b[0m==================================\n",
      "Name: LLMModel\n",
      "\n",
      "Which programming language you want to learn\n",
      "================================\u001b[1m Human Message \u001b[0m=================================\n",
      "Name: Ravi\n",
      "\n",
      "I want to learn python programming language\n"
     ]
    }
   ],
   "source": [
    "from langchain_core.messages import AIMessage,HumanMessage\n",
    "from pprint import pprint\n",
    "\n",
    "# example of using messages with manual appending of messages\n",
    "messages=[AIMessage(content=f\"Please tell me how can I help\",name=\"LLMModel\")]\n",
    "messages.append(HumanMessage(content=f\"I want to learn coding\",name=\"Ravi\"))\n",
    "messages.append(AIMessage(content=f\"Which programming language you want to learn\",name=\"LLMModel\"))\n",
    "messages.append(HumanMessage(content=f\"I want to learn python programming language\",name=\"Ravi\"))\n",
    "\n",
    "for message in messages:\n",
    "    message.pretty_print()\n"
   ]
  },
  {
   "cell_type": "code",
   "execution_count": 23,
   "id": "eff9b248",
   "metadata": {},
   "outputs": [
    {
     "name": "stdout",
     "output_type": "stream",
     "text": [
      "Response from LLM:\n",
      "AIMessage(content='\\n<think>\\nOkay, the user wants to learn Python. Let me start by breaking down the best steps for a beginner. First, they\\'ll need to install Python. I should mention the official website and maybe recommend using Python 3.11 or the latest stable version. Then, an IDE or text editor is important. PyCharm, VS Code, and Jupyter Notebook are popular choices. I should list those with some brief descriptions.\\n\\nNext, learning the basics is crucial. They\\'ll need to understand syntax, data types, control structures, functions, and OOP. Maybe suggest some key topics to focus on. Then, practical projects are essential for applying knowledge. Simple projects like a calculator or to-do list can help. I should give a few examples.\\n\\nResources are the next step. Free resources like Codecademy, freeCodeCamp, and official documentation are good. Books like \"Python Crash Course\" are also recommended. Online courses from Coursera or Udemy could be mentioned too. Maybe include some YouTube channels for visual learners.\\n\\nJoining communities like Stack Overflow, Reddit, or Discord groups can offer support. Encourage practice through platforms like LeetCode or HackerRank. Also, setting up a consistent study schedule and tracking progress are important for staying motivated.\\n\\nAdvanced topics can be introduced once they\\'re comfortable with the basics. Mention web development with Django/Flask, data science with libraries like Pandas, automation scripts, and maybe contributing to open source. Emphasize patience and persistence, since learning takes time.\\n\\nWait, I should make sure the advice is structured and not overwhelming. Maybe list everything in bullet points or numbered steps. Also, check if there are any common pitfalls beginners face, like not practicing enough or skipping fundamentals. Maybe mention the importance of writing code daily and seeking help when stuck. Alright, putting it all together in a clear, encouraging way.\\n</think>\\n\\nGreat choice! Python is an excellent language for beginners due to its simplicity, versatility, and wide range of applications (web development, data science, AI, automation, etc.). Here’s a step-by-step guide to help you learn Python effectively:\\n\\n---\\n\\n### **1. Install Python**\\n- **Download Python**: Go to the [official Python website](https://www.python.org/) and download the latest version (Python 3.11+ is recommended). Follow the installation instructions for your operating system (Windows, macOS, or Linux).\\n- **Verify Installation**: Open a terminal/command prompt and type `python --version` to ensure it installed correctly.\\n\\n---\\n\\n### **2. Choose an IDE/Text Editor**\\nPick a tool to write and run Python code:\\n- **PyCharm**: A dedicated Python IDE with advanced features (community edition is free).\\n- **VS Code**: Lightweight and customizable with extensions like **Python** and **Jupyter**.\\n- **Jupyter Notebook**: Great for data science and interactive coding.\\n- **Sublime Text/Atom**: Lightweight text editors with Python syntax support.\\n\\n---\\n\\n### **3. Learn the Basics**\\nStart with the fundamentals of Python:\\n- **Syntax**: Indentation, variables, data types (strings, integers, lists, dictionaries).\\n- **Control Structures**: `if`, `else`, `for` loops, `while` loops.\\n- **Functions**: Writing and calling functions with parameters.\\n- **Error Handling**: `try`, `except`, `finally`.\\n- **Object-Oriented Programming (OOP)**: Classes, objects, inheritance, and polymorphism.\\n- **Standard Libraries**: Explore modules like `os`, `datetime`, and `random`.\\n\\n---\\n\\n### **4. Practice Coding**\\n- **Start Simple**: Write small programs like:\\n  - A \"Hello, World!\" script.\\n  - A calculator that adds/subtracts numbers.\\n  - A to-do list manager.\\n- **Build Projects**: Gradually tackle more complex projects:\\n  - A web scraper using `requests` and `BeautifulSoup`.\\n  - A data analysis project with `pandas` and `matplotlib`.\\n  - A simple game (e.g., \"Guess the Number\" or \"Hangman\").\\n\\n---\\n\\n### **5. Use Free Resources**\\n- **Beginner-Friendly Tutorials**:\\n  - [Python.org Beginner’s Guide](https://wiki.python.org/moin/BeginnersGuide)\\n  - [Codecademy’s Python Course](https://www.codecademy.com/learn/learn-python-3)\\n  - [freeCodeCamp Python Playlist](https://www.youtube.com/playlist?list=PLWKjhJtqVblZZ-85J7K05LDnlym7Gg7AM)\\n  - [Automate the Boring Stuff with Python](https://automatetheboringstuff.com/) (free online book).\\n- **Documentation**: Always refer to the [official Python documentation](https://docs.python.org/3/).\\n- **YouTube Channels**:\\n  - **Corey Schafer’s Python Tutorials** (comprehensive and clear).\\n  - **Sentdex** (practical projects and data science).\\n\\n---\\n\\n### **6. Learn Key Libraries/Tools**\\nOnce comfortable with basics, dive into specialized areas:\\n- **Data Science**: `pandas`, `numpy`, `matplotlib`, `seaborn`.\\n- **Web Development**: `Django` or `Flask`.\\n- **Automation**: `selenium` for web automation, `paramiko` for system tasks.\\n- **Machine Learning**: `scikit-learn`, `TensorFlow`, `PyTorch`.\\n\\n---\\n\\n### **7. Join Communities**\\n- **Ask Questions**: Stack Overflow, Reddit’s r/learnpython, or Discord communities.\\n- **Open Source Contributions**: Contribute to projects on [GitHub](https://github.com/).\\n- **Online Forums**: Check out [Python.org’s community page](https://www.python.org/community/).\\n\\n---\\n\\n### **8. Recommended Books**\\n- *[Python Crash Course](https://www.amazon.com/Python-Crash-Course-2nd-Edition/dp/1593279280)* by Eric Matthes (practical projects).\\n- *[Fluent Python](https://www.amazon.com/Fluent-Python-Lucio-Bragantini/dp/1491940026)* by Luciano Ramalho (for intermediate/advanced learners).\\n- *[Automate the Boring Stuff](https://automatetheboringstuff.com/)* (free online).\\n\\n---\\n\\n### **9. Practice Daily**\\n- **Code Challenges**: Solve problems on platforms like:\\n  - [LeetCode](https://leetcode.com/) (algorithms and coding interviews).\\n  - [HackerRank](https://www.hackerrank.com/).\\n- **Build Projects**: Host them on GitHub to track progress and showcase skills.\\n\\n---\\n\\n### **10. Stay Curious and Explore**\\n- **Read Other People’s Code**: Study open-source projects on GitHub.\\n- **Tinker**: Experiment with APIs, build bots, or automate tasks.\\n- **Stay Updated**: Follow blogs like [Real Python](https://realpython.com/) or [Full Stack Python](https://www.fullstackpython.com/).\\n\\n---\\n\\n### **Bonus Tips**\\n- **Start Small**: Focus on one topic at a time (e.g., finish a project before moving to advanced libraries).\\n- **Document Your Code**: Write comments and use docstrings to explain your logic.\\n- **Debugging**: Learn to use `print()` statements or debuggers to troubleshoot errors.\\n\\n---\\n\\n### **Example Project Ideas**\\n- A **weather app** that fetches data from an API.\\n- A **password manager** with encryption.\\n- A **web scraper** to collect data from websites.\\n- A **game** like Snake or Tic-Tac-Toe.\\n\\n---\\n\\n### **Need Help with a Specific Topic?**\\nLet me know if you’d like detailed guidance on:\\n- Setting up your first Python environment.\\n- Writing your first script.\\n- Debugging common errors.\\n- Choosing a project to start with.\\n\\nYou’ve got this! 🚀 Consistency and practice are key—happy coding!', additional_kwargs={}, response_metadata={'token_usage': {'completion_tokens': 1659, 'prompt_tokens': 56, 'total_tokens': 1715, 'completion_time': 4.098731666, 'prompt_time': 0.016042103, 'queue_time': 10.028576476, 'total_time': 4.114773769}, 'model_name': 'qwen-qwq-32b', 'system_fingerprint': 'fp_1e88ca32eb', 'finish_reason': 'stop', 'logprobs': None}, id='run-fa5951b3-8d8a-48ec-bfbf-00e7f8e8a7b0-0', usage_metadata={'input_tokens': 56, 'output_tokens': 1659, 'total_tokens': 1715})\n"
     ]
    }
   ],
   "source": [
    "from langchain_groq import ChatGroq\n",
    "import os\n",
    "from dotenv import load_dotenv\n",
    "load_dotenv()\n",
    "\n",
    "llm = ChatGroq(api_key=os.getenv('GROQ_API_KEY'), model=\"qwen-qwq-32b\")\n",
    "response = llm(messages)\n",
    "print(\"Response from LLM:\")\n",
    "pprint(response)"
   ]
  },
  {
   "cell_type": "markdown",
   "id": "5613c848",
   "metadata": {},
   "source": [
    "### Tools in Agentic AI\n",
    "Tools can be integrated with the LLM models to interact with external systems. External systems can be API's, third party tools or LLMs.\n",
    "\n",
    "Whenever a query is asked the model can choose to call the tool and this query is based on the \n",
    "natural language input and this will return an output that matches the tool's schema"
   ]
  },
  {
   "cell_type": "code",
   "execution_count": 24,
   "id": "924a9b05",
   "metadata": {},
   "outputs": [],
   "source": [
    "def add(a:int,b:int)->int:\n",
    "    \"\"\"\n",
    "    This function adds two numbers\n",
    "    Args:\n",
    "        a (int): first number\n",
    "        b (int): second number\n",
    "    Returns:\n",
    "        int: sum of a and b\n",
    "    \"\"\"\n",
    "    return a+b"
   ]
  },
  {
   "cell_type": "markdown",
   "id": "615cd4da",
   "metadata": {},
   "source": [
    "#### Binding tool with LLM"
   ]
  },
  {
   "cell_type": "code",
   "execution_count": 25,
   "id": "61c486ae",
   "metadata": {},
   "outputs": [],
   "source": [
    "# example of using messages with tool calling, binding the tool to the LLM\n",
    "llm_with_tool = llm.bind_tools([add])\n",
    "\n",
    "# invoke the LLM with a tool call, this will call the tool with the input\n",
    "tool_call = llm_with_tool.invoke([HumanMessage(content=\"What is 10 plus 2?\", name=\"Ravi\")])"
   ]
  },
  {
   "cell_type": "code",
   "execution_count": 26,
   "id": "f2a704d1",
   "metadata": {},
   "outputs": [
    {
     "data": {
      "text/plain": [
       "[{'name': 'add',\n",
       "  'args': {'a': 10, 'b': 2},\n",
       "  'id': 'call_y7zx',\n",
       "  'type': 'tool_call'}]"
      ]
     },
     "execution_count": 26,
     "metadata": {},
     "output_type": "execute_result"
    }
   ],
   "source": [
    "# here we can see the tool call in the response, this mentions the tool name and the arguments\n",
    "tool_call.tool_calls"
   ]
  },
  {
   "cell_type": "markdown",
   "id": "70679c45",
   "metadata": {},
   "source": [
    "### Using Messages as State with Reducers"
   ]
  },
  {
   "cell_type": "code",
   "execution_count": 27,
   "id": "3e68c3e4",
   "metadata": {},
   "outputs": [],
   "source": [
    "from typing_extensions import TypedDict\n",
    "from langchain_core.messages import AnyMessage\n",
    "\n",
    "class State(TypedDict):\n",
    "    message:list[AnyMessage]"
   ]
  },
  {
   "cell_type": "markdown",
   "id": "090e5817",
   "metadata": {},
   "source": [
    "#### So, why use reducers with above?\n",
    "#### Reducers\n",
    "Now, we have a minor problem!\n",
    "\n",
    "As we discussed, each node will return a new value for our state key messages.\n",
    "\n",
    "But, this new value will override the prior messages value.\n",
    "\n",
    "As our graph runs, we want to append messages to our messages state key.\n",
    "\n",
    "We can use reducer functions to address this.\n",
    "\n",
    "Reducers allow us to specify how state updates are performed.\n",
    "\n",
    "If no reducer function is specified, then it is assumed that updates to the key should override it as we saw before.\n",
    "\n",
    "But, to append messages, we can use the pre-built add_messages reducer.\n",
    "\n",
    "This ensures that any messages are appended to the existing list of messages.\n",
    "\n",
    "We simply need to annotate our messages key with the add_messages reducer function as metadata."
   ]
  },
  {
   "cell_type": "code",
   "execution_count": 28,
   "id": "2b56bd2a",
   "metadata": {},
   "outputs": [],
   "source": [
    "from langgraph.graph.message import add_messages\n",
    "from typing import Annotated\n",
    "\n",
    "class State(TypedDict):\n",
    "    # This is a state object that contains a list of messages, with the reducer function ie add_messages\n",
    "    # this will append the messages to the state\n",
    "    messages: Annotated[list[AnyMessage], add_messages]"
   ]
  },
  {
   "cell_type": "markdown",
   "id": "5028212f",
   "metadata": {},
   "source": [
    "#### Now below is the example how inital_messages and ai message gets appended to the state using Reducer function add_messages"
   ]
  },
  {
   "cell_type": "code",
   "execution_count": 29,
   "id": "2ee22fea",
   "metadata": {},
   "outputs": [
    {
     "data": {
      "text/plain": [
       "[AIMessage(content='Please tell me how can I help', additional_kwargs={}, response_metadata={}, name='LLMModel'),\n",
       " HumanMessage(content='I want to learn coding', additional_kwargs={}, response_metadata={}, name='Ravi')]"
      ]
     },
     "execution_count": 29,
     "metadata": {},
     "output_type": "execute_result"
    }
   ],
   "source": [
    "initial_messages=[AIMessage(content=f\"Please tell me how can I help\",name=\"LLMModel\")]\n",
    "initial_messages.append(HumanMessage(content=f\"I want to learn coding\",name=\"Ravi\"))\n",
    "initial_messages"
   ]
  },
  {
   "cell_type": "code",
   "execution_count": 30,
   "id": "aaa483bf",
   "metadata": {},
   "outputs": [
    {
     "data": {
      "text/plain": [
       "AIMessage(content='Which programming language you want to learn', additional_kwargs={}, response_metadata={}, name='LLMModel')"
      ]
     },
     "execution_count": 30,
     "metadata": {},
     "output_type": "execute_result"
    }
   ],
   "source": [
    "ai_message=AIMessage(content=f\"Which programming language you want to learn\",name=\"LLMModel\")\n",
    "ai_message"
   ]
  },
  {
   "cell_type": "code",
   "execution_count": 31,
   "id": "6878406a",
   "metadata": {},
   "outputs": [
    {
     "name": "stdout",
     "output_type": "stream",
     "text": [
      "==================================\u001b[1m Ai Message \u001b[0m==================================\n",
      "Name: LLMModel\n",
      "\n",
      "Please tell me how can I help\n",
      "================================\u001b[1m Human Message \u001b[0m=================================\n",
      "Name: Ravi\n",
      "\n",
      "I want to learn coding\n",
      "==================================\u001b[1m Ai Message \u001b[0m==================================\n",
      "Name: LLMModel\n",
      "\n",
      "Which programming language you want to learn\n"
     ]
    }
   ],
   "source": [
    "result_messages = add_messages(initial_messages,ai_message)\n",
    "# now you can see the messages are appended to the state using reducer function\n",
    "for message in result_messages:\n",
    "    message.pretty_print()"
   ]
  },
  {
   "cell_type": "markdown",
   "id": "ee7d48a8",
   "metadata": {},
   "source": [
    "### Now lets Create the Chatbot node functionality"
   ]
  },
  {
   "cell_type": "code",
   "execution_count": 32,
   "id": "fafaa65b",
   "metadata": {},
   "outputs": [],
   "source": [
    "from langgraph.graph.message import add_messages\n",
    "from typing import Annotated\n",
    "\n",
    "class State(TypedDict):\n",
    "    # This is a state object that contains a list of messages, with the reducer function ie add_messages\n",
    "    # this will append the messages to the state\n",
    "    messages: Annotated[list[AnyMessage], add_messages]"
   ]
  },
  {
   "cell_type": "code",
   "execution_count": 33,
   "id": "4182842b",
   "metadata": {},
   "outputs": [],
   "source": [
    "def llm_tool(state:State):\n",
    "    return {'messages':[llm_with_tool.invoke(state['messages'])]}"
   ]
  },
  {
   "cell_type": "code",
   "execution_count": 34,
   "id": "11b8231b",
   "metadata": {},
   "outputs": [
    {
     "data": {
      "image/png": "[encoded data removed]",
      "text/plain": [
       "<IPython.core.display.Image object>"
      ]
     },
     "metadata": {},
     "output_type": "display_data"
    }
   ],
   "source": [
    "from IPython.display import Image, display\n",
    "from langgraph.graph import StateGraph, START, END\n",
    "\n",
    "builder = StateGraph(State)\n",
    "\n",
    "builder.add_node(\"llm_tool\", llm_tool)\n",
    "\n",
    "builder.add_edge(START, 'llm_tool')\n",
    "builder.add_edge(\"llm_tool\", END)\n",
    "\n",
    "graph = builder.compile()\n",
    "\n",
    "display(Image(graph.get_graph().draw_mermaid_png()))\n",
    "# now here you can see that from Start the edge goes to the llm_tool, \n",
    "# but it should go to the llm_tool node when it has to perform addition"
   ]
  },
  {
   "cell_type": "code",
   "execution_count": 35,
   "id": "64f1dcc2",
   "metadata": {},
   "outputs": [
    {
     "name": "stdout",
     "output_type": "stream",
     "text": [
      "================================\u001b[1m Human Message \u001b[0m=================================\n",
      "\n",
      "What is 2 plus 2\n",
      "==================================\u001b[1m Ai Message \u001b[0m==================================\n",
      "Tool Calls:\n",
      "  add (call_arz7)\n",
      " Call ID: call_arz7\n",
      "  Args:\n",
      "    a: 2\n",
      "    b: 2\n"
     ]
    }
   ],
   "source": [
    "## invocation\n",
    "\n",
    "messages=graph.invoke({\"messages\":\"What is 2 plus 2\"})\n",
    "\n",
    "for message in messages[\"messages\"]:\n",
    "    message.pretty_print()\n",
    "\n",
    "# you can see the llm tool node is still has not been invoked "
   ]
  },
  {
   "cell_type": "markdown",
   "id": "110ec678",
   "metadata": {},
   "source": [
    "### Now lets perform the tool cal with conditional edge "
   ]
  },
  {
   "cell_type": "code",
   "execution_count": 36,
   "id": "a265238e",
   "metadata": {},
   "outputs": [],
   "source": [
    "# create tools \n",
    "tools = [add]"
   ]
  },
  {
   "cell_type": "code",
   "execution_count": 37,
   "id": "aa5eed79",
   "metadata": {},
   "outputs": [
    {
     "data": {
      "image/png": "[encoded data removed]",
      "text/plain": [
       "<IPython.core.display.Image object>"
      ]
     },
     "metadata": {},
     "output_type": "display_data"
    }
   ],
   "source": [
    "from langgraph.prebuilt import ToolNode, tools_condition\n",
    "\n",
    "builder = StateGraph(State)\n",
    "\n",
    "# Add nodes\n",
    "builder.add_node(\"llm_tool\", llm_tool)\n",
    "builder.add_node(\"tools\", ToolNode(tools))\n",
    "\n",
    "# Add edge\n",
    "builder.add_edge(START, \"llm_tool\")\n",
    "\n",
    "# If the latest message (result) from assistant is a tool call -> tools_condition routes to tools\n",
    "# If the latest message (result) from assistant is a not a tool call -> tools_condition routes to END\n",
    "builder.add_conditional_edges(\"llm_tool\", tools_condition)\n",
    "builder.add_edge(\"tools\", END)\n",
    "\n",
    "graph = builder.compile()\n",
    "\n",
    "display(Image(graph.get_graph().draw_mermaid_png()))"
   ]
  },
  {
   "cell_type": "code",
   "execution_count": 41,
   "id": "5aad4454",
   "metadata": {},
   "outputs": [
    {
     "data": {
      "text/plain": [
       "{'messages': [HumanMessage(content='What is 2 plus 2', additional_kwargs={}, response_metadata={}, id='2c4f9956-195c-4296-a8ee-19395441cecb'),\n",
       "  AIMessage(content='', additional_kwargs={'tool_calls': [{'id': 'call_sks8', 'function': {'arguments': '{\"a\": 2, \"b\": 2}', 'name': 'add'}, 'type': 'function'}]}, response_metadata={'token_usage': {'completion_tokens': 156, 'prompt_tokens': 196, 'total_tokens': 352, 'completion_time': 0.389934992, 'prompt_time': 0.035706482, 'queue_time': 0.418473207, 'total_time': 0.425641474}, 'model_name': 'qwen-qwq-32b', 'system_fingerprint': 'fp_1e88ca32eb', 'finish_reason': 'tool_calls', 'logprobs': None}, id='run-19821318-83fd-4190-94f6-3f5669c71a17-0', tool_calls=[{'name': 'add', 'args': {'a': 2, 'b': 2}, 'id': 'call_sks8', 'type': 'tool_call'}], usage_metadata={'input_tokens': 196, 'output_tokens': 156, 'total_tokens': 352}),\n",
       "  ToolMessage(content='4', name='add', id='f983c82c-c157-4fac-9649-7bcae0028bb6', tool_call_id='call_sks8')]}"
      ]
     },
     "execution_count": 41,
     "metadata": {},
     "output_type": "execute_result"
    }
   ],
   "source": [
    "# Invocation\n",
    "\n",
    "messages = graph.invoke({\"messages\":\"What is 2 plus 2\"})\n",
    "messages\n",
    "# you can see the the llm_tool node performs tool cal based on the message"
   ]
  },
  {
   "cell_type": "code",
   "execution_count": 42,
   "id": "6851ed2a",
   "metadata": {},
   "outputs": [
    {
     "name": "stdout",
     "output_type": "stream",
     "text": [
      "================================\u001b[1m Human Message \u001b[0m=================================\n",
      "\n",
      "What is 2 plus 2\n",
      "==================================\u001b[1m Ai Message \u001b[0m==================================\n",
      "Tool Calls:\n",
      "  add (call_sks8)\n",
      " Call ID: call_sks8\n",
      "  Args:\n",
      "    a: 2\n",
      "    b: 2\n",
      "=================================\u001b[1m Tool Message \u001b[0m=================================\n",
      "Name: add\n",
      "\n",
      "4\n"
     ]
    }
   ],
   "source": [
    "for message in messages['messages']:\n",
    "    message.pretty_print()"
   ]
  },
  {
   "cell_type": "code",
   "execution_count": 40,
   "id": "acd48f17",
   "metadata": {},
   "outputs": [
    {
     "data": {
      "text/plain": [
       "{'messages': [HumanMessage(content='What is Machine Learning', additional_kwargs={}, response_metadata={}, id='080daab7-9070-4aa2-9a1e-16760e8944d5'),\n",
       "  AIMessage(content='Machine Learning is a subset of artificial intelligence (AI) that focuses on developing algorithms and statistical models enabling computers to perform tasks without explicit instructions. Instead, these systems learn patterns from data to make decisions or predictions. For example, email spam filters or recommendation systems on platforms like Netflix use Machine Learning to improve their performance over time based on user behavior and input data.', additional_kwargs={}, response_metadata={'token_usage': {'completion_tokens': 297, 'prompt_tokens': 193, 'total_tokens': 490, 'completion_time': 0.741417533, 'prompt_time': 0.033891228, 'queue_time': 7.571820138, 'total_time': 0.775308761}, 'model_name': 'qwen-qwq-32b', 'system_fingerprint': 'fp_512a3da6bb', 'finish_reason': 'stop', 'logprobs': None}, id='run-136f5f3c-ad05-416b-bc56-ece8953bba0d-0', usage_metadata={'input_tokens': 193, 'output_tokens': 297, 'total_tokens': 490})]}"
      ]
     },
     "execution_count": 40,
     "metadata": {},
     "output_type": "execute_result"
    }
   ],
   "source": [
    "messages=graph.invoke({\"messages\":\"What is Machine Learning\"})\n",
    "messages\n",
    "\n",
    "# for message in messages[\"messages\"]:\n",
    "#     message.pretty_print()"
   ]
  },
  {
   "cell_type": "code",
   "execution_count": null,
   "id": "5126f886",
   "metadata": {},
   "outputs": [],
   "source": []
  },
  {
   "cell_type": "code",
   "execution_count": null,
   "id": "3dafa9f5",
   "metadata": {},
   "outputs": [],
   "source": []
  },
  {
   "cell_type": "code",
   "execution_count": null,
   "id": "71a73eae",
   "metadata": {},
   "outputs": [],
   "source": []
  }
 ],
 "metadata": {
  "kernelspec": {
   "display_name": "huggingface",
   "language": "python",
   "name": "python3"
  },
  "language_info": {
   "codemirror_mode": {
    "name": "ipython",
    "version": 3
   },
   "file_extension": ".py",
   "mimetype": "text/x-python",
   "name": "python",
   "nbconvert_exporter": "python",
   "pygments_lexer": "ipython3",
   "version": "3.12.3"
  }
 },
 "nbformat": 4,
 "nbformat_minor": 5
}
