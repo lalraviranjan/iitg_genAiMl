{
 "cells": [
  {
   "cell_type": "markdown",
   "id": "c2147e95",
   "metadata": {},
   "source": [
    "### State Schema With DataClasses\n",
    "Let’s break down **State Schema** and **StateSchema with DataClass** in LangGraph — essential for managing and orchestrating data flow between nodes in a structured and controlled way.\n",
    "\n",
    "---\n",
    "\n",
    "## ✅ What is a State Schema?\n",
    "\n",
    "A **State Schema** is the blueprint or structure that defines **what data is available** and **how it flows between nodes** in a LangGraph.\n",
    "\n",
    "### 🔧 Purpose:\n",
    "\n",
    "* Ensures **type safety** and **clarity**\n",
    "* Controls **which variables are shared** across the graph\n",
    "* Prevents accidental overwriting or leaking of unwanted data\n",
    "\n",
    "---\n",
    "\n",
    "## 🧪 What is `StateSchema` with `@dataclass`?\n",
    "\n",
    "LangGraph lets you define a state using Python’s `@dataclass`, which makes it easy to:\n",
    "\n",
    "* Declare all state variables\n",
    "* Add type annotations (like `str`, `int`, `Optional[str]`)\n",
    "* Provide defaults if needed\n",
    "\n",
    "### 📦 Example:\n",
    "\n",
    "```python\n",
    "from langgraph.graph import StateSchema\n",
    "from dataclasses import dataclass\n",
    "from typing import Optional\n",
    "\n",
    "@dataclass\n",
    "class MyState(StateSchema):\n",
    "    user_input: str\n",
    "    summary: Optional[str] = None\n",
    "```\n",
    "\n",
    "* `user_input`: required\n",
    "* `summary`: optional, can be populated later by a node\n",
    "\n",
    "---\n",
    "\n",
    "## 🔁 How Each Node Communicates with State Schema\n",
    "\n",
    "Each **node**:\n",
    "\n",
    "1. **Reads from the state**: accesses the current data available\n",
    "2. **Writes to the state**: updates values which will be available to the next nodes\n",
    "\n",
    "LangGraph enforces that each node:\n",
    "\n",
    "* **Declares its input/output keys**\n",
    "* Can **only modify certain fields**, making flows **predictable and modular**\n",
    "\n",
    "### 🧩 Node Example:\n",
    "\n",
    "```python\n",
    "def summarize_node(state: MyState) -> dict:\n",
    "    summary = some_summarization_function(state.user_input)\n",
    "    return {\"summary\": summary}\n",
    "```\n",
    "\n",
    "LangGraph uses this return to update the `state.summary`.\n",
    "\n",
    "---\n",
    "\n",
    "## 🔄 Flow Illustration\n",
    "\n",
    "```\n",
    "StateSchema (MyState):\n",
    "    user_input: \"Explain LangGraph\"\n",
    "    summary: None\n",
    "\n",
    "--> summarize_node:\n",
    "    Reads: user_input\n",
    "    Writes: summary\n",
    "\n",
    "New State:\n",
    "    user_input: \"Explain LangGraph\"\n",
    "    summary: \"LangGraph is a...\"\n",
    "\n",
    "--> next_node...\n",
    "```\n",
    "\n",
    "---\n",
    "\n",
    "## ✅ Benefits of Using StateSchema with @dataclass\n",
    "\n",
    "| Feature             | Why it matters                                              |\n",
    "| ------------------- | ----------------------------------------------------------- |\n",
    "| 📦 Structured State | Keeps all shared data organized                             |\n",
    "| 🛡️ Type Safety     | Prevents invalid data (e.g., assigning int to string)       |\n",
    "| 🧩 Predictable Flow | Each node knows exactly what to expect and modify           |\n",
    "| 📚 Self-Documenting | Easy for others to understand what data exists in the graph |\n"
   ]
  },
  {
   "cell_type": "markdown",
   "id": "b40f2ff7",
   "metadata": {},
   "source": [
    "we can use the TypedDict class from python's typing module.\n",
    "\n",
    "It allows you to specify keys and their corresponding value types.\n",
    "\n",
    "But, note that these are type hints.\n",
    "\n",
    "They can be used by static type checkers (like mypy) or IDEs to catch potential type-related errors before the code is run.\n",
    "\n",
    "But they are not enforced at runtime!"
   ]
  },
  {
   "cell_type": "markdown",
   "id": "c4914261",
   "metadata": {},
   "source": [
    "## Below are 2 Ways to Create State Schema\n",
    "1. using TypedDict\n",
    "2. using DataClas"
   ]
  },
  {
   "cell_type": "code",
   "execution_count": 2,
   "id": "3b52d88e",
   "metadata": {},
   "outputs": [],
   "source": [
    "from typing_extensions import TypedDict\n",
    "from typing import Literal\n",
    "\n",
    "class TypedDictState(TypedDict):\n",
    "    \"\"\"\n",
    "    TypeDictState is a TypedDict that defines the structure of a dictionary\n",
    "    that contains the state of a type.\n",
    "    \"\"\"\n",
    "    name: str\n",
    "    game: Literal[\"cricket\", \"badminton\"]"
   ]
  },
  {
   "cell_type": "code",
   "execution_count": 3,
   "id": "f9f0d1a2",
   "metadata": {},
   "outputs": [],
   "source": [
    "def play_game(state:TypedDictState):\n",
    "    print(\"---Play Game node has been called--\")\n",
    "    return {\"name\":state['name'] + \" want to play \"}\n",
    "\n",
    "def cricket(state:TypedDictState):\n",
    "    print(\"-- Cricket node has been called--\")\n",
    "    return {\"name\":state[\"name\"] + \" cricket\",\"game\":\"cricket\"}\n",
    "\n",
    "def badminton(state:TypedDictState):\n",
    "    print(\"-- badminton node has been called--\")\n",
    "    return {\"name\":state[\"name\"] + \" badminton\",\"game\":\"badminton\"}"
   ]
  },
  {
   "cell_type": "code",
   "execution_count": 4,
   "id": "47261b8c",
   "metadata": {},
   "outputs": [],
   "source": [
    "import random\n",
    "def decide_play(state:TypedDictState)->Literal[\"cricket\",\"badminton\"]:\n",
    "    # Here, let's just do a 50 / 50 split between nodes 2, 3\n",
    "    if random.random() < 0.5:\n",
    "        return \"cricket\"\n",
    "    else:\n",
    "        return \"badminton\""
   ]
  },
  {
   "cell_type": "code",
   "execution_count": 5,
   "id": "6f39f37d",
   "metadata": {},
   "outputs": [
    {
     "data": {
      "image/png": "[encoded data removed]",
      "text/plain": [
       "<IPython.core.display.Image object>"
      ]
     },
     "metadata": {},
     "output_type": "display_data"
    }
   ],
   "source": [
    "from IPython.display import display, Image\n",
    "from langgraph.graph import StateGraph, START, END\n",
    "\n",
    "builder=StateGraph(TypedDictState)\n",
    "builder.add_node(\"playgame\",play_game)\n",
    "builder.add_node(\"cricket\",cricket)\n",
    "builder.add_node(\"badminton\",badminton)\n",
    "\n",
    "## Flow of the graph\n",
    "\n",
    "builder.add_edge(START,\"playgame\")\n",
    "builder.add_conditional_edges(\"playgame\",decide_play)\n",
    "builder.add_edge(\"cricket\",END)\n",
    "builder.add_edge(\"badminton\",END)\n",
    "\n",
    "# Add\n",
    "graph = builder.compile()\n",
    "\n",
    "# View\n",
    "display(Image(graph.get_graph().draw_mermaid_png()))\n"
   ]
  },
  {
   "cell_type": "code",
   "execution_count": 6,
   "id": "b1099046",
   "metadata": {},
   "outputs": [
    {
     "name": "stdout",
     "output_type": "stream",
     "text": [
      "---Play Game node has been called--\n",
      "-- Cricket node has been called--\n"
     ]
    },
    {
     "data": {
      "text/plain": [
       "{'name': 'Ravi want to play  cricket', 'game': 'cricket'}"
      ]
     },
     "execution_count": 6,
     "metadata": {},
     "output_type": "execute_result"
    }
   ],
   "source": [
    "graph.invoke({\"name\":\"Ravi\"})"
   ]
  },
  {
   "cell_type": "markdown",
   "id": "be81cc49",
   "metadata": {},
   "source": [
    "### DataClasses\n",
    "Python's dataclasses provide another way to define structured data.\n",
    "\n",
    "Dataclasses offer a concise syntax for creating classes that are primarily used to store data."
   ]
  },
  {
   "cell_type": "code",
   "execution_count": 7,
   "id": "fcc070cb",
   "metadata": {},
   "outputs": [],
   "source": [
    "from dataclasses import dataclass\n",
    "\n",
    "@dataclass\n",
    "class DataClassState:\n",
    "    \"\"\"\n",
    "    DataClassState is a dataclass that defines the structure of a dictionary\n",
    "    that contains the state of a type.\n",
    "    \"\"\"\n",
    "    name: str\n",
    "    game: Literal[\"cricket\", \"badminton\"]"
   ]
  },
  {
   "cell_type": "code",
   "execution_count": 8,
   "id": "2de6afb8",
   "metadata": {},
   "outputs": [],
   "source": [
    "def play_game(state:DataClassState):\n",
    "    print(\"---Play Game node has been called--\")\n",
    "    return {\"name\":state.name + \" want to play \"}\n",
    "\n",
    "def cricket(state:DataClassState):\n",
    "    print(\"-- Cricket node has been called--\")\n",
    "    return {\"name\":state.name + \" cricket\",\"game\":\"cricket\"}\n",
    "\n",
    "def badminton(state:DataClassState):\n",
    "    print(\"-- badminton node has been called--\")\n",
    "    return {\"name\":state.name + \" badminton\",\"game\":\"badminton\"}"
   ]
  },
  {
   "cell_type": "code",
   "execution_count": 9,
   "id": "e1ef471f",
   "metadata": {},
   "outputs": [],
   "source": [
    "import random\n",
    "def decide_play(state:DataClassState)->Literal[\"cricket\",\"badminton\"]:\n",
    "    # Here, let's just do a 50 / 50 split between nodes 2, 3\n",
    "    if random.random() < 0.5:\n",
    "        return \"cricket\"\n",
    "    else:\n",
    "        return \"badminton\""
   ]
  },
  {
   "cell_type": "code",
   "execution_count": 10,
   "id": "d325b53a",
   "metadata": {},
   "outputs": [
    {
     "data": {
      "image/png": "[encoded data removed]",
      "text/plain": [
       "<IPython.core.display.Image object>"
      ]
     },
     "metadata": {},
     "output_type": "display_data"
    }
   ],
   "source": [
    "\n",
    "builder=StateGraph(DataClassState)\n",
    "builder.add_node(\"playgame\",play_game)\n",
    "builder.add_node(\"cricket\",cricket)\n",
    "builder.add_node(\"badminton\",badminton)\n",
    "\n",
    "## Flow of the graph\n",
    "\n",
    "builder.add_edge(START,\"playgame\")\n",
    "builder.add_conditional_edges(\"playgame\",decide_play)\n",
    "builder.add_edge(\"cricket\",END)\n",
    "builder.add_edge(\"badminton\",END)\n",
    "\n",
    "# Add\n",
    "graph = builder.compile()\n",
    "\n",
    "# View\n",
    "display(Image(graph.get_graph().draw_mermaid_png()))"
   ]
  },
  {
   "cell_type": "code",
   "execution_count": 11,
   "id": "4174d5f1",
   "metadata": {},
   "outputs": [
    {
     "name": "stdout",
     "output_type": "stream",
     "text": [
      "---Play Game node has been called--\n",
      "-- badminton node has been called--\n"
     ]
    },
    {
     "data": {
      "text/plain": [
       "{'name': 'Ravi want to play  badminton', 'game': 'badminton'}"
      ]
     },
     "execution_count": 11,
     "metadata": {},
     "output_type": "execute_result"
    }
   ],
   "source": [
    "graph.invoke(DataClassState(name=\"Ravi\",game=\"cricket\"))"
   ]
  },
  {
   "cell_type": "markdown",
   "id": "f66cbf28",
   "metadata": {},
   "source": [
    "## StateSchema using Pydantic"
   ]
  },
  {
   "cell_type": "code",
   "execution_count": 12,
   "id": "c3df4fe4",
   "metadata": {},
   "outputs": [
    {
     "data": {
      "text/plain": [
       "True"
      ]
     },
     "execution_count": 12,
     "metadata": {},
     "output_type": "execute_result"
    }
   ],
   "source": [
    "import os\n",
    "from dotenv import load_dotenv\n",
    "load_dotenv()"
   ]
  },
  {
   "cell_type": "code",
   "execution_count": 13,
   "id": "7ab43166",
   "metadata": {},
   "outputs": [],
   "source": [
    "import logfire\n",
    "\n",
    "logfire.configure(token=os.getenv(\"LOGFIRE_KEY\"))\n",
    "# set logfire project\n",
    "logfire.instrument_pydantic()"
   ]
  },
  {
   "cell_type": "code",
   "execution_count": 14,
   "id": "14a1b8f6",
   "metadata": {},
   "outputs": [
    {
     "name": "stdout",
     "output_type": "stream",
     "text": [
      "05:55:14.991 Pydantic DemoString validate_python\n"
     ]
    },
    {
     "data": {
      "text/html": [
       "<pre style=\"white-space:pre;overflow-x:auto;line-height:normal;font-family:Menlo,'DejaVu Sans Mono',consolas,'Courier New',monospace\"><span style=\"font-weight: bold\">Logfire</span> project URL: <a href=\"https://logfire-us.pydantic.dev/lalraviranjan/starter-project\" target=\"_blank\"><span style=\"color: #008080; text-decoration-color: #008080; text-decoration: underline\">https://logfire-us.pydantic.dev/lalraviranjan/starter-project</span></a>\n",
       "</pre>\n"
      ],
      "text/plain": [
       "\u001b[1mLogfire\u001b[0m project URL: \u001b]8;id=369161;https://logfire-us.pydantic.dev/lalraviranjan/starter-project\u001b\\\u001b[4;36mhttps://logfire-us.pydantic.dev/lalraviranjan/starter-project\u001b[0m\u001b]8;;\u001b\\\n"
      ]
     },
     "metadata": {},
     "output_type": "display_data"
    },
    {
     "name": "stdout",
     "output_type": "stream",
     "text": [
      "05:55:16.208 Created DemoString: name='' age=25 designation='Dev'\n",
      "name='' age=25 designation='Dev'\n"
     ]
    }
   ],
   "source": [
    "## StateSchema using Pydantic\n",
    "from langgraph.graph import StateGraph, START, END\n",
    "from pydantic import BaseModel, ValidationError, StrictInt\n",
    "from pydantic.types import StringConstraints\n",
    "from typing import Annotated\n",
    "\n",
    "ConstrainedStr = Annotated[str, StringConstraints(min_length=1, max_length=10, strip_whitespace=True)]\n",
    "\n",
    "class DemoString(BaseModel):\n",
    "    \"\"\"\n",
    "    DemoString is a Pydantic model that defines the structure of a dictionary\n",
    "    that contains the state of a type.\n",
    "    \"\"\"\n",
    "    name: str\n",
    "    age: StrictInt\n",
    "    designation: ConstrainedStr\n",
    "    \n",
    "def create_demo():\n",
    "    try:\n",
    "        # Incorrect data (int instead of str)\n",
    "        demo = DemoString(name=\"\", age=25, designation=\"Dev\")\n",
    "        logfire.info(f\"Created DemoString: {demo}\")\n",
    "        print(demo)\n",
    "    except ValidationError as e:\n",
    "        print(\"Error\")\n",
    "        logfire.exception(\"Pydantic validation failed: {error}\", error=str(e))\n",
    "\n",
    "create_demo()"
   ]
  },
  {
   "cell_type": "code",
   "execution_count": 15,
   "id": "114110d5",
   "metadata": {},
   "outputs": [],
   "source": [
    "from langgraph.graph import StateGraph, START, END\n",
    "from pydantic import BaseModel, ValidationError\n",
    "\n",
    "class State(BaseModel):\n",
    "    \"\"\"\n",
    "    State is a Pydantic model that defines the structure of a dictionary\n",
    "    that contains the state of a type.\n",
    "    \"\"\"\n",
    "    name: str"
   ]
  }
 ],
 "metadata": {
  "kernelspec": {
   "display_name": "huggingface",
   "language": "python",
   "name": "python3"
  },
  "language_info": {
   "codemirror_mode": {
    "name": "ipython",
    "version": 3
   },
   "file_extension": ".py",
   "mimetype": "text/x-python",
   "name": "python",
   "nbconvert_exporter": "python",
   "pygments_lexer": "ipython3",
   "version": "3.12.3"
  }
 },
 "nbformat": 4,
 "nbformat_minor": 5
}
