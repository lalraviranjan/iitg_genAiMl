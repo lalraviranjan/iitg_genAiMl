{
 "cells": [
  {
   "cell_type": "markdown",
   "id": "e850a571",
   "metadata": {},
   "source": [
    "### Implementing Simple Chatbot Using LangGraph"
   ]
  },
  {
   "cell_type": "code",
   "execution_count": 1,
   "id": "5fda01dd",
   "metadata": {},
   "outputs": [],
   "source": [
    "from typing_extensions import TypedDict\n",
    "from langgraph.graph import StateGraph, START, END\n",
    "\n",
    "#Reducer\n",
    "from typing import Annotated\n",
    "from langgraph.graph.message import add_messages"
   ]
  },
  {
   "cell_type": "code",
   "execution_count": null,
   "id": "79e5267f",
   "metadata": {},
   "outputs": [],
   "source": [
    "# Reducer : this is a class that will be used to define the state of the graph\n",
    "class State(TypedDict):\n",
    "    messages: Annotated[list, add_messages]"
   ]
  },
  {
   "cell_type": "code",
   "execution_count": 9,
   "id": "aee23356",
   "metadata": {},
   "outputs": [],
   "source": [
    "import os\n",
    "from dotenv import load_dotenv\n",
    "from langchain_groq import ChatGroq\n",
    "load_dotenv()\n",
    "\n",
    "groq_api_key = os.getenv(\"GROQ_API_KEY\")"
   ]
  },
  {
   "cell_type": "code",
   "execution_count": 11,
   "id": "ce361c58",
   "metadata": {},
   "outputs": [
    {
     "name": "stdout",
     "output_type": "stream",
     "text": [
      "Hello world! 👋 \n",
      "\n",
      "How can I help you today? 😊\n",
      "\n"
     ]
    }
   ],
   "source": [
    "llm = ChatGroq(api_key=groq_api_key, model=\"Gemma2-9b-it\")\n",
    "response = llm.invoke(\"Hello world\")\n",
    "print(response.content)"
   ]
  },
  {
   "cell_type": "code",
   "execution_count": 26,
   "id": "028e7c7c",
   "metadata": {},
   "outputs": [],
   "source": [
    "def superbot(state: State):\n",
    "    return {\n",
    "        \"messages\": [llm.invoke(state[\"messages\"])]\n",
    "    }"
   ]
  },
  {
   "cell_type": "code",
   "execution_count": 23,
   "id": "dd9375a0",
   "metadata": {},
   "outputs": [],
   "source": [
    "graph = StateGraph(State)\n",
    "graph.add_node(\"Superbot\", superbot)\n",
    "\n",
    "graph.add_edge(START, \"Superbot\")\n",
    "graph.add_edge(\"Superbot\", END)\n",
    "\n",
    "graph_builder = graph.compile()"
   ]
  },
  {
   "cell_type": "code",
   "execution_count": 24,
   "id": "e8d8089f",
   "metadata": {},
   "outputs": [
    {
     "data": {
      "image/png": "[encoded data removed]",
      "text/plain": [
       "<IPython.core.display.Image object>"
      ]
     },
     "metadata": {},
     "output_type": "display_data"
    }
   ],
   "source": [
    "from IPython.display import display, Image\n",
    "\n",
    "display(Image(graph_builder.get_graph().draw_mermaid_png()))"
   ]
  },
  {
   "cell_type": "code",
   "execution_count": 27,
   "id": "77307563",
   "metadata": {},
   "outputs": [
    {
     "data": {
      "text/plain": [
       "{'messages': [HumanMessage(content='Hello my name is Ravi and I am a software engineer.', additional_kwargs={}, response_metadata={}, id='680b5bf3-f764-4406-8d6a-cb59bd429fb4'),\n",
       "  HumanMessage(content=\"Hello Ravi, it's nice to meet you!  \\n\\nAs a software engineer, what kind of projects are you working on these days?  Anything exciting?\\n\", additional_kwargs={}, response_metadata={}, id='71109b34-db5a-406e-9927-7fb829081abc')]}"
      ]
     },
     "execution_count": 27,
     "metadata": {},
     "output_type": "execute_result"
    }
   ],
   "source": [
    "#Invoke the graph\n",
    "graph_builder.invoke(\n",
    "    {\n",
    "        \"messages\": [\n",
    "            \"Hello my name is Ravi and I am a software engineer.\"\n",
    "        ]\n",
    "    }\n",
    ")"
   ]
  },
  {
   "cell_type": "markdown",
   "id": "09b48dca",
   "metadata": {},
   "source": [
    "#### Streaming the  Responses"
   ]
  },
  {
   "cell_type": "code",
   "execution_count": 29,
   "id": "d02c85da",
   "metadata": {},
   "outputs": [
    {
     "data": {
      "text/plain": [
       "<generator object Pregel.stream at 0x000002417E76A020>"
      ]
     },
     "execution_count": 29,
     "metadata": {},
     "output_type": "execute_result"
    }
   ],
   "source": [
    "graph_builder.stream({\"messages\": [\"Hello my name is Ravi and I am a software engineer.\"]})"
   ]
  },
  {
   "cell_type": "code",
   "execution_count": null,
   "id": "e69a2063",
   "metadata": {},
   "outputs": [
    {
     "name": "stdout",
     "output_type": "stream",
     "text": [
      "{'messages': [HumanMessage(content='I am learning about Groq.', additional_kwargs={}, response_metadata={}, id='0a8418b6-837b-44ba-9e19-a288368d8efe')]}\n",
      "{'messages': [HumanMessage(content='I am learning about Groq.', additional_kwargs={}, response_metadata={}, id='0a8418b6-837b-44ba-9e19-a288368d8efe'), HumanMessage(content=\"That's great! Groq is a powerful and expressive query language specifically designed for interacting with content in the Contentful platform. \\n\\nLet me know what you'd like to learn about Groq. I can help you with:\\n\\n* **Basic concepts:** Understanding how Groq works, its syntax, and key components like variables, operators, and functions.\\n* **Example queries:** Seeing how to retrieve specific content types, fields, and relationships using Groq.\\n* **Advanced features:** Exploring powerful functionalities like filtering, sorting, limiting results, and nested queries.\\n* **Best practices:** Learning how to write efficient and readable Groq queries for optimal performance.\\n* **Troubleshooting:** Identifying common Groq errors and understanding how to fix them.\\n\\nJust tell me what you're interested in, and I'll do my best to provide helpful information and examples.\\n\", additional_kwargs={}, response_metadata={}, id='ac181a9a-a8d0-49ab-94d9-8be7292269f9')]}\n"
     ]
    }
   ],
   "source": [
    "for event in graph_builder.stream({\"messages\": [\"I am learning about Groq.\"]}, stream_mode=\"values\"):\n",
    "    print(event)"
   ]
  },
  {
   "cell_type": "code",
   "execution_count": 34,
   "id": "77b2f9cc",
   "metadata": {},
   "outputs": [
    {
     "name": "stdout",
     "output_type": "stream",
     "text": [
      "{'Superbot': {'messages': [\"That's great! Groq is a powerful and intuitive query language designed specifically for interacting with content in a way that makes sense for the modern web. \\n\\n**Here are some key things to know about Groq:**\\n\\n* **It's designed for Content Management Systems (CMS):** Groq excels at querying and manipulating structured content, perfect for platforms like Contentful, Prismic, and Sanity.\\n* **Graph-based:** Groq's syntax reflects the way content is often organized in a hierarchical, interconnected manner. \\n* **Predictable and readable:** Groq aims for clarity and consistency, making it easier to understand and write queries than more traditional database languages.\\n* **Powerful filtering and aggregation:** You can use Groq to filter content based on various criteria, group and summarize data, and perform complex calculations.\\n* **Built-in date and text functions:** Groq provides handy functions for working with dates, strings, and other common data types.\\n\\n**To get started with Groq, here are some resources:**\\n\\n* **Official Documentation:**  The best place to learn the ins and outs of Groq is the official documentation: [https://groq.dev/](https://groq.dev/)\\n* **Playground:**  The Groq playground allows you to experiment with queries without setting up a full environment: [https://groq.dev/playground](https://groq.dev/playground)\\n* **Tutorials:** Many online tutorials and articles provide step-by-step guides on using Groq. \\n* **Community:** Join Groq-related communities and forums to ask questions, share knowledge, and get help from experienced users.\\n\\n**Let me know if you have any specific questions about Groq. I'm happy to help!**\\n\\n\\nFor example, you could ask:\\n\\n* How do I filter content by a specific date range in Groq?\\n* Can I use Groq to create a custom query to retrieve related content?\\n* What are some examples of common Groq functions?\\n\"]}}\n"
     ]
    }
   ],
   "source": [
    "for event in graph_builder.stream({\"messages\": [\"I am learning about Groq.\"]}, stream_mode=\"updates\"):\n",
    "    print(event)"
   ]
  },
  {
   "cell_type": "code",
   "execution_count": null,
   "id": "42a17345",
   "metadata": {},
   "outputs": [],
   "source": []
  },
  {
   "cell_type": "code",
   "execution_count": null,
   "id": "d02d330c",
   "metadata": {},
   "outputs": [],
   "source": []
  },
  {
   "cell_type": "code",
   "execution_count": null,
   "id": "fdb5e692",
   "metadata": {},
   "outputs": [],
   "source": []
  },
  {
   "cell_type": "code",
   "execution_count": null,
   "id": "b2ff6466",
   "metadata": {},
   "outputs": [],
   "source": []
  },
  {
   "cell_type": "code",
   "execution_count": null,
   "id": "54fc16bc",
   "metadata": {},
   "outputs": [],
   "source": []
  },
  {
   "cell_type": "code",
   "execution_count": null,
   "id": "317cd598",
   "metadata": {},
   "outputs": [],
   "source": []
  },
  {
   "cell_type": "code",
   "execution_count": null,
   "id": "c1bced2c",
   "metadata": {},
   "outputs": [],
   "source": []
  }
 ],
 "metadata": {
  "kernelspec": {
   "display_name": "huggingface",
   "language": "python",
   "name": "python3"
  },
  "language_info": {
   "codemirror_mode": {
    "name": "ipython",
    "version": 3
   },
   "file_extension": ".py",
   "mimetype": "text/x-python",
   "name": "python",
   "nbconvert_exporter": "python",
   "pygments_lexer": "ipython3",
   "version": "3.12.3"
  }
 },
 "nbformat": 4,
 "nbformat_minor": 5
}
