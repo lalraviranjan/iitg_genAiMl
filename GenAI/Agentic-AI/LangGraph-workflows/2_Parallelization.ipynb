{
 "cells": [
  {
   "cell_type": "markdown",
   "id": "7424281a",
   "metadata": {},
   "source": [
    "#### What is Parallelization in LangGraph?\n",
    "In LangGraph, nodes typically execute in a sequence defined by edges, but when tasks don’t depend on each other’s outputs, you can run them in parallel. This is achieved by:\n",
    "- Defining multiple nodes that can operate independently.\n",
    "\n",
    "- Connecting them to a common starting point (e.g., START or another node).\n",
    "\n",
    "- Merging their outputs into a downstream node if needed.\n",
    "\n",
    "LangGraph handles this implicitly when nodes are independent and can leverage multi-threading or asynchronous execution under the hood, depending on the runtime environment (e.g., Python’s asyncio or a multi-threaded executor)."
   ]
  },
  {
   "cell_type": "markdown",
   "id": "d82518a8",
   "metadata": {},
   "source": [
    "#### Key Benefits\n",
    "- Speed: Reduces total execution time by running tasks concurrently.\n",
    "\n",
    "- Scalability: Handles larger workflows efficiently.\n",
    "\n",
    "- Modularity: Keeps the graph structure clean and reusable.\n",
    "\n",
    "#### Key Takeaways\n",
    "- When to Parallelize: Use it for independent tasks (e.g., generating multiple outputs, checking separate inputs).\n",
    "\n",
    "- Merging: Downstream nodes can aggregate parallel results.\n",
    "\n",
    "- LangGraph Support: The framework naturally supports this by waiting for all required inputs before proceeding."
   ]
  },
  {
   "cell_type": "code",
   "execution_count": 6,
   "id": "47f0dd07",
   "metadata": {},
   "outputs": [
    {
     "data": {
      "text/plain": [
       "AIMessage(content='\\n<think>\\nOkay, the user said \"Hello\". I should respond in a friendly way. Maybe ask how I can assist them today. Keep it simple and open-ended so they feel comfortable to ask anything. Let me make sure there\\'s no typo and the tone is welcoming.\\n</think>\\n\\nHello! How can I assist you today? 😊', additional_kwargs={}, response_metadata={'token_usage': {'completion_tokens': 67, 'prompt_tokens': 11, 'total_tokens': 78, 'completion_time': 0.168349863, 'prompt_time': 0.004050806, 'queue_time': 14.801710565999999, 'total_time': 0.172400669}, 'model_name': 'qwen-qwq-32b', 'system_fingerprint': 'fp_1e88ca32eb', 'finish_reason': 'stop', 'logprobs': None}, id='run-4bb237e0-22e2-415f-b315-a8c37215fe90-0', usage_metadata={'input_tokens': 11, 'output_tokens': 67, 'total_tokens': 78})"
      ]
     },
     "execution_count": 6,
     "metadata": {},
     "output_type": "execute_result"
    }
   ],
   "source": [
    "import os\n",
    "from dotenv import load_dotenv\n",
    "load_dotenv()\n",
    "\n",
    "from langchain_groq import ChatGroq\n",
    "\n",
    "os.environ[\"GROQ_API_KEY\"]=os.getenv(\"GROQ_API_KEY\")\n",
    "\n",
    "llm=ChatGroq(model=\"qwen-qwq-32b\")\n",
    "result=llm.invoke(\"Hello\")\n",
    "result"
   ]
  },
  {
   "cell_type": "code",
   "execution_count": 7,
   "id": "8313a94d",
   "metadata": {},
   "outputs": [],
   "source": [
    "from typing_extensions import TypedDict\n",
    "from langgraph.graph import StateGraph, START, END\n",
    "from IPython.display import Image, display\n",
    "\n",
    "# Graph State\n",
    "class State(TypedDict):\n",
    "    topic: str\n",
    "    characters: str\n",
    "    settings: str\n",
    "    premises: str\n",
    "    story_intro: str"
   ]
  },
  {
   "cell_type": "code",
   "execution_count": 8,
   "id": "a64b5256",
   "metadata": {},
   "outputs": [],
   "source": [
    "# Nodes\n",
    "def generate_characters(state: State):\n",
    "    \"\"\"Generate character descriptions\"\"\"\n",
    "    msg = llm.invoke(f\"Create two character names and brief traits for a story about {state['topic']}\")\n",
    "    return {\"characters\": msg.content}\n",
    "\n",
    "def generate_setting(state: State):\n",
    "    \"\"\"Generate a story setting\"\"\"\n",
    "    msg = llm.invoke(f\"Describe a vivid setting for a story about {state['topic']}\")\n",
    "    return {\"settings\": msg.content}\n",
    "\n",
    "def generate_premise(state: State):\n",
    "    \"\"\"Generate a story premise\"\"\"\n",
    "    msg = llm.invoke(f\"Write a one-sentence plot premise for a story about {state['topic']}\")\n",
    "    return {\"premises\": msg.content}\n",
    "\n",
    "def combine_elements(state: State):\n",
    "    \"\"\"Combine characters, setting, and premise into an intro\"\"\"\n",
    "    msg = llm.invoke(\n",
    "        f\"Write a short story introduction using these elements:\\n\"\n",
    "        f\"Characters: {state['characters']}\\n\"\n",
    "        f\"Setting: {state['settings']}\\n\"\n",
    "        f\"Premise: {state['premises']}\"\n",
    "    )\n",
    "    return {\"story_intro\": msg.content}"
   ]
  },
  {
   "cell_type": "code",
   "execution_count": 9,
   "id": "2b5aecf0",
   "metadata": {},
   "outputs": [
    {
     "data": {
      "image/png": "[encoded data removed]",
      "text/plain": [
       "<IPython.core.display.Image object>"
      ]
     },
     "metadata": {},
     "output_type": "display_data"
    }
   ],
   "source": [
    "# Build the graph\n",
    "graph = StateGraph(State)\n",
    "graph.add_node(\"character\", generate_characters)\n",
    "graph.add_node(\"setting\", generate_setting)\n",
    "graph.add_node(\"premise\", generate_premise)\n",
    "graph.add_node(\"combine\", combine_elements)\n",
    "\n",
    "# Define edges (parallel execution from START)\n",
    "graph.add_edge(START, \"character\")\n",
    "graph.add_edge(START, \"setting\")\n",
    "graph.add_edge(START, \"premise\")\n",
    "graph.add_edge(\"character\", \"combine\")\n",
    "graph.add_edge(\"setting\", \"combine\")\n",
    "graph.add_edge(\"premise\", \"combine\")\n",
    "graph.add_edge(\"combine\", END)\n",
    "\n",
    "# Compile and run\n",
    "compiled_graph = graph.compile()\n",
    "graph_image = compiled_graph.get_graph().draw_mermaid_png()\n",
    "display(Image(graph_image))"
   ]
  },
  {
   "cell_type": "code",
   "execution_count": 11,
   "id": "fe4b52cb",
   "metadata": {},
   "outputs": [],
   "source": [
    "state = {\"topic\": \"time travel\"}\n",
    "result = compiled_graph.invoke(state)"
   ]
  },
  {
   "cell_type": "code",
   "execution_count": 12,
   "id": "d5051d03",
   "metadata": {},
   "outputs": [
    {
     "name": "stdout",
     "output_type": "stream",
     "text": [
      "\n",
      "<think>\n",
      "Okay, the user wants me to create a short story introduction using specific characters, a setting, and a premise. Let's break down the elements they provided. The characters are Dr. Lizzy Voss and Mr. Alden Thorne. The setting is the Eternal Observatory in Chronos Hollow, and the premise is a time travel story where Lizzy's attempt to save her sister causes a paradox.\n",
      "\n",
      "First, I need to integrate all these elements into a compelling opening. The introduction should hook the reader with vivid descriptions of the setting and hint at the central conflict. Since the user mentioned the observatory's details in the setting, I should highlight the eerie atmosphere there. \n",
      "\n",
      "Lizzy's motivation is her daughter's death, so I need to show her desperation. Maybe start with her in the observatory, preparing to use the machine. Alden's skepticism can create tension. The paradox premise means there should be a hint that their actions might backfire.\n",
      "\n",
      "I'll start with a vivid scene of them activating the machine. Use sensory details: the smell of ozone, the sound of machinery, the cold metal. Show their contrasting personalities. Maybe Alden's hesitation versus Lizzy's determination. A journal entry from the inventor adds backstory and foreshadowing. \n",
      "\n",
      "Need to include the comet event mentioned in the setting as the trigger. The climax of the scene should be the jump into the past, but with a subtle clue that things are going wrong—like the machine's instability or an odd symbol appearing. That sets up the paradox. \n",
      "\n",
      "Make sure to weave in the cosmic stakes and personal stakes. Maybe end on a note of impending doom, like the machine glitching, to hook the reader. Avoid info-dumping; instead, reveal details through action and dialogue. Check that the names and traits from the characters are consistent and the setting details from the input are included. Keep the tone suspenseful and atmospheric.\n",
      "</think>\n",
      "\n",
      "**Introduction:**  \n",
      "\n",
      "The Eternal Observatory groaned as Dr. Elizabeth Voss tightened the final bolt on the Atemporal Conflux Engine, her gloved fingers trembling. Outside, the Twin Moons hung low over Chronos Hollow, their light fraying at the edges like unraveling thread. The machine’s prisms glinted ominously, reflecting the storm of her determination in their facets.  \n",
      "\n",
      "“Do you even know what you’re doing?” Alden Thorne’s voice cut through the din of creaking gears. He stood in the shadows, arms crossed, the scar on his wrist a jagged reminder of a time jump gone wrong decades ago. “You’ve rewritten the equations *twelve times* this week.”  \n",
      "\n",
      "Lizzy didn’t glance up. “The math *works*, Alden. The comet alignment tonight—”  \n",
      "\n",
      "“A celestial coincidence?” He spat the word like a curse. “You’re playing God in a room full of dynamite.”  \n",
      "\n",
      "“You said it yourself: the 1923 influenza outbreak was the first domino. Stop that, and Clara—” Her voice cracked. The memory of her daughter’s face, flushed with fever, surged behind her eyes. *One jump. One correction. I just need to warn the vaccine developer.*  \n",
      "\n",
      "The machine whined to life, its prisms flaring crimson as Lizzy poured in the lunar quicksilver. Shadows pooled in the corners, twisting into fleeting glimpses of a burning city, a child’s laughter, a scream muffled by fog.  \n",
      "\n",
      "“Wait—*what’s that?*” Alden barked, pointing at the engine’s central dial. A symbol flickered there, glowing where no equation should be: a small child’s drawing of a star, scribbled in black ink.  \n",
      "\n",
      "Lizzy’s blood turned to ice. That drawing. Clara had made it for her first birthday.  \n",
      "\n",
      "The machine’s hum sharpened into a roar. The walls blurred, and the air tasted of static and regret.  \n",
      "\n",
      "They leaped into 1918.  \n",
      "\n",
      "But the observatory’s journal, buried beneath moth-eaten maps, had hinted at one thing: *Never trust the past you remember.*  \n",
      "\n",
      "---  \n",
      "This intro weaves Lizzy's desperation, Alden's skepticism, the eerie setting, and the looming paradox from the premise. The child's drawing subtly hints at the paradox (Clara's existence) and the tragic irony of Lizzy's quest. The cosmic and personal stakes collide in the engine's flickering symbols, setting up the central conflict.\n"
     ]
    }
   ],
   "source": [
    "print(result[\"story_intro\"])"
   ]
  }
 ],
 "metadata": {
  "kernelspec": {
   "display_name": "huggingface",
   "language": "python",
   "name": "python3"
  },
  "language_info": {
   "codemirror_mode": {
    "name": "ipython",
    "version": 3
   },
   "file_extension": ".py",
   "mimetype": "text/x-python",
   "name": "python",
   "nbconvert_exporter": "python",
   "pygments_lexer": "ipython3",
   "version": "3.12.3"
  }
 },
 "nbformat": 4,
 "nbformat_minor": 5
}
