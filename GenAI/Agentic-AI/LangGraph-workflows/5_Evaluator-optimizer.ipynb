{
 "cells": [
  {
   "cell_type": "markdown",
   "id": "f7a8e947",
   "metadata": {},
   "source": [
    "### Evaluator-optimizer\n",
    "In the evaluator-optimizer workflow, one LLM call generates a response while another provides evaluation and feedback in a loop.\n",
    "\n",
    "When to use this workflow: This workflow is particularly effective when we have clear evaluation criteria, and when iterative refinement provides measurable value. The two signs of good fit are, first, that LLM responses can be demonstrably improved when a human articulates their feedback; and second, that the LLM can provide such feedback. This is analogous to the iterative writing process a human writer might go through when producing a polished document."
   ]
  },
  {
   "cell_type": "code",
   "execution_count": 3,
   "id": "0e546a23",
   "metadata": {},
   "outputs": [
    {
     "data": {
      "text/plain": [
       "AIMessage(content='\\n<think>\\nOkay, the user said \"Hello\". I should respond politely. Maybe say \"Hello! How can I assist you today?\" That\\'s friendly and opens the conversation. Let me check if there\\'s anything else I need to consider. No, seems straightforward. Just keep it simple and welcoming.\\n</think>\\n\\nHello! How can I assist you today?', additional_kwargs={}, response_metadata={'token_usage': {'completion_tokens': 70, 'prompt_tokens': 11, 'total_tokens': 81, 'completion_time': 0.175680089, 'prompt_time': 0.002886305, 'queue_time': 0.24522070299999998, 'total_time': 0.178566394}, 'model_name': 'qwen-qwq-32b', 'system_fingerprint': 'fp_1e88ca32eb', 'finish_reason': 'stop', 'logprobs': None}, id='run-94e676f8-73af-4514-9183-6d828aac54ae-0', usage_metadata={'input_tokens': 11, 'output_tokens': 70, 'total_tokens': 81})"
      ]
     },
     "execution_count": 3,
     "metadata": {},
     "output_type": "execute_result"
    }
   ],
   "source": [
    "import os\n",
    "from dotenv import load_dotenv\n",
    "load_dotenv()\n",
    "\n",
    "from langchain_groq import ChatGroq\n",
    "#os.environ[\"OPENAI_API_KEY\"]=os.getenv(\"OPENAI_API_KEY\")\n",
    "os.environ[\"GROQ_API_KEY\"]=os.getenv(\"GROQ_API_KEY\")\n",
    "\n",
    "llm=ChatGroq(model=\"qwen-qwq-32b\")\n",
    "#llm = ChatOpenAI(model=\"gpt-4o\")\n",
    "result=llm.invoke(\"Hello\")\n",
    "result"
   ]
  },
  {
   "cell_type": "code",
   "execution_count": 4,
   "id": "cfb685c3",
   "metadata": {},
   "outputs": [],
   "source": [
    "from typing import Annotated, List\n",
    "import operator\n",
    "from typing_extensions import Literal\n",
    "from pydantic import BaseModel,Field\n",
    "from langchain_core.messages import HumanMessage,SystemMessage\n",
    "from typing_extensions import TypedDict\n",
    "# Graph state\n",
    "class State(TypedDict):\n",
    "    joke: str\n",
    "    topic: str\n",
    "    feedback: str\n",
    "    funny_or_not: str"
   ]
  },
  {
   "cell_type": "code",
   "execution_count": 5,
   "id": "ec02a083",
   "metadata": {},
   "outputs": [],
   "source": [
    "# Schema for structured output to use in evaluation\n",
    "class Feedback(BaseModel):\n",
    "    grade: Literal[\"funny\", \"not funny\"] = Field(\n",
    "        description=\"Decide if the joke is funny or not.\",\n",
    "    )\n",
    "    feedback: str = Field(\n",
    "        description=\"If the joke is not funny, provide feedback on how to improve it.\",\n",
    "    )\n",
    "\n",
    "# Augment the LLM with schema for structured output\n",
    "evaluator = llm.with_structured_output(Feedback)"
   ]
  },
  {
   "cell_type": "code",
   "execution_count": 7,
   "id": "e7b929e5",
   "metadata": {},
   "outputs": [],
   "source": [
    "# Nodes\n",
    "def llm_call_generator(state: State):\n",
    "    \"\"\"LLM generates a joke\"\"\"\n",
    "\n",
    "    if state.get(\"feedback\"):\n",
    "        msg = llm.invoke(\n",
    "            f\"Write a joke about {state['topic']} but take into account the feedback: {state['feedback']}\"\n",
    "        )\n",
    "    else:\n",
    "        msg = llm.invoke(f\"Write a joke about {state['topic']}\")\n",
    "    return {\"joke\": msg.content}\n",
    "\n",
    "def llm_call_evaluator(state: State):\n",
    "    \"\"\"LLM evaluates the joke\"\"\"\n",
    "\n",
    "    grade = evaluator.invoke(f\"Grade the joke {state['joke']}\")\n",
    "    return {\"funny_or_not\": grade.grade, \"feedback\": grade.feedback}\n",
    "\n",
    "# Conditional edge function to route back to joke generator or end based upon feedback from the evaluator\n",
    "def route_joke(state: State):\n",
    "    \"\"\"Route back to joke generator or end based upon feedback from the evaluator\"\"\"\n",
    "\n",
    "    if state[\"funny_or_not\"] == \"funny\":\n",
    "        return \"Accepted\"\n",
    "    elif state[\"funny_or_not\"] == \"not funny\":\n",
    "        return \"Rejected + Feedback\"\n"
   ]
  },
  {
   "cell_type": "code",
   "execution_count": 8,
   "id": "dc2ef2f7",
   "metadata": {},
   "outputs": [
    {
     "data": {
      "image/png": "[encoded data removed]",
      "text/plain": [
       "<IPython.core.display.Image object>"
      ]
     },
     "metadata": {},
     "output_type": "display_data"
    }
   ],
   "source": [
    "from langgraph.graph import StateGraph, START, END\n",
    "from IPython.display import Image, display\n",
    "\n",
    "# Build workflow\n",
    "optimizer_builder = StateGraph(State)\n",
    "\n",
    "# Add the nodes\n",
    "optimizer_builder.add_node(\"llm_call_generator\", llm_call_generator)\n",
    "optimizer_builder.add_node(\"llm_call_evaluator\", llm_call_evaluator)\n",
    "\n",
    "# Add edges to connect nodes\n",
    "optimizer_builder.add_edge(START, \"llm_call_generator\")\n",
    "optimizer_builder.add_edge(\"llm_call_generator\", \"llm_call_evaluator\")\n",
    "optimizer_builder.add_conditional_edges(\n",
    "    \"llm_call_evaluator\",\n",
    "    route_joke,\n",
    "    {  # Name returned by route_joke : Name of next node to visit\n",
    "        \"Accepted\": END,\n",
    "        \"Rejected + Feedback\": \"llm_call_generator\",\n",
    "    },\n",
    ")\n",
    "\n",
    "# Compile the workflow\n",
    "optimizer_workflow = optimizer_builder.compile()\n",
    "# Show the workflow\n",
    "display(Image(optimizer_workflow.get_graph().draw_mermaid_png()))"
   ]
  },
  {
   "cell_type": "code",
   "execution_count": 10,
   "id": "1d45f1ce",
   "metadata": {},
   "outputs": [
    {
     "name": "stdout",
     "output_type": "stream",
     "text": [
      "\n",
      "<think>\n",
      "Okay, the user wants a joke about LLM Hype. Let me think about this. LLM stands for Large Language Models, right? The hype around them is huge, with everyone talking about how they'll change the world. But maybe there's a way to poke fun at the over-the-top claims.\n",
      "\n",
      "Hmm, maybe a setup where someone is so hyped they think the LLM can do anything. Like, \"Why did the LLM go to therapy?\" Then the punchline could be that it's overwhelmed by all the hype, or maybe it's trying to handle too many tasks.\n",
      "\n",
      "Wait, another angle: people often say LLMs can do anything from writing to coding. So maybe the joke is about the LLM's actual vs. perceived abilities. Like, someone asks the LLM to do something impossible, and the response is a humble or sarcastic reply.\n",
      "\n",
      "Or maybe play on the \"AI winter\" fears. The hype is so high, but maybe the LLM is tired of all the expectations. \"Why did the LLM bring a ladder to the bar? To reach the hype!\" No, that's not quite there.\n",
      "\n",
      "Alternatively, a tech support scenario: someone asks the LLM to fix a problem, and the LLM responds with a joke about the hype. Wait, maybe a pun with \"neural network\" and something else. \"Why don't LLMs ever get lost? Because their neural networks have all the answers... in theory!\" That's better. It highlights the overhyped claims versus reality.\n",
      "\n",
      "Or maybe the classic \"Did you hear about the LLM that became a CEO? It's doing great... as long as you don't ask it about the stock price. It just says '42' and changes the subject.\" Hmm, that's a bit too obscure.\n",
      "\n",
      "Wait, the user's example joke used a therapy scenario. Let me try that. The therapist says the LLM is stressed because it's supposed to do everything. The LLM's reply is that it just wants to answer \"how's the weather,\" playing on the trivial vs. the hype. That's clever. The joke contrasts the high expectations with a simple, everyday task. Yeah, that's a solid structure. Let me check if that's original enough. Maybe tweak the punchline for more humor. Instead of \"how's the weather,\" maybe something even more mundane, like answering \"yes or no\" questions. Or \"just to talk about the weather\" to add a pun on \"weather\" as a common topic. That's probably better. Alright, let's go with that structure.\n",
      "</think>\n",
      "\n",
      "Why did the overhyped LLM go to therapy?  \n",
      "Because it had a existential crisis after being told it could \"solve climate change, write a symphony, and debug my code… *while explaining the meaning of life*.\"  \n",
      "\n",
      "The therapist asked, \"What’s really bothering you?\"  \n",
      "The LLM sighed, \"I just want to be the world’s greatest ‘how’s the weather’ chatbot. Is that too much to ask?\"  \n",
      "\n",
      "---  \n",
      "This joke pokes fun at the absurdly inflated expectations surrounding LLMs, contrasting the hype with a simple, mundane task. Bonus groan-worthy point if you’re a weather app developer. ☀️🌧️\n"
     ]
    }
   ],
   "source": [
    "# Invoke\n",
    "state = optimizer_workflow.invoke({\"topic\": \"LLM Hype\"})\n",
    "print(state[\"joke\"])"
   ]
  },
  {
   "cell_type": "code",
   "execution_count": null,
   "id": "18af9e9d",
   "metadata": {},
   "outputs": [],
   "source": [
    "state"
   ]
  }
 ],
 "metadata": {
  "kernelspec": {
   "display_name": "huggingface",
   "language": "python",
   "name": "python3"
  },
  "language_info": {
   "codemirror_mode": {
    "name": "ipython",
    "version": 3
   },
   "file_extension": ".py",
   "mimetype": "text/x-python",
   "name": "python",
   "nbconvert_exporter": "python",
   "pygments_lexer": "ipython3",
   "version": "3.12.3"
  }
 },
 "nbformat": 4,
 "nbformat_minor": 5
}
