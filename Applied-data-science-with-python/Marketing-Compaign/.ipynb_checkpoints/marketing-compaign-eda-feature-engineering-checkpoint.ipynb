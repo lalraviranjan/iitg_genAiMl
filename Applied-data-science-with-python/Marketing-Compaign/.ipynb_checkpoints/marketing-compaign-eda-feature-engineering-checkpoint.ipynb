{
 "cells": [
  {
   "cell_type": "markdown",
   "id": "d0db36de-9342-4dc1-8bab-7b6f80b32f48",
   "metadata": {},
   "source": [
    "# Marketing Compaign - Data Cleaning, EDA, Hypothesis Testing, and Feature Engineering"
   ]
  },
  {
   "cell_type": "code",
   "execution_count": 2,
   "id": "74ace891-b016-4c11-81c4-e2a50c4b53c4",
   "metadata": {},
   "outputs": [],
   "source": [
    "# importing the required packages\n",
    "import pandas as pd\n",
    "import numpy as np\n",
    "import matplotlib.pyplot as plt\n",
    "import seaborn as sns\n",
    "from datetime import datetime"
   ]
  },
  {
   "cell_type": "code",
   "execution_count": 3,
   "id": "8d7ccef7-5175-4ed6-a2c3-ca4082bdc934",
   "metadata": {},
   "outputs": [
    {
     "data": {
      "text/html": [
       "<div>\n",
       "<style scoped>\n",
       "    .dataframe tbody tr th:only-of-type {\n",
       "        vertical-align: middle;\n",
       "    }\n",
       "\n",
       "    .dataframe tbody tr th {\n",
       "        vertical-align: top;\n",
       "    }\n",
       "\n",
       "    .dataframe thead th {\n",
       "        text-align: right;\n",
       "    }\n",
       "</style>\n",
       "<table border=\"1\" class=\"dataframe\">\n",
       "  <thead>\n",
       "    <tr style=\"text-align: right;\">\n",
       "      <th></th>\n",
       "      <th>ID</th>\n",
       "      <th>Year_Birth</th>\n",
       "      <th>Education</th>\n",
       "      <th>Marital_Status</th>\n",
       "      <th>Income</th>\n",
       "      <th>Kidhome</th>\n",
       "      <th>Teenhome</th>\n",
       "      <th>Dt_Customer</th>\n",
       "      <th>Recency</th>\n",
       "      <th>MntWines</th>\n",
       "      <th>...</th>\n",
       "      <th>NumStorePurchases</th>\n",
       "      <th>NumWebVisitsMonth</th>\n",
       "      <th>AcceptedCmp3</th>\n",
       "      <th>AcceptedCmp4</th>\n",
       "      <th>AcceptedCmp5</th>\n",
       "      <th>AcceptedCmp1</th>\n",
       "      <th>AcceptedCmp2</th>\n",
       "      <th>Response</th>\n",
       "      <th>Complain</th>\n",
       "      <th>Country</th>\n",
       "    </tr>\n",
       "  </thead>\n",
       "  <tbody>\n",
       "    <tr>\n",
       "      <th>0</th>\n",
       "      <td>1826</td>\n",
       "      <td>1970</td>\n",
       "      <td>Graduation</td>\n",
       "      <td>Divorced</td>\n",
       "      <td>$84,835.00</td>\n",
       "      <td>0</td>\n",
       "      <td>0</td>\n",
       "      <td>6/16/14</td>\n",
       "      <td>0</td>\n",
       "      <td>189</td>\n",
       "      <td>...</td>\n",
       "      <td>6</td>\n",
       "      <td>1</td>\n",
       "      <td>0</td>\n",
       "      <td>0</td>\n",
       "      <td>0</td>\n",
       "      <td>0</td>\n",
       "      <td>0</td>\n",
       "      <td>1</td>\n",
       "      <td>0</td>\n",
       "      <td>SP</td>\n",
       "    </tr>\n",
       "    <tr>\n",
       "      <th>1</th>\n",
       "      <td>1</td>\n",
       "      <td>1961</td>\n",
       "      <td>Graduation</td>\n",
       "      <td>Single</td>\n",
       "      <td>$57,091.00</td>\n",
       "      <td>0</td>\n",
       "      <td>0</td>\n",
       "      <td>6/15/14</td>\n",
       "      <td>0</td>\n",
       "      <td>464</td>\n",
       "      <td>...</td>\n",
       "      <td>7</td>\n",
       "      <td>5</td>\n",
       "      <td>0</td>\n",
       "      <td>0</td>\n",
       "      <td>0</td>\n",
       "      <td>0</td>\n",
       "      <td>1</td>\n",
       "      <td>1</td>\n",
       "      <td>0</td>\n",
       "      <td>CA</td>\n",
       "    </tr>\n",
       "    <tr>\n",
       "      <th>2</th>\n",
       "      <td>10476</td>\n",
       "      <td>1958</td>\n",
       "      <td>Graduation</td>\n",
       "      <td>Married</td>\n",
       "      <td>$67,267.00</td>\n",
       "      <td>0</td>\n",
       "      <td>1</td>\n",
       "      <td>5/13/14</td>\n",
       "      <td>0</td>\n",
       "      <td>134</td>\n",
       "      <td>...</td>\n",
       "      <td>5</td>\n",
       "      <td>2</td>\n",
       "      <td>0</td>\n",
       "      <td>0</td>\n",
       "      <td>0</td>\n",
       "      <td>0</td>\n",
       "      <td>0</td>\n",
       "      <td>0</td>\n",
       "      <td>0</td>\n",
       "      <td>US</td>\n",
       "    </tr>\n",
       "    <tr>\n",
       "      <th>3</th>\n",
       "      <td>1386</td>\n",
       "      <td>1967</td>\n",
       "      <td>Graduation</td>\n",
       "      <td>Together</td>\n",
       "      <td>$32,474.00</td>\n",
       "      <td>1</td>\n",
       "      <td>1</td>\n",
       "      <td>5/11/14</td>\n",
       "      <td>0</td>\n",
       "      <td>10</td>\n",
       "      <td>...</td>\n",
       "      <td>2</td>\n",
       "      <td>7</td>\n",
       "      <td>0</td>\n",
       "      <td>0</td>\n",
       "      <td>0</td>\n",
       "      <td>0</td>\n",
       "      <td>0</td>\n",
       "      <td>0</td>\n",
       "      <td>0</td>\n",
       "      <td>AUS</td>\n",
       "    </tr>\n",
       "    <tr>\n",
       "      <th>4</th>\n",
       "      <td>5371</td>\n",
       "      <td>1989</td>\n",
       "      <td>Graduation</td>\n",
       "      <td>Single</td>\n",
       "      <td>$21,474.00</td>\n",
       "      <td>1</td>\n",
       "      <td>0</td>\n",
       "      <td>4/8/14</td>\n",
       "      <td>0</td>\n",
       "      <td>6</td>\n",
       "      <td>...</td>\n",
       "      <td>2</td>\n",
       "      <td>7</td>\n",
       "      <td>1</td>\n",
       "      <td>0</td>\n",
       "      <td>0</td>\n",
       "      <td>0</td>\n",
       "      <td>0</td>\n",
       "      <td>1</td>\n",
       "      <td>0</td>\n",
       "      <td>SP</td>\n",
       "    </tr>\n",
       "  </tbody>\n",
       "</table>\n",
       "<p>5 rows × 28 columns</p>\n",
       "</div>"
      ],
      "text/plain": [
       "      ID  Year_Birth   Education Marital_Status      Income   Kidhome  \\\n",
       "0   1826        1970  Graduation       Divorced  $84,835.00         0   \n",
       "1      1        1961  Graduation         Single  $57,091.00         0   \n",
       "2  10476        1958  Graduation        Married  $67,267.00         0   \n",
       "3   1386        1967  Graduation       Together  $32,474.00         1   \n",
       "4   5371        1989  Graduation         Single  $21,474.00         1   \n",
       "\n",
       "   Teenhome Dt_Customer  Recency  MntWines  ...  NumStorePurchases  \\\n",
       "0         0     6/16/14        0       189  ...                  6   \n",
       "1         0     6/15/14        0       464  ...                  7   \n",
       "2         1     5/13/14        0       134  ...                  5   \n",
       "3         1     5/11/14        0        10  ...                  2   \n",
       "4         0      4/8/14        0         6  ...                  2   \n",
       "\n",
       "   NumWebVisitsMonth  AcceptedCmp3  AcceptedCmp4  AcceptedCmp5  AcceptedCmp1  \\\n",
       "0                  1             0             0             0             0   \n",
       "1                  5             0             0             0             0   \n",
       "2                  2             0             0             0             0   \n",
       "3                  7             0             0             0             0   \n",
       "4                  7             1             0             0             0   \n",
       "\n",
       "   AcceptedCmp2  Response  Complain  Country  \n",
       "0             0         1         0       SP  \n",
       "1             1         1         0       CA  \n",
       "2             0         0         0       US  \n",
       "3             0         0         0      AUS  \n",
       "4             0         1         0       SP  \n",
       "\n",
       "[5 rows x 28 columns]"
      ]
     },
     "execution_count": 3,
     "metadata": {},
     "output_type": "execute_result"
    }
   ],
   "source": [
    "df_main = pd.read_csv(\"marketing_data.csv\")\n",
    "df_main.head()"
   ]
  },
  {
   "cell_type": "code",
   "execution_count": 4,
   "id": "e7ef8d76-a7c7-417b-9074-a045a1f7c5d4",
   "metadata": {},
   "outputs": [
    {
     "data": {
      "text/plain": [
       "(2240, 28)"
      ]
     },
     "execution_count": 4,
     "metadata": {},
     "output_type": "execute_result"
    }
   ],
   "source": [
    "#check the shape of the dataset , number of rows and columns\n",
    "df_main.shape"
   ]
  },
  {
   "cell_type": "code",
   "execution_count": 5,
   "id": "2b43a0a9-6a25-4644-b907-93ea79e9ff60",
   "metadata": {},
   "outputs": [
    {
     "name": "stdout",
     "output_type": "stream",
     "text": [
      "<class 'pandas.core.frame.DataFrame'>\n",
      "RangeIndex: 2240 entries, 0 to 2239\n",
      "Data columns (total 28 columns):\n",
      " #   Column               Non-Null Count  Dtype \n",
      "---  ------               --------------  ----- \n",
      " 0   ID                   2240 non-null   int64 \n",
      " 1   Year_Birth           2240 non-null   int64 \n",
      " 2   Education            2240 non-null   object\n",
      " 3   Marital_Status       2240 non-null   object\n",
      " 4    Income              2216 non-null   object\n",
      " 5   Kidhome              2240 non-null   int64 \n",
      " 6   Teenhome             2240 non-null   int64 \n",
      " 7   Dt_Customer          2240 non-null   object\n",
      " 8   Recency              2240 non-null   int64 \n",
      " 9   MntWines             2240 non-null   int64 \n",
      " 10  MntFruits            2240 non-null   int64 \n",
      " 11  MntMeatProducts      2240 non-null   int64 \n",
      " 12  MntFishProducts      2240 non-null   int64 \n",
      " 13  MntSweetProducts     2240 non-null   int64 \n",
      " 14  MntGoldProds         2240 non-null   int64 \n",
      " 15  NumDealsPurchases    2240 non-null   int64 \n",
      " 16  NumWebPurchases      2240 non-null   int64 \n",
      " 17  NumCatalogPurchases  2240 non-null   int64 \n",
      " 18  NumStorePurchases    2240 non-null   int64 \n",
      " 19  NumWebVisitsMonth    2240 non-null   int64 \n",
      " 20  AcceptedCmp3         2240 non-null   int64 \n",
      " 21  AcceptedCmp4         2240 non-null   int64 \n",
      " 22  AcceptedCmp5         2240 non-null   int64 \n",
      " 23  AcceptedCmp1         2240 non-null   int64 \n",
      " 24  AcceptedCmp2         2240 non-null   int64 \n",
      " 25  Response             2240 non-null   int64 \n",
      " 26  Complain             2240 non-null   int64 \n",
      " 27  Country              2240 non-null   object\n",
      "dtypes: int64(23), object(5)\n",
      "memory usage: 490.1+ KB\n"
     ]
    }
   ],
   "source": [
    "# check info of the datset like datatypes in int, object\n",
    "df_main.info()"
   ]
  },
  {
   "cell_type": "code",
   "execution_count": 6,
   "id": "f36e3fd6-4e66-4ef7-9c6b-c13c3ebeb0e4",
   "metadata": {},
   "outputs": [
    {
     "data": {
      "text/html": [
       "<div>\n",
       "<style scoped>\n",
       "    .dataframe tbody tr th:only-of-type {\n",
       "        vertical-align: middle;\n",
       "    }\n",
       "\n",
       "    .dataframe tbody tr th {\n",
       "        vertical-align: top;\n",
       "    }\n",
       "\n",
       "    .dataframe thead th {\n",
       "        text-align: right;\n",
       "    }\n",
       "</style>\n",
       "<table border=\"1\" class=\"dataframe\">\n",
       "  <thead>\n",
       "    <tr style=\"text-align: right;\">\n",
       "      <th></th>\n",
       "      <th>ID</th>\n",
       "      <th>Year_Birth</th>\n",
       "      <th>Kidhome</th>\n",
       "      <th>Teenhome</th>\n",
       "      <th>Recency</th>\n",
       "      <th>MntWines</th>\n",
       "      <th>MntFruits</th>\n",
       "      <th>MntMeatProducts</th>\n",
       "      <th>MntFishProducts</th>\n",
       "      <th>MntSweetProducts</th>\n",
       "      <th>...</th>\n",
       "      <th>NumCatalogPurchases</th>\n",
       "      <th>NumStorePurchases</th>\n",
       "      <th>NumWebVisitsMonth</th>\n",
       "      <th>AcceptedCmp3</th>\n",
       "      <th>AcceptedCmp4</th>\n",
       "      <th>AcceptedCmp5</th>\n",
       "      <th>AcceptedCmp1</th>\n",
       "      <th>AcceptedCmp2</th>\n",
       "      <th>Response</th>\n",
       "      <th>Complain</th>\n",
       "    </tr>\n",
       "  </thead>\n",
       "  <tbody>\n",
       "    <tr>\n",
       "      <th>count</th>\n",
       "      <td>2240.000000</td>\n",
       "      <td>2240.000000</td>\n",
       "      <td>2240.000000</td>\n",
       "      <td>2240.000000</td>\n",
       "      <td>2240.000000</td>\n",
       "      <td>2240.000000</td>\n",
       "      <td>2240.000000</td>\n",
       "      <td>2240.000000</td>\n",
       "      <td>2240.000000</td>\n",
       "      <td>2240.000000</td>\n",
       "      <td>...</td>\n",
       "      <td>2240.000000</td>\n",
       "      <td>2240.000000</td>\n",
       "      <td>2240.000000</td>\n",
       "      <td>2240.000000</td>\n",
       "      <td>2240.000000</td>\n",
       "      <td>2240.000000</td>\n",
       "      <td>2240.000000</td>\n",
       "      <td>2240.000000</td>\n",
       "      <td>2240.000000</td>\n",
       "      <td>2240.000000</td>\n",
       "    </tr>\n",
       "    <tr>\n",
       "      <th>mean</th>\n",
       "      <td>5592.159821</td>\n",
       "      <td>1968.805804</td>\n",
       "      <td>0.444196</td>\n",
       "      <td>0.506250</td>\n",
       "      <td>49.109375</td>\n",
       "      <td>303.935714</td>\n",
       "      <td>26.302232</td>\n",
       "      <td>166.950000</td>\n",
       "      <td>37.525446</td>\n",
       "      <td>27.062946</td>\n",
       "      <td>...</td>\n",
       "      <td>2.662054</td>\n",
       "      <td>5.790179</td>\n",
       "      <td>5.316518</td>\n",
       "      <td>0.072768</td>\n",
       "      <td>0.074554</td>\n",
       "      <td>0.072768</td>\n",
       "      <td>0.064286</td>\n",
       "      <td>0.013393</td>\n",
       "      <td>0.149107</td>\n",
       "      <td>0.009375</td>\n",
       "    </tr>\n",
       "    <tr>\n",
       "      <th>std</th>\n",
       "      <td>3246.662198</td>\n",
       "      <td>11.984069</td>\n",
       "      <td>0.538398</td>\n",
       "      <td>0.544538</td>\n",
       "      <td>28.962453</td>\n",
       "      <td>336.597393</td>\n",
       "      <td>39.773434</td>\n",
       "      <td>225.715373</td>\n",
       "      <td>54.628979</td>\n",
       "      <td>41.280498</td>\n",
       "      <td>...</td>\n",
       "      <td>2.923101</td>\n",
       "      <td>3.250958</td>\n",
       "      <td>2.426645</td>\n",
       "      <td>0.259813</td>\n",
       "      <td>0.262728</td>\n",
       "      <td>0.259813</td>\n",
       "      <td>0.245316</td>\n",
       "      <td>0.114976</td>\n",
       "      <td>0.356274</td>\n",
       "      <td>0.096391</td>\n",
       "    </tr>\n",
       "    <tr>\n",
       "      <th>min</th>\n",
       "      <td>0.000000</td>\n",
       "      <td>1893.000000</td>\n",
       "      <td>0.000000</td>\n",
       "      <td>0.000000</td>\n",
       "      <td>0.000000</td>\n",
       "      <td>0.000000</td>\n",
       "      <td>0.000000</td>\n",
       "      <td>0.000000</td>\n",
       "      <td>0.000000</td>\n",
       "      <td>0.000000</td>\n",
       "      <td>...</td>\n",
       "      <td>0.000000</td>\n",
       "      <td>0.000000</td>\n",
       "      <td>0.000000</td>\n",
       "      <td>0.000000</td>\n",
       "      <td>0.000000</td>\n",
       "      <td>0.000000</td>\n",
       "      <td>0.000000</td>\n",
       "      <td>0.000000</td>\n",
       "      <td>0.000000</td>\n",
       "      <td>0.000000</td>\n",
       "    </tr>\n",
       "    <tr>\n",
       "      <th>25%</th>\n",
       "      <td>2828.250000</td>\n",
       "      <td>1959.000000</td>\n",
       "      <td>0.000000</td>\n",
       "      <td>0.000000</td>\n",
       "      <td>24.000000</td>\n",
       "      <td>23.750000</td>\n",
       "      <td>1.000000</td>\n",
       "      <td>16.000000</td>\n",
       "      <td>3.000000</td>\n",
       "      <td>1.000000</td>\n",
       "      <td>...</td>\n",
       "      <td>0.000000</td>\n",
       "      <td>3.000000</td>\n",
       "      <td>3.000000</td>\n",
       "      <td>0.000000</td>\n",
       "      <td>0.000000</td>\n",
       "      <td>0.000000</td>\n",
       "      <td>0.000000</td>\n",
       "      <td>0.000000</td>\n",
       "      <td>0.000000</td>\n",
       "      <td>0.000000</td>\n",
       "    </tr>\n",
       "    <tr>\n",
       "      <th>50%</th>\n",
       "      <td>5458.500000</td>\n",
       "      <td>1970.000000</td>\n",
       "      <td>0.000000</td>\n",
       "      <td>0.000000</td>\n",
       "      <td>49.000000</td>\n",
       "      <td>173.500000</td>\n",
       "      <td>8.000000</td>\n",
       "      <td>67.000000</td>\n",
       "      <td>12.000000</td>\n",
       "      <td>8.000000</td>\n",
       "      <td>...</td>\n",
       "      <td>2.000000</td>\n",
       "      <td>5.000000</td>\n",
       "      <td>6.000000</td>\n",
       "      <td>0.000000</td>\n",
       "      <td>0.000000</td>\n",
       "      <td>0.000000</td>\n",
       "      <td>0.000000</td>\n",
       "      <td>0.000000</td>\n",
       "      <td>0.000000</td>\n",
       "      <td>0.000000</td>\n",
       "    </tr>\n",
       "    <tr>\n",
       "      <th>75%</th>\n",
       "      <td>8427.750000</td>\n",
       "      <td>1977.000000</td>\n",
       "      <td>1.000000</td>\n",
       "      <td>1.000000</td>\n",
       "      <td>74.000000</td>\n",
       "      <td>504.250000</td>\n",
       "      <td>33.000000</td>\n",
       "      <td>232.000000</td>\n",
       "      <td>50.000000</td>\n",
       "      <td>33.000000</td>\n",
       "      <td>...</td>\n",
       "      <td>4.000000</td>\n",
       "      <td>8.000000</td>\n",
       "      <td>7.000000</td>\n",
       "      <td>0.000000</td>\n",
       "      <td>0.000000</td>\n",
       "      <td>0.000000</td>\n",
       "      <td>0.000000</td>\n",
       "      <td>0.000000</td>\n",
       "      <td>0.000000</td>\n",
       "      <td>0.000000</td>\n",
       "    </tr>\n",
       "    <tr>\n",
       "      <th>max</th>\n",
       "      <td>11191.000000</td>\n",
       "      <td>1996.000000</td>\n",
       "      <td>2.000000</td>\n",
       "      <td>2.000000</td>\n",
       "      <td>99.000000</td>\n",
       "      <td>1493.000000</td>\n",
       "      <td>199.000000</td>\n",
       "      <td>1725.000000</td>\n",
       "      <td>259.000000</td>\n",
       "      <td>263.000000</td>\n",
       "      <td>...</td>\n",
       "      <td>28.000000</td>\n",
       "      <td>13.000000</td>\n",
       "      <td>20.000000</td>\n",
       "      <td>1.000000</td>\n",
       "      <td>1.000000</td>\n",
       "      <td>1.000000</td>\n",
       "      <td>1.000000</td>\n",
       "      <td>1.000000</td>\n",
       "      <td>1.000000</td>\n",
       "      <td>1.000000</td>\n",
       "    </tr>\n",
       "  </tbody>\n",
       "</table>\n",
       "<p>8 rows × 23 columns</p>\n",
       "</div>"
      ],
      "text/plain": [
       "                 ID   Year_Birth      Kidhome     Teenhome      Recency  \\\n",
       "count   2240.000000  2240.000000  2240.000000  2240.000000  2240.000000   \n",
       "mean    5592.159821  1968.805804     0.444196     0.506250    49.109375   \n",
       "std     3246.662198    11.984069     0.538398     0.544538    28.962453   \n",
       "min        0.000000  1893.000000     0.000000     0.000000     0.000000   \n",
       "25%     2828.250000  1959.000000     0.000000     0.000000    24.000000   \n",
       "50%     5458.500000  1970.000000     0.000000     0.000000    49.000000   \n",
       "75%     8427.750000  1977.000000     1.000000     1.000000    74.000000   \n",
       "max    11191.000000  1996.000000     2.000000     2.000000    99.000000   \n",
       "\n",
       "          MntWines    MntFruits  MntMeatProducts  MntFishProducts  \\\n",
       "count  2240.000000  2240.000000      2240.000000      2240.000000   \n",
       "mean    303.935714    26.302232       166.950000        37.525446   \n",
       "std     336.597393    39.773434       225.715373        54.628979   \n",
       "min       0.000000     0.000000         0.000000         0.000000   \n",
       "25%      23.750000     1.000000        16.000000         3.000000   \n",
       "50%     173.500000     8.000000        67.000000        12.000000   \n",
       "75%     504.250000    33.000000       232.000000        50.000000   \n",
       "max    1493.000000   199.000000      1725.000000       259.000000   \n",
       "\n",
       "       MntSweetProducts  ...  NumCatalogPurchases  NumStorePurchases  \\\n",
       "count       2240.000000  ...          2240.000000        2240.000000   \n",
       "mean          27.062946  ...             2.662054           5.790179   \n",
       "std           41.280498  ...             2.923101           3.250958   \n",
       "min            0.000000  ...             0.000000           0.000000   \n",
       "25%            1.000000  ...             0.000000           3.000000   \n",
       "50%            8.000000  ...             2.000000           5.000000   \n",
       "75%           33.000000  ...             4.000000           8.000000   \n",
       "max          263.000000  ...            28.000000          13.000000   \n",
       "\n",
       "       NumWebVisitsMonth  AcceptedCmp3  AcceptedCmp4  AcceptedCmp5  \\\n",
       "count        2240.000000   2240.000000   2240.000000   2240.000000   \n",
       "mean            5.316518      0.072768      0.074554      0.072768   \n",
       "std             2.426645      0.259813      0.262728      0.259813   \n",
       "min             0.000000      0.000000      0.000000      0.000000   \n",
       "25%             3.000000      0.000000      0.000000      0.000000   \n",
       "50%             6.000000      0.000000      0.000000      0.000000   \n",
       "75%             7.000000      0.000000      0.000000      0.000000   \n",
       "max            20.000000      1.000000      1.000000      1.000000   \n",
       "\n",
       "       AcceptedCmp1  AcceptedCmp2     Response     Complain  \n",
       "count   2240.000000   2240.000000  2240.000000  2240.000000  \n",
       "mean       0.064286      0.013393     0.149107     0.009375  \n",
       "std        0.245316      0.114976     0.356274     0.096391  \n",
       "min        0.000000      0.000000     0.000000     0.000000  \n",
       "25%        0.000000      0.000000     0.000000     0.000000  \n",
       "50%        0.000000      0.000000     0.000000     0.000000  \n",
       "75%        0.000000      0.000000     0.000000     0.000000  \n",
       "max        1.000000      1.000000     1.000000     1.000000  \n",
       "\n",
       "[8 rows x 23 columns]"
      ]
     },
     "execution_count": 6,
     "metadata": {},
     "output_type": "execute_result"
    }
   ],
   "source": [
    "# using describe method to check the stats of the datset like, mean, standard deviation , percentile\n",
    "df_main.describe()"
   ]
  },
  {
   "cell_type": "markdown",
   "id": "552974ac-35dc-4f28-b0e3-ae7af42a7eae",
   "metadata": {},
   "source": [
    "## Data Cleaning"
   ]
  },
  {
   "cell_type": "code",
   "execution_count": 7,
   "id": "f6d0bde5-261a-439c-8eea-371a417389a9",
   "metadata": {},
   "outputs": [
    {
     "data": {
      "text/plain": [
       "ID                      0\n",
       "Year_Birth              0\n",
       "Education               0\n",
       "Marital_Status          0\n",
       " Income                24\n",
       "Kidhome                 0\n",
       "Teenhome                0\n",
       "Dt_Customer             0\n",
       "Recency                 0\n",
       "MntWines                0\n",
       "MntFruits               0\n",
       "MntMeatProducts         0\n",
       "MntFishProducts         0\n",
       "MntSweetProducts        0\n",
       "MntGoldProds            0\n",
       "NumDealsPurchases       0\n",
       "NumWebPurchases         0\n",
       "NumCatalogPurchases     0\n",
       "NumStorePurchases       0\n",
       "NumWebVisitsMonth       0\n",
       "AcceptedCmp3            0\n",
       "AcceptedCmp4            0\n",
       "AcceptedCmp5            0\n",
       "AcceptedCmp1            0\n",
       "AcceptedCmp2            0\n",
       "Response                0\n",
       "Complain                0\n",
       "Country                 0\n",
       "dtype: int64"
      ]
     },
     "execution_count": 7,
     "metadata": {},
     "output_type": "execute_result"
    }
   ],
   "source": [
    "# check how many features have total null values\n",
    "df_main.isnull().sum()"
   ]
  },
  {
   "cell_type": "code",
   "execution_count": 8,
   "id": "8de633d0-2eff-4599-aa11-18d008f2e3f1",
   "metadata": {},
   "outputs": [],
   "source": [
    "# creating a copy of the dataframe, to avoid direct modification on the main datset.\n",
    "df = df_main.copy()"
   ]
  },
  {
   "cell_type": "code",
   "execution_count": 9,
   "id": "a1dbeef9-e098-4831-9393-b4af9686e18d",
   "metadata": {},
   "outputs": [
    {
     "data": {
      "text/plain": [
       "(2240, 28)"
      ]
     },
     "execution_count": 9,
     "metadata": {},
     "output_type": "execute_result"
    }
   ],
   "source": [
    "# drop duplicates if any and check using shape to verify the shape\n",
    "df.drop_duplicates(subset='ID', inplace=True)\n",
    "df.shape"
   ]
  },
  {
   "cell_type": "code",
   "execution_count": 10,
   "id": "e06795d4-a285-4fbe-9dc4-33fb32c1dc01",
   "metadata": {},
   "outputs": [
    {
     "data": {
      "text/plain": [
       "Index(['ID', 'Year_Birth', 'Education', 'Marital_Status', ' Income ',\n",
       "       'Kidhome', 'Teenhome', 'Dt_Customer', 'Recency', 'MntWines',\n",
       "       'MntFruits', 'MntMeatProducts', 'MntFishProducts', 'MntSweetProducts',\n",
       "       'MntGoldProds', 'NumDealsPurchases', 'NumWebPurchases',\n",
       "       'NumCatalogPurchases', 'NumStorePurchases', 'NumWebVisitsMonth',\n",
       "       'AcceptedCmp3', 'AcceptedCmp4', 'AcceptedCmp5', 'AcceptedCmp1',\n",
       "       'AcceptedCmp2', 'Response', 'Complain', 'Country'],\n",
       "      dtype='object')"
      ]
     },
     "execution_count": 10,
     "metadata": {},
     "output_type": "execute_result"
    }
   ],
   "source": [
    "# check columns for extra spaces\n",
    "df.columns"
   ]
  },
  {
   "cell_type": "code",
   "execution_count": 11,
   "id": "63d95f7d-0e8e-4427-99ee-a648bb8caf49",
   "metadata": {},
   "outputs": [
    {
     "data": {
      "text/plain": [
       "Index(['ID', 'Year_Birth', 'Education', 'Marital_Status', 'Income', 'Kidhome',\n",
       "       'Teenhome', 'Dt_Customer', 'Recency', 'MntWines', 'MntFruits',\n",
       "       'MntMeatProducts', 'MntFishProducts', 'MntSweetProducts',\n",
       "       'MntGoldProds', 'NumDealsPurchases', 'NumWebPurchases',\n",
       "       'NumCatalogPurchases', 'NumStorePurchases', 'NumWebVisitsMonth',\n",
       "       'AcceptedCmp3', 'AcceptedCmp4', 'AcceptedCmp5', 'AcceptedCmp1',\n",
       "       'AcceptedCmp2', 'Response', 'Complain', 'Country'],\n",
       "      dtype='object')"
      ]
     },
     "execution_count": 11,
     "metadata": {},
     "output_type": "execute_result"
    }
   ],
   "source": [
    "#There is extra space in column name ex- Income column has space before and after the Income column name.\n",
    "df.columns = df.columns.str.strip()\n",
    "df.columns"
   ]
  },
  {
   "cell_type": "code",
   "execution_count": 12,
   "id": "86cd350d-cc1c-44f1-a0b4-d83ceeead0ac",
   "metadata": {},
   "outputs": [
    {
     "data": {
      "text/plain": [
       "np.int64(24)"
      ]
     },
     "execution_count": 12,
     "metadata": {},
     "output_type": "execute_result"
    }
   ],
   "source": [
    "df['Income'].isnull().sum()\n",
    "# so there are 24 null values in the Income feature."
   ]
  },
  {
   "cell_type": "code",
   "execution_count": 13,
   "id": "baf975cb-d4ff-4b2b-9279-4d8fafc403a7",
   "metadata": {},
   "outputs": [
    {
     "data": {
      "text/plain": [
       "array(['$84,835.00 ', '$57,091.00 ', '$67,267.00 ', ..., '$46,310.00 ',\n",
       "       '$65,819.00 ', '$94,871.00 '], dtype=object)"
      ]
     },
     "execution_count": 13,
     "metadata": {},
     "output_type": "execute_result"
    }
   ],
   "source": [
    "df['Income'].unique()"
   ]
  },
  {
   "cell_type": "code",
   "execution_count": 14,
   "id": "a637f96c-831e-4643-ab6e-ee832b58899d",
   "metadata": {},
   "outputs": [],
   "source": [
    "# Remove all the $ and comma from the Income feature so that we have all the values converted to float type\n",
    "df['Income'] = df['Income'].str.strip()\n",
    "chars_to_remove = [\"$\", \",\"]\n",
    "for item in chars_to_remove:\n",
    "    df['Income'] = df['Income'].str.replace(item, '')"
   ]
  },
  {
   "cell_type": "code",
   "execution_count": 15,
   "id": "55e66040-b45f-4045-a3d1-1b660bc32e73",
   "metadata": {},
   "outputs": [],
   "source": [
    "# Transform the income to numeric from string type\n",
    "df['Income'] = pd.to_numeric(df['Income'], errors=\"coerce\")"
   ]
  },
  {
   "cell_type": "code",
   "execution_count": 16,
   "id": "cc2c81e0-9d85-4a85-8ac1-25a497a6b24c",
   "metadata": {},
   "outputs": [
    {
     "data": {
      "text/html": [
       "<div>\n",
       "<style scoped>\n",
       "    .dataframe tbody tr th:only-of-type {\n",
       "        vertical-align: middle;\n",
       "    }\n",
       "\n",
       "    .dataframe tbody tr th {\n",
       "        vertical-align: top;\n",
       "    }\n",
       "\n",
       "    .dataframe thead th {\n",
       "        text-align: right;\n",
       "    }\n",
       "</style>\n",
       "<table border=\"1\" class=\"dataframe\">\n",
       "  <thead>\n",
       "    <tr style=\"text-align: right;\">\n",
       "      <th></th>\n",
       "      <th>ID</th>\n",
       "      <th>Year_Birth</th>\n",
       "      <th>Education</th>\n",
       "      <th>Marital_Status</th>\n",
       "      <th>Income</th>\n",
       "      <th>Kidhome</th>\n",
       "      <th>Teenhome</th>\n",
       "      <th>Dt_Customer</th>\n",
       "      <th>Recency</th>\n",
       "      <th>MntWines</th>\n",
       "      <th>...</th>\n",
       "      <th>NumStorePurchases</th>\n",
       "      <th>NumWebVisitsMonth</th>\n",
       "      <th>AcceptedCmp3</th>\n",
       "      <th>AcceptedCmp4</th>\n",
       "      <th>AcceptedCmp5</th>\n",
       "      <th>AcceptedCmp1</th>\n",
       "      <th>AcceptedCmp2</th>\n",
       "      <th>Response</th>\n",
       "      <th>Complain</th>\n",
       "      <th>Country</th>\n",
       "    </tr>\n",
       "  </thead>\n",
       "  <tbody>\n",
       "    <tr>\n",
       "      <th>0</th>\n",
       "      <td>1826</td>\n",
       "      <td>1970</td>\n",
       "      <td>Graduation</td>\n",
       "      <td>Divorced</td>\n",
       "      <td>84835.0</td>\n",
       "      <td>0</td>\n",
       "      <td>0</td>\n",
       "      <td>6/16/14</td>\n",
       "      <td>0</td>\n",
       "      <td>189</td>\n",
       "      <td>...</td>\n",
       "      <td>6</td>\n",
       "      <td>1</td>\n",
       "      <td>0</td>\n",
       "      <td>0</td>\n",
       "      <td>0</td>\n",
       "      <td>0</td>\n",
       "      <td>0</td>\n",
       "      <td>1</td>\n",
       "      <td>0</td>\n",
       "      <td>SP</td>\n",
       "    </tr>\n",
       "    <tr>\n",
       "      <th>1</th>\n",
       "      <td>1</td>\n",
       "      <td>1961</td>\n",
       "      <td>Graduation</td>\n",
       "      <td>Single</td>\n",
       "      <td>57091.0</td>\n",
       "      <td>0</td>\n",
       "      <td>0</td>\n",
       "      <td>6/15/14</td>\n",
       "      <td>0</td>\n",
       "      <td>464</td>\n",
       "      <td>...</td>\n",
       "      <td>7</td>\n",
       "      <td>5</td>\n",
       "      <td>0</td>\n",
       "      <td>0</td>\n",
       "      <td>0</td>\n",
       "      <td>0</td>\n",
       "      <td>1</td>\n",
       "      <td>1</td>\n",
       "      <td>0</td>\n",
       "      <td>CA</td>\n",
       "    </tr>\n",
       "  </tbody>\n",
       "</table>\n",
       "<p>2 rows × 28 columns</p>\n",
       "</div>"
      ],
      "text/plain": [
       "     ID  Year_Birth   Education Marital_Status   Income  Kidhome  Teenhome  \\\n",
       "0  1826        1970  Graduation       Divorced  84835.0        0         0   \n",
       "1     1        1961  Graduation         Single  57091.0        0         0   \n",
       "\n",
       "  Dt_Customer  Recency  MntWines  ...  NumStorePurchases  NumWebVisitsMonth  \\\n",
       "0     6/16/14        0       189  ...                  6                  1   \n",
       "1     6/15/14        0       464  ...                  7                  5   \n",
       "\n",
       "   AcceptedCmp3  AcceptedCmp4  AcceptedCmp5  AcceptedCmp1  AcceptedCmp2  \\\n",
       "0             0             0             0             0             0   \n",
       "1             0             0             0             0             1   \n",
       "\n",
       "   Response  Complain  Country  \n",
       "0         1         0       SP  \n",
       "1         1         0       CA  \n",
       "\n",
       "[2 rows x 28 columns]"
      ]
     },
     "execution_count": 16,
     "metadata": {},
     "output_type": "execute_result"
    }
   ],
   "source": [
    "df.head(2) #verify Income column cleaned with $ and , and converted to float"
   ]
  },
  {
   "cell_type": "code",
   "execution_count": 17,
   "id": "5cce8962-a062-49c0-8320-eddb933fcc7c",
   "metadata": {},
   "outputs": [
    {
     "name": "stdout",
     "output_type": "stream",
     "text": [
      "<class 'pandas.core.series.Series'>\n",
      "RangeIndex: 2240 entries, 0 to 2239\n",
      "Series name: Income\n",
      "Non-Null Count  Dtype  \n",
      "--------------  -----  \n",
      "2216 non-null   float64\n",
      "dtypes: float64(1)\n",
      "memory usage: 17.6 KB\n"
     ]
    }
   ],
   "source": [
    "df['Income'].info() #verify Income feature values converted to float"
   ]
  },
  {
   "cell_type": "markdown",
   "id": "8313f6b6-f496-4e42-bdad-d8313ae3d534",
   "metadata": {},
   "source": [
    "### Problem Statement: Income values for a few customers are missing. Perform missing value imputation. Assume that the customers with similar education and marital status make the same yearly income, on average. \n",
    "\n"
   ]
  },
  {
   "cell_type": "markdown",
   "id": "e7f2e5ca-53df-4ecd-a1e4-601602e2026f",
   "metadata": {},
   "source": [
    "#### Mean Imputation of Income using Average income of group by Education and Marital_Status. "
   ]
  },
  {
   "cell_type": "code",
   "execution_count": 18,
   "id": "48ce6647-0a7f-4403-b839-c2fe5fbf36fa",
   "metadata": {},
   "outputs": [
    {
     "data": {
      "text/plain": [
       "array(['Graduation', 'PhD', '2n Cycle', 'Master', 'Basic'], dtype=object)"
      ]
     },
     "execution_count": 18,
     "metadata": {},
     "output_type": "execute_result"
    }
   ],
   "source": [
    "df['Education'].unique()"
   ]
  },
  {
   "cell_type": "code",
   "execution_count": 19,
   "id": "2a12ce8d-58db-4f2c-a608-45385ee44232",
   "metadata": {},
   "outputs": [
    {
     "data": {
      "text/plain": [
       "array(['Divorced', 'Single', 'Married', 'Together', 'Widow', 'YOLO',\n",
       "       'Alone', 'Absurd'], dtype=object)"
      ]
     },
     "execution_count": 19,
     "metadata": {},
     "output_type": "execute_result"
    }
   ],
   "source": [
    "df['Marital_Status'].unique()"
   ]
  },
  {
   "cell_type": "code",
   "execution_count": 20,
   "id": "3cadc2e9-5467-4430-83dd-5054c21bae50",
   "metadata": {},
   "outputs": [
    {
     "name": "stdout",
     "output_type": "stream",
     "text": [
      "Education   Marital_Status\n",
      "2n Cycle    Divorced          49395.130435\n",
      "            Married           46201.100000\n",
      "            Single            53673.944444\n",
      "            Together          44736.410714\n",
      "            Widow             51392.200000\n",
      "Basic       Divorced           9548.000000\n",
      "            Married           21960.500000\n",
      "            Single            18238.666667\n",
      "            Together          21240.071429\n",
      "            Widow             22123.000000\n",
      "Graduation  Absurd            79244.000000\n",
      "            Alone             34176.000000\n",
      "            Divorced          54526.042017\n",
      "            Married           50800.258741\n",
      "            Single            51322.182927\n",
      "            Together          55758.480702\n",
      "            Widow             54976.657143\n",
      "Master      Absurd            65487.000000\n",
      "            Alone             61331.000000\n",
      "            Divorced          50331.945946\n",
      "            Married           53286.028986\n",
      "            Single            53530.560000\n",
      "            Together          52109.009804\n",
      "            Widow             58401.545455\n",
      "PhD         Alone             35860.000000\n",
      "            Divorced          53096.615385\n",
      "            Married           58138.031579\n",
      "            Single            53314.614583\n",
      "            Together          56041.422414\n",
      "            Widow             60288.083333\n",
      "            YOLO              48432.000000\n",
      "Name: Income, dtype: float64\n"
     ]
    }
   ],
   "source": [
    "#Group by Education and Marital_Status to get the average of their income.\n",
    "mean_income_grp_by = df.groupby(['Education', 'Marital_Status'])['Income'].mean()\n",
    "print(mean_income_grp_by)"
   ]
  },
  {
   "cell_type": "code",
   "execution_count": 21,
   "id": "b5ea95d9-23de-4b44-a061-88feb84ef607",
   "metadata": {},
   "outputs": [
    {
     "data": {
      "text/plain": [
       "np.int64(0)"
      ]
     },
     "execution_count": 21,
     "metadata": {},
     "output_type": "execute_result"
    }
   ],
   "source": [
    "# Apply row wise update using lambda to get the mean from group by, for replacing nan values\n",
    "df['Income'] = df.apply(\n",
    "    lambda row: mean_income_grp_by.get((row['Education'], row['Marital_Status']), row['Income']) \n",
    "    if pd.isna(row['Income']) else row['Income'], axis=1\n",
    ")\n",
    "df['Income'].isnull().sum() #no null values present after the imputation"
   ]
  },
  {
   "cell_type": "markdown",
   "id": "67d7aeb4-8689-4031-af85-9a07a10ecdca",
   "metadata": {},
   "source": [
    "## Feature Engineering"
   ]
  },
  {
   "cell_type": "code",
   "execution_count": 22,
   "id": "51c9a76d-d540-449e-b1c5-04d354f72889",
   "metadata": {},
   "outputs": [
    {
     "data": {
      "text/plain": [
       "array(['6/16/14', '6/15/14', '5/13/14', '5/11/14', '4/8/14', '3/17/14',\n",
       "       '1/29/14', '1/18/14', '1/11/14', '12/27/13', '12/9/13', '12/7/13',\n",
       "       '10/16/13', '10/5/13', '9/11/13', '8/1/13', '7/23/13', '7/1/13',\n",
       "       '5/28/13', '3/26/13', '3/15/13', '2/12/13', '11/23/12', '10/13/12',\n",
       "       '9/14/12', '6/29/14', '5/31/14', '5/30/14', '4/27/14', '4/11/14',\n",
       "       '10/29/13', '10/9/13', '5/10/13', '5/9/13', '4/25/13', '4/20/13',\n",
       "       '3/30/13', '3/1/13', '2/14/13', '1/11/13', '1/3/13', '12/19/12',\n",
       "       '12/15/12', '12/2/12', '9/17/12', '9/11/12', '5/12/14', '4/28/14',\n",
       "       '3/29/14', '3/6/14', '3/4/14', '2/4/14', '2/3/14', '1/1/14',\n",
       "       '12/12/13', '11/15/13', '9/20/13', '9/5/13', '8/31/13', '7/30/13',\n",
       "       '7/27/13', '6/22/13', '1/5/13', '11/21/12', '11/11/12', '9/28/12',\n",
       "       '9/27/12', '9/7/12', '8/13/12', '8/11/12', '8/2/12', '6/25/14',\n",
       "       '5/28/14', '4/14/14', '3/10/14', '2/27/14', '2/7/14', '1/28/14',\n",
       "       '11/17/13', '11/7/13', '10/17/13', '10/13/13', '10/12/13',\n",
       "       '9/30/13', '7/3/13', '6/10/13', '5/29/13', '4/29/13', '3/10/13',\n",
       "       '1/2/13', '11/2/12', '10/18/12', '10/1/12', '9/3/12', '8/26/12',\n",
       "       '5/23/14', '5/17/14', '4/21/14', '3/23/14', '12/16/13', '11/26/13',\n",
       "       '11/14/13', '11/6/13', '10/6/13', '9/27/13', '9/18/13', '9/9/13',\n",
       "       '7/18/13', '7/8/13', '5/27/13', '3/5/13', '2/20/13', '1/12/13',\n",
       "       '12/24/12', '11/19/12', '3/28/14', '2/24/14', '9/2/13', '8/20/13',\n",
       "       '6/23/13', '5/5/13', '4/5/13', '1/4/13', '12/27/12', '11/10/12',\n",
       "       '10/29/12', '9/22/12', '3/31/14', '3/21/14', '2/9/14', '9/23/13',\n",
       "       '6/27/13', '3/28/13', '3/12/13', '1/16/13', '1/8/13', '12/29/12',\n",
       "       '12/12/12', '11/25/12', '9/21/12', '9/9/12', '9/5/12', '8/17/12',\n",
       "       '6/22/14', '5/1/14', '1/3/14', '10/11/13', '8/13/13', '6/9/13',\n",
       "       '5/7/13', '10/2/12', '9/12/12', '3/19/14', '3/3/14', '2/22/14',\n",
       "       '1/24/14', '12/4/13', '11/28/13', '11/5/13', '10/3/13', '8/9/13',\n",
       "       '8/7/13', '7/17/13', '7/9/13', '6/11/13', '5/17/13', '3/23/13',\n",
       "       '2/19/13', '1/19/13', '1/10/13', '1/1/13', '11/12/12', '5/18/14',\n",
       "       '3/30/14', '1/30/14', '1/26/14', '1/22/14', '1/15/14', '12/13/13',\n",
       "       '8/4/13', '5/1/13', '4/24/13', '4/3/13', '2/3/13', '11/16/12',\n",
       "       '8/3/12', '4/18/14', '4/1/14', '3/18/14', '2/10/14', '11/23/13',\n",
       "       '11/21/13', '10/2/13', '7/21/13', '6/18/13', '3/24/13', '12/6/12',\n",
       "       '11/9/12', '2/14/14', '10/22/13', '10/4/13', '9/21/13', '8/5/13',\n",
       "       '7/14/13', '7/4/13', '4/12/13', '4/10/13', '4/8/13', '3/31/13',\n",
       "       '3/17/13', '1/21/13', '12/10/12', '9/24/12', '8/6/12', '6/18/14',\n",
       "       '4/5/14', '12/21/13', '10/27/13', '10/21/13', '9/19/13', '9/4/13',\n",
       "       '6/25/13', '4/27/13', '4/18/13', '12/30/12', '8/22/12', '8/8/12',\n",
       "       '6/19/14', '4/20/14', '2/28/14', '12/17/13', '11/25/13',\n",
       "       '10/28/13', '8/15/13', '7/5/13', '6/19/13', '6/16/13', '4/22/13',\n",
       "       '3/19/13', '2/23/13', '2/15/13', '10/31/12', '10/7/12', '8/9/12',\n",
       "       '5/6/14', '4/15/14', '3/5/14', '2/19/14', '9/7/13', '8/6/13',\n",
       "       '7/25/13', '4/30/13', '9/10/12', '3/20/14', '9/28/13', '9/24/13',\n",
       "       '2/16/13', '11/22/12', '9/18/12', '8/16/12', '6/5/14', '4/13/14',\n",
       "       '4/10/14', '4/3/14', '2/12/14', '12/15/13', '10/30/13', '8/26/13',\n",
       "       '2/2/13', '1/25/13', '11/17/12', '11/13/12', '11/7/12', '11/1/12',\n",
       "       '10/16/12', '5/8/14', '3/2/14', '6/24/13', '6/13/13', '4/23/13',\n",
       "       '4/15/13', '1/29/13', '10/30/12', '10/23/12', '4/17/14', '2/25/14',\n",
       "       '12/11/13', '10/10/13', '5/20/13', '5/18/13', '4/7/13', '3/3/13',\n",
       "       '12/7/12', '11/28/12', '10/27/12', '9/15/12', '6/17/14', '5/29/14',\n",
       "       '3/1/14', '2/15/14', '12/23/13', '11/29/13', '10/25/13', '8/17/13',\n",
       "       '6/6/13', '3/29/13', '9/23/12', '8/30/12', '8/1/12', '2/8/14',\n",
       "       '1/25/14', '11/27/13', '10/19/13', '3/7/13', '2/28/13', '1/17/13',\n",
       "       '11/20/12', '11/5/12', '11/3/12', '8/31/12', '8/12/12', '5/15/14',\n",
       "       '4/12/14', '4/6/14', '2/6/14', '7/29/13', '6/29/13', '6/17/13',\n",
       "       '6/8/13', '5/26/13', '11/8/12', '8/4/12', '4/30/14', '4/7/14',\n",
       "       '3/12/14', '4/13/13', '2/13/13', '6/3/14', '3/25/14', '2/17/14',\n",
       "       '2/5/14', '1/27/14', '1/14/14', '7/11/13', '6/2/13', '6/1/13',\n",
       "       '5/4/13', '3/18/13', '12/3/12', '11/24/12', '10/26/12', '6/20/14',\n",
       "       '1/19/14', '1/9/14', '12/29/13', '12/26/13', '12/8/13', '11/20/13',\n",
       "       '8/23/13', '8/19/13', '7/24/13', '10/6/12', '8/18/12', '5/7/14',\n",
       "       '11/9/13', '8/25/13', '5/16/13', '4/1/13', '3/27/13', '2/8/13',\n",
       "       '9/20/12', '5/22/14', '12/30/13', '11/2/13', '8/21/13', '7/12/13',\n",
       "       '6/28/13', '6/4/13', '5/31/13', '3/6/13', '2/18/13', '9/26/12',\n",
       "       '8/19/12', '5/2/14', '4/29/14', '2/2/14', '1/5/14', '12/5/13',\n",
       "       '11/18/13', '9/10/13', '8/3/13', '2/21/13', '2/10/13', '1/31/13',\n",
       "       '12/9/12', '9/29/12', '6/9/14', '4/2/14', '3/24/14', '1/23/14',\n",
       "       '9/16/13', '9/12/13', '7/15/13', '3/9/13', '2/9/13', '12/14/12',\n",
       "       '10/17/12', '6/23/14', '6/12/14', '6/7/14', '4/9/14', '2/13/14',\n",
       "       '12/6/13', '10/20/13', '6/20/13', '5/8/13', '3/11/13', '9/6/12',\n",
       "       '3/9/14', '2/11/14', '10/8/13', '8/28/13', '7/6/13', '5/30/13',\n",
       "       '5/22/13', '4/2/13', '3/20/13', '3/14/13', '1/22/13', '9/8/12',\n",
       "       '8/25/12', '8/14/12', '11/19/13', '6/3/13', '12/21/12', '10/10/12',\n",
       "       '8/7/12', '12/24/13', '12/14/13', '5/15/13', '5/6/13', '1/7/13',\n",
       "       '11/29/12', '4/24/14', '3/8/14', '7/16/13', '2/22/13', '1/20/13',\n",
       "       '1/13/13', '12/25/12', '12/11/12', '6/27/14', '3/16/14', '11/3/13',\n",
       "       '9/25/13', '9/15/13', '9/1/13', '8/2/13', '8/27/12', '4/4/14',\n",
       "       '9/22/13', '12/22/12', '12/16/12', '8/20/12', '1/7/14', '12/1/13',\n",
       "       '9/26/13', '2/25/13', '10/24/12', '10/22/12', '7/31/12', '5/19/14',\n",
       "       '5/3/14', '4/16/14', '12/31/13', '12/2/13', '7/22/13', '4/21/13',\n",
       "       '4/11/13', '3/22/14', '2/6/13', '12/4/12', '11/6/12', '8/28/12',\n",
       "       '7/2/13', '10/12/12', '5/16/14', '4/25/14', '11/13/13', '9/6/13',\n",
       "       '11/18/12', '10/15/12', '6/14/14', '1/17/14', '2/7/13', '12/20/13',\n",
       "       '9/13/13', '1/6/13', '5/26/14', '1/13/14', '8/8/13', '4/6/13',\n",
       "       '2/26/14', '5/14/13', '8/24/12', '5/27/14', '2/23/14', '1/10/14',\n",
       "       '7/19/13', '3/25/13', '2/11/13', '1/15/13', '12/5/12', '6/13/14',\n",
       "       '6/2/14', '11/1/13', '8/16/13', '2/17/13', '2/4/13', '10/19/12',\n",
       "       '6/26/14', '10/23/13', '4/14/13', '10/28/12', '10/1/13', '3/8/13',\n",
       "       '11/14/12', '1/12/14', '11/4/13', '8/22/13', '6/21/13', '1/23/13',\n",
       "       '10/21/12', '10/4/12', '1/31/14', '1/21/14', '12/28/13', '8/11/13',\n",
       "       '5/13/13', '9/2/12', '6/24/14', '6/8/14', '5/24/14', '10/18/13',\n",
       "       '9/17/13', '8/14/13', '7/20/13', '6/30/13', '5/11/13', '4/16/13',\n",
       "       '5/25/14', '5/10/14', '5/4/14', '8/29/13', '3/22/13', '6/4/14',\n",
       "       '5/23/13', '2/1/13', '2/16/14', '10/24/13', '3/2/13', '12/18/12',\n",
       "       '11/4/12', '6/11/14', '6/14/13', '6/10/14', '5/5/14', '4/19/14',\n",
       "       '8/18/13', '2/26/13', '8/30/13', '6/12/13', '5/12/13', '10/9/12',\n",
       "       '11/10/13', '8/24/13', '9/4/12', '2/27/13', '1/6/14', '7/7/13',\n",
       "       '11/26/12', '8/29/12', '5/2/13', '3/4/13', '1/27/13', '8/23/12',\n",
       "       '10/14/13', '12/23/12', '12/1/12', '8/5/12', '8/27/13', '12/17/12',\n",
       "       '6/21/14', '3/26/14', '11/22/13', '8/21/12', '4/22/14', '10/26/13',\n",
       "       '5/9/14', '4/17/13', '3/21/13', '1/24/13', '12/28/12', '3/13/14',\n",
       "       '2/1/14', '10/15/13', '1/14/13', '10/5/12', '7/13/13', '4/23/14',\n",
       "       '2/18/14', '11/12/13', '8/12/13', '12/31/12', '6/28/14', '12/3/13',\n",
       "       '12/26/12', '7/30/12', '1/2/14', '4/19/13', '1/26/13', '10/14/12',\n",
       "       '9/30/12', '3/11/14', '9/14/13', '7/28/13', '5/19/13', '4/28/13',\n",
       "       '1/9/13', '10/20/12', '7/31/13', '5/21/13', '9/25/12', '5/3/13',\n",
       "       '12/8/12', '3/27/14', '12/18/13', '11/30/13', '8/10/13', '3/16/13',\n",
       "       '11/30/12', '3/7/14', '12/19/13', '10/25/12', '12/25/13', '1/4/14',\n",
       "       '11/8/13', '11/27/12', '7/26/13', '12/20/12', '10/11/12',\n",
       "       '4/26/14', '12/22/13', '6/26/13', '5/24/13', '8/15/12', '12/10/13',\n",
       "       '9/19/12', '8/10/12', '6/6/14', '5/25/13', '4/9/13', '9/1/12'],\n",
       "      dtype=object)"
      ]
     },
     "execution_count": 22,
     "metadata": {},
     "output_type": "execute_result"
    }
   ],
   "source": [
    "df['Dt_Customer'].unique()"
   ]
  },
  {
   "cell_type": "code",
   "execution_count": 23,
   "id": "bf19d783-3cb2-4eac-8c3f-31ca685a4da5",
   "metadata": {},
   "outputs": [],
   "source": [
    "#Feature engineering : new feature Day Month Year from the feature, Date of Customer Enrolment\n",
    "df['Dt_Customer'] = pd.to_datetime(df['Dt_Customer'], format='%m/%d/%y')\n",
    "df['Day_Customer_Enroll'] = df['Dt_Customer'].dt.day\n",
    "df['Month_Customer_Enroll'] = df['Dt_Customer'].dt.month\n",
    "df['Year_Customer_Enroll'] = df['Dt_Customer'].dt.year"
   ]
  },
  {
   "cell_type": "code",
   "execution_count": 24,
   "id": "72eb5a55-8ed9-4b38-9c34-a1d9b4c950c4",
   "metadata": {},
   "outputs": [
    {
     "data": {
      "text/html": [
       "<div>\n",
       "<style scoped>\n",
       "    .dataframe tbody tr th:only-of-type {\n",
       "        vertical-align: middle;\n",
       "    }\n",
       "\n",
       "    .dataframe tbody tr th {\n",
       "        vertical-align: top;\n",
       "    }\n",
       "\n",
       "    .dataframe thead th {\n",
       "        text-align: right;\n",
       "    }\n",
       "</style>\n",
       "<table border=\"1\" class=\"dataframe\">\n",
       "  <thead>\n",
       "    <tr style=\"text-align: right;\">\n",
       "      <th></th>\n",
       "      <th>ID</th>\n",
       "      <th>Year_Birth</th>\n",
       "      <th>Education</th>\n",
       "      <th>Marital_Status</th>\n",
       "      <th>Income</th>\n",
       "      <th>Kidhome</th>\n",
       "      <th>Teenhome</th>\n",
       "      <th>Dt_Customer</th>\n",
       "      <th>Recency</th>\n",
       "      <th>MntWines</th>\n",
       "      <th>...</th>\n",
       "      <th>AcceptedCmp4</th>\n",
       "      <th>AcceptedCmp5</th>\n",
       "      <th>AcceptedCmp1</th>\n",
       "      <th>AcceptedCmp2</th>\n",
       "      <th>Response</th>\n",
       "      <th>Complain</th>\n",
       "      <th>Country</th>\n",
       "      <th>Day_Customer_Enroll</th>\n",
       "      <th>Month_Customer_Enroll</th>\n",
       "      <th>Year_Customer_Enroll</th>\n",
       "    </tr>\n",
       "  </thead>\n",
       "  <tbody>\n",
       "    <tr>\n",
       "      <th>0</th>\n",
       "      <td>1826</td>\n",
       "      <td>1970</td>\n",
       "      <td>Graduation</td>\n",
       "      <td>Divorced</td>\n",
       "      <td>84835.0</td>\n",
       "      <td>0</td>\n",
       "      <td>0</td>\n",
       "      <td>2014-06-16</td>\n",
       "      <td>0</td>\n",
       "      <td>189</td>\n",
       "      <td>...</td>\n",
       "      <td>0</td>\n",
       "      <td>0</td>\n",
       "      <td>0</td>\n",
       "      <td>0</td>\n",
       "      <td>1</td>\n",
       "      <td>0</td>\n",
       "      <td>SP</td>\n",
       "      <td>16</td>\n",
       "      <td>6</td>\n",
       "      <td>2014</td>\n",
       "    </tr>\n",
       "    <tr>\n",
       "      <th>1</th>\n",
       "      <td>1</td>\n",
       "      <td>1961</td>\n",
       "      <td>Graduation</td>\n",
       "      <td>Single</td>\n",
       "      <td>57091.0</td>\n",
       "      <td>0</td>\n",
       "      <td>0</td>\n",
       "      <td>2014-06-15</td>\n",
       "      <td>0</td>\n",
       "      <td>464</td>\n",
       "      <td>...</td>\n",
       "      <td>0</td>\n",
       "      <td>0</td>\n",
       "      <td>0</td>\n",
       "      <td>1</td>\n",
       "      <td>1</td>\n",
       "      <td>0</td>\n",
       "      <td>CA</td>\n",
       "      <td>15</td>\n",
       "      <td>6</td>\n",
       "      <td>2014</td>\n",
       "    </tr>\n",
       "  </tbody>\n",
       "</table>\n",
       "<p>2 rows × 31 columns</p>\n",
       "</div>"
      ],
      "text/plain": [
       "     ID  Year_Birth   Education Marital_Status   Income  Kidhome  Teenhome  \\\n",
       "0  1826        1970  Graduation       Divorced  84835.0        0         0   \n",
       "1     1        1961  Graduation         Single  57091.0        0         0   \n",
       "\n",
       "  Dt_Customer  Recency  MntWines  ...  AcceptedCmp4  AcceptedCmp5  \\\n",
       "0  2014-06-16        0       189  ...             0             0   \n",
       "1  2014-06-15        0       464  ...             0             0   \n",
       "\n",
       "   AcceptedCmp1  AcceptedCmp2  Response  Complain  Country  \\\n",
       "0             0             0         1         0       SP   \n",
       "1             0             1         1         0       CA   \n",
       "\n",
       "   Day_Customer_Enroll  Month_Customer_Enroll  Year_Customer_Enroll  \n",
       "0                   16                      6                  2014  \n",
       "1                   15                      6                  2014  \n",
       "\n",
       "[2 rows x 31 columns]"
      ]
     },
     "execution_count": 24,
     "metadata": {},
     "output_type": "execute_result"
    }
   ],
   "source": [
    "df.head(2) # verify the 3 new date features updated in the data frame"
   ]
  },
  {
   "cell_type": "markdown",
   "id": "08d160d5-f8cc-43e6-9338-5bbec274c13f",
   "metadata": {},
   "source": [
    "### Problem Statement : Create variables to populate the total number of children, age, and total spending."
   ]
  },
  {
   "cell_type": "code",
   "execution_count": 25,
   "id": "916e3be6-1551-4951-bdda-4cef7e870293",
   "metadata": {},
   "outputs": [],
   "source": [
    "# create feature, total number of children\n",
    "df['Total_Children'] = df['Kidhome'] + df['Teenhome']"
   ]
  },
  {
   "cell_type": "code",
   "execution_count": 26,
   "id": "f1e38503-85b6-43ee-bee5-a1f4441e1213",
   "metadata": {},
   "outputs": [],
   "source": [
    "# create feature, age of the customer\n",
    "current_year = datetime.now().year\n",
    "df['Age'] = current_year - df['Year_Birth']"
   ]
  },
  {
   "cell_type": "code",
   "execution_count": 27,
   "id": "39127afd-df8d-40ea-b4c6-0dadb4763c2b",
   "metadata": {},
   "outputs": [],
   "source": [
    "# create feature, total spending from the amount features (sum of all the amount columns) : row wise sum\n",
    "df['Total_Spending'] = df[['MntWines', 'MntFruits', 'MntMeatProducts', 'MntFishProducts', \n",
    "                           'MntSweetProducts', 'MntGoldProds']].sum(axis=1)"
   ]
  },
  {
   "cell_type": "code",
   "execution_count": 28,
   "id": "9146541c-b6c9-4e51-888b-4418f221b8ea",
   "metadata": {},
   "outputs": [
    {
     "data": {
      "text/html": [
       "<div>\n",
       "<style scoped>\n",
       "    .dataframe tbody tr th:only-of-type {\n",
       "        vertical-align: middle;\n",
       "    }\n",
       "\n",
       "    .dataframe tbody tr th {\n",
       "        vertical-align: top;\n",
       "    }\n",
       "\n",
       "    .dataframe thead th {\n",
       "        text-align: right;\n",
       "    }\n",
       "</style>\n",
       "<table border=\"1\" class=\"dataframe\">\n",
       "  <thead>\n",
       "    <tr style=\"text-align: right;\">\n",
       "      <th></th>\n",
       "      <th>ID</th>\n",
       "      <th>Year_Birth</th>\n",
       "      <th>Education</th>\n",
       "      <th>Marital_Status</th>\n",
       "      <th>Income</th>\n",
       "      <th>Kidhome</th>\n",
       "      <th>Teenhome</th>\n",
       "      <th>Dt_Customer</th>\n",
       "      <th>Recency</th>\n",
       "      <th>MntWines</th>\n",
       "      <th>...</th>\n",
       "      <th>AcceptedCmp2</th>\n",
       "      <th>Response</th>\n",
       "      <th>Complain</th>\n",
       "      <th>Country</th>\n",
       "      <th>Day_Customer_Enroll</th>\n",
       "      <th>Month_Customer_Enroll</th>\n",
       "      <th>Year_Customer_Enroll</th>\n",
       "      <th>Total_Children</th>\n",
       "      <th>Age</th>\n",
       "      <th>Total_Spending</th>\n",
       "    </tr>\n",
       "  </thead>\n",
       "  <tbody>\n",
       "    <tr>\n",
       "      <th>0</th>\n",
       "      <td>1826</td>\n",
       "      <td>1970</td>\n",
       "      <td>Graduation</td>\n",
       "      <td>Divorced</td>\n",
       "      <td>84835.0</td>\n",
       "      <td>0</td>\n",
       "      <td>0</td>\n",
       "      <td>2014-06-16</td>\n",
       "      <td>0</td>\n",
       "      <td>189</td>\n",
       "      <td>...</td>\n",
       "      <td>0</td>\n",
       "      <td>1</td>\n",
       "      <td>0</td>\n",
       "      <td>SP</td>\n",
       "      <td>16</td>\n",
       "      <td>6</td>\n",
       "      <td>2014</td>\n",
       "      <td>0</td>\n",
       "      <td>55</td>\n",
       "      <td>1190</td>\n",
       "    </tr>\n",
       "    <tr>\n",
       "      <th>1</th>\n",
       "      <td>1</td>\n",
       "      <td>1961</td>\n",
       "      <td>Graduation</td>\n",
       "      <td>Single</td>\n",
       "      <td>57091.0</td>\n",
       "      <td>0</td>\n",
       "      <td>0</td>\n",
       "      <td>2014-06-15</td>\n",
       "      <td>0</td>\n",
       "      <td>464</td>\n",
       "      <td>...</td>\n",
       "      <td>1</td>\n",
       "      <td>1</td>\n",
       "      <td>0</td>\n",
       "      <td>CA</td>\n",
       "      <td>15</td>\n",
       "      <td>6</td>\n",
       "      <td>2014</td>\n",
       "      <td>0</td>\n",
       "      <td>64</td>\n",
       "      <td>577</td>\n",
       "    </tr>\n",
       "    <tr>\n",
       "      <th>2</th>\n",
       "      <td>10476</td>\n",
       "      <td>1958</td>\n",
       "      <td>Graduation</td>\n",
       "      <td>Married</td>\n",
       "      <td>67267.0</td>\n",
       "      <td>0</td>\n",
       "      <td>1</td>\n",
       "      <td>2014-05-13</td>\n",
       "      <td>0</td>\n",
       "      <td>134</td>\n",
       "      <td>...</td>\n",
       "      <td>0</td>\n",
       "      <td>0</td>\n",
       "      <td>0</td>\n",
       "      <td>US</td>\n",
       "      <td>13</td>\n",
       "      <td>5</td>\n",
       "      <td>2014</td>\n",
       "      <td>1</td>\n",
       "      <td>67</td>\n",
       "      <td>251</td>\n",
       "    </tr>\n",
       "    <tr>\n",
       "      <th>3</th>\n",
       "      <td>1386</td>\n",
       "      <td>1967</td>\n",
       "      <td>Graduation</td>\n",
       "      <td>Together</td>\n",
       "      <td>32474.0</td>\n",
       "      <td>1</td>\n",
       "      <td>1</td>\n",
       "      <td>2014-05-11</td>\n",
       "      <td>0</td>\n",
       "      <td>10</td>\n",
       "      <td>...</td>\n",
       "      <td>0</td>\n",
       "      <td>0</td>\n",
       "      <td>0</td>\n",
       "      <td>AUS</td>\n",
       "      <td>11</td>\n",
       "      <td>5</td>\n",
       "      <td>2014</td>\n",
       "      <td>2</td>\n",
       "      <td>58</td>\n",
       "      <td>11</td>\n",
       "    </tr>\n",
       "    <tr>\n",
       "      <th>4</th>\n",
       "      <td>5371</td>\n",
       "      <td>1989</td>\n",
       "      <td>Graduation</td>\n",
       "      <td>Single</td>\n",
       "      <td>21474.0</td>\n",
       "      <td>1</td>\n",
       "      <td>0</td>\n",
       "      <td>2014-04-08</td>\n",
       "      <td>0</td>\n",
       "      <td>6</td>\n",
       "      <td>...</td>\n",
       "      <td>0</td>\n",
       "      <td>1</td>\n",
       "      <td>0</td>\n",
       "      <td>SP</td>\n",
       "      <td>8</td>\n",
       "      <td>4</td>\n",
       "      <td>2014</td>\n",
       "      <td>1</td>\n",
       "      <td>36</td>\n",
       "      <td>91</td>\n",
       "    </tr>\n",
       "  </tbody>\n",
       "</table>\n",
       "<p>5 rows × 34 columns</p>\n",
       "</div>"
      ],
      "text/plain": [
       "      ID  Year_Birth   Education Marital_Status   Income  Kidhome  Teenhome  \\\n",
       "0   1826        1970  Graduation       Divorced  84835.0        0         0   \n",
       "1      1        1961  Graduation         Single  57091.0        0         0   \n",
       "2  10476        1958  Graduation        Married  67267.0        0         1   \n",
       "3   1386        1967  Graduation       Together  32474.0        1         1   \n",
       "4   5371        1989  Graduation         Single  21474.0        1         0   \n",
       "\n",
       "  Dt_Customer  Recency  MntWines  ...  AcceptedCmp2  Response  Complain  \\\n",
       "0  2014-06-16        0       189  ...             0         1         0   \n",
       "1  2014-06-15        0       464  ...             1         1         0   \n",
       "2  2014-05-13        0       134  ...             0         0         0   \n",
       "3  2014-05-11        0        10  ...             0         0         0   \n",
       "4  2014-04-08        0         6  ...             0         1         0   \n",
       "\n",
       "   Country  Day_Customer_Enroll  Month_Customer_Enroll  Year_Customer_Enroll  \\\n",
       "0       SP                   16                      6                  2014   \n",
       "1       CA                   15                      6                  2014   \n",
       "2       US                   13                      5                  2014   \n",
       "3      AUS                   11                      5                  2014   \n",
       "4       SP                    8                      4                  2014   \n",
       "\n",
       "   Total_Children  Age  Total_Spending  \n",
       "0               0   55            1190  \n",
       "1               0   64             577  \n",
       "2               1   67             251  \n",
       "3               2   58              11  \n",
       "4               1   36              91  \n",
       "\n",
       "[5 rows x 34 columns]"
      ]
     },
     "execution_count": 28,
     "metadata": {},
     "output_type": "execute_result"
    }
   ],
   "source": [
    "df.head()"
   ]
  },
  {
   "cell_type": "markdown",
   "id": "25fd6ac2-0bf1-4588-a474-0b8217a9f97c",
   "metadata": {},
   "source": [
    "## Visualization"
   ]
  },
  {
   "cell_type": "markdown",
   "id": "0d52393e-3820-4309-bbfd-e4ba5d4e84a5",
   "metadata": {},
   "source": [
    "### Which products are performing the best, and which are performing the least in terms of revenue?"
   ]
  },
  {
   "cell_type": "code",
   "execution_count": 29,
   "id": "6d94e051-f406-468f-bf7c-41aea46dfb79",
   "metadata": {},
   "outputs": [
    {
     "data": {
      "text/html": [
       "<div>\n",
       "<style scoped>\n",
       "    .dataframe tbody tr th:only-of-type {\n",
       "        vertical-align: middle;\n",
       "    }\n",
       "\n",
       "    .dataframe tbody tr th {\n",
       "        vertical-align: top;\n",
       "    }\n",
       "\n",
       "    .dataframe thead th {\n",
       "        text-align: right;\n",
       "    }\n",
       "</style>\n",
       "<table border=\"1\" class=\"dataframe\">\n",
       "  <thead>\n",
       "    <tr style=\"text-align: right;\">\n",
       "      <th></th>\n",
       "      <th>Product</th>\n",
       "      <th>Revenue</th>\n",
       "    </tr>\n",
       "  </thead>\n",
       "  <tbody>\n",
       "    <tr>\n",
       "      <th>0</th>\n",
       "      <td>MntWines</td>\n",
       "      <td>680816</td>\n",
       "    </tr>\n",
       "    <tr>\n",
       "      <th>2</th>\n",
       "      <td>MntMeatProducts</td>\n",
       "      <td>373968</td>\n",
       "    </tr>\n",
       "    <tr>\n",
       "      <th>5</th>\n",
       "      <td>MntGoldProds</td>\n",
       "      <td>98609</td>\n",
       "    </tr>\n",
       "    <tr>\n",
       "      <th>3</th>\n",
       "      <td>MntFishProducts</td>\n",
       "      <td>84057</td>\n",
       "    </tr>\n",
       "    <tr>\n",
       "      <th>4</th>\n",
       "      <td>MntSweetProducts</td>\n",
       "      <td>60621</td>\n",
       "    </tr>\n",
       "    <tr>\n",
       "      <th>1</th>\n",
       "      <td>MntFruits</td>\n",
       "      <td>58917</td>\n",
       "    </tr>\n",
       "  </tbody>\n",
       "</table>\n",
       "</div>"
      ],
      "text/plain": [
       "            Product  Revenue\n",
       "0          MntWines   680816\n",
       "2   MntMeatProducts   373968\n",
       "5      MntGoldProds    98609\n",
       "3   MntFishProducts    84057\n",
       "4  MntSweetProducts    60621\n",
       "1         MntFruits    58917"
      ]
     },
     "execution_count": 29,
     "metadata": {},
     "output_type": "execute_result"
    }
   ],
   "source": [
    "product_columns = ['MntWines', 'MntFruits', 'MntMeatProducts', 'MntFishProducts', 'MntSweetProducts', 'MntGoldProds']\n",
    "product_revenue = df[product_columns].sum()\n",
    "product_revenue_df = product_revenue.reset_index()\n",
    "product_revenue_df.columns = ['Product', 'Revenue']\n",
    "product_revenue_df = product_revenue_df.sort_values(by=\"Revenue\", ascending=False)\n",
    "product_revenue_df"
   ]
  },
  {
   "cell_type": "code",
   "execution_count": 30,
   "id": "f7c61dca-701f-4c03-b5dd-ff41040ca084",
   "metadata": {},
   "outputs": [
    {
     "data": {
      "image/png": "[encoded data removed]",
      "text/plain": [
       "<Figure size 1000x600 with 1 Axes>"
      ]
     },
     "metadata": {},
     "output_type": "display_data"
    }
   ],
   "source": [
    "plt.figure(figsize=(10,6))\n",
    "sns.barplot(x=\"Product\", \n",
    "            y=\"Revenue\",\n",
    "            data=product_revenue_df,\n",
    "            palette='hls',\n",
    "            hue=\"Product\"\n",
    "           )\n",
    "plt.title(\"Revenue by Product\")\n",
    "plt.xlabel('Product', fontsize=12)\n",
    "plt.ylabel('Revenue', fontsize=12)\n",
    "plt.xticks(rotation=45)\n",
    "plt.show()"
   ]
  },
  {
   "cell_type": "markdown",
   "id": "cacd56c8-ed44-485c-99f7-c4916b6c4efa",
   "metadata": {},
   "source": [
    "### Insights\n",
    "#### Best performing Product is: `Wine` with Reveneu of - `$680816`\n",
    "#### Least performing Product is: `Fruits` with Reveneu of - `$58917`"
   ]
  },
  {
   "cell_type": "markdown",
   "id": "3f616650-0aba-4369-9678-b2d41a3e5625",
   "metadata": {},
   "source": [
    "### Is there any pattern between the age of customers and the last campaign acceptance rate?"
   ]
  },
  {
   "cell_type": "code",
   "execution_count": 31,
   "id": "7a9b5921-26ad-42bf-9f35-92de59bddd5a",
   "metadata": {},
   "outputs": [
    {
     "data": {
      "text/html": [
       "<div>\n",
       "<style scoped>\n",
       "    .dataframe tbody tr th:only-of-type {\n",
       "        vertical-align: middle;\n",
       "    }\n",
       "\n",
       "    .dataframe tbody tr th {\n",
       "        vertical-align: top;\n",
       "    }\n",
       "\n",
       "    .dataframe thead th {\n",
       "        text-align: right;\n",
       "    }\n",
       "</style>\n",
       "<table border=\"1\" class=\"dataframe\">\n",
       "  <thead>\n",
       "    <tr style=\"text-align: right;\">\n",
       "      <th></th>\n",
       "      <th>Age</th>\n",
       "      <th>Compaign Acceptance Rate</th>\n",
       "    </tr>\n",
       "  </thead>\n",
       "  <tbody>\n",
       "    <tr>\n",
       "      <th>0</th>\n",
       "      <td>29</td>\n",
       "      <td>0.500000</td>\n",
       "    </tr>\n",
       "    <tr>\n",
       "      <th>1</th>\n",
       "      <td>30</td>\n",
       "      <td>0.200000</td>\n",
       "    </tr>\n",
       "    <tr>\n",
       "      <th>2</th>\n",
       "      <td>31</td>\n",
       "      <td>0.333333</td>\n",
       "    </tr>\n",
       "    <tr>\n",
       "      <th>3</th>\n",
       "      <td>32</td>\n",
       "      <td>0.400000</td>\n",
       "    </tr>\n",
       "    <tr>\n",
       "      <th>4</th>\n",
       "      <td>33</td>\n",
       "      <td>0.076923</td>\n",
       "    </tr>\n",
       "  </tbody>\n",
       "</table>\n",
       "</div>"
      ],
      "text/plain": [
       "   Age  Compaign Acceptance Rate\n",
       "0   29                  0.500000\n",
       "1   30                  0.200000\n",
       "2   31                  0.333333\n",
       "3   32                  0.400000\n",
       "4   33                  0.076923"
      ]
     },
     "execution_count": 31,
     "metadata": {},
     "output_type": "execute_result"
    }
   ],
   "source": [
    "df_age_acceptance_rate = df.groupby('Age')['Response'].mean().reset_index()\n",
    "df_age_acceptance_rate.columns = ['Age', 'Compaign Acceptance Rate']\n",
    "df_age_acceptance_rate.head()"
   ]
  },
  {
   "cell_type": "code",
   "execution_count": 32,
   "id": "2339133f-8728-4dd5-a54f-6a1509e7411f",
   "metadata": {},
   "outputs": [
    {
     "data": {
      "image/png": "[encoded data removed]",
      "text/plain": [
       "<Figure size 1000x600 with 1 Axes>"
      ]
     },
     "metadata": {},
     "output_type": "display_data"
    }
   ],
   "source": [
    "plt.figure(figsize=(10,6))\n",
    "sns.lineplot(\n",
    "    x='Age',\n",
    "    y='Compaign Acceptance Rate',\n",
    "    data=df_age_acceptance_rate,\n",
    "    marker=\"o\",\n",
    "    color=\"teal\",\n",
    ")\n",
    "plt.title(\"Compaign Acceptance Rate vs Age\")\n",
    "plt.xlabel(\"Age\", fontsize=12)\n",
    "plt.ylabel(\"Compaign Acceptance Rate \", fontsize=12)\n",
    "plt.grid(axis='y', linestyle=\"--\", alpha=0.5)\n",
    "plt.show()"
   ]
  },
  {
   "cell_type": "markdown",
   "id": "cc1faf6f-5299-4370-b4ec-19b8e67e45a5",
   "metadata": {},
   "source": [
    "### Insights\n",
    "\n",
    "#### People under the age group below 30 accepted more offer. People in the age group (15 to 30), mostly children and younger accepted more offer almost 50% on an average. \n",
    "#### There is decrease in acceptance of offer in the age group from (40 to 70)\n",
    "#### There is significant rise in the acceptance of offer from (70 to 80) age group.\n",
    "#### For the age group above 80, there seems to be no acceptance of offer almost 0%."
   ]
  },
  {
   "cell_type": "markdown",
   "id": "3efe305f-68d5-4a5a-a2cd-4e075b9118ad",
   "metadata": {},
   "source": [
    "### Which Country has the greatest number of customers who accepted the last campaign?"
   ]
  },
  {
   "cell_type": "code",
   "execution_count": 33,
   "id": "e6f3c79e-7386-4ef1-b87e-8fe0fef51720",
   "metadata": {},
   "outputs": [
    {
     "data": {
      "text/plain": [
       "array(['SP', 'CA', 'US', 'AUS', 'GER', 'IND', 'SA', 'ME'], dtype=object)"
      ]
     },
     "execution_count": 33,
     "metadata": {},
     "output_type": "execute_result"
    }
   ],
   "source": [
    "df['Country'].unique()"
   ]
  },
  {
   "cell_type": "code",
   "execution_count": 34,
   "id": "0d5b43d4-70d2-4a37-a5b0-d933b64d2254",
   "metadata": {},
   "outputs": [
    {
     "data": {
      "text/html": [
       "<div>\n",
       "<style scoped>\n",
       "    .dataframe tbody tr th:only-of-type {\n",
       "        vertical-align: middle;\n",
       "    }\n",
       "\n",
       "    .dataframe tbody tr th {\n",
       "        vertical-align: top;\n",
       "    }\n",
       "\n",
       "    .dataframe thead th {\n",
       "        text-align: right;\n",
       "    }\n",
       "</style>\n",
       "<table border=\"1\" class=\"dataframe\">\n",
       "  <thead>\n",
       "    <tr style=\"text-align: right;\">\n",
       "      <th></th>\n",
       "      <th>Country</th>\n",
       "      <th>Last Campaign Acceptance</th>\n",
       "    </tr>\n",
       "  </thead>\n",
       "  <tbody>\n",
       "    <tr>\n",
       "      <th>6</th>\n",
       "      <td>SP</td>\n",
       "      <td>176</td>\n",
       "    </tr>\n",
       "    <tr>\n",
       "      <th>5</th>\n",
       "      <td>SA</td>\n",
       "      <td>52</td>\n",
       "    </tr>\n",
       "    <tr>\n",
       "      <th>1</th>\n",
       "      <td>CA</td>\n",
       "      <td>38</td>\n",
       "    </tr>\n",
       "    <tr>\n",
       "      <th>0</th>\n",
       "      <td>AUS</td>\n",
       "      <td>23</td>\n",
       "    </tr>\n",
       "    <tr>\n",
       "      <th>2</th>\n",
       "      <td>GER</td>\n",
       "      <td>17</td>\n",
       "    </tr>\n",
       "    <tr>\n",
       "      <th>3</th>\n",
       "      <td>IND</td>\n",
       "      <td>13</td>\n",
       "    </tr>\n",
       "    <tr>\n",
       "      <th>7</th>\n",
       "      <td>US</td>\n",
       "      <td>13</td>\n",
       "    </tr>\n",
       "    <tr>\n",
       "      <th>4</th>\n",
       "      <td>ME</td>\n",
       "      <td>2</td>\n",
       "    </tr>\n",
       "  </tbody>\n",
       "</table>\n",
       "</div>"
      ],
      "text/plain": [
       "  Country  Last Campaign Acceptance\n",
       "6      SP                       176\n",
       "5      SA                        52\n",
       "1      CA                        38\n",
       "0     AUS                        23\n",
       "2     GER                        17\n",
       "3     IND                        13\n",
       "7      US                        13\n",
       "4      ME                         2"
      ]
     },
     "execution_count": 34,
     "metadata": {},
     "output_type": "execute_result"
    }
   ],
   "source": [
    "df_country_by_offer_acceptance = df.groupby(\"Country\")['Response'].sum().reset_index()\n",
    "df_country_by_offer_acceptance.columns = ['Country', \"Last Campaign Acceptance\"]\n",
    "df_country_by_offer_acceptance = df_country_by_offer_acceptance.sort_values(\"Last Campaign Acceptance\", ascending=False)\n",
    "df_country_by_offer_acceptance"
   ]
  },
  {
   "cell_type": "code",
   "execution_count": 35,
   "id": "ef4330b4-458e-4a05-b6ce-4e00d0a67c40",
   "metadata": {},
   "outputs": [
    {
     "data": {
      "image/png": "[encoded data removed]",
      "text/plain": [
       "<Figure size 1000x600 with 1 Axes>"
      ]
     },
     "metadata": {},
     "output_type": "display_data"
    }
   ],
   "source": [
    "plt.figure(figsize=(10,6))\n",
    "sns.barplot(\n",
    "    x=\"Country\",\n",
    "    y=\"Last Campaign Acceptance\",\n",
    "    data=df_country_by_offer_acceptance,\n",
    "    palette=\"hls\",\n",
    "    hue=\"Country\"\n",
    ")\n",
    "plt.title(\"Customer's Acceptance of Last campaign by Country\")\n",
    "plt.xlabel(\"Country\", fontsize=12)\n",
    "plt.ylabel(\"Last Campaign Acceptance\", fontsize=12)\n",
    "plt.xticks(rotation=45)\n",
    "plt.show()"
   ]
  },
  {
   "cell_type": "markdown",
   "id": "ccaceace-51d6-4d7b-943c-5ddc2db6f9ed",
   "metadata": {},
   "source": [
    "### Insight\n",
    "#### The country, Spain has highest number of customers who accepted the last campaign. "
   ]
  },
  {
   "cell_type": "markdown",
   "id": "4304d10f-3104-45f6-844d-1465eeb41d61",
   "metadata": {},
   "source": [
    "### Do you see any pattern in the no. of children at home and total spend?"
   ]
  },
  {
   "cell_type": "code",
   "execution_count": 36,
   "id": "b7c975d3-9eef-4df8-aa11-96af94302505",
   "metadata": {},
   "outputs": [
    {
     "data": {
      "text/html": [
       "<div>\n",
       "<style scoped>\n",
       "    .dataframe tbody tr th:only-of-type {\n",
       "        vertical-align: middle;\n",
       "    }\n",
       "\n",
       "    .dataframe tbody tr th {\n",
       "        vertical-align: top;\n",
       "    }\n",
       "\n",
       "    .dataframe thead th {\n",
       "        text-align: right;\n",
       "    }\n",
       "</style>\n",
       "<table border=\"1\" class=\"dataframe\">\n",
       "  <thead>\n",
       "    <tr style=\"text-align: right;\">\n",
       "      <th></th>\n",
       "      <th>ID</th>\n",
       "      <th>Year_Birth</th>\n",
       "      <th>Education</th>\n",
       "      <th>Marital_Status</th>\n",
       "      <th>Income</th>\n",
       "      <th>Kidhome</th>\n",
       "      <th>Teenhome</th>\n",
       "      <th>Dt_Customer</th>\n",
       "      <th>Recency</th>\n",
       "      <th>MntWines</th>\n",
       "      <th>...</th>\n",
       "      <th>AcceptedCmp2</th>\n",
       "      <th>Response</th>\n",
       "      <th>Complain</th>\n",
       "      <th>Country</th>\n",
       "      <th>Day_Customer_Enroll</th>\n",
       "      <th>Month_Customer_Enroll</th>\n",
       "      <th>Year_Customer_Enroll</th>\n",
       "      <th>Total_Children</th>\n",
       "      <th>Age</th>\n",
       "      <th>Total_Spending</th>\n",
       "    </tr>\n",
       "  </thead>\n",
       "  <tbody>\n",
       "    <tr>\n",
       "      <th>0</th>\n",
       "      <td>1826</td>\n",
       "      <td>1970</td>\n",
       "      <td>Graduation</td>\n",
       "      <td>Divorced</td>\n",
       "      <td>84835.0</td>\n",
       "      <td>0</td>\n",
       "      <td>0</td>\n",
       "      <td>2014-06-16</td>\n",
       "      <td>0</td>\n",
       "      <td>189</td>\n",
       "      <td>...</td>\n",
       "      <td>0</td>\n",
       "      <td>1</td>\n",
       "      <td>0</td>\n",
       "      <td>SP</td>\n",
       "      <td>16</td>\n",
       "      <td>6</td>\n",
       "      <td>2014</td>\n",
       "      <td>0</td>\n",
       "      <td>55</td>\n",
       "      <td>1190</td>\n",
       "    </tr>\n",
       "    <tr>\n",
       "      <th>1</th>\n",
       "      <td>1</td>\n",
       "      <td>1961</td>\n",
       "      <td>Graduation</td>\n",
       "      <td>Single</td>\n",
       "      <td>57091.0</td>\n",
       "      <td>0</td>\n",
       "      <td>0</td>\n",
       "      <td>2014-06-15</td>\n",
       "      <td>0</td>\n",
       "      <td>464</td>\n",
       "      <td>...</td>\n",
       "      <td>1</td>\n",
       "      <td>1</td>\n",
       "      <td>0</td>\n",
       "      <td>CA</td>\n",
       "      <td>15</td>\n",
       "      <td>6</td>\n",
       "      <td>2014</td>\n",
       "      <td>0</td>\n",
       "      <td>64</td>\n",
       "      <td>577</td>\n",
       "    </tr>\n",
       "    <tr>\n",
       "      <th>2</th>\n",
       "      <td>10476</td>\n",
       "      <td>1958</td>\n",
       "      <td>Graduation</td>\n",
       "      <td>Married</td>\n",
       "      <td>67267.0</td>\n",
       "      <td>0</td>\n",
       "      <td>1</td>\n",
       "      <td>2014-05-13</td>\n",
       "      <td>0</td>\n",
       "      <td>134</td>\n",
       "      <td>...</td>\n",
       "      <td>0</td>\n",
       "      <td>0</td>\n",
       "      <td>0</td>\n",
       "      <td>US</td>\n",
       "      <td>13</td>\n",
       "      <td>5</td>\n",
       "      <td>2014</td>\n",
       "      <td>1</td>\n",
       "      <td>67</td>\n",
       "      <td>251</td>\n",
       "    </tr>\n",
       "    <tr>\n",
       "      <th>3</th>\n",
       "      <td>1386</td>\n",
       "      <td>1967</td>\n",
       "      <td>Graduation</td>\n",
       "      <td>Together</td>\n",
       "      <td>32474.0</td>\n",
       "      <td>1</td>\n",
       "      <td>1</td>\n",
       "      <td>2014-05-11</td>\n",
       "      <td>0</td>\n",
       "      <td>10</td>\n",
       "      <td>...</td>\n",
       "      <td>0</td>\n",
       "      <td>0</td>\n",
       "      <td>0</td>\n",
       "      <td>AUS</td>\n",
       "      <td>11</td>\n",
       "      <td>5</td>\n",
       "      <td>2014</td>\n",
       "      <td>2</td>\n",
       "      <td>58</td>\n",
       "      <td>11</td>\n",
       "    </tr>\n",
       "    <tr>\n",
       "      <th>4</th>\n",
       "      <td>5371</td>\n",
       "      <td>1989</td>\n",
       "      <td>Graduation</td>\n",
       "      <td>Single</td>\n",
       "      <td>21474.0</td>\n",
       "      <td>1</td>\n",
       "      <td>0</td>\n",
       "      <td>2014-04-08</td>\n",
       "      <td>0</td>\n",
       "      <td>6</td>\n",
       "      <td>...</td>\n",
       "      <td>0</td>\n",
       "      <td>1</td>\n",
       "      <td>0</td>\n",
       "      <td>SP</td>\n",
       "      <td>8</td>\n",
       "      <td>4</td>\n",
       "      <td>2014</td>\n",
       "      <td>1</td>\n",
       "      <td>36</td>\n",
       "      <td>91</td>\n",
       "    </tr>\n",
       "  </tbody>\n",
       "</table>\n",
       "<p>5 rows × 34 columns</p>\n",
       "</div>"
      ],
      "text/plain": [
       "      ID  Year_Birth   Education Marital_Status   Income  Kidhome  Teenhome  \\\n",
       "0   1826        1970  Graduation       Divorced  84835.0        0         0   \n",
       "1      1        1961  Graduation         Single  57091.0        0         0   \n",
       "2  10476        1958  Graduation        Married  67267.0        0         1   \n",
       "3   1386        1967  Graduation       Together  32474.0        1         1   \n",
       "4   5371        1989  Graduation         Single  21474.0        1         0   \n",
       "\n",
       "  Dt_Customer  Recency  MntWines  ...  AcceptedCmp2  Response  Complain  \\\n",
       "0  2014-06-16        0       189  ...             0         1         0   \n",
       "1  2014-06-15        0       464  ...             1         1         0   \n",
       "2  2014-05-13        0       134  ...             0         0         0   \n",
       "3  2014-05-11        0        10  ...             0         0         0   \n",
       "4  2014-04-08        0         6  ...             0         1         0   \n",
       "\n",
       "   Country  Day_Customer_Enroll  Month_Customer_Enroll  Year_Customer_Enroll  \\\n",
       "0       SP                   16                      6                  2014   \n",
       "1       CA                   15                      6                  2014   \n",
       "2       US                   13                      5                  2014   \n",
       "3      AUS                   11                      5                  2014   \n",
       "4       SP                    8                      4                  2014   \n",
       "\n",
       "   Total_Children  Age  Total_Spending  \n",
       "0               0   55            1190  \n",
       "1               0   64             577  \n",
       "2               1   67             251  \n",
       "3               2   58              11  \n",
       "4               1   36              91  \n",
       "\n",
       "[5 rows x 34 columns]"
      ]
     },
     "execution_count": 36,
     "metadata": {},
     "output_type": "execute_result"
    }
   ],
   "source": [
    "df.head()"
   ]
  },
  {
   "cell_type": "code",
   "execution_count": 37,
   "id": "b0ccd687-292b-4410-9329-859d5f4fa545",
   "metadata": {},
   "outputs": [
    {
     "data": {
      "image/png": "[encoded data removed]",
      "text/plain": [
       "<Figure size 640x480 with 1 Axes>"
      ]
     },
     "metadata": {},
     "output_type": "display_data"
    }
   ],
   "source": [
    "plt.title(\"Total Spending vs Total Children\")\n",
    "sns.boxplot(\n",
    "    x=\"Total_Children\",\n",
    "    y=\"Total_Spending\",\n",
    "    data=df\n",
    ")\n",
    "plt.xlabel('Total Children', fontsize=12)\n",
    "plt.ylabel('Total Spending', fontsize=12)\n",
    "plt.show()"
   ]
  },
  {
   "cell_type": "code",
   "execution_count": 38,
   "id": "b7bc60f5-cdd6-48e2-90e3-c13a6db59783",
   "metadata": {},
   "outputs": [
    {
     "name": "stdout",
     "output_type": "stream",
     "text": [
      "Number of Outliers: 708\n"
     ]
    },
    {
     "data": {
      "text/plain": [
       "(708, 34)"
      ]
     },
     "execution_count": 38,
     "metadata": {},
     "output_type": "execute_result"
    }
   ],
   "source": [
    "q1 = df['Total_Spending'].quantile(0.25)\n",
    "q3 = df['Total_Spending'].quantile(0.5)\n",
    "IQR = q3 - q1\n",
    "\n",
    "lower_bound = q1 - 1.5* IQR\n",
    "upper_bound = q3 + 1.5 * IQR\n",
    "\n",
    "outliers = df[(df['Total_Spending'] < lower_bound) | (df['Total_Spending'] > upper_bound)]\n",
    "print(f\"Number of Outliers: {len(outliers)}\")\n",
    "outliers.shape"
   ]
  },
  {
   "cell_type": "markdown",
   "id": "e2253977-9a04-49f7-bde3-bb74bedc44d1",
   "metadata": {},
   "source": [
    "### Insights\n",
    "#### Customers with 0 children : Spending more. The higher IQR shows, that there are significant number of customers spending more.\n",
    "#### Customers with 1 Child : Spending drops as compared to the customers with 0 children. The IQR shows that significant number of customers spends less than the median spending .\n",
    "#### Customer with more than 1 children(2,3) : Spending is very less. The IQR shows that there are significantly more customers who tends to spends less with more than 1 children.\n",
    "#### For Customers with 1,2 and 3 children, there are some outliers with count 708, which suggest that, there are few customers with higher spending having 1 or more kids."
   ]
  },
  {
   "cell_type": "markdown",
   "id": "5e299ae6-f702-4984-899c-fb6d916ebdc1",
   "metadata": {},
   "source": [
    "### Education background of the customers who complained in the last 2 years."
   ]
  },
  {
   "cell_type": "code",
   "execution_count": 39,
   "id": "a7493a83-7e32-4454-9cd2-fc86ddaf3d17",
   "metadata": {},
   "outputs": [
    {
     "data": {
      "text/plain": [
       "array(['Graduation', 'PhD', '2n Cycle', 'Master', 'Basic'], dtype=object)"
      ]
     },
     "execution_count": 39,
     "metadata": {},
     "output_type": "execute_result"
    }
   ],
   "source": [
    "df['Education'].unique()"
   ]
  },
  {
   "cell_type": "code",
   "execution_count": 40,
   "id": "21967cee-1317-45eb-a068-bcf25506517a",
   "metadata": {},
   "outputs": [
    {
     "data": {
      "text/html": [
       "<div>\n",
       "<style scoped>\n",
       "    .dataframe tbody tr th:only-of-type {\n",
       "        vertical-align: middle;\n",
       "    }\n",
       "\n",
       "    .dataframe tbody tr th {\n",
       "        vertical-align: top;\n",
       "    }\n",
       "\n",
       "    .dataframe thead th {\n",
       "        text-align: right;\n",
       "    }\n",
       "</style>\n",
       "<table border=\"1\" class=\"dataframe\">\n",
       "  <thead>\n",
       "    <tr style=\"text-align: right;\">\n",
       "      <th></th>\n",
       "      <th>Education</th>\n",
       "      <th>Complain</th>\n",
       "    </tr>\n",
       "  </thead>\n",
       "  <tbody>\n",
       "    <tr>\n",
       "      <th>2</th>\n",
       "      <td>Graduation</td>\n",
       "      <td>14</td>\n",
       "    </tr>\n",
       "    <tr>\n",
       "      <th>0</th>\n",
       "      <td>2n Cycle</td>\n",
       "      <td>4</td>\n",
       "    </tr>\n",
       "    <tr>\n",
       "      <th>3</th>\n",
       "      <td>Master</td>\n",
       "      <td>2</td>\n",
       "    </tr>\n",
       "    <tr>\n",
       "      <th>4</th>\n",
       "      <td>PhD</td>\n",
       "      <td>1</td>\n",
       "    </tr>\n",
       "    <tr>\n",
       "      <th>1</th>\n",
       "      <td>Basic</td>\n",
       "      <td>0</td>\n",
       "    </tr>\n",
       "  </tbody>\n",
       "</table>\n",
       "</div>"
      ],
      "text/plain": [
       "    Education  Complain\n",
       "2  Graduation        14\n",
       "0    2n Cycle         4\n",
       "3      Master         2\n",
       "4         PhD         1\n",
       "1       Basic         0"
      ]
     },
     "execution_count": 40,
     "metadata": {},
     "output_type": "execute_result"
    }
   ],
   "source": [
    "df_education_with_complain = df.groupby('Education')['Complain'].sum().reset_index()\n",
    "df_education_with_complain = df_education_with_complain.sort_values(\"Complain\", ascending=False)\n",
    "df_education_with_complain"
   ]
  },
  {
   "cell_type": "code",
   "execution_count": 41,
   "id": "516b641e-78be-4291-b2ca-46f8820ba48d",
   "metadata": {},
   "outputs": [
    {
     "data": {
      "image/png": "[encoded data removed]",
      "text/plain": [
       "<Figure size 640x480 with 1 Axes>"
      ]
     },
     "metadata": {},
     "output_type": "display_data"
    }
   ],
   "source": [
    "plt.title(\"Complaints( in last 2 Years) by Education Background\")\n",
    "sns.barplot(\n",
    "    x='Education',\n",
    "    y='Complain',\n",
    "    data=df_education_with_complain,\n",
    "    palette='viridis',\n",
    "    hue='Education'\n",
    ")\n",
    "plt.xlabel('Education Level', fontsize=12)\n",
    "plt.ylabel('Number of Complaints', fontsize=12)\n",
    "plt.xticks(rotation=45)\n",
    "plt.show()"
   ]
  },
  {
   "cell_type": "markdown",
   "id": "53798255-93c3-44cd-88c6-beda911a43fb",
   "metadata": {},
   "source": [
    "### Insight\n",
    "#### Customer who are Graduated have more number of Complaints in last 2 years.\n",
    "#### This indicates that there are high customer service and support required for people who are Graduated."
   ]
  },
  {
   "cell_type": "markdown",
   "id": "57f125fc-9378-4f34-ae12-4531752ace1e",
   "metadata": {},
   "source": [
    "# Hypothesis Testing"
   ]
  },
  {
   "cell_type": "markdown",
   "id": "2556b3ba-04e0-44c5-b9c0-54df670207ce",
   "metadata": {},
   "source": [
    "## 1. Problem Statement: Older people are not as tech-savvy and probably prefer shopping in-store.\n",
    "\n",
    "#### `Null Hypothesis(H0)` : There is no significant difference in number of store shopping between Younger and Older People\n",
    "#### `Alternate Hypothesis(H1)` : There is significant difference in number of store shopping between Younger and Older People"
   ]
  },
  {
   "cell_type": "code",
   "execution_count": 42,
   "id": "b7169727-276d-478b-b9ca-acde0a315183",
   "metadata": {},
   "outputs": [
    {
     "data": {
      "text/html": [
       "<div>\n",
       "<style scoped>\n",
       "    .dataframe tbody tr th:only-of-type {\n",
       "        vertical-align: middle;\n",
       "    }\n",
       "\n",
       "    .dataframe tbody tr th {\n",
       "        vertical-align: top;\n",
       "    }\n",
       "\n",
       "    .dataframe thead th {\n",
       "        text-align: right;\n",
       "    }\n",
       "</style>\n",
       "<table border=\"1\" class=\"dataframe\">\n",
       "  <thead>\n",
       "    <tr style=\"text-align: right;\">\n",
       "      <th></th>\n",
       "      <th>ID</th>\n",
       "      <th>Year_Birth</th>\n",
       "      <th>Education</th>\n",
       "      <th>Marital_Status</th>\n",
       "      <th>Income</th>\n",
       "      <th>Kidhome</th>\n",
       "      <th>Teenhome</th>\n",
       "      <th>Dt_Customer</th>\n",
       "      <th>Recency</th>\n",
       "      <th>MntWines</th>\n",
       "      <th>...</th>\n",
       "      <th>AcceptedCmp2</th>\n",
       "      <th>Response</th>\n",
       "      <th>Complain</th>\n",
       "      <th>Country</th>\n",
       "      <th>Day_Customer_Enroll</th>\n",
       "      <th>Month_Customer_Enroll</th>\n",
       "      <th>Year_Customer_Enroll</th>\n",
       "      <th>Total_Children</th>\n",
       "      <th>Age</th>\n",
       "      <th>Total_Spending</th>\n",
       "    </tr>\n",
       "  </thead>\n",
       "  <tbody>\n",
       "    <tr>\n",
       "      <th>0</th>\n",
       "      <td>1826</td>\n",
       "      <td>1970</td>\n",
       "      <td>Graduation</td>\n",
       "      <td>Divorced</td>\n",
       "      <td>84835.0</td>\n",
       "      <td>0</td>\n",
       "      <td>0</td>\n",
       "      <td>2014-06-16</td>\n",
       "      <td>0</td>\n",
       "      <td>189</td>\n",
       "      <td>...</td>\n",
       "      <td>0</td>\n",
       "      <td>1</td>\n",
       "      <td>0</td>\n",
       "      <td>SP</td>\n",
       "      <td>16</td>\n",
       "      <td>6</td>\n",
       "      <td>2014</td>\n",
       "      <td>0</td>\n",
       "      <td>55</td>\n",
       "      <td>1190</td>\n",
       "    </tr>\n",
       "    <tr>\n",
       "      <th>1</th>\n",
       "      <td>1</td>\n",
       "      <td>1961</td>\n",
       "      <td>Graduation</td>\n",
       "      <td>Single</td>\n",
       "      <td>57091.0</td>\n",
       "      <td>0</td>\n",
       "      <td>0</td>\n",
       "      <td>2014-06-15</td>\n",
       "      <td>0</td>\n",
       "      <td>464</td>\n",
       "      <td>...</td>\n",
       "      <td>1</td>\n",
       "      <td>1</td>\n",
       "      <td>0</td>\n",
       "      <td>CA</td>\n",
       "      <td>15</td>\n",
       "      <td>6</td>\n",
       "      <td>2014</td>\n",
       "      <td>0</td>\n",
       "      <td>64</td>\n",
       "      <td>577</td>\n",
       "    </tr>\n",
       "  </tbody>\n",
       "</table>\n",
       "<p>2 rows × 34 columns</p>\n",
       "</div>"
      ],
      "text/plain": [
       "     ID  Year_Birth   Education Marital_Status   Income  Kidhome  Teenhome  \\\n",
       "0  1826        1970  Graduation       Divorced  84835.0        0         0   \n",
       "1     1        1961  Graduation         Single  57091.0        0         0   \n",
       "\n",
       "  Dt_Customer  Recency  MntWines  ...  AcceptedCmp2  Response  Complain  \\\n",
       "0  2014-06-16        0       189  ...             0         1         0   \n",
       "1  2014-06-15        0       464  ...             1         1         0   \n",
       "\n",
       "   Country  Day_Customer_Enroll  Month_Customer_Enroll  Year_Customer_Enroll  \\\n",
       "0       SP                   16                      6                  2014   \n",
       "1       CA                   15                      6                  2014   \n",
       "\n",
       "   Total_Children  Age  Total_Spending  \n",
       "0               0   55            1190  \n",
       "1               0   64             577  \n",
       "\n",
       "[2 rows x 34 columns]"
      ]
     },
     "execution_count": 42,
     "metadata": {},
     "output_type": "execute_result"
    }
   ],
   "source": [
    "df.head(2)"
   ]
  },
  {
   "cell_type": "code",
   "execution_count": 43,
   "id": "a5cf656d-2023-4ea1-9ddc-9fe00264f4b3",
   "metadata": {},
   "outputs": [
    {
     "data": {
      "text/plain": [
       "Index(['ID', 'Year_Birth', 'Education', 'Marital_Status', 'Income', 'Kidhome',\n",
       "       'Teenhome', 'Dt_Customer', 'Recency', 'MntWines', 'MntFruits',\n",
       "       'MntMeatProducts', 'MntFishProducts', 'MntSweetProducts',\n",
       "       'MntGoldProds', 'NumDealsPurchases', 'NumWebPurchases',\n",
       "       'NumCatalogPurchases', 'NumStorePurchases', 'NumWebVisitsMonth',\n",
       "       'AcceptedCmp3', 'AcceptedCmp4', 'AcceptedCmp5', 'AcceptedCmp1',\n",
       "       'AcceptedCmp2', 'Response', 'Complain', 'Country',\n",
       "       'Day_Customer_Enroll', 'Month_Customer_Enroll', 'Year_Customer_Enroll',\n",
       "       'Total_Children', 'Age', 'Total_Spending'],\n",
       "      dtype='object')"
      ]
     },
     "execution_count": 43,
     "metadata": {},
     "output_type": "execute_result"
    }
   ],
   "source": [
    "df.columns"
   ]
  },
  {
   "cell_type": "code",
   "execution_count": 44,
   "id": "b8841651-b13d-4c62-854b-a6b6aab8c08a",
   "metadata": {},
   "outputs": [
    {
     "data": {
      "text/html": [
       "<div>\n",
       "<style scoped>\n",
       "    .dataframe tbody tr th:only-of-type {\n",
       "        vertical-align: middle;\n",
       "    }\n",
       "\n",
       "    .dataframe tbody tr th {\n",
       "        vertical-align: top;\n",
       "    }\n",
       "\n",
       "    .dataframe thead th {\n",
       "        text-align: right;\n",
       "    }\n",
       "</style>\n",
       "<table border=\"1\" class=\"dataframe\">\n",
       "  <thead>\n",
       "    <tr style=\"text-align: right;\">\n",
       "      <th></th>\n",
       "      <th>Age_Group</th>\n",
       "      <th>NumStorePurchases</th>\n",
       "    </tr>\n",
       "  </thead>\n",
       "  <tbody>\n",
       "    <tr>\n",
       "      <th>0</th>\n",
       "      <td>Older</td>\n",
       "      <td>6</td>\n",
       "    </tr>\n",
       "    <tr>\n",
       "      <th>1</th>\n",
       "      <td>Older</td>\n",
       "      <td>7</td>\n",
       "    </tr>\n",
       "    <tr>\n",
       "      <th>2</th>\n",
       "      <td>Older</td>\n",
       "      <td>5</td>\n",
       "    </tr>\n",
       "    <tr>\n",
       "      <th>3</th>\n",
       "      <td>Older</td>\n",
       "      <td>2</td>\n",
       "    </tr>\n",
       "    <tr>\n",
       "      <th>4</th>\n",
       "      <td>Younger</td>\n",
       "      <td>2</td>\n",
       "    </tr>\n",
       "  </tbody>\n",
       "</table>\n",
       "</div>"
      ],
      "text/plain": [
       "  Age_Group  NumStorePurchases\n",
       "0     Older                  6\n",
       "1     Older                  7\n",
       "2     Older                  5\n",
       "3     Older                  2\n",
       "4   Younger                  2"
      ]
     },
     "execution_count": 44,
     "metadata": {},
     "output_type": "execute_result"
    }
   ],
   "source": [
    "# Creating a Categorical variable of Age Group with two categories Younger(<45) and Older(>=45)\n",
    "df['Age_Group'] = df['Age'].apply(lambda x: 'Younger' if x < 45 else 'Older')\n",
    "df[['Age_Group', 'NumStorePurchases']].head()"
   ]
  },
  {
   "cell_type": "code",
   "execution_count": 45,
   "id": "bd52a6ea-efbf-4e7f-a5b7-055e58c63c8d",
   "metadata": {},
   "outputs": [
    {
     "data": {
      "image/png": "[encoded data removed]",
      "text/plain": [
       "<Figure size 1000x600 with 1 Axes>"
      ]
     },
     "metadata": {},
     "output_type": "display_data"
    }
   ],
   "source": [
    "plt.figure(figsize=(10, 6))\n",
    "sns.boxplot(data=df, x='Age_Group', y='NumStorePurchases', palette='Set2', hue='Age_Group')\n",
    "plt.title(\"Comparison of Store Purchases by Age Group\")\n",
    "plt.xlabel(\"Age Group (Younger < 45) (Older>=45)\")\n",
    "plt.ylabel(\"Number of Store Purchases\")\n",
    "plt.show()"
   ]
  },
  {
   "cell_type": "markdown",
   "id": "ce410725-a9f6-43fa-9887-f3a27098288b",
   "metadata": {},
   "source": [
    "### Insights\n",
    "#### The median in Store purchasing for Older group of customers (>=45) are slightly higher compared to Younger groups. Older customers tends to prefer more In Store Shopping compared to Younger Customers."
   ]
  },
  {
   "cell_type": "markdown",
   "id": "0d0ed3f7-89b6-400e-836c-ba25f650f0ad",
   "metadata": {},
   "source": [
    "### `T-test` to Interpret `Number of Web Purchases` based on `Age Group` : "
   ]
  },
  {
   "cell_type": "code",
   "execution_count": 46,
   "id": "d7d1deed-1467-4bca-b93a-b7ad12d305da",
   "metadata": {},
   "outputs": [],
   "source": [
    "from scipy.stats import ttest_ind"
   ]
  },
  {
   "cell_type": "code",
   "execution_count": 47,
   "id": "5d66d26a-351e-42bd-83ac-51b6ba764fbf",
   "metadata": {
    "scrolled": true
   },
   "outputs": [
    {
     "name": "stdout",
     "output_type": "stream",
     "text": [
      "   NumStorePurchases\n",
      "0                  2\n",
      "1                  2\n",
      "2                  9\n",
      "3                  3\n",
      "4                  4\n",
      "   NumStorePurchases\n",
      "0                  6\n",
      "1                  7\n",
      "2                  5\n",
      "3                  2\n",
      "4                  5\n"
     ]
    }
   ],
   "source": [
    "younger_grp_df = df[df['Age_Group'] == 'Younger'][['NumStorePurchases']].reset_index(drop=True)\n",
    "older_grp_df = df[df['Age_Group'] == 'Older'][['NumStorePurchases']].reset_index(drop=True)\n",
    "print(younger_grp_df.head())\n",
    "print(older_grp_df.head())"
   ]
  },
  {
   "cell_type": "code",
   "execution_count": 48,
   "id": "3aa6c111-fe8d-4570-91a6-ca2132dfc986",
   "metadata": {},
   "outputs": [
    {
     "name": "stdout",
     "output_type": "stream",
     "text": [
      "T-statistic: -3.4229\n",
      "P-Value: 0.0006\n",
      "Rejecting Null Hypothesis : There is significant difference in number of store shopping between Younger and Older People.\n"
     ]
    }
   ],
   "source": [
    "#independent t-test\n",
    "t_stat, p_value = ttest_ind(younger_grp_df, older_grp_df)\n",
    "\n",
    "print(f\"T-statistic: {t_stat[0]:.4f}\")\n",
    "print(f\"P-Value: {p_value[0]:.4f}\")\n",
    "\n",
    "#set alpha\n",
    "alpha = 0.05\n",
    "if(p_value < alpha):\n",
    "    print(\"Rejecting Null Hypothesis : There is significant difference in number of store shopping between Younger and Older People.\")\n",
    "else :\n",
    "    print(\"Failed to Reject Null Hypothesis: There is no significant difference in number of store shopping between Younger and Older People.\")"
   ]
  },
  {
   "cell_type": "markdown",
   "id": "37dcd995-9f44-4216-8f52-aa1e71b60813",
   "metadata": {},
   "source": [
    "### Conclusion / Observation\n",
    "#### T-Test result indicates significant difference in number of store shopping by age group.\n",
    "#### Based on both visual and statistical analysis, older people tends to shop more in store and is not more tech savy."
   ]
  },
  {
   "cell_type": "markdown",
   "id": "1a978b5c-64c1-43cf-a652-1db3575b1aa2",
   "metadata": {},
   "source": [
    "## 2. Problem Statement : Customers with kids probably have less time to visit a store and would prefer to shop online.\n",
    "#### `Null Hypothesis(H0)` : There is **no significant difference** in number of web purchases between Customer with kids and those without kids.\n",
    "#### `Alternate Hypothesis(H1)` : There is **significant difference** in number of web purchases between Customer with kids and those without kids."
   ]
  },
  {
   "cell_type": "code",
   "execution_count": 49,
   "id": "683bd99c-0fdf-4dd8-bb94-0169b2c9c54a",
   "metadata": {},
   "outputs": [
    {
     "data": {
      "text/html": [
       "<div>\n",
       "<style scoped>\n",
       "    .dataframe tbody tr th:only-of-type {\n",
       "        vertical-align: middle;\n",
       "    }\n",
       "\n",
       "    .dataframe tbody tr th {\n",
       "        vertical-align: top;\n",
       "    }\n",
       "\n",
       "    .dataframe thead th {\n",
       "        text-align: right;\n",
       "    }\n",
       "</style>\n",
       "<table border=\"1\" class=\"dataframe\">\n",
       "  <thead>\n",
       "    <tr style=\"text-align: right;\">\n",
       "      <th></th>\n",
       "      <th>ID</th>\n",
       "      <th>Year_Birth</th>\n",
       "      <th>Education</th>\n",
       "      <th>Marital_Status</th>\n",
       "      <th>Income</th>\n",
       "      <th>Kidhome</th>\n",
       "      <th>Teenhome</th>\n",
       "      <th>Dt_Customer</th>\n",
       "      <th>Recency</th>\n",
       "      <th>MntWines</th>\n",
       "      <th>...</th>\n",
       "      <th>Response</th>\n",
       "      <th>Complain</th>\n",
       "      <th>Country</th>\n",
       "      <th>Day_Customer_Enroll</th>\n",
       "      <th>Month_Customer_Enroll</th>\n",
       "      <th>Year_Customer_Enroll</th>\n",
       "      <th>Total_Children</th>\n",
       "      <th>Age</th>\n",
       "      <th>Total_Spending</th>\n",
       "      <th>Age_Group</th>\n",
       "    </tr>\n",
       "  </thead>\n",
       "  <tbody>\n",
       "    <tr>\n",
       "      <th>0</th>\n",
       "      <td>1826</td>\n",
       "      <td>1970</td>\n",
       "      <td>Graduation</td>\n",
       "      <td>Divorced</td>\n",
       "      <td>84835.0</td>\n",
       "      <td>0</td>\n",
       "      <td>0</td>\n",
       "      <td>2014-06-16</td>\n",
       "      <td>0</td>\n",
       "      <td>189</td>\n",
       "      <td>...</td>\n",
       "      <td>1</td>\n",
       "      <td>0</td>\n",
       "      <td>SP</td>\n",
       "      <td>16</td>\n",
       "      <td>6</td>\n",
       "      <td>2014</td>\n",
       "      <td>0</td>\n",
       "      <td>55</td>\n",
       "      <td>1190</td>\n",
       "      <td>Older</td>\n",
       "    </tr>\n",
       "    <tr>\n",
       "      <th>1</th>\n",
       "      <td>1</td>\n",
       "      <td>1961</td>\n",
       "      <td>Graduation</td>\n",
       "      <td>Single</td>\n",
       "      <td>57091.0</td>\n",
       "      <td>0</td>\n",
       "      <td>0</td>\n",
       "      <td>2014-06-15</td>\n",
       "      <td>0</td>\n",
       "      <td>464</td>\n",
       "      <td>...</td>\n",
       "      <td>1</td>\n",
       "      <td>0</td>\n",
       "      <td>CA</td>\n",
       "      <td>15</td>\n",
       "      <td>6</td>\n",
       "      <td>2014</td>\n",
       "      <td>0</td>\n",
       "      <td>64</td>\n",
       "      <td>577</td>\n",
       "      <td>Older</td>\n",
       "    </tr>\n",
       "    <tr>\n",
       "      <th>2</th>\n",
       "      <td>10476</td>\n",
       "      <td>1958</td>\n",
       "      <td>Graduation</td>\n",
       "      <td>Married</td>\n",
       "      <td>67267.0</td>\n",
       "      <td>0</td>\n",
       "      <td>1</td>\n",
       "      <td>2014-05-13</td>\n",
       "      <td>0</td>\n",
       "      <td>134</td>\n",
       "      <td>...</td>\n",
       "      <td>0</td>\n",
       "      <td>0</td>\n",
       "      <td>US</td>\n",
       "      <td>13</td>\n",
       "      <td>5</td>\n",
       "      <td>2014</td>\n",
       "      <td>1</td>\n",
       "      <td>67</td>\n",
       "      <td>251</td>\n",
       "      <td>Older</td>\n",
       "    </tr>\n",
       "    <tr>\n",
       "      <th>3</th>\n",
       "      <td>1386</td>\n",
       "      <td>1967</td>\n",
       "      <td>Graduation</td>\n",
       "      <td>Together</td>\n",
       "      <td>32474.0</td>\n",
       "      <td>1</td>\n",
       "      <td>1</td>\n",
       "      <td>2014-05-11</td>\n",
       "      <td>0</td>\n",
       "      <td>10</td>\n",
       "      <td>...</td>\n",
       "      <td>0</td>\n",
       "      <td>0</td>\n",
       "      <td>AUS</td>\n",
       "      <td>11</td>\n",
       "      <td>5</td>\n",
       "      <td>2014</td>\n",
       "      <td>2</td>\n",
       "      <td>58</td>\n",
       "      <td>11</td>\n",
       "      <td>Older</td>\n",
       "    </tr>\n",
       "    <tr>\n",
       "      <th>4</th>\n",
       "      <td>5371</td>\n",
       "      <td>1989</td>\n",
       "      <td>Graduation</td>\n",
       "      <td>Single</td>\n",
       "      <td>21474.0</td>\n",
       "      <td>1</td>\n",
       "      <td>0</td>\n",
       "      <td>2014-04-08</td>\n",
       "      <td>0</td>\n",
       "      <td>6</td>\n",
       "      <td>...</td>\n",
       "      <td>1</td>\n",
       "      <td>0</td>\n",
       "      <td>SP</td>\n",
       "      <td>8</td>\n",
       "      <td>4</td>\n",
       "      <td>2014</td>\n",
       "      <td>1</td>\n",
       "      <td>36</td>\n",
       "      <td>91</td>\n",
       "      <td>Younger</td>\n",
       "    </tr>\n",
       "  </tbody>\n",
       "</table>\n",
       "<p>5 rows × 35 columns</p>\n",
       "</div>"
      ],
      "text/plain": [
       "      ID  Year_Birth   Education Marital_Status   Income  Kidhome  Teenhome  \\\n",
       "0   1826        1970  Graduation       Divorced  84835.0        0         0   \n",
       "1      1        1961  Graduation         Single  57091.0        0         0   \n",
       "2  10476        1958  Graduation        Married  67267.0        0         1   \n",
       "3   1386        1967  Graduation       Together  32474.0        1         1   \n",
       "4   5371        1989  Graduation         Single  21474.0        1         0   \n",
       "\n",
       "  Dt_Customer  Recency  MntWines  ...  Response  Complain  Country  \\\n",
       "0  2014-06-16        0       189  ...         1         0       SP   \n",
       "1  2014-06-15        0       464  ...         1         0       CA   \n",
       "2  2014-05-13        0       134  ...         0         0       US   \n",
       "3  2014-05-11        0        10  ...         0         0      AUS   \n",
       "4  2014-04-08        0         6  ...         1         0       SP   \n",
       "\n",
       "   Day_Customer_Enroll  Month_Customer_Enroll  Year_Customer_Enroll  \\\n",
       "0                   16                      6                  2014   \n",
       "1                   15                      6                  2014   \n",
       "2                   13                      5                  2014   \n",
       "3                   11                      5                  2014   \n",
       "4                    8                      4                  2014   \n",
       "\n",
       "   Total_Children  Age  Total_Spending  Age_Group  \n",
       "0               0   55            1190      Older  \n",
       "1               0   64             577      Older  \n",
       "2               1   67             251      Older  \n",
       "3               2   58              11      Older  \n",
       "4               1   36              91    Younger  \n",
       "\n",
       "[5 rows x 35 columns]"
      ]
     },
     "execution_count": 49,
     "metadata": {},
     "output_type": "execute_result"
    }
   ],
   "source": [
    "df.head()"
   ]
  },
  {
   "cell_type": "code",
   "execution_count": 50,
   "id": "2bf369ef-69f8-437c-80f5-190d3c99b90b",
   "metadata": {},
   "outputs": [
    {
     "data": {
      "text/plain": [
       "Index(['ID', 'Year_Birth', 'Education', 'Marital_Status', 'Income', 'Kidhome',\n",
       "       'Teenhome', 'Dt_Customer', 'Recency', 'MntWines', 'MntFruits',\n",
       "       'MntMeatProducts', 'MntFishProducts', 'MntSweetProducts',\n",
       "       'MntGoldProds', 'NumDealsPurchases', 'NumWebPurchases',\n",
       "       'NumCatalogPurchases', 'NumStorePurchases', 'NumWebVisitsMonth',\n",
       "       'AcceptedCmp3', 'AcceptedCmp4', 'AcceptedCmp5', 'AcceptedCmp1',\n",
       "       'AcceptedCmp2', 'Response', 'Complain', 'Country',\n",
       "       'Day_Customer_Enroll', 'Month_Customer_Enroll', 'Year_Customer_Enroll',\n",
       "       'Total_Children', 'Age', 'Total_Spending', 'Age_Group'],\n",
       "      dtype='object')"
      ]
     },
     "execution_count": 50,
     "metadata": {},
     "output_type": "execute_result"
    }
   ],
   "source": [
    "df.columns"
   ]
  },
  {
   "cell_type": "code",
   "execution_count": 51,
   "id": "b03fe1f5-77e1-4b33-aca1-0d1ca35f0303",
   "metadata": {},
   "outputs": [],
   "source": [
    "df['Kids_Group'] = df['Total_Children'].apply(lambda x: 'With_Kids' if x > 0 else 'Without_Kids')"
   ]
  },
  {
   "cell_type": "code",
   "execution_count": 52,
   "id": "83d700fe-81cb-49f5-a5f1-54278c79b1ac",
   "metadata": {},
   "outputs": [
    {
     "data": {
      "image/png": "[encoded data removed]",
      "text/plain": [
       "<Figure size 1000x600 with 1 Axes>"
      ]
     },
     "metadata": {},
     "output_type": "display_data"
    }
   ],
   "source": [
    "plt.figure(figsize=(10,6))\n",
    "sns.boxplot(x='Kids_Group', y='NumWebPurchases', data=df, palette='Set2', hue=\"Kids_Group\")\n",
    "plt.xlabel(\"Kids Group\", fontsize=12)\n",
    "plt.ylabel(\"Number of web purchases\", fontsize=12)\n",
    "plt.title(\"Kids Status With Number Of Web Purchases\")\n",
    "plt.show()"
   ]
  },
  {
   "cell_type": "markdown",
   "id": "9739c8d1-b7df-49dd-a546-3ca1759ee00e",
   "metadata": {},
   "source": [
    "### Insights\n",
    "#### The median number of purchases for Customer without kids seems bit higher as compared to customers with kids but there is no significant difference in the median of both the groups.\n",
    "#### The IQR shows high variablity for Customers with kids as compared to without kids demontrating more prefrence for online purchase.\n",
    "#### There are few outliers which suggest extreme number of online shopping for few customers having kids."
   ]
  },
  {
   "cell_type": "markdown",
   "id": "9fe1e9ff-f835-4d34-8549-07fb6e6e1a52",
   "metadata": {},
   "source": [
    "### `T-Test` to interpret `Number of Web Purchases` based on `Kids Group`"
   ]
  },
  {
   "cell_type": "code",
   "execution_count": 53,
   "id": "9ca09dc7-107b-4126-9494-633076f283dc",
   "metadata": {},
   "outputs": [],
   "source": [
    "from scipy.stats import ttest_ind"
   ]
  },
  {
   "cell_type": "code",
   "execution_count": 54,
   "id": "3bd5e2ee-157d-450b-99ce-5e47d726fb82",
   "metadata": {},
   "outputs": [],
   "source": [
    "number_web_purchase_with_kids = df[df['Total_Children'] > 0][['NumWebPurchases']].reset_index(drop=True)\n",
    "number_web_purchase_without_kids = df[df['Total_Children'] == 0][['NumWebPurchases']].reset_index(drop=True)"
   ]
  },
  {
   "cell_type": "code",
   "execution_count": 55,
   "id": "6fdfbe91-1653-4abf-8258-8bd9531b2497",
   "metadata": {},
   "outputs": [
    {
     "name": "stdout",
     "output_type": "stream",
     "text": [
      "T-statistic: -3.5419\n",
      "P-Value: 0.0004\n",
      "Rejecting Null Hypothesis : There is significant difference in number of web purchases for customers having kids with those not having kids.\n"
     ]
    }
   ],
   "source": [
    "t_stat, p_value = ttest_ind(number_web_purchase_with_kids, number_web_purchase_without_kids, equal_var=False)\n",
    "\n",
    "print(f\"T-statistic: {t_stat[0]:.4f}\")\n",
    "print(f\"P-Value: {p_value[0]:.4f}\")\n",
    "\n",
    "alpha = 0.5\n",
    "if(p_value < alpha):\n",
    "    print(\"Rejecting Null Hypothesis : There is significant difference in number of web purchases for customers having kids with those not having kids.\")\n",
    "else :\n",
    "    print(\"Failed to Reject Null Hypothesis: There is no significant difference in number of web purchases for customers having kids with those not having kids.\")"
   ]
  },
  {
   "cell_type": "markdown",
   "id": "e868cf0f-68d5-4396-a33f-2991b5baf863",
   "metadata": {},
   "source": [
    "### Conclusion / Observation\n",
    "#### T-Test result indicates significant difference in number of web purchases for Customer with and without kids.\n",
    "#### Based on both visual and statistical analysis, customers with kids have probably less time visiting store and prefer more online shopping.\n",
    "#### The median number of web purchases for Customer without kids are slightly high, but the customers with kids demonstrate online shoppping behaviour."
   ]
  },
  {
   "cell_type": "markdown",
   "id": "bcca14dd-bbca-454f-ad3a-5ca0f135efc6",
   "metadata": {},
   "source": [
    "## 3. Problem Statement : Other distribution channels may cannibalize sales at the store.\n",
    "#### `Null Hypothesis(H0)` : The avergae purchases of all the channels are similar.\n",
    "#### `Alternate Hypothesis(H1)` : The average purchases of one of the channel is different."
   ]
  },
  {
   "cell_type": "code",
   "execution_count": 56,
   "id": "f9f1fc03-46a1-4c10-8718-ea4b0d6999af",
   "metadata": {},
   "outputs": [
    {
     "data": {
      "image/png": "[encoded data removed]",
      "text/plain": [
       "<Figure size 1000x1000 with 20 Axes>"
      ]
     },
     "metadata": {},
     "output_type": "display_data"
    }
   ],
   "source": [
    "# Visualization: \"Pair plot for all the distribution channel\"\n",
    "sns.pairplot(df[['NumDealsPurchases', 'NumWebPurchases', 'NumCatalogPurchases', 'NumStorePurchases']])\n",
    "plt.show()"
   ]
  },
  {
   "cell_type": "markdown",
   "id": "4cf9cb6a-82df-4f7b-8a6d-37403783067f",
   "metadata": {},
   "source": [
    "### Insights\n",
    "#### The Historgram along the diagonal, for Number of Store purchases suggest, there are more number of purchases clusterd around 2 to 5 purchases. While there is some skewness when the there are more than 10 purchases, indicating fewer people making large number of purchases in store.\n",
    "#### The Scatterplot , Number of Store vs Number of Deals Purchases indicates that there are more number of store purchases when there are more deals. \n",
    "#### Number of Store vs Number of Web purchases does not show any correlation between them. This suggests that in store purchase and web purchases customers are different.\n",
    "#### Number of Store vs Number of Catelogue purchases does not show any correlation between them. This suggests there are completely different customers preferring on or the other\n"
   ]
  },
  {
   "cell_type": "code",
   "execution_count": 57,
   "id": "d683ff11-00fe-45da-8180-8525efd6d57d",
   "metadata": {},
   "outputs": [
    {
     "data": {
      "image/png": "[encoded data removed]",
      "text/plain": [
       "<Figure size 1000x600 with 1 Axes>"
      ]
     },
     "metadata": {},
     "output_type": "display_data"
    }
   ],
   "source": [
    "# Visualization: \"Pair plot for all the distribution channel\"\n",
    "plt.figure(figsize=(10,6))\n",
    "plt.title(\"Distribution of Purchases Across Channels\")\n",
    "sns.violinplot(df[['NumDealsPurchases', 'NumWebPurchases', 'NumCatalogPurchases', 'NumStorePurchases']])\n",
    "plt.grid(axis='y', linestyle=\"--\", alpha=0.5)\n",
    "plt.xlabel(\"Purchase Types\", fontsize=12)\n",
    "plt.ylabel(\"Number of Purchases\", fontsize=12)\n",
    "plt.show()"
   ]
  },
  {
   "cell_type": "markdown",
   "id": "05c41ee1-6631-46c2-991b-43c9682732ce",
   "metadata": {},
   "source": [
    "### Insights\n",
    "#### The Number of Store purchases from the Violin plot seems more consistent and preferred mode of purchases.\n",
    "#### The median for Number of Store purchase suggest, there are more pople prefrring byuing in store compared to other channels.\n",
    "#### The distrubution suggest most number of purchases (2 to 5) are in store as compared to other channels."
   ]
  },
  {
   "cell_type": "markdown",
   "id": "34d4b448-5247-4bf9-8ca5-b6297a1e9752",
   "metadata": {},
   "source": [
    "### `One-Way Anova Test` to interpret Variability in Distrubution Channels"
   ]
  },
  {
   "cell_type": "code",
   "execution_count": 58,
   "id": "4834a6ec-9aed-41b9-ad1e-4f33dca7154c",
   "metadata": {},
   "outputs": [
    {
     "name": "stdout",
     "output_type": "stream",
     "text": [
      "ANOVA F-statistic: 731.2212807584392\n",
      "ANOVA p-value: 0.0\n",
      "The p-value is less than 0.05. We reject the null hypothesis.\n",
      "There is a significant difference in the means of at least one distribution channel.\n"
     ]
    }
   ],
   "source": [
    "import pandas as pd\n",
    "from scipy.stats import f_oneway\n",
    "\n",
    "# Example dataset (replace with your actual data)\n",
    "# Assuming 'df' is your DataFrame\n",
    "deals_purchases = df['NumDealsPurchases']\n",
    "web_purchases = df['NumWebPurchases']\n",
    "catalog_purchases = df['NumCatalogPurchases']\n",
    "store_purchases = df['NumStorePurchases']\n",
    "\n",
    "# Perform One-Way ANOVA\n",
    "anova_result = f_oneway(deals_purchases, web_purchases, catalog_purchases, store_purchases)\n",
    "\n",
    "# Print the results\n",
    "print(\"ANOVA F-statistic:\", anova_result.statistic)\n",
    "print(\"ANOVA p-value:\", anova_result.pvalue)\n",
    "\n",
    "# Interpretation\n",
    "if anova_result.pvalue < 0.05:\n",
    "    print(\"The p-value is less than 0.05. We reject the null hypothesis.\")\n",
    "    print(\"There is a significant difference in the means of at least one distribution channel.\")\n",
    "else:\n",
    "    print(\"The p-value is greater than 0.05. We fail to reject the null hypothesis.\")\n",
    "    print(\"There is no significant difference in the means of the distribution channels.\")\n"
   ]
  },
  {
   "cell_type": "code",
   "execution_count": 59,
   "id": "75eaa9a0-65d9-46b6-9714-6092d8d77302",
   "metadata": {},
   "outputs": [],
   "source": [
    "from scipy.stats import f_oneway"
   ]
  },
  {
   "cell_type": "code",
   "execution_count": 60,
   "id": "2d3bb0e4-36f6-4844-ab8e-e86ee9a89992",
   "metadata": {},
   "outputs": [
    {
     "name": "stdout",
     "output_type": "stream",
     "text": [
      "ANOVA F Stats: 731.2212807584392\n",
      "ANOVA P value: 0.0\n",
      "Rejecting Null Hypothesis : The average purchase of all the distribution channels are not similar.\n"
     ]
    }
   ],
   "source": [
    "anova_f_stats, p_value = f_oneway(df['NumDealsPurchases'],\n",
    "                                  df['NumWebPurchases'], \n",
    "                                  df['NumCatalogPurchases'],\n",
    "                                  df['NumStorePurchases'])\n",
    "print(f\"ANOVA F Stats: {anova_f_stats}\")\n",
    "print(f\"ANOVA P value: {p_value}\")\n",
    "\n",
    "alpha = 0.5\n",
    "if p_value < alpha:\n",
    "    print(\"Rejecting Null Hypothesis : The average purchase of all the distribution channels are not similar.\")\n",
    "else :\n",
    "    print(\"Failed to Reject Null Hypothesis: The average purchase of all the distribution channels are similar.\")"
   ]
  },
  {
   "cell_type": "markdown",
   "id": "bcf44203-9aba-4ae1-b0dc-0e2d172aa1c9",
   "metadata": {},
   "source": [
    "### Conclusion / Observation\n",
    "#### One-Way Anova result indicates significant difference in means of distribution channels. There may be chances of one or more distribution channels significantly being high.\n",
    "#### The Visualization analysis indicates that In Store Purchase are higher as compared to other channels.\n",
    "#### While visualization indicates higher Store purchases, Anova stats indicates variablity in purchases accross channels. Further investigation is needed to confirm the role of other channels cannabalizing the In Store Purchases"
   ]
  },
  {
   "cell_type": "markdown",
   "id": "90a48f44-2f0b-441a-bc99-179582ed2cca",
   "metadata": {},
   "source": [
    "## 4. Problem Statement : Does the US fare significantly better than the rest of the world in terms of total purchases?.\n",
    "#### `Null Hypothesis(H0)` : The mean total purchases of US is equal to the mean of rest of the countries.\n",
    "#### `Alternate Hypothesis(H1)` : The mean total purchases of US is not equal to the mean spending of rest of the countries."
   ]
  },
  {
   "cell_type": "code",
   "execution_count": 63,
   "id": "6e30ba4b-ace2-4b91-a9e8-2e9dcac053b6",
   "metadata": {},
   "outputs": [],
   "source": [
    "US_total_spending = df[df['Country'] == 'US'][['Total_Spending']].reset_index(drop=True)\n",
    "rest_of_world_spending = df[df['Country'] != 'US'][['Total_Spending']].reset_index(drop=True)"
   ]
  },
  {
   "cell_type": "code",
   "execution_count": 69,
   "id": "74d4cb8b-c442-40dd-b63b-1c290759cab5",
   "metadata": {},
   "outputs": [
    {
     "data": {
      "image/png": "[encoded data removed]",
      "text/plain": [
       "<Figure size 640x480 with 1 Axes>"
      ]
     },
     "metadata": {},
     "output_type": "display_data"
    }
   ],
   "source": [
    "plt.title(\"US - Total Purchases\")\n",
    "sns.histplot(data=US_total_spending, kde=True, bins=20)\n",
    "plt.show()"
   ]
  },
  {
   "cell_type": "code",
   "execution_count": 70,
   "id": "ffc9c734-4c71-450f-8f06-5472afc95757",
   "metadata": {},
   "outputs": [
    {
     "data": {
      "image/png": "[encoded data removed]",
      "text/plain": [
       "<Figure size 640x480 with 1 Axes>"
      ]
     },
     "metadata": {},
     "output_type": "display_data"
    }
   ],
   "source": [
    "plt.title(\"Rest of The World - Total Purchases\")\n",
    "sns.histplot(data=rest_of_world_spending, kde=True, bins=20)\n",
    "plt.show()"
   ]
  },
  {
   "cell_type": "code",
   "execution_count": null,
   "id": "eaf5b395-0912-48d5-8eed-7aac815fb722",
   "metadata": {},
   "outputs": [],
   "source": []
  },
  {
   "cell_type": "code",
   "execution_count": null,
   "id": "dc209ca6-0b3b-4957-b302-7cdbfd3e08a8",
   "metadata": {},
   "outputs": [],
   "source": []
  },
  {
   "cell_type": "code",
   "execution_count": null,
   "id": "20a93f68-bcf3-4075-afd6-fcbce808f419",
   "metadata": {},
   "outputs": [],
   "source": []
  },
  {
   "cell_type": "code",
   "execution_count": null,
   "id": "d99e48af-c5f3-4615-80c4-7b2285edb8fb",
   "metadata": {},
   "outputs": [],
   "source": []
  },
  {
   "cell_type": "code",
   "execution_count": null,
   "id": "a6d1333c-b5e8-46f2-bfb9-1dc95b02fc8b",
   "metadata": {},
   "outputs": [],
   "source": []
  },
  {
   "cell_type": "code",
   "execution_count": null,
   "id": "d63fb721-44d3-41e2-b6ac-365129431a6e",
   "metadata": {},
   "outputs": [],
   "source": []
  },
  {
   "cell_type": "code",
   "execution_count": null,
   "id": "5420aac6-dd68-455e-b2c2-7e938d0813c1",
   "metadata": {},
   "outputs": [],
   "source": []
  }
 ],
 "metadata": {
  "kernelspec": {
   "display_name": "Python 3 (ipykernel)",
   "language": "python",
   "name": "python3"
  },
  "language_info": {
   "codemirror_mode": {
    "name": "ipython",
    "version": 3
   },
   "file_extension": ".py",
   "mimetype": "text/x-python",
   "name": "python",
   "nbconvert_exporter": "python",
   "pygments_lexer": "ipython3",
   "version": "3.12.3"
  }
 },
 "nbformat": 4,
 "nbformat_minor": 5
}
