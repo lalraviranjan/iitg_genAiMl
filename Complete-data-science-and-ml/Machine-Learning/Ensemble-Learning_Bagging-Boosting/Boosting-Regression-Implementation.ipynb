{
 "cells": [
  {
   "cell_type": "markdown",
   "id": "8ccb6887-8d30-4027-97d4-4f60849374b4",
   "metadata": {},
   "source": [
    "# Car Price Prediction from CarDekho.com"
   ]
  },
  {
   "cell_type": "code",
   "execution_count": 102,
   "id": "4356ce71-f456-4f8a-81b5-0f8a2efee006",
   "metadata": {},
   "outputs": [],
   "source": [
    "import pandas as pd\n",
    "import numpy as np\n",
    "import matplotlib.pyplot as plt\n",
    "import seaborn as sns\n",
    "import warnings\n",
    "warnings.filterwarnings(\"ignore\")"
   ]
  },
  {
   "cell_type": "code",
   "execution_count": 103,
   "id": "ed8d1baa-b5d9-4d42-a078-7172104cd21b",
   "metadata": {},
   "outputs": [
    {
     "data": {
      "text/html": [
       "<div>\n",
       "<style scoped>\n",
       "    .dataframe tbody tr th:only-of-type {\n",
       "        vertical-align: middle;\n",
       "    }\n",
       "\n",
       "    .dataframe tbody tr th {\n",
       "        vertical-align: top;\n",
       "    }\n",
       "\n",
       "    .dataframe thead th {\n",
       "        text-align: right;\n",
       "    }\n",
       "</style>\n",
       "<table border=\"1\" class=\"dataframe\">\n",
       "  <thead>\n",
       "    <tr style=\"text-align: right;\">\n",
       "      <th></th>\n",
       "      <th>Car_Name</th>\n",
       "      <th>Year</th>\n",
       "      <th>Selling_Price</th>\n",
       "      <th>Present_Price</th>\n",
       "      <th>Kms_Driven</th>\n",
       "      <th>Fuel_Type</th>\n",
       "      <th>Seller_Type</th>\n",
       "      <th>Transmission</th>\n",
       "      <th>Owner</th>\n",
       "    </tr>\n",
       "  </thead>\n",
       "  <tbody>\n",
       "    <tr>\n",
       "      <th>0</th>\n",
       "      <td>ritz</td>\n",
       "      <td>2014</td>\n",
       "      <td>3.35</td>\n",
       "      <td>5.59</td>\n",
       "      <td>27000</td>\n",
       "      <td>Petrol</td>\n",
       "      <td>Dealer</td>\n",
       "      <td>Manual</td>\n",
       "      <td>0</td>\n",
       "    </tr>\n",
       "    <tr>\n",
       "      <th>1</th>\n",
       "      <td>sx4</td>\n",
       "      <td>2013</td>\n",
       "      <td>4.75</td>\n",
       "      <td>9.54</td>\n",
       "      <td>43000</td>\n",
       "      <td>Diesel</td>\n",
       "      <td>Dealer</td>\n",
       "      <td>Manual</td>\n",
       "      <td>0</td>\n",
       "    </tr>\n",
       "    <tr>\n",
       "      <th>2</th>\n",
       "      <td>ciaz</td>\n",
       "      <td>2017</td>\n",
       "      <td>7.25</td>\n",
       "      <td>9.85</td>\n",
       "      <td>6900</td>\n",
       "      <td>Petrol</td>\n",
       "      <td>Dealer</td>\n",
       "      <td>Manual</td>\n",
       "      <td>0</td>\n",
       "    </tr>\n",
       "    <tr>\n",
       "      <th>3</th>\n",
       "      <td>wagon r</td>\n",
       "      <td>2011</td>\n",
       "      <td>2.85</td>\n",
       "      <td>4.15</td>\n",
       "      <td>5200</td>\n",
       "      <td>Petrol</td>\n",
       "      <td>Dealer</td>\n",
       "      <td>Manual</td>\n",
       "      <td>0</td>\n",
       "    </tr>\n",
       "    <tr>\n",
       "      <th>4</th>\n",
       "      <td>swift</td>\n",
       "      <td>2014</td>\n",
       "      <td>4.60</td>\n",
       "      <td>6.87</td>\n",
       "      <td>42450</td>\n",
       "      <td>Diesel</td>\n",
       "      <td>Dealer</td>\n",
       "      <td>Manual</td>\n",
       "      <td>0</td>\n",
       "    </tr>\n",
       "  </tbody>\n",
       "</table>\n",
       "</div>"
      ],
      "text/plain": [
       "  Car_Name  Year  Selling_Price  Present_Price  Kms_Driven Fuel_Type  \\\n",
       "0     ritz  2014           3.35           5.59       27000    Petrol   \n",
       "1      sx4  2013           4.75           9.54       43000    Diesel   \n",
       "2     ciaz  2017           7.25           9.85        6900    Petrol   \n",
       "3  wagon r  2011           2.85           4.15        5200    Petrol   \n",
       "4    swift  2014           4.60           6.87       42450    Diesel   \n",
       "\n",
       "  Seller_Type Transmission  Owner  \n",
       "0      Dealer       Manual      0  \n",
       "1      Dealer       Manual      0  \n",
       "2      Dealer       Manual      0  \n",
       "3      Dealer       Manual      0  \n",
       "4      Dealer       Manual      0  "
      ]
     },
     "execution_count": 103,
     "metadata": {},
     "output_type": "execute_result"
    }
   ],
   "source": [
    "df_main = pd.read_csv(\"car data.csv\")\n",
    "df = df_main\n",
    "df.head()"
   ]
  },
  {
   "cell_type": "code",
   "execution_count": 104,
   "id": "365e1160-75f7-4bb4-940a-40a66a28fa04",
   "metadata": {},
   "outputs": [
    {
     "name": "stdout",
     "output_type": "stream",
     "text": [
      "<class 'pandas.core.frame.DataFrame'>\n",
      "RangeIndex: 301 entries, 0 to 300\n",
      "Data columns (total 9 columns):\n",
      " #   Column         Non-Null Count  Dtype  \n",
      "---  ------         --------------  -----  \n",
      " 0   Car_Name       301 non-null    object \n",
      " 1   Year           301 non-null    int64  \n",
      " 2   Selling_Price  301 non-null    float64\n",
      " 3   Present_Price  301 non-null    float64\n",
      " 4   Kms_Driven     301 non-null    int64  \n",
      " 5   Fuel_Type      301 non-null    object \n",
      " 6   Seller_Type    301 non-null    object \n",
      " 7   Transmission   301 non-null    object \n",
      " 8   Owner          301 non-null    int64  \n",
      "dtypes: float64(2), int64(3), object(4)\n",
      "memory usage: 21.3+ KB\n"
     ]
    }
   ],
   "source": [
    "df.info()"
   ]
  },
  {
   "cell_type": "code",
   "execution_count": 105,
   "id": "da87b5fa-ff53-4177-b5d5-e7cefe2e3f6e",
   "metadata": {},
   "outputs": [
    {
     "data": {
      "text/plain": [
       "Index(['Car_Name', 'Year', 'Selling_Price', 'Present_Price', 'Kms_Driven',\n",
       "       'Fuel_Type', 'Seller_Type', 'Transmission', 'Owner'],\n",
       "      dtype='object')"
      ]
     },
     "execution_count": 105,
     "metadata": {},
     "output_type": "execute_result"
    }
   ],
   "source": [
    "df.columns"
   ]
  },
  {
   "cell_type": "code",
   "execution_count": 106,
   "id": "f68bcde0-4756-4484-8d1f-94fa75d09fbf",
   "metadata": {},
   "outputs": [
    {
     "data": {
      "text/plain": [
       "Car_Name         0\n",
       "Year             0\n",
       "Selling_Price    0\n",
       "Present_Price    0\n",
       "Kms_Driven       0\n",
       "Fuel_Type        0\n",
       "Seller_Type      0\n",
       "Transmission     0\n",
       "Owner            0\n",
       "dtype: int64"
      ]
     },
     "execution_count": 106,
     "metadata": {},
     "output_type": "execute_result"
    }
   ],
   "source": [
    "df.isnull().sum()"
   ]
  },
  {
   "cell_type": "code",
   "execution_count": 107,
   "id": "d23c5682-03ec-43c0-ab4c-864066c76e5c",
   "metadata": {},
   "outputs": [
    {
     "data": {
      "text/plain": [
       "['Year', 'Selling_Price', 'Present_Price', 'Kms_Driven', 'Owner']"
      ]
     },
     "execution_count": 107,
     "metadata": {},
     "output_type": "execute_result"
    }
   ],
   "source": [
    "num_features = [feature for feature in df.columns if df[feature].dtype != 'O']\n",
    "num_features"
   ]
  },
  {
   "cell_type": "code",
   "execution_count": 108,
   "id": "24c6947e-7f99-494a-9113-f624d1317310",
   "metadata": {},
   "outputs": [
    {
     "data": {
      "text/plain": [
       "['Car_Name', 'Fuel_Type', 'Seller_Type', 'Transmission']"
      ]
     },
     "execution_count": 108,
     "metadata": {},
     "output_type": "execute_result"
    }
   ],
   "source": [
    "categ_features = [feature for feature in df.columns if df[feature].dtype == 'O']\n",
    "categ_features"
   ]
  },
  {
   "cell_type": "code",
   "execution_count": 109,
   "id": "26fc0818-795f-47d3-80bc-b35bfda59581",
   "metadata": {},
   "outputs": [],
   "source": [
    "#Independent and Dependent Features\n",
    "X = df.drop('Selling_Price', axis=1)\n",
    "Y = df['Selling_Price']"
   ]
  },
  {
   "cell_type": "code",
   "execution_count": 110,
   "id": "ae97b7cd-3316-4e3a-81b3-d489dedff6c0",
   "metadata": {},
   "outputs": [
    {
     "data": {
      "text/html": [
       "<div>\n",
       "<style scoped>\n",
       "    .dataframe tbody tr th:only-of-type {\n",
       "        vertical-align: middle;\n",
       "    }\n",
       "\n",
       "    .dataframe tbody tr th {\n",
       "        vertical-align: top;\n",
       "    }\n",
       "\n",
       "    .dataframe thead th {\n",
       "        text-align: right;\n",
       "    }\n",
       "</style>\n",
       "<table border=\"1\" class=\"dataframe\">\n",
       "  <thead>\n",
       "    <tr style=\"text-align: right;\">\n",
       "      <th></th>\n",
       "      <th>Car_Name</th>\n",
       "      <th>Year</th>\n",
       "      <th>Present_Price</th>\n",
       "      <th>Kms_Driven</th>\n",
       "      <th>Fuel_Type</th>\n",
       "      <th>Seller_Type</th>\n",
       "      <th>Transmission</th>\n",
       "      <th>Owner</th>\n",
       "    </tr>\n",
       "  </thead>\n",
       "  <tbody>\n",
       "    <tr>\n",
       "      <th>0</th>\n",
       "      <td>ritz</td>\n",
       "      <td>2014</td>\n",
       "      <td>5.59</td>\n",
       "      <td>27000</td>\n",
       "      <td>Petrol</td>\n",
       "      <td>Dealer</td>\n",
       "      <td>Manual</td>\n",
       "      <td>0</td>\n",
       "    </tr>\n",
       "    <tr>\n",
       "      <th>1</th>\n",
       "      <td>sx4</td>\n",
       "      <td>2013</td>\n",
       "      <td>9.54</td>\n",
       "      <td>43000</td>\n",
       "      <td>Diesel</td>\n",
       "      <td>Dealer</td>\n",
       "      <td>Manual</td>\n",
       "      <td>0</td>\n",
       "    </tr>\n",
       "    <tr>\n",
       "      <th>2</th>\n",
       "      <td>ciaz</td>\n",
       "      <td>2017</td>\n",
       "      <td>9.85</td>\n",
       "      <td>6900</td>\n",
       "      <td>Petrol</td>\n",
       "      <td>Dealer</td>\n",
       "      <td>Manual</td>\n",
       "      <td>0</td>\n",
       "    </tr>\n",
       "    <tr>\n",
       "      <th>3</th>\n",
       "      <td>wagon r</td>\n",
       "      <td>2011</td>\n",
       "      <td>4.15</td>\n",
       "      <td>5200</td>\n",
       "      <td>Petrol</td>\n",
       "      <td>Dealer</td>\n",
       "      <td>Manual</td>\n",
       "      <td>0</td>\n",
       "    </tr>\n",
       "    <tr>\n",
       "      <th>4</th>\n",
       "      <td>swift</td>\n",
       "      <td>2014</td>\n",
       "      <td>6.87</td>\n",
       "      <td>42450</td>\n",
       "      <td>Diesel</td>\n",
       "      <td>Dealer</td>\n",
       "      <td>Manual</td>\n",
       "      <td>0</td>\n",
       "    </tr>\n",
       "  </tbody>\n",
       "</table>\n",
       "</div>"
      ],
      "text/plain": [
       "  Car_Name  Year  Present_Price  Kms_Driven Fuel_Type Seller_Type  \\\n",
       "0     ritz  2014           5.59       27000    Petrol      Dealer   \n",
       "1      sx4  2013           9.54       43000    Diesel      Dealer   \n",
       "2     ciaz  2017           9.85        6900    Petrol      Dealer   \n",
       "3  wagon r  2011           4.15        5200    Petrol      Dealer   \n",
       "4    swift  2014           6.87       42450    Diesel      Dealer   \n",
       "\n",
       "  Transmission  Owner  \n",
       "0       Manual      0  \n",
       "1       Manual      0  \n",
       "2       Manual      0  \n",
       "3       Manual      0  \n",
       "4       Manual      0  "
      ]
     },
     "execution_count": 110,
     "metadata": {},
     "output_type": "execute_result"
    }
   ],
   "source": [
    "X.head()"
   ]
  },
  {
   "cell_type": "markdown",
   "id": "63908616-5c90-4c50-907b-0e7974760221",
   "metadata": {},
   "source": [
    "#### Apply LabelEncoder to 'Car_Name' before other Encodings"
   ]
  },
  {
   "cell_type": "code",
   "execution_count": 111,
   "id": "0f0f2a11-25e9-4ff9-99c9-4642b037c18b",
   "metadata": {},
   "outputs": [],
   "source": [
    "from sklearn.preprocessing import LabelEncoder\n",
    "# Apply LabelEncoder to 'Car_Name' before splitting\n",
    "le = LabelEncoder()\n",
    "X['Car_Name'] = le.fit_transform(X['Car_Name'])"
   ]
  },
  {
   "cell_type": "code",
   "execution_count": 112,
   "id": "decb2a19-0813-447c-ac9c-c2131663d64e",
   "metadata": {},
   "outputs": [
    {
     "data": {
      "text/html": [
       "<div>\n",
       "<style scoped>\n",
       "    .dataframe tbody tr th:only-of-type {\n",
       "        vertical-align: middle;\n",
       "    }\n",
       "\n",
       "    .dataframe tbody tr th {\n",
       "        vertical-align: top;\n",
       "    }\n",
       "\n",
       "    .dataframe thead th {\n",
       "        text-align: right;\n",
       "    }\n",
       "</style>\n",
       "<table border=\"1\" class=\"dataframe\">\n",
       "  <thead>\n",
       "    <tr style=\"text-align: right;\">\n",
       "      <th></th>\n",
       "      <th>Car_Name</th>\n",
       "      <th>Year</th>\n",
       "      <th>Present_Price</th>\n",
       "      <th>Kms_Driven</th>\n",
       "      <th>Fuel_Type</th>\n",
       "      <th>Seller_Type</th>\n",
       "      <th>Transmission</th>\n",
       "      <th>Owner</th>\n",
       "    </tr>\n",
       "  </thead>\n",
       "  <tbody>\n",
       "    <tr>\n",
       "      <th>0</th>\n",
       "      <td>90</td>\n",
       "      <td>2014</td>\n",
       "      <td>5.59</td>\n",
       "      <td>27000</td>\n",
       "      <td>Petrol</td>\n",
       "      <td>Dealer</td>\n",
       "      <td>Manual</td>\n",
       "      <td>0</td>\n",
       "    </tr>\n",
       "    <tr>\n",
       "      <th>1</th>\n",
       "      <td>93</td>\n",
       "      <td>2013</td>\n",
       "      <td>9.54</td>\n",
       "      <td>43000</td>\n",
       "      <td>Diesel</td>\n",
       "      <td>Dealer</td>\n",
       "      <td>Manual</td>\n",
       "      <td>0</td>\n",
       "    </tr>\n",
       "    <tr>\n",
       "      <th>2</th>\n",
       "      <td>68</td>\n",
       "      <td>2017</td>\n",
       "      <td>9.85</td>\n",
       "      <td>6900</td>\n",
       "      <td>Petrol</td>\n",
       "      <td>Dealer</td>\n",
       "      <td>Manual</td>\n",
       "      <td>0</td>\n",
       "    </tr>\n",
       "    <tr>\n",
       "      <th>3</th>\n",
       "      <td>96</td>\n",
       "      <td>2011</td>\n",
       "      <td>4.15</td>\n",
       "      <td>5200</td>\n",
       "      <td>Petrol</td>\n",
       "      <td>Dealer</td>\n",
       "      <td>Manual</td>\n",
       "      <td>0</td>\n",
       "    </tr>\n",
       "    <tr>\n",
       "      <th>4</th>\n",
       "      <td>92</td>\n",
       "      <td>2014</td>\n",
       "      <td>6.87</td>\n",
       "      <td>42450</td>\n",
       "      <td>Diesel</td>\n",
       "      <td>Dealer</td>\n",
       "      <td>Manual</td>\n",
       "      <td>0</td>\n",
       "    </tr>\n",
       "  </tbody>\n",
       "</table>\n",
       "</div>"
      ],
      "text/plain": [
       "   Car_Name  Year  Present_Price  Kms_Driven Fuel_Type Seller_Type  \\\n",
       "0        90  2014           5.59       27000    Petrol      Dealer   \n",
       "1        93  2013           9.54       43000    Diesel      Dealer   \n",
       "2        68  2017           9.85        6900    Petrol      Dealer   \n",
       "3        96  2011           4.15        5200    Petrol      Dealer   \n",
       "4        92  2014           6.87       42450    Diesel      Dealer   \n",
       "\n",
       "  Transmission  Owner  \n",
       "0       Manual      0  \n",
       "1       Manual      0  \n",
       "2       Manual      0  \n",
       "3       Manual      0  \n",
       "4       Manual      0  "
      ]
     },
     "execution_count": 112,
     "metadata": {},
     "output_type": "execute_result"
    }
   ],
   "source": [
    "X.head()"
   ]
  },
  {
   "cell_type": "code",
   "execution_count": 113,
   "id": "3823fda1-262e-46f2-a5a7-d6faac980324",
   "metadata": {},
   "outputs": [],
   "source": [
    "from sklearn.model_selection import train_test_split\n",
    "X_train, X_test, Y_train, Y_test = train_test_split(X, Y, test_size=0.23, random_state=40)"
   ]
  },
  {
   "cell_type": "markdown",
   "id": "6e5c033d-b558-48d8-be7e-7c618247c144",
   "metadata": {},
   "source": [
    "## Feature Encoding and Scaling\n",
    "#### One Hot Encoding for columns which has lesser unique values <25\n",
    "#### Label or Ordinal Encoding for hgher unique values >=25"
   ]
  },
  {
   "cell_type": "code",
   "execution_count": 114,
   "id": "b7327679-15d3-4c14-9949-524287bf39a4",
   "metadata": {},
   "outputs": [],
   "source": [
    "# Identify numeric and categorical features\n",
    "num_features = ['Year', 'Present_Price', 'Kms_Driven', 'Owner']\n",
    "categ_features = ['Seller_Type', 'Fuel_Type', 'Transmission']"
   ]
  },
  {
   "cell_type": "code",
   "execution_count": 115,
   "id": "f26400e1-fcb9-4803-9c5c-fc70d1dc7e0b",
   "metadata": {},
   "outputs": [
    {
     "data": {
      "text/plain": [
       "['Year', 'Present_Price', 'Kms_Driven', 'Owner']"
      ]
     },
     "execution_count": 115,
     "metadata": {},
     "output_type": "execute_result"
    }
   ],
   "source": [
    "num_features"
   ]
  },
  {
   "cell_type": "code",
   "execution_count": 116,
   "id": "dd0110e7-0103-45fd-9fbd-67dbfa73214a",
   "metadata": {},
   "outputs": [
    {
     "data": {
      "text/html": [
       "<div>\n",
       "<style scoped>\n",
       "    .dataframe tbody tr th:only-of-type {\n",
       "        vertical-align: middle;\n",
       "    }\n",
       "\n",
       "    .dataframe tbody tr th {\n",
       "        vertical-align: top;\n",
       "    }\n",
       "\n",
       "    .dataframe thead th {\n",
       "        text-align: right;\n",
       "    }\n",
       "</style>\n",
       "<table border=\"1\" class=\"dataframe\">\n",
       "  <thead>\n",
       "    <tr style=\"text-align: right;\">\n",
       "      <th></th>\n",
       "      <th>Car_Name</th>\n",
       "      <th>Year</th>\n",
       "      <th>Present_Price</th>\n",
       "      <th>Kms_Driven</th>\n",
       "      <th>Fuel_Type</th>\n",
       "      <th>Seller_Type</th>\n",
       "      <th>Transmission</th>\n",
       "      <th>Owner</th>\n",
       "    </tr>\n",
       "  </thead>\n",
       "  <tbody>\n",
       "    <tr>\n",
       "      <th>267</th>\n",
       "      <td>69</td>\n",
       "      <td>2016</td>\n",
       "      <td>9.400</td>\n",
       "      <td>19434</td>\n",
       "      <td>Diesel</td>\n",
       "      <td>Dealer</td>\n",
       "      <td>Manual</td>\n",
       "      <td>0</td>\n",
       "    </tr>\n",
       "    <tr>\n",
       "      <th>208</th>\n",
       "      <td>84</td>\n",
       "      <td>2017</td>\n",
       "      <td>8.100</td>\n",
       "      <td>3435</td>\n",
       "      <td>Petrol</td>\n",
       "      <td>Dealer</td>\n",
       "      <td>Manual</td>\n",
       "      <td>0</td>\n",
       "    </tr>\n",
       "    <tr>\n",
       "      <th>222</th>\n",
       "      <td>84</td>\n",
       "      <td>2014</td>\n",
       "      <td>7.600</td>\n",
       "      <td>77632</td>\n",
       "      <td>Diesel</td>\n",
       "      <td>Dealer</td>\n",
       "      <td>Manual</td>\n",
       "      <td>0</td>\n",
       "    </tr>\n",
       "    <tr>\n",
       "      <th>175</th>\n",
       "      <td>22</td>\n",
       "      <td>2011</td>\n",
       "      <td>0.787</td>\n",
       "      <td>75000</td>\n",
       "      <td>Petrol</td>\n",
       "      <td>Individual</td>\n",
       "      <td>Manual</td>\n",
       "      <td>0</td>\n",
       "    </tr>\n",
       "    <tr>\n",
       "      <th>44</th>\n",
       "      <td>89</td>\n",
       "      <td>2012</td>\n",
       "      <td>2.690</td>\n",
       "      <td>50000</td>\n",
       "      <td>Petrol</td>\n",
       "      <td>Dealer</td>\n",
       "      <td>Manual</td>\n",
       "      <td>0</td>\n",
       "    </tr>\n",
       "    <tr>\n",
       "      <th>...</th>\n",
       "      <td>...</td>\n",
       "      <td>...</td>\n",
       "      <td>...</td>\n",
       "      <td>...</td>\n",
       "      <td>...</td>\n",
       "      <td>...</td>\n",
       "      <td>...</td>\n",
       "      <td>...</td>\n",
       "    </tr>\n",
       "    <tr>\n",
       "      <th>268</th>\n",
       "      <td>66</td>\n",
       "      <td>2017</td>\n",
       "      <td>5.800</td>\n",
       "      <td>19000</td>\n",
       "      <td>Petrol</td>\n",
       "      <td>Dealer</td>\n",
       "      <td>Manual</td>\n",
       "      <td>0</td>\n",
       "    </tr>\n",
       "    <tr>\n",
       "      <th>193</th>\n",
       "      <td>19</td>\n",
       "      <td>2013</td>\n",
       "      <td>0.650</td>\n",
       "      <td>24000</td>\n",
       "      <td>Petrol</td>\n",
       "      <td>Individual</td>\n",
       "      <td>Manual</td>\n",
       "      <td>1</td>\n",
       "    </tr>\n",
       "    <tr>\n",
       "      <th>165</th>\n",
       "      <td>1</td>\n",
       "      <td>2016</td>\n",
       "      <td>0.540</td>\n",
       "      <td>500</td>\n",
       "      <td>Petrol</td>\n",
       "      <td>Individual</td>\n",
       "      <td>Automatic</td>\n",
       "      <td>0</td>\n",
       "    </tr>\n",
       "    <tr>\n",
       "      <th>7</th>\n",
       "      <td>91</td>\n",
       "      <td>2015</td>\n",
       "      <td>8.610</td>\n",
       "      <td>33429</td>\n",
       "      <td>Diesel</td>\n",
       "      <td>Dealer</td>\n",
       "      <td>Manual</td>\n",
       "      <td>0</td>\n",
       "    </tr>\n",
       "    <tr>\n",
       "      <th>219</th>\n",
       "      <td>94</td>\n",
       "      <td>2012</td>\n",
       "      <td>9.400</td>\n",
       "      <td>36000</td>\n",
       "      <td>Petrol</td>\n",
       "      <td>Dealer</td>\n",
       "      <td>Manual</td>\n",
       "      <td>0</td>\n",
       "    </tr>\n",
       "  </tbody>\n",
       "</table>\n",
       "<p>231 rows × 8 columns</p>\n",
       "</div>"
      ],
      "text/plain": [
       "     Car_Name  Year  Present_Price  Kms_Driven Fuel_Type Seller_Type  \\\n",
       "267        69  2016          9.400       19434    Diesel      Dealer   \n",
       "208        84  2017          8.100        3435    Petrol      Dealer   \n",
       "222        84  2014          7.600       77632    Diesel      Dealer   \n",
       "175        22  2011          0.787       75000    Petrol  Individual   \n",
       "44         89  2012          2.690       50000    Petrol      Dealer   \n",
       "..        ...   ...            ...         ...       ...         ...   \n",
       "268        66  2017          5.800       19000    Petrol      Dealer   \n",
       "193        19  2013          0.650       24000    Petrol  Individual   \n",
       "165         1  2016          0.540         500    Petrol  Individual   \n",
       "7          91  2015          8.610       33429    Diesel      Dealer   \n",
       "219        94  2012          9.400       36000    Petrol      Dealer   \n",
       "\n",
       "    Transmission  Owner  \n",
       "267       Manual      0  \n",
       "208       Manual      0  \n",
       "222       Manual      0  \n",
       "175       Manual      0  \n",
       "44        Manual      0  \n",
       "..           ...    ...  \n",
       "268       Manual      0  \n",
       "193       Manual      1  \n",
       "165    Automatic      0  \n",
       "7         Manual      0  \n",
       "219       Manual      0  \n",
       "\n",
       "[231 rows x 8 columns]"
      ]
     },
     "execution_count": 116,
     "metadata": {},
     "output_type": "execute_result"
    }
   ],
   "source": [
    "X_train"
   ]
  },
  {
   "cell_type": "code",
   "execution_count": 117,
   "id": "c969818f-1461-4944-9571-711ac48112c7",
   "metadata": {},
   "outputs": [
    {
     "name": "stdout",
     "output_type": "stream",
     "text": [
      "X_train shape: (231, 8)\n",
      "X_test shape: (70, 8)\n"
     ]
    }
   ],
   "source": [
    "from sklearn.preprocessing import OneHotEncoder, StandardScaler\n",
    "from sklearn.compose import ColumnTransformer\n",
    "\n",
    "# Define transformers\n",
    "std_transformer = StandardScaler()\n",
    "ohe_transformer = OneHotEncoder(drop='first', sparse_output=False)\n",
    "\n",
    "# Create column transformer\n",
    "preprocessor = ColumnTransformer([\n",
    "    (\"OneHotEncoder\", ohe_transformer, categ_features),\n",
    "    (\"StandardScaler\", std_transformer, num_features)\n",
    "])\n",
    "\n",
    "# Fit on training data and transform both training and testing data\n",
    "X_train = preprocessor.fit_transform(X_train)  # Fit & Transform on Train Data\n",
    "X_test = preprocessor.transform(X_test)        # Only Transform Test Data\n",
    "print(\"X_train shape:\", X_train.shape)\n",
    "print(\"X_test shape:\", X_test.shape)"
   ]
  },
  {
   "cell_type": "code",
   "execution_count": 118,
   "id": "d0b80f8d-d188-472a-acb7-3cc321a15691",
   "metadata": {},
   "outputs": [
    {
     "data": {
      "text/html": [
       "<div>\n",
       "<style scoped>\n",
       "    .dataframe tbody tr th:only-of-type {\n",
       "        vertical-align: middle;\n",
       "    }\n",
       "\n",
       "    .dataframe tbody tr th {\n",
       "        vertical-align: top;\n",
       "    }\n",
       "\n",
       "    .dataframe thead th {\n",
       "        text-align: right;\n",
       "    }\n",
       "</style>\n",
       "<table border=\"1\" class=\"dataframe\">\n",
       "  <thead>\n",
       "    <tr style=\"text-align: right;\">\n",
       "      <th></th>\n",
       "      <th>0</th>\n",
       "      <th>1</th>\n",
       "      <th>2</th>\n",
       "      <th>3</th>\n",
       "      <th>4</th>\n",
       "      <th>5</th>\n",
       "      <th>6</th>\n",
       "      <th>7</th>\n",
       "    </tr>\n",
       "  </thead>\n",
       "  <tbody>\n",
       "    <tr>\n",
       "      <th>0</th>\n",
       "      <td>0.0</td>\n",
       "      <td>1.0</td>\n",
       "      <td>0.0</td>\n",
       "      <td>1.0</td>\n",
       "      <td>0.854423</td>\n",
       "      <td>0.159548</td>\n",
       "      <td>-0.421965</td>\n",
       "      <td>-0.200118</td>\n",
       "    </tr>\n",
       "    <tr>\n",
       "      <th>1</th>\n",
       "      <td>0.0</td>\n",
       "      <td>0.0</td>\n",
       "      <td>1.0</td>\n",
       "      <td>1.0</td>\n",
       "      <td>1.228233</td>\n",
       "      <td>0.016975</td>\n",
       "      <td>-0.812033</td>\n",
       "      <td>-0.200118</td>\n",
       "    </tr>\n",
       "    <tr>\n",
       "      <th>2</th>\n",
       "      <td>0.0</td>\n",
       "      <td>1.0</td>\n",
       "      <td>0.0</td>\n",
       "      <td>1.0</td>\n",
       "      <td>0.106803</td>\n",
       "      <td>-0.037861</td>\n",
       "      <td>0.996949</td>\n",
       "      <td>-0.200118</td>\n",
       "    </tr>\n",
       "    <tr>\n",
       "      <th>3</th>\n",
       "      <td>1.0</td>\n",
       "      <td>0.0</td>\n",
       "      <td>1.0</td>\n",
       "      <td>1.0</td>\n",
       "      <td>-1.014627</td>\n",
       "      <td>-0.785053</td>\n",
       "      <td>0.932779</td>\n",
       "      <td>-0.200118</td>\n",
       "    </tr>\n",
       "    <tr>\n",
       "      <th>4</th>\n",
       "      <td>0.0</td>\n",
       "      <td>0.0</td>\n",
       "      <td>1.0</td>\n",
       "      <td>1.0</td>\n",
       "      <td>-0.640817</td>\n",
       "      <td>-0.576348</td>\n",
       "      <td>0.323259</td>\n",
       "      <td>-0.200118</td>\n",
       "    </tr>\n",
       "  </tbody>\n",
       "</table>\n",
       "</div>"
      ],
      "text/plain": [
       "     0    1    2    3         4         5         6         7\n",
       "0  0.0  1.0  0.0  1.0  0.854423  0.159548 -0.421965 -0.200118\n",
       "1  0.0  0.0  1.0  1.0  1.228233  0.016975 -0.812033 -0.200118\n",
       "2  0.0  1.0  0.0  1.0  0.106803 -0.037861  0.996949 -0.200118\n",
       "3  1.0  0.0  1.0  1.0 -1.014627 -0.785053  0.932779 -0.200118\n",
       "4  0.0  0.0  1.0  1.0 -0.640817 -0.576348  0.323259 -0.200118"
      ]
     },
     "execution_count": 118,
     "metadata": {},
     "output_type": "execute_result"
    }
   ],
   "source": [
    "pd.DataFrame(X_train).head()"
   ]
  },
  {
   "cell_type": "code",
   "execution_count": 119,
   "id": "0d6358bf-068d-40aa-b282-dd70d99247fc",
   "metadata": {},
   "outputs": [
    {
     "data": {
      "text/html": [
       "<div>\n",
       "<style scoped>\n",
       "    .dataframe tbody tr th:only-of-type {\n",
       "        vertical-align: middle;\n",
       "    }\n",
       "\n",
       "    .dataframe tbody tr th {\n",
       "        vertical-align: top;\n",
       "    }\n",
       "\n",
       "    .dataframe thead th {\n",
       "        text-align: right;\n",
       "    }\n",
       "</style>\n",
       "<table border=\"1\" class=\"dataframe\">\n",
       "  <thead>\n",
       "    <tr style=\"text-align: right;\">\n",
       "      <th></th>\n",
       "      <th>0</th>\n",
       "      <th>1</th>\n",
       "      <th>2</th>\n",
       "      <th>3</th>\n",
       "      <th>4</th>\n",
       "      <th>5</th>\n",
       "      <th>6</th>\n",
       "      <th>7</th>\n",
       "    </tr>\n",
       "  </thead>\n",
       "  <tbody>\n",
       "    <tr>\n",
       "      <th>0</th>\n",
       "      <td>0.0</td>\n",
       "      <td>0.0</td>\n",
       "      <td>0.0</td>\n",
       "      <td>1.0</td>\n",
       "      <td>0.480613</td>\n",
       "      <td>-0.313136</td>\n",
       "      <td>-0.030263</td>\n",
       "      <td>-0.200118</td>\n",
       "    </tr>\n",
       "    <tr>\n",
       "      <th>1</th>\n",
       "      <td>1.0</td>\n",
       "      <td>0.0</td>\n",
       "      <td>1.0</td>\n",
       "      <td>1.0</td>\n",
       "      <td>0.854423</td>\n",
       "      <td>-0.706857</td>\n",
       "      <td>-0.683668</td>\n",
       "      <td>-0.200118</td>\n",
       "    </tr>\n",
       "    <tr>\n",
       "      <th>2</th>\n",
       "      <td>0.0</td>\n",
       "      <td>1.0</td>\n",
       "      <td>0.0</td>\n",
       "      <td>1.0</td>\n",
       "      <td>0.480613</td>\n",
       "      <td>0.620168</td>\n",
       "      <td>0.762113</td>\n",
       "      <td>-0.200118</td>\n",
       "    </tr>\n",
       "    <tr>\n",
       "      <th>3</th>\n",
       "      <td>0.0</td>\n",
       "      <td>1.0</td>\n",
       "      <td>0.0</td>\n",
       "      <td>1.0</td>\n",
       "      <td>-0.640817</td>\n",
       "      <td>0.159548</td>\n",
       "      <td>0.835256</td>\n",
       "      <td>-0.200118</td>\n",
       "    </tr>\n",
       "    <tr>\n",
       "      <th>4</th>\n",
       "      <td>0.0</td>\n",
       "      <td>1.0</td>\n",
       "      <td>0.0</td>\n",
       "      <td>1.0</td>\n",
       "      <td>0.480613</td>\n",
       "      <td>0.564236</td>\n",
       "      <td>0.568920</td>\n",
       "      <td>-0.200118</td>\n",
       "    </tr>\n",
       "  </tbody>\n",
       "</table>\n",
       "</div>"
      ],
      "text/plain": [
       "     0    1    2    3         4         5         6         7\n",
       "0  0.0  0.0  0.0  1.0  0.480613 -0.313136 -0.030263 -0.200118\n",
       "1  1.0  0.0  1.0  1.0  0.854423 -0.706857 -0.683668 -0.200118\n",
       "2  0.0  1.0  0.0  1.0  0.480613  0.620168  0.762113 -0.200118\n",
       "3  0.0  1.0  0.0  1.0 -0.640817  0.159548  0.835256 -0.200118\n",
       "4  0.0  1.0  0.0  1.0  0.480613  0.564236  0.568920 -0.200118"
      ]
     },
     "execution_count": 119,
     "metadata": {},
     "output_type": "execute_result"
    }
   ],
   "source": [
    "pd.DataFrame(X_test).head()"
   ]
  },
  {
   "cell_type": "code",
   "execution_count": 120,
   "id": "9dd3823e-2d08-4d03-9990-7be9a0ed3c0d",
   "metadata": {},
   "outputs": [
    {
     "data": {
      "text/plain": [
       "(231, 8)"
      ]
     },
     "execution_count": 120,
     "metadata": {},
     "output_type": "execute_result"
    }
   ],
   "source": [
    "X_train.shape"
   ]
  },
  {
   "cell_type": "code",
   "execution_count": 121,
   "id": "db8146b6-a7da-4250-87ec-137eba18ba89",
   "metadata": {},
   "outputs": [
    {
     "data": {
      "text/plain": [
       "(70, 8)"
      ]
     },
     "execution_count": 121,
     "metadata": {},
     "output_type": "execute_result"
    }
   ],
   "source": [
    "X_test.shape"
   ]
  },
  {
   "cell_type": "markdown",
   "id": "80d55f35-8f3f-4e56-a5cb-e13d6b8ad10b",
   "metadata": {},
   "source": [
    "## Model Training and Model Selection"
   ]
  },
  {
   "cell_type": "code",
   "execution_count": 122,
   "id": "8340f50c-8775-46f5-8b94-51a4b6c0e915",
   "metadata": {},
   "outputs": [],
   "source": [
    "# import Adaboost Regressor\n",
    "from sklearn.ensemble import AdaBoostRegressor\n",
    "from sklearn.ensemble import GradientBoostingRegressor\n",
    "from xgboost import XGBRegressor\n",
    "from sklearn.metrics import r2_score, mean_absolute_error, mean_squared_error, root_mean_squared_error"
   ]
  },
  {
   "cell_type": "code",
   "execution_count": 123,
   "id": "74a35446-6393-4163-98e0-9f037bdbf245",
   "metadata": {},
   "outputs": [],
   "source": [
    "# function to evaluate model\n",
    "def evaluate_model(true, predicted):\n",
    "    mae = mean_absolute_error(true, predicted)\n",
    "    mse = mean_squared_error(true, predicted)\n",
    "    r2 = r2_score(true, predicted)\n",
    "    rmse = root_mean_squared_error(true, predicted)\n",
    "    return mae, mse, rmse, r2"
   ]
  },
  {
   "cell_type": "code",
   "execution_count": 124,
   "id": "69ae430d-5d09-4821-94a5-3d3545a28963",
   "metadata": {},
   "outputs": [],
   "source": [
    "## Beginning with model training\n",
    "models = {\n",
    "    \"Adaboost Regressor\": AdaBoostRegressor(),\n",
    "    \"Gradientboost Regressor\": GradientBoostingRegressor(),\n",
    "    \"XGBoost Regressor\": XGBRegressor()\n",
    "}"
   ]
  },
  {
   "cell_type": "code",
   "execution_count": 125,
   "id": "d2931501-b3cb-4518-841e-abdaa85764cd",
   "metadata": {},
   "outputs": [
    {
     "name": "stdout",
     "output_type": "stream",
     "text": [
      "Model: Adaboost Regressor\n",
      "MAE: 0.8883, MSE: 1.1924, RMSE: 1.0920, R2: 0.9294\n",
      "--------------------------------------------------\n",
      "Model: Gradientboost Regressor\n",
      "MAE: 0.3969, MSE: 0.3942, RMSE: 0.6278, R2: 0.9767\n",
      "--------------------------------------------------\n",
      "Model: XGBoost Regressor\n",
      "MAE: 0.4942, MSE: 0.7108, RMSE: 0.8431, R2: 0.9579\n",
      "--------------------------------------------------\n"
     ]
    }
   ],
   "source": [
    "# Iterate over models, perform predictions and evaluate performance\n",
    "for model_name, model in models.items():\n",
    "    # Train the model\n",
    "    model.fit(X_train, Y_train)\n",
    "    \n",
    "    # Make predictions\n",
    "    Y_pred = model.predict(X_test)\n",
    "    \n",
    "    # Evaluate the model\n",
    "    mae, mse, rmse, r2 = evaluate_model(Y_test, Y_pred)\n",
    "    \n",
    "    # Print the results\n",
    "    print(f\"Model: {model_name}\")\n",
    "    print(f\"MAE: {mae:.4f}, MSE: {mse:.4f}, RMSE: {rmse:.4f}, R2: {r2:.4f}\")\n",
    "    print(\"-\" * 50)"
   ]
  },
  {
   "cell_type": "markdown",
   "id": "6e94f804-822d-4248-86ea-63e519a08b81",
   "metadata": {},
   "source": [
    "## Perform Hyperparamtertuning using RandomizeSearchCV"
   ]
  },
  {
   "cell_type": "code",
   "execution_count": 126,
   "id": "ee9d7419-4c53-4623-836d-9022aa6abc3e",
   "metadata": {},
   "outputs": [],
   "source": [
    "from sklearn.model_selection import RandomizedSearchCV\n",
    "from sklearn.ensemble import GradientBoostingRegressor, AdaBoostRegressor"
   ]
  },
  {
   "cell_type": "code",
   "execution_count": 127,
   "id": "6f38b034-9212-4ad8-a621-9d446b9cb95f",
   "metadata": {},
   "outputs": [],
   "source": [
    "ada_params = {\n",
    "    \"n_estimators\": [50, 100, 150, 200, 250],\n",
    "    \"learning_rate\": [1.0, 1.1, 0.1, 0.5]\n",
    "}\n",
    "\n",
    "grad_params = {\n",
    "    \"learning_rate\": [1.0, 0.1, 0.5, 0.2,.03],\n",
    "    \"n_estimators\": [50,100,150,200,250],\n",
    "    \"min_samples_split\" : [2, 8, 12, 15],\n",
    "    \"max_depth\": [5, 8, 10, 15, None],\n",
    "}\n",
    "\n",
    "xgboost_params = {\n",
    "    \"learning_rate\": [1.0, 0.1, 0.5, 0.2,.03],\n",
    "    \"n_estimators\": [50,100,150,200,250],\n",
    "    \"max_depth\": [5, 8, 10, 15, None],\n",
    "}"
   ]
  },
  {
   "cell_type": "code",
   "execution_count": 128,
   "id": "f7d6082f-4655-439a-b5bd-91fc54439372",
   "metadata": {},
   "outputs": [],
   "source": [
    "random_cv_models = [\n",
    "    (\"AdaBoostRegressor\", AdaBoostRegressor(), ada_params),\n",
    "    (\"GradientboostRegressor\", GradientBoostingRegressor(), grad_params),\n",
    "    # (\"XGBoostRegressor\", XGBRegressor(), xgboost_params)\n",
    "]"
   ]
  },
  {
   "cell_type": "code",
   "execution_count": 129,
   "id": "7f37a54a-c961-42c7-ab6f-a115e70e8ed0",
   "metadata": {},
   "outputs": [
    {
     "name": "stdout",
     "output_type": "stream",
     "text": [
      "Fitting 3 folds for each of 20 candidates, totalling 60 fits\n",
      "Fitting 3 folds for each of 100 candidates, totalling 300 fits\n",
      "----------Best Params for AdaBoostRegressor--------------\n",
      "{'n_estimators': 100, 'learning_rate': 0.5}\n",
      "----------Best Params for GradientboostRegressor--------------\n",
      "{'n_estimators': 250, 'min_samples_split': 12, 'max_depth': 15, 'learning_rate': 0.03}\n"
     ]
    }
   ],
   "source": [
    "model_param = {}\n",
    "\n",
    "for name, model, params in random_cv_models:\n",
    "    random = RandomizedSearchCV(estimator=model, param_distributions=params, n_iter=100, cv=3, verbose=2, n_jobs=-1)\n",
    "    random.fit(X_train, Y_train)\n",
    "    model_param[name] = random.best_params_\n",
    "\n",
    "for model_name in model_param:\n",
    "    print(f\"----------Best Params for {model_name}--------------\")\n",
    "    print(model_param[model_name])\n"
   ]
  },
  {
   "cell_type": "markdown",
   "id": "379530b9-7973-424e-9e69-c295d62fd018",
   "metadata": {},
   "source": [
    "### Now again train this model using Adaboost Classifier and check the score"
   ]
  },
  {
   "cell_type": "code",
   "execution_count": 130,
   "id": "8f6fb3bd-c0db-4a22-91b5-1685e22c4cf2",
   "metadata": {},
   "outputs": [],
   "source": [
    "models = [\n",
    "    (\"AdaBoostRegressor\", AdaBoostRegressor(n_estimators=150, learning_rate=1.1)),\n",
    "    (\"GradientboostRegressor\", GradientBoostingRegressor(n_estimators=150, min_samples_split=8, max_depth=15, learning_rate=0.5))\n",
    "]"
   ]
  },
  {
   "cell_type": "code",
   "execution_count": 131,
   "id": "9a0ca6eb-9f30-4895-ad06-580b07d71e58",
   "metadata": {},
   "outputs": [
    {
     "name": "stdout",
     "output_type": "stream",
     "text": [
      "Model: AdaBoostRegressor\n",
      "MAE: 0.9802, MSE: 1.3926, RMSE: 1.1801, R2: 0.9176\n",
      "--------------------------------------------------\n",
      "Model: GradientboostRegressor\n",
      "MAE: 0.5017, MSE: 0.7131, RMSE: 0.8444, R2: 0.9578\n",
      "--------------------------------------------------\n"
     ]
    }
   ],
   "source": [
    "# Iterate over models, perform predictions and evaluate performance\n",
    "for model_name, model in models:\n",
    "    # Train the model\n",
    "    model.fit(X_train, Y_train)\n",
    "    \n",
    "    # Make predictions\n",
    "    Y_pred = model.predict(X_test)\n",
    "    \n",
    "    # Evaluate the model\n",
    "    mae, mse, rmse, r2 = evaluate_model(Y_test, Y_pred)\n",
    "    \n",
    "    # Print the results\n",
    "    print(f\"Model: {model_name}\")\n",
    "    print(f\"MAE: {mae:.4f}, MSE: {mse:.4f}, RMSE: {rmse:.4f}, R2: {r2:.4f}\")\n",
    "    print(\"-\" * 50)"
   ]
  },
  {
   "cell_type": "code",
   "execution_count": null,
   "id": "fe9e7e57-c2e5-4351-81f0-fb044d590c52",
   "metadata": {},
   "outputs": [],
   "source": []
  },
  {
   "cell_type": "code",
   "execution_count": null,
   "id": "3cf5e233-3bc2-4543-aca9-f4f7c512d60a",
   "metadata": {},
   "outputs": [],
   "source": []
  },
  {
   "cell_type": "code",
   "execution_count": null,
   "id": "cdbe62d6-df9f-4d0d-ac73-6fe98c49c02e",
   "metadata": {},
   "outputs": [],
   "source": []
  },
  {
   "cell_type": "code",
   "execution_count": null,
   "id": "49247f9d-287c-49ec-8c0c-3f256e60bea3",
   "metadata": {},
   "outputs": [],
   "source": []
  },
  {
   "cell_type": "code",
   "execution_count": null,
   "id": "7c88660f-ae7d-4869-a424-184034d22879",
   "metadata": {},
   "outputs": [],
   "source": []
  },
  {
   "cell_type": "code",
   "execution_count": null,
   "id": "5d4477b5-47d4-46c2-aac5-064101920700",
   "metadata": {},
   "outputs": [],
   "source": []
  },
  {
   "cell_type": "code",
   "execution_count": null,
   "id": "26ada90d-32ee-4561-8890-2408156d5bfd",
   "metadata": {},
   "outputs": [],
   "source": []
  },
  {
   "cell_type": "code",
   "execution_count": null,
   "id": "e23d1d6b-e40b-40ea-ab3b-024b94b1eaba",
   "metadata": {},
   "outputs": [],
   "source": []
  },
  {
   "cell_type": "code",
   "execution_count": null,
   "id": "60e132c0-612c-4226-9962-758e415ced1e",
   "metadata": {},
   "outputs": [],
   "source": []
  }
 ],
 "metadata": {
  "kernelspec": {
   "display_name": "Python 3 (ipykernel)",
   "language": "python",
   "name": "python3"
  },
  "language_info": {
   "codemirror_mode": {
    "name": "ipython",
    "version": 3
   },
   "file_extension": ".py",
   "mimetype": "text/x-python",
   "name": "python",
   "nbconvert_exporter": "python",
   "pygments_lexer": "ipython3",
   "version": "3.13.1"
  }
 },
 "nbformat": 4,
 "nbformat_minor": 5
}
