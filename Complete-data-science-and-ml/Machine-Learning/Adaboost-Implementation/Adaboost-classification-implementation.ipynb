{
 "cells": [
  {
   "cell_type": "markdown",
   "id": "8b498fd5-2ad7-4450-af7f-e7154d095732",
   "metadata": {},
   "source": [
    "# Adaboost Classification Implementation"
   ]
  },
  {
   "cell_type": "markdown",
   "id": "7df485d3-d043-4dd6-b812-989df07e07de",
   "metadata": {},
   "source": [
    "\"Travel.Com\" company wants to enable and establish a viable business model to expand the customer base. One of the ways to expand the customer base is to introduce a new offering of packages. Currently, there are 5 types of packages the company is offering - Basic, Standard, Deluxe, Super Deluxe, King. Looking at the data of the last year, we observed that 18% of the customers purchased the packages. However, the marketing cost was quite high because customers were contacted at random without looking at the available information. The company is now planning to launch a new product i.e. Wellness Tourism Package. Wellness Tourism is defined as Travel that allows the traveler to maintain, enhance or kick-start a healthy lifestyle, and support or increase one's sense of well-being.However, this time company wants to harness the available data of existing and potential customers to make the marketing expenditure more efficient.\n",
    "\n",
    "We need to analyze the customers' data and information to provide recommendations to the Policy Maker and Marketing Team and also build a model to predict the potential customer who is going to purchase the newly introduced travel package."
   ]
  },
  {
   "cell_type": "code",
   "execution_count": 1,
   "id": "bff91c88-d89b-46fc-90f5-e2842a66f7d3",
   "metadata": {},
   "outputs": [],
   "source": [
    "import pandas as pd\n",
    "import numpy as np\n",
    "import matplotlib.pyplot as plt\n",
    "import seaborn as sns\n",
    "import warnings\n",
    "warnings.filterwarnings(\"ignore\")"
   ]
  },
  {
   "cell_type": "code",
   "execution_count": 2,
   "id": "6463e4d2-3a09-4cec-9021-99ce99f10188",
   "metadata": {},
   "outputs": [
    {
     "data": {
      "text/html": [
       "<div>\n",
       "<style scoped>\n",
       "    .dataframe tbody tr th:only-of-type {\n",
       "        vertical-align: middle;\n",
       "    }\n",
       "\n",
       "    .dataframe tbody tr th {\n",
       "        vertical-align: top;\n",
       "    }\n",
       "\n",
       "    .dataframe thead th {\n",
       "        text-align: right;\n",
       "    }\n",
       "</style>\n",
       "<table border=\"1\" class=\"dataframe\">\n",
       "  <thead>\n",
       "    <tr style=\"text-align: right;\">\n",
       "      <th></th>\n",
       "      <th>CustomerID</th>\n",
       "      <th>ProdTaken</th>\n",
       "      <th>Age</th>\n",
       "      <th>TypeofContact</th>\n",
       "      <th>CityTier</th>\n",
       "      <th>DurationOfPitch</th>\n",
       "      <th>Occupation</th>\n",
       "      <th>Gender</th>\n",
       "      <th>NumberOfPersonVisiting</th>\n",
       "      <th>NumberOfFollowups</th>\n",
       "      <th>ProductPitched</th>\n",
       "      <th>PreferredPropertyStar</th>\n",
       "      <th>MaritalStatus</th>\n",
       "      <th>NumberOfTrips</th>\n",
       "      <th>Passport</th>\n",
       "      <th>PitchSatisfactionScore</th>\n",
       "      <th>OwnCar</th>\n",
       "      <th>NumberOfChildrenVisiting</th>\n",
       "      <th>Designation</th>\n",
       "      <th>MonthlyIncome</th>\n",
       "    </tr>\n",
       "  </thead>\n",
       "  <tbody>\n",
       "    <tr>\n",
       "      <th>0</th>\n",
       "      <td>200000</td>\n",
       "      <td>1</td>\n",
       "      <td>41.0</td>\n",
       "      <td>Self Enquiry</td>\n",
       "      <td>3</td>\n",
       "      <td>6.0</td>\n",
       "      <td>Salaried</td>\n",
       "      <td>Female</td>\n",
       "      <td>3</td>\n",
       "      <td>3.0</td>\n",
       "      <td>Deluxe</td>\n",
       "      <td>3.0</td>\n",
       "      <td>Single</td>\n",
       "      <td>1.0</td>\n",
       "      <td>1</td>\n",
       "      <td>2</td>\n",
       "      <td>1</td>\n",
       "      <td>0.0</td>\n",
       "      <td>Manager</td>\n",
       "      <td>20993.0</td>\n",
       "    </tr>\n",
       "    <tr>\n",
       "      <th>1</th>\n",
       "      <td>200001</td>\n",
       "      <td>0</td>\n",
       "      <td>49.0</td>\n",
       "      <td>Company Invited</td>\n",
       "      <td>1</td>\n",
       "      <td>14.0</td>\n",
       "      <td>Salaried</td>\n",
       "      <td>Male</td>\n",
       "      <td>3</td>\n",
       "      <td>4.0</td>\n",
       "      <td>Deluxe</td>\n",
       "      <td>4.0</td>\n",
       "      <td>Divorced</td>\n",
       "      <td>2.0</td>\n",
       "      <td>0</td>\n",
       "      <td>3</td>\n",
       "      <td>1</td>\n",
       "      <td>2.0</td>\n",
       "      <td>Manager</td>\n",
       "      <td>20130.0</td>\n",
       "    </tr>\n",
       "    <tr>\n",
       "      <th>2</th>\n",
       "      <td>200002</td>\n",
       "      <td>1</td>\n",
       "      <td>37.0</td>\n",
       "      <td>Self Enquiry</td>\n",
       "      <td>1</td>\n",
       "      <td>8.0</td>\n",
       "      <td>Free Lancer</td>\n",
       "      <td>Male</td>\n",
       "      <td>3</td>\n",
       "      <td>4.0</td>\n",
       "      <td>Basic</td>\n",
       "      <td>3.0</td>\n",
       "      <td>Single</td>\n",
       "      <td>7.0</td>\n",
       "      <td>1</td>\n",
       "      <td>3</td>\n",
       "      <td>0</td>\n",
       "      <td>0.0</td>\n",
       "      <td>Executive</td>\n",
       "      <td>17090.0</td>\n",
       "    </tr>\n",
       "    <tr>\n",
       "      <th>3</th>\n",
       "      <td>200003</td>\n",
       "      <td>0</td>\n",
       "      <td>33.0</td>\n",
       "      <td>Company Invited</td>\n",
       "      <td>1</td>\n",
       "      <td>9.0</td>\n",
       "      <td>Salaried</td>\n",
       "      <td>Female</td>\n",
       "      <td>2</td>\n",
       "      <td>3.0</td>\n",
       "      <td>Basic</td>\n",
       "      <td>3.0</td>\n",
       "      <td>Divorced</td>\n",
       "      <td>2.0</td>\n",
       "      <td>1</td>\n",
       "      <td>5</td>\n",
       "      <td>1</td>\n",
       "      <td>1.0</td>\n",
       "      <td>Executive</td>\n",
       "      <td>17909.0</td>\n",
       "    </tr>\n",
       "    <tr>\n",
       "      <th>4</th>\n",
       "      <td>200004</td>\n",
       "      <td>0</td>\n",
       "      <td>NaN</td>\n",
       "      <td>Self Enquiry</td>\n",
       "      <td>1</td>\n",
       "      <td>8.0</td>\n",
       "      <td>Small Business</td>\n",
       "      <td>Male</td>\n",
       "      <td>2</td>\n",
       "      <td>3.0</td>\n",
       "      <td>Basic</td>\n",
       "      <td>4.0</td>\n",
       "      <td>Divorced</td>\n",
       "      <td>1.0</td>\n",
       "      <td>0</td>\n",
       "      <td>5</td>\n",
       "      <td>1</td>\n",
       "      <td>0.0</td>\n",
       "      <td>Executive</td>\n",
       "      <td>18468.0</td>\n",
       "    </tr>\n",
       "  </tbody>\n",
       "</table>\n",
       "</div>"
      ],
      "text/plain": [
       "   CustomerID  ProdTaken   Age    TypeofContact  CityTier  DurationOfPitch  \\\n",
       "0      200000          1  41.0     Self Enquiry         3              6.0   \n",
       "1      200001          0  49.0  Company Invited         1             14.0   \n",
       "2      200002          1  37.0     Self Enquiry         1              8.0   \n",
       "3      200003          0  33.0  Company Invited         1              9.0   \n",
       "4      200004          0   NaN     Self Enquiry         1              8.0   \n",
       "\n",
       "       Occupation  Gender  NumberOfPersonVisiting  NumberOfFollowups  \\\n",
       "0        Salaried  Female                       3                3.0   \n",
       "1        Salaried    Male                       3                4.0   \n",
       "2     Free Lancer    Male                       3                4.0   \n",
       "3        Salaried  Female                       2                3.0   \n",
       "4  Small Business    Male                       2                3.0   \n",
       "\n",
       "  ProductPitched  PreferredPropertyStar MaritalStatus  NumberOfTrips  \\\n",
       "0         Deluxe                    3.0        Single            1.0   \n",
       "1         Deluxe                    4.0      Divorced            2.0   \n",
       "2          Basic                    3.0        Single            7.0   \n",
       "3          Basic                    3.0      Divorced            2.0   \n",
       "4          Basic                    4.0      Divorced            1.0   \n",
       "\n",
       "   Passport  PitchSatisfactionScore  OwnCar  NumberOfChildrenVisiting  \\\n",
       "0         1                       2       1                       0.0   \n",
       "1         0                       3       1                       2.0   \n",
       "2         1                       3       0                       0.0   \n",
       "3         1                       5       1                       1.0   \n",
       "4         0                       5       1                       0.0   \n",
       "\n",
       "  Designation  MonthlyIncome  \n",
       "0     Manager        20993.0  \n",
       "1     Manager        20130.0  \n",
       "2   Executive        17090.0  \n",
       "3   Executive        17909.0  \n",
       "4   Executive        18468.0  "
      ]
     },
     "execution_count": 2,
     "metadata": {},
     "output_type": "execute_result"
    }
   ],
   "source": [
    "df_main = pd.read_csv(\"Travel.csv\")\n",
    "df = df_main\n",
    "df.head()"
   ]
  },
  {
   "cell_type": "markdown",
   "id": "f2f89aff-b8fc-42e4-b932-d13f768335d0",
   "metadata": {},
   "source": [
    "## Data Cleaning\n",
    "1. Handling Missing Values\n",
    "2. Handling Duplicates\n",
    "3. Check Data Type\n",
    "4. Understand the dataset"
   ]
  },
  {
   "cell_type": "code",
   "execution_count": 3,
   "id": "e0e4c326-22b0-42df-a547-a7c6692ec9eb",
   "metadata": {},
   "outputs": [
    {
     "data": {
      "text/plain": [
       "(4888, 20)"
      ]
     },
     "execution_count": 3,
     "metadata": {},
     "output_type": "execute_result"
    }
   ],
   "source": [
    "df.shape"
   ]
  },
  {
   "cell_type": "code",
   "execution_count": 4,
   "id": "e7d0ef3f-21fd-4277-bfb7-d3047d978b4d",
   "metadata": {},
   "outputs": [
    {
     "data": {
      "text/plain": [
       "CustomerID                    0\n",
       "ProdTaken                     0\n",
       "Age                         226\n",
       "TypeofContact                25\n",
       "CityTier                      0\n",
       "DurationOfPitch             251\n",
       "Occupation                    0\n",
       "Gender                        0\n",
       "NumberOfPersonVisiting        0\n",
       "NumberOfFollowups            45\n",
       "ProductPitched                0\n",
       "PreferredPropertyStar        26\n",
       "MaritalStatus                 0\n",
       "NumberOfTrips               140\n",
       "Passport                      0\n",
       "PitchSatisfactionScore        0\n",
       "OwnCar                        0\n",
       "NumberOfChildrenVisiting     66\n",
       "Designation                   0\n",
       "MonthlyIncome               233\n",
       "dtype: int64"
      ]
     },
     "execution_count": 4,
     "metadata": {},
     "output_type": "execute_result"
    }
   ],
   "source": [
    "df.isnull().sum()"
   ]
  },
  {
   "cell_type": "code",
   "execution_count": 5,
   "id": "56cec7a1-133c-42bc-bf07-e2da57d213bd",
   "metadata": {},
   "outputs": [
    {
     "data": {
      "text/plain": [
       "(4888, 20)"
      ]
     },
     "execution_count": 5,
     "metadata": {},
     "output_type": "execute_result"
    }
   ],
   "source": [
    "# Drop duplicates\n",
    "df.drop_duplicates(subset='CustomerID', inplace=True)\n",
    "df.shape"
   ]
  },
  {
   "cell_type": "code",
   "execution_count": 6,
   "id": "380b9cc1-e6c6-4646-8ee2-3b4ea7f83018",
   "metadata": {},
   "outputs": [
    {
     "data": {
      "text/plain": [
       "Index(['CustomerID', 'ProdTaken', 'Age', 'TypeofContact', 'CityTier',\n",
       "       'DurationOfPitch', 'Occupation', 'Gender', 'NumberOfPersonVisiting',\n",
       "       'NumberOfFollowups', 'ProductPitched', 'PreferredPropertyStar',\n",
       "       'MaritalStatus', 'NumberOfTrips', 'Passport', 'PitchSatisfactionScore',\n",
       "       'OwnCar', 'NumberOfChildrenVisiting', 'Designation', 'MonthlyIncome'],\n",
       "      dtype='object')"
      ]
     },
     "execution_count": 6,
     "metadata": {},
     "output_type": "execute_result"
    }
   ],
   "source": [
    "df.columns"
   ]
  },
  {
   "cell_type": "markdown",
   "id": "9792a48c-25fb-40dd-8e32-8fb138afc0dd",
   "metadata": {},
   "source": [
    "### Check all the Categories for missing or incorrect values"
   ]
  },
  {
   "cell_type": "code",
   "execution_count": 7,
   "id": "c6c67139-0252-4ed0-bb52-7cf7b87d7f58",
   "metadata": {},
   "outputs": [
    {
     "data": {
      "text/plain": [
       "array(['Self Enquiry', 'Company Invited', nan], dtype=object)"
      ]
     },
     "execution_count": 7,
     "metadata": {},
     "output_type": "execute_result"
    }
   ],
   "source": [
    "df['TypeofContact'].unique()\n",
    "# need to clean this"
   ]
  },
  {
   "cell_type": "code",
   "execution_count": 8,
   "id": "bc1346c3-db77-441e-9c29-60ef444652cd",
   "metadata": {},
   "outputs": [
    {
     "data": {
      "text/plain": [
       "TypeofContact\n",
       "Self Enquiry       3444\n",
       "Company Invited    1419\n",
       "Name: count, dtype: int64"
      ]
     },
     "execution_count": 8,
     "metadata": {},
     "output_type": "execute_result"
    }
   ],
   "source": [
    "df['TypeofContact'].value_counts()"
   ]
  },
  {
   "cell_type": "code",
   "execution_count": 9,
   "id": "1e0a5c83-8bb9-4222-8933-59f857acd122",
   "metadata": {},
   "outputs": [
    {
     "data": {
      "text/plain": [
       "array(['Salaried', 'Free Lancer', 'Small Business', 'Large Business'],\n",
       "      dtype=object)"
      ]
     },
     "execution_count": 9,
     "metadata": {},
     "output_type": "execute_result"
    }
   ],
   "source": [
    "df['Occupation'].unique()"
   ]
  },
  {
   "cell_type": "code",
   "execution_count": 10,
   "id": "e0b871fc-fcd4-462f-8696-bf298125e7d1",
   "metadata": {},
   "outputs": [
    {
     "data": {
      "text/plain": [
       "array(['Female', 'Male', 'Fe Male'], dtype=object)"
      ]
     },
     "execution_count": 10,
     "metadata": {},
     "output_type": "execute_result"
    }
   ],
   "source": [
    "df['Gender'].unique()\n",
    "# need to impute this"
   ]
  },
  {
   "cell_type": "code",
   "execution_count": 11,
   "id": "d65da4ed-3ce6-424a-9378-b33b5f34d6a9",
   "metadata": {},
   "outputs": [
    {
     "data": {
      "text/plain": [
       "array(['Deluxe', 'Basic', 'Standard', 'Super Deluxe', 'King'],\n",
       "      dtype=object)"
      ]
     },
     "execution_count": 11,
     "metadata": {},
     "output_type": "execute_result"
    }
   ],
   "source": [
    "df['ProductPitched'].unique()"
   ]
  },
  {
   "cell_type": "code",
   "execution_count": 12,
   "id": "76259d4f-99c3-4bb6-b570-2003286f65ec",
   "metadata": {},
   "outputs": [
    {
     "data": {
      "text/plain": [
       "array(['Single', 'Divorced', 'Married', 'Unmarried'], dtype=object)"
      ]
     },
     "execution_count": 12,
     "metadata": {},
     "output_type": "execute_result"
    }
   ],
   "source": [
    "df['MaritalStatus'].unique()\n",
    "# we can replace single with unmarried"
   ]
  },
  {
   "cell_type": "code",
   "execution_count": 13,
   "id": "df7daa2c-9394-40c2-820b-871c17f3ee7d",
   "metadata": {},
   "outputs": [
    {
     "data": {
      "text/plain": [
       "array(['Manager', 'Executive', 'Senior Manager', 'AVP', 'VP'],\n",
       "      dtype=object)"
      ]
     },
     "execution_count": 13,
     "metadata": {},
     "output_type": "execute_result"
    }
   ],
   "source": [
    "df['Designation'].unique()"
   ]
  },
  {
   "cell_type": "code",
   "execution_count": 14,
   "id": "792130fb-916a-4d77-b557-c5f85e14f34a",
   "metadata": {},
   "outputs": [
    {
     "data": {
      "text/plain": [
       "array(['Female', 'Male'], dtype=object)"
      ]
     },
     "execution_count": 14,
     "metadata": {},
     "output_type": "execute_result"
    }
   ],
   "source": [
    "df['Gender'] = df['Gender'].replace(\"Fe Male\", \"Female\")\n",
    "df['Gender'].unique()"
   ]
  },
  {
   "cell_type": "code",
   "execution_count": 15,
   "id": "eceab430-1344-42d5-ae64-01346816394c",
   "metadata": {},
   "outputs": [
    {
     "data": {
      "text/plain": [
       "array(['Unmarried', 'Divorced', 'Married'], dtype=object)"
      ]
     },
     "execution_count": 15,
     "metadata": {},
     "output_type": "execute_result"
    }
   ],
   "source": [
    "df['MaritalStatus'] = df['MaritalStatus'].replace(\"Single\", \"Unmarried\")\n",
    "df['MaritalStatus'].unique()"
   ]
  },
  {
   "cell_type": "code",
   "execution_count": 16,
   "id": "c3908e82-3354-46af-81df-2dbb4fd3844d",
   "metadata": {},
   "outputs": [
    {
     "data": {
      "text/html": [
       "<div>\n",
       "<style scoped>\n",
       "    .dataframe tbody tr th:only-of-type {\n",
       "        vertical-align: middle;\n",
       "    }\n",
       "\n",
       "    .dataframe tbody tr th {\n",
       "        vertical-align: top;\n",
       "    }\n",
       "\n",
       "    .dataframe thead th {\n",
       "        text-align: right;\n",
       "    }\n",
       "</style>\n",
       "<table border=\"1\" class=\"dataframe\">\n",
       "  <thead>\n",
       "    <tr style=\"text-align: right;\">\n",
       "      <th></th>\n",
       "      <th>Age</th>\n",
       "      <th>DurationOfPitch</th>\n",
       "      <th>NumberOfFollowups</th>\n",
       "      <th>PreferredPropertyStar</th>\n",
       "      <th>NumberOfTrips</th>\n",
       "      <th>NumberOfChildrenVisiting</th>\n",
       "      <th>MonthlyIncome</th>\n",
       "    </tr>\n",
       "  </thead>\n",
       "  <tbody>\n",
       "    <tr>\n",
       "      <th>count</th>\n",
       "      <td>4662.000000</td>\n",
       "      <td>4637.000000</td>\n",
       "      <td>4843.000000</td>\n",
       "      <td>4862.000000</td>\n",
       "      <td>4748.000000</td>\n",
       "      <td>4822.000000</td>\n",
       "      <td>4655.000000</td>\n",
       "    </tr>\n",
       "    <tr>\n",
       "      <th>mean</th>\n",
       "      <td>37.622265</td>\n",
       "      <td>15.490835</td>\n",
       "      <td>3.708445</td>\n",
       "      <td>3.581037</td>\n",
       "      <td>3.236521</td>\n",
       "      <td>1.187267</td>\n",
       "      <td>23619.853491</td>\n",
       "    </tr>\n",
       "    <tr>\n",
       "      <th>std</th>\n",
       "      <td>9.316387</td>\n",
       "      <td>8.519643</td>\n",
       "      <td>1.002509</td>\n",
       "      <td>0.798009</td>\n",
       "      <td>1.849019</td>\n",
       "      <td>0.857861</td>\n",
       "      <td>5380.698361</td>\n",
       "    </tr>\n",
       "    <tr>\n",
       "      <th>min</th>\n",
       "      <td>18.000000</td>\n",
       "      <td>5.000000</td>\n",
       "      <td>1.000000</td>\n",
       "      <td>3.000000</td>\n",
       "      <td>1.000000</td>\n",
       "      <td>0.000000</td>\n",
       "      <td>1000.000000</td>\n",
       "    </tr>\n",
       "    <tr>\n",
       "      <th>25%</th>\n",
       "      <td>31.000000</td>\n",
       "      <td>9.000000</td>\n",
       "      <td>3.000000</td>\n",
       "      <td>3.000000</td>\n",
       "      <td>2.000000</td>\n",
       "      <td>1.000000</td>\n",
       "      <td>20346.000000</td>\n",
       "    </tr>\n",
       "    <tr>\n",
       "      <th>50%</th>\n",
       "      <td>36.000000</td>\n",
       "      <td>13.000000</td>\n",
       "      <td>4.000000</td>\n",
       "      <td>3.000000</td>\n",
       "      <td>3.000000</td>\n",
       "      <td>1.000000</td>\n",
       "      <td>22347.000000</td>\n",
       "    </tr>\n",
       "    <tr>\n",
       "      <th>75%</th>\n",
       "      <td>44.000000</td>\n",
       "      <td>20.000000</td>\n",
       "      <td>4.000000</td>\n",
       "      <td>4.000000</td>\n",
       "      <td>4.000000</td>\n",
       "      <td>2.000000</td>\n",
       "      <td>25571.000000</td>\n",
       "    </tr>\n",
       "    <tr>\n",
       "      <th>max</th>\n",
       "      <td>61.000000</td>\n",
       "      <td>127.000000</td>\n",
       "      <td>6.000000</td>\n",
       "      <td>5.000000</td>\n",
       "      <td>22.000000</td>\n",
       "      <td>3.000000</td>\n",
       "      <td>98678.000000</td>\n",
       "    </tr>\n",
       "  </tbody>\n",
       "</table>\n",
       "</div>"
      ],
      "text/plain": [
       "               Age  DurationOfPitch  NumberOfFollowups  PreferredPropertyStar  \\\n",
       "count  4662.000000      4637.000000        4843.000000            4862.000000   \n",
       "mean     37.622265        15.490835           3.708445               3.581037   \n",
       "std       9.316387         8.519643           1.002509               0.798009   \n",
       "min      18.000000         5.000000           1.000000               3.000000   \n",
       "25%      31.000000         9.000000           3.000000               3.000000   \n",
       "50%      36.000000        13.000000           4.000000               3.000000   \n",
       "75%      44.000000        20.000000           4.000000               4.000000   \n",
       "max      61.000000       127.000000           6.000000               5.000000   \n",
       "\n",
       "       NumberOfTrips  NumberOfChildrenVisiting  MonthlyIncome  \n",
       "count    4748.000000               4822.000000    4655.000000  \n",
       "mean        3.236521                  1.187267   23619.853491  \n",
       "std         1.849019                  0.857861    5380.698361  \n",
       "min         1.000000                  0.000000    1000.000000  \n",
       "25%         2.000000                  1.000000   20346.000000  \n",
       "50%         3.000000                  1.000000   22347.000000  \n",
       "75%         4.000000                  2.000000   25571.000000  \n",
       "max        22.000000                  3.000000   98678.000000  "
      ]
     },
     "execution_count": 16,
     "metadata": {},
     "output_type": "execute_result"
    }
   ],
   "source": [
    "## Check missing Values\n",
    "features_with_na = [features for features in df.columns if df[features].isnull().sum() >=1]\n",
    "df[features_with_na].select_dtypes(exclude='object').describe()"
   ]
  },
  {
   "cell_type": "markdown",
   "id": "114dd2e8-eb9e-496e-a0de-2fc7866810ed",
   "metadata": {},
   "source": [
    "#### Above we can interpreate that mean and 50% percentile is not having much of difference for all the features and hence we can use the mean Imputation for all the features with Int or float data type"
   ]
  },
  {
   "cell_type": "markdown",
   "id": "28a04479-73a3-47ff-82a1-febd9adbdc11",
   "metadata": {},
   "source": [
    "## Imputing Null Values"
   ]
  },
  {
   "cell_type": "markdown",
   "id": "15326a33-d6a1-4086-bd3a-b39348b21bfc",
   "metadata": {},
   "source": [
    "1. Impute median value for number columns\n",
    "2. Impute mode for Categorical Columns\n",
    "3. Impute mode for Features with Discrete Values (Ex: NumberOfFollowups, PreferredPropertyStar)"
   ]
  },
  {
   "cell_type": "code",
   "execution_count": 17,
   "id": "03d5fdca-6b4e-4ecf-a0f9-473d2bfa5504",
   "metadata": {},
   "outputs": [
    {
     "data": {
      "text/plain": [
       "CustomerID                  0\n",
       "ProdTaken                   0\n",
       "Age                         0\n",
       "TypeofContact               0\n",
       "CityTier                    0\n",
       "DurationOfPitch             0\n",
       "Occupation                  0\n",
       "Gender                      0\n",
       "NumberOfPersonVisiting      0\n",
       "NumberOfFollowups           0\n",
       "ProductPitched              0\n",
       "PreferredPropertyStar       0\n",
       "MaritalStatus               0\n",
       "NumberOfTrips               0\n",
       "Passport                    0\n",
       "PitchSatisfactionScore      0\n",
       "OwnCar                      0\n",
       "NumberOfChildrenVisiting    0\n",
       "Designation                 0\n",
       "MonthlyIncome               0\n",
       "dtype: int64"
      ]
     },
     "execution_count": 17,
     "metadata": {},
     "output_type": "execute_result"
    }
   ],
   "source": [
    "df['Age'].fillna(df['Age'].median(), inplace=True)\n",
    "\n",
    "df['DurationOfPitch'].fillna(df['DurationOfPitch'].median(), inplace=True)\n",
    "\n",
    "df['NumberOfFollowups'].fillna(df['NumberOfFollowups'].mode()[0], inplace=True)\n",
    "\n",
    "df['PreferredPropertyStar'].fillna(df['PreferredPropertyStar'].mode()[0], inplace=True)\n",
    "\n",
    "df['NumberOfTrips'].fillna(df['NumberOfTrips'].mode()[0], inplace=True)\n",
    "\n",
    "df['NumberOfChildrenVisiting'].fillna(df['NumberOfChildrenVisiting'].mode()[0], inplace=True)\n",
    "\n",
    "df['MonthlyIncome'].fillna(df['MonthlyIncome'].median(), inplace=True)\n",
    "\n",
    "# updating nan for TypeofContact\n",
    "df['TypeofContact'].fillna(df['TypeofContact'].mode()[0], inplace=True)\n",
    "\n",
    "df.isnull().sum()"
   ]
  },
  {
   "cell_type": "markdown",
   "id": "626c83ca-a93a-4c18-95ec-60cab2404d19",
   "metadata": {},
   "source": [
    "## Feature Engineering"
   ]
  },
  {
   "cell_type": "code",
   "execution_count": 18,
   "id": "5a1ce159-1094-45a6-b7d2-bcff453f541f",
   "metadata": {},
   "outputs": [
    {
     "name": "stdout",
     "output_type": "stream",
     "text": [
      "<class 'pandas.core.frame.DataFrame'>\n",
      "RangeIndex: 4888 entries, 0 to 4887\n",
      "Data columns (total 20 columns):\n",
      " #   Column                    Non-Null Count  Dtype  \n",
      "---  ------                    --------------  -----  \n",
      " 0   CustomerID                4888 non-null   int64  \n",
      " 1   ProdTaken                 4888 non-null   int64  \n",
      " 2   Age                       4888 non-null   float64\n",
      " 3   TypeofContact             4888 non-null   object \n",
      " 4   CityTier                  4888 non-null   int64  \n",
      " 5   DurationOfPitch           4888 non-null   float64\n",
      " 6   Occupation                4888 non-null   object \n",
      " 7   Gender                    4888 non-null   object \n",
      " 8   NumberOfPersonVisiting    4888 non-null   int64  \n",
      " 9   NumberOfFollowups         4888 non-null   float64\n",
      " 10  ProductPitched            4888 non-null   object \n",
      " 11  PreferredPropertyStar     4888 non-null   float64\n",
      " 12  MaritalStatus             4888 non-null   object \n",
      " 13  NumberOfTrips             4888 non-null   float64\n",
      " 14  Passport                  4888 non-null   int64  \n",
      " 15  PitchSatisfactionScore    4888 non-null   int64  \n",
      " 16  OwnCar                    4888 non-null   int64  \n",
      " 17  NumberOfChildrenVisiting  4888 non-null   float64\n",
      " 18  Designation               4888 non-null   object \n",
      " 19  MonthlyIncome             4888 non-null   float64\n",
      "dtypes: float64(7), int64(7), object(6)\n",
      "memory usage: 763.9+ KB\n"
     ]
    }
   ],
   "source": [
    "df.info()"
   ]
  },
  {
   "cell_type": "code",
   "execution_count": 19,
   "id": "051627cf-f878-4aa9-8886-584dfdda6881",
   "metadata": {},
   "outputs": [],
   "source": [
    "# dropping customer id\n",
    "df.drop('CustomerID', axis=1, inplace=True)"
   ]
  },
  {
   "cell_type": "markdown",
   "id": "558c4dca-bcc3-42d7-b6ec-a2b5d10816ab",
   "metadata": {},
   "source": [
    "#### Feature Extraction"
   ]
  },
  {
   "cell_type": "code",
   "execution_count": 20,
   "id": "6b1a3dab-dbf5-4ac9-afa0-969966e5c3b9",
   "metadata": {},
   "outputs": [],
   "source": [
    "# create new column for NumberOfPersonVisiting and NumberOfChildrenVisiting as TotalVisiting"
   ]
  },
  {
   "cell_type": "code",
   "execution_count": 21,
   "id": "3a36d2d3-ce7e-45ba-a300-b73a229fcb3d",
   "metadata": {},
   "outputs": [
    {
     "data": {
      "text/html": [
       "<div>\n",
       "<style scoped>\n",
       "    .dataframe tbody tr th:only-of-type {\n",
       "        vertical-align: middle;\n",
       "    }\n",
       "\n",
       "    .dataframe tbody tr th {\n",
       "        vertical-align: top;\n",
       "    }\n",
       "\n",
       "    .dataframe thead th {\n",
       "        text-align: right;\n",
       "    }\n",
       "</style>\n",
       "<table border=\"1\" class=\"dataframe\">\n",
       "  <thead>\n",
       "    <tr style=\"text-align: right;\">\n",
       "      <th></th>\n",
       "      <th>ProdTaken</th>\n",
       "      <th>Age</th>\n",
       "      <th>TypeofContact</th>\n",
       "      <th>CityTier</th>\n",
       "      <th>DurationOfPitch</th>\n",
       "      <th>Occupation</th>\n",
       "      <th>Gender</th>\n",
       "      <th>NumberOfFollowups</th>\n",
       "      <th>ProductPitched</th>\n",
       "      <th>PreferredPropertyStar</th>\n",
       "      <th>MaritalStatus</th>\n",
       "      <th>NumberOfTrips</th>\n",
       "      <th>Passport</th>\n",
       "      <th>PitchSatisfactionScore</th>\n",
       "      <th>OwnCar</th>\n",
       "      <th>Designation</th>\n",
       "      <th>MonthlyIncome</th>\n",
       "      <th>TotalVisitng</th>\n",
       "    </tr>\n",
       "  </thead>\n",
       "  <tbody>\n",
       "    <tr>\n",
       "      <th>0</th>\n",
       "      <td>1</td>\n",
       "      <td>41.0</td>\n",
       "      <td>Self Enquiry</td>\n",
       "      <td>3</td>\n",
       "      <td>6.0</td>\n",
       "      <td>Salaried</td>\n",
       "      <td>Female</td>\n",
       "      <td>3.0</td>\n",
       "      <td>Deluxe</td>\n",
       "      <td>3.0</td>\n",
       "      <td>Unmarried</td>\n",
       "      <td>1.0</td>\n",
       "      <td>1</td>\n",
       "      <td>2</td>\n",
       "      <td>1</td>\n",
       "      <td>Manager</td>\n",
       "      <td>20993.0</td>\n",
       "      <td>3.0</td>\n",
       "    </tr>\n",
       "    <tr>\n",
       "      <th>1</th>\n",
       "      <td>0</td>\n",
       "      <td>49.0</td>\n",
       "      <td>Company Invited</td>\n",
       "      <td>1</td>\n",
       "      <td>14.0</td>\n",
       "      <td>Salaried</td>\n",
       "      <td>Male</td>\n",
       "      <td>4.0</td>\n",
       "      <td>Deluxe</td>\n",
       "      <td>4.0</td>\n",
       "      <td>Divorced</td>\n",
       "      <td>2.0</td>\n",
       "      <td>0</td>\n",
       "      <td>3</td>\n",
       "      <td>1</td>\n",
       "      <td>Manager</td>\n",
       "      <td>20130.0</td>\n",
       "      <td>5.0</td>\n",
       "    </tr>\n",
       "    <tr>\n",
       "      <th>2</th>\n",
       "      <td>1</td>\n",
       "      <td>37.0</td>\n",
       "      <td>Self Enquiry</td>\n",
       "      <td>1</td>\n",
       "      <td>8.0</td>\n",
       "      <td>Free Lancer</td>\n",
       "      <td>Male</td>\n",
       "      <td>4.0</td>\n",
       "      <td>Basic</td>\n",
       "      <td>3.0</td>\n",
       "      <td>Unmarried</td>\n",
       "      <td>7.0</td>\n",
       "      <td>1</td>\n",
       "      <td>3</td>\n",
       "      <td>0</td>\n",
       "      <td>Executive</td>\n",
       "      <td>17090.0</td>\n",
       "      <td>3.0</td>\n",
       "    </tr>\n",
       "    <tr>\n",
       "      <th>3</th>\n",
       "      <td>0</td>\n",
       "      <td>33.0</td>\n",
       "      <td>Company Invited</td>\n",
       "      <td>1</td>\n",
       "      <td>9.0</td>\n",
       "      <td>Salaried</td>\n",
       "      <td>Female</td>\n",
       "      <td>3.0</td>\n",
       "      <td>Basic</td>\n",
       "      <td>3.0</td>\n",
       "      <td>Divorced</td>\n",
       "      <td>2.0</td>\n",
       "      <td>1</td>\n",
       "      <td>5</td>\n",
       "      <td>1</td>\n",
       "      <td>Executive</td>\n",
       "      <td>17909.0</td>\n",
       "      <td>3.0</td>\n",
       "    </tr>\n",
       "    <tr>\n",
       "      <th>4</th>\n",
       "      <td>0</td>\n",
       "      <td>36.0</td>\n",
       "      <td>Self Enquiry</td>\n",
       "      <td>1</td>\n",
       "      <td>8.0</td>\n",
       "      <td>Small Business</td>\n",
       "      <td>Male</td>\n",
       "      <td>3.0</td>\n",
       "      <td>Basic</td>\n",
       "      <td>4.0</td>\n",
       "      <td>Divorced</td>\n",
       "      <td>1.0</td>\n",
       "      <td>0</td>\n",
       "      <td>5</td>\n",
       "      <td>1</td>\n",
       "      <td>Executive</td>\n",
       "      <td>18468.0</td>\n",
       "      <td>2.0</td>\n",
       "    </tr>\n",
       "  </tbody>\n",
       "</table>\n",
       "</div>"
      ],
      "text/plain": [
       "   ProdTaken   Age    TypeofContact  CityTier  DurationOfPitch  \\\n",
       "0          1  41.0     Self Enquiry         3              6.0   \n",
       "1          0  49.0  Company Invited         1             14.0   \n",
       "2          1  37.0     Self Enquiry         1              8.0   \n",
       "3          0  33.0  Company Invited         1              9.0   \n",
       "4          0  36.0     Self Enquiry         1              8.0   \n",
       "\n",
       "       Occupation  Gender  NumberOfFollowups ProductPitched  \\\n",
       "0        Salaried  Female                3.0         Deluxe   \n",
       "1        Salaried    Male                4.0         Deluxe   \n",
       "2     Free Lancer    Male                4.0          Basic   \n",
       "3        Salaried  Female                3.0          Basic   \n",
       "4  Small Business    Male                3.0          Basic   \n",
       "\n",
       "   PreferredPropertyStar MaritalStatus  NumberOfTrips  Passport  \\\n",
       "0                    3.0     Unmarried            1.0         1   \n",
       "1                    4.0      Divorced            2.0         0   \n",
       "2                    3.0     Unmarried            7.0         1   \n",
       "3                    3.0      Divorced            2.0         1   \n",
       "4                    4.0      Divorced            1.0         0   \n",
       "\n",
       "   PitchSatisfactionScore  OwnCar Designation  MonthlyIncome  TotalVisitng  \n",
       "0                       2       1     Manager        20993.0           3.0  \n",
       "1                       3       1     Manager        20130.0           5.0  \n",
       "2                       3       0   Executive        17090.0           3.0  \n",
       "3                       5       1   Executive        17909.0           3.0  \n",
       "4                       5       1   Executive        18468.0           2.0  "
      ]
     },
     "execution_count": 21,
     "metadata": {},
     "output_type": "execute_result"
    }
   ],
   "source": [
    "df['TotalVisitng'] = df['NumberOfPersonVisiting'] + df['NumberOfChildrenVisiting']\n",
    "df.drop(columns=[\"NumberOfPersonVisiting\", \"NumberOfChildrenVisiting\"], inplace=True, axis=1)\n",
    "df.head()"
   ]
  },
  {
   "cell_type": "code",
   "execution_count": 22,
   "id": "e07cd0f4-152e-4c0b-a551-88d466dd140f",
   "metadata": {},
   "outputs": [
    {
     "data": {
      "text/plain": [
       "['ProdTaken',\n",
       " 'Age',\n",
       " 'CityTier',\n",
       " 'DurationOfPitch',\n",
       " 'NumberOfFollowups',\n",
       " 'PreferredPropertyStar',\n",
       " 'NumberOfTrips',\n",
       " 'Passport',\n",
       " 'PitchSatisfactionScore',\n",
       " 'OwnCar',\n",
       " 'MonthlyIncome',\n",
       " 'TotalVisitng']"
      ]
     },
     "execution_count": 22,
     "metadata": {},
     "output_type": "execute_result"
    }
   ],
   "source": [
    "# Get all numeric Feature\n",
    "num_features = [features for features in df.columns if df[features].dtype != 'O']\n",
    "num_features"
   ]
  },
  {
   "cell_type": "code",
   "execution_count": 23,
   "id": "8278ed37-84a6-4ba7-88c1-bc28d62fb9d3",
   "metadata": {},
   "outputs": [
    {
     "data": {
      "text/plain": [
       "['TypeofContact',\n",
       " 'Occupation',\n",
       " 'Gender',\n",
       " 'ProductPitched',\n",
       " 'MaritalStatus',\n",
       " 'Designation']"
      ]
     },
     "execution_count": 23,
     "metadata": {},
     "output_type": "execute_result"
    }
   ],
   "source": [
    "# Categorical Features\n",
    "categ_features = [features for features in df.columns if df[features].dtype == 'O']\n",
    "categ_features"
   ]
  },
  {
   "cell_type": "code",
   "execution_count": 24,
   "id": "864e630d-d388-49b1-9ccd-4052e4b6e88c",
   "metadata": {},
   "outputs": [
    {
     "data": {
      "text/plain": [
       "['ProdTaken',\n",
       " 'CityTier',\n",
       " 'NumberOfFollowups',\n",
       " 'PreferredPropertyStar',\n",
       " 'NumberOfTrips',\n",
       " 'Passport',\n",
       " 'PitchSatisfactionScore',\n",
       " 'OwnCar',\n",
       " 'TotalVisitng']"
      ]
     },
     "execution_count": 24,
     "metadata": {},
     "output_type": "execute_result"
    }
   ],
   "source": [
    "# Get numerical Discrete Features\n",
    "discrete_features = [features for features in num_features if len(df[features].unique()) <=25]\n",
    "discrete_features"
   ]
  },
  {
   "cell_type": "code",
   "execution_count": 25,
   "id": "946e651a-3a05-41db-82f5-9acb4d1d5668",
   "metadata": {},
   "outputs": [
    {
     "data": {
      "text/plain": [
       "['Age', 'DurationOfPitch', 'MonthlyIncome']"
      ]
     },
     "execution_count": 25,
     "metadata": {},
     "output_type": "execute_result"
    }
   ],
   "source": [
    "# Get numerical continuous Features\n",
    "continuous_features = [features for features in num_features if len(df[features].unique()) >25]\n",
    "continuous_features"
   ]
  },
  {
   "cell_type": "markdown",
   "id": "bc1a341a-0771-4d2a-9393-89df3d122df7",
   "metadata": {},
   "source": [
    "## Train Test Split (With Feature Engineering)"
   ]
  },
  {
   "cell_type": "code",
   "execution_count": 26,
   "id": "f86a79b2-9f4c-45d0-b910-29cb2e315a40",
   "metadata": {},
   "outputs": [
    {
     "data": {
      "text/plain": [
       "(4888, 18)"
      ]
     },
     "execution_count": 26,
     "metadata": {},
     "output_type": "execute_result"
    }
   ],
   "source": [
    "df.shape"
   ]
  },
  {
   "cell_type": "code",
   "execution_count": 27,
   "id": "4bafbd1a-2338-4ed5-a54c-678a4d3151a0",
   "metadata": {},
   "outputs": [
    {
     "data": {
      "text/plain": [
       "(4888, 17)"
      ]
     },
     "execution_count": 27,
     "metadata": {},
     "output_type": "execute_result"
    }
   ],
   "source": [
    "#Create dependent and Independent feature\n",
    "X = df.drop('ProdTaken', axis=1)\n",
    "Y = df['ProdTaken']\n",
    "X.shape"
   ]
  },
  {
   "cell_type": "code",
   "execution_count": 28,
   "id": "14c53658-014d-4e0d-be4d-6512576ebea8",
   "metadata": {},
   "outputs": [
    {
     "data": {
      "text/plain": [
       "ProdTaken\n",
       "0    3968\n",
       "1     920\n",
       "Name: count, dtype: int64"
      ]
     },
     "execution_count": 28,
     "metadata": {},
     "output_type": "execute_result"
    }
   ],
   "source": [
    "df['ProdTaken'].value_counts()\n",
    "# we can say there is imbalanced datset , but Random forest can work better with the imbalanced datsets."
   ]
  },
  {
   "cell_type": "code",
   "execution_count": 29,
   "id": "4c9cf7d2-d8c7-4b04-bd58-824a7316ffb1",
   "metadata": {},
   "outputs": [
    {
     "data": {
      "text/plain": [
       "ProdTaken\n",
       "0    3968\n",
       "1     920\n",
       "Name: count, dtype: int64"
      ]
     },
     "execution_count": 29,
     "metadata": {},
     "output_type": "execute_result"
    }
   ],
   "source": [
    "Y.value_counts()\n",
    "# we can say there is imbalanced datset , but Random forest can work better with the imbalanced datsets."
   ]
  },
  {
   "cell_type": "code",
   "execution_count": 30,
   "id": "8c816267-481d-4d38-b295-c6f17653c36b",
   "metadata": {},
   "outputs": [
    {
     "name": "stdout",
     "output_type": "stream",
     "text": [
      "X_train shape: (3421, 17)\n",
      "X_test shape: (1467, 17)\n",
      "Columns in X_train: ['Age', 'TypeofContact', 'CityTier', 'DurationOfPitch', 'Occupation', 'Gender', 'NumberOfFollowups', 'ProductPitched', 'PreferredPropertyStar', 'MaritalStatus', 'NumberOfTrips', 'Passport', 'PitchSatisfactionScore', 'OwnCar', 'Designation', 'MonthlyIncome', 'TotalVisitng']\n",
      "Columns in X_test: ['Age', 'TypeofContact', 'CityTier', 'DurationOfPitch', 'Occupation', 'Gender', 'NumberOfFollowups', 'ProductPitched', 'PreferredPropertyStar', 'MaritalStatus', 'NumberOfTrips', 'Passport', 'PitchSatisfactionScore', 'OwnCar', 'Designation', 'MonthlyIncome', 'TotalVisitng']\n"
     ]
    }
   ],
   "source": [
    "from sklearn.model_selection import train_test_split\n",
    "X_train, X_test, Y_train, Y_test = train_test_split(X, Y, test_size=0.30, random_state=42)\n",
    "\n",
    "print(\"X_train shape:\", X_train.shape)\n",
    "print(\"X_test shape:\", X_test.shape)\n",
    "print(\"Columns in X_train:\", list(X_train.columns))\n",
    "print(\"Columns in X_test:\", list(X_test.columns))"
   ]
  },
  {
   "cell_type": "markdown",
   "id": "97209bf0-40b3-4793-82f3-85915743c10c",
   "metadata": {},
   "source": [
    "#### Create Column Transformer - This helps Transform the Features with multiple Econders like OneHotEncoder and StandardScale"
   ]
  },
  {
   "cell_type": "code",
   "execution_count": 31,
   "id": "ba27eff9-2fbe-4b40-8aad-2096a3d432a3",
   "metadata": {},
   "outputs": [
    {
     "name": "stdout",
     "output_type": "stream",
     "text": [
      "Index(['TypeofContact', 'Occupation', 'Gender', 'ProductPitched',\n",
      "       'MaritalStatus', 'Designation'],\n",
      "      dtype='object')\n",
      "Index(['Age', 'CityTier', 'DurationOfPitch', 'NumberOfFollowups',\n",
      "       'PreferredPropertyStar', 'NumberOfTrips', 'Passport',\n",
      "       'PitchSatisfactionScore', 'OwnCar', 'MonthlyIncome', 'TotalVisitng'],\n",
      "      dtype='object')\n"
     ]
    }
   ],
   "source": [
    "# Identify categorical and numerical features\n",
    "categ_features = X.select_dtypes(include=\"object\").columns\n",
    "num_features = X.select_dtypes(exclude=\"object\").columns\n",
    "print(categ_features)\n",
    "print(num_features)"
   ]
  },
  {
   "cell_type": "code",
   "execution_count": 32,
   "id": "0ad01ac2-b090-4440-b82d-6ed32687d77f",
   "metadata": {},
   "outputs": [
    {
     "name": "stdout",
     "output_type": "stream",
     "text": [
      "X_train shape: (3421, 26)\n",
      "X_test shape: (1467, 26)\n"
     ]
    }
   ],
   "source": [
    "from sklearn.preprocessing import OneHotEncoder, StandardScaler\n",
    "from sklearn.compose import ColumnTransformer\n",
    "\n",
    "# Identify categorical and numerical features\n",
    "categ_features = X.select_dtypes(include=\"object\").columns\n",
    "num_features = X.select_dtypes(exclude=\"object\").columns\n",
    "\n",
    "# Define transformers\n",
    "std_transformer = StandardScaler()\n",
    "ohe_transformer = OneHotEncoder(drop='first', sparse_output=False)\n",
    "\n",
    "# Create column transformer\n",
    "preprocessor = ColumnTransformer([\n",
    "    (\"OneHotEncoder\", ohe_transformer, categ_features),\n",
    "    (\"StandardScaler\", std_transformer, num_features)\n",
    "])\n",
    "\n",
    "# Fit on training data and transform both training and testing data\n",
    "X_train = preprocessor.fit_transform(X_train)  # Fit & Transform on Train Data\n",
    "X_test = preprocessor.transform(X_test)        # Only Transform Test Data\n",
    "print(\"X_train shape:\", X_train.shape)\n",
    "print(\"X_test shape:\", X_test.shape)"
   ]
  },
  {
   "cell_type": "code",
   "execution_count": 33,
   "id": "6b303e76-aab0-44aa-831b-7a20e25cc845",
   "metadata": {},
   "outputs": [],
   "source": [
    "## how the data looks like after apllying transformation\n",
    "# pd.DataFrame(X_train).head()"
   ]
  },
  {
   "cell_type": "code",
   "execution_count": 34,
   "id": "8d2328e0-a656-47b7-9da6-25641c9fbcd1",
   "metadata": {},
   "outputs": [
    {
     "data": {
      "text/plain": [
       "(3421, 26)"
      ]
     },
     "execution_count": 34,
     "metadata": {},
     "output_type": "execute_result"
    }
   ],
   "source": [
    "X_train.shape"
   ]
  },
  {
   "cell_type": "code",
   "execution_count": 35,
   "id": "5e1942ef-193a-43b4-9b60-a94118fc0bb5",
   "metadata": {},
   "outputs": [
    {
     "data": {
      "text/plain": [
       "(1467, 26)"
      ]
     },
     "execution_count": 35,
     "metadata": {},
     "output_type": "execute_result"
    }
   ],
   "source": [
    "X_test.shape"
   ]
  },
  {
   "cell_type": "markdown",
   "id": "3da9c525-30b5-4981-a426-ad9bc44a4edc",
   "metadata": {},
   "source": [
    "## Model Training - Adaboost Classifier Training"
   ]
  },
  {
   "cell_type": "code",
   "execution_count": 36,
   "id": "9e1fdc2a-f3e6-47e3-9672-2dc73cf35acd",
   "metadata": {},
   "outputs": [],
   "source": [
    "# Importing Adaboost from ensemble\n",
    "from sklearn.ensemble import AdaBoostClassifier\n",
    "\n",
    "from sklearn.ensemble import RandomForestClassifier\n",
    "from sklearn.linear_model import LogisticRegression\n",
    "from sklearn.tree import DecisionTreeClassifier\n",
    "from sklearn.metrics import accuracy_score, precision_score, recall_score, f1_score, classification_report, confusion_matrix"
   ]
  },
  {
   "cell_type": "code",
   "execution_count": 37,
   "id": "51e70ee1-7fba-4238-9039-d2abfb798955",
   "metadata": {},
   "outputs": [
    {
     "name": "stdout",
     "output_type": "stream",
     "text": [
      "\n",
      "===== Logistic Regression =====\n",
      "Training Scores:\n",
      "  Accuracy: 0.8451\n",
      "  Precision: 0.7101\n",
      "  Recall: 0.3034\n",
      "  F1 Score: 0.4252\n",
      "Test Scores:\n",
      "  Accuracy: 0.8425\n",
      "  Precision: 0.6693\n",
      "  Recall: 0.3102\n",
      "  F1 Score: 0.4239\n",
      "Confusion Matrix:\n",
      "[[1151   42]\n",
      " [ 189   85]]\n",
      "Classification Report:\n",
      "              precision    recall  f1-score   support\n",
      "\n",
      "           0       0.86      0.96      0.91      1193\n",
      "           1       0.67      0.31      0.42       274\n",
      "\n",
      "    accuracy                           0.84      1467\n",
      "   macro avg       0.76      0.64      0.67      1467\n",
      "weighted avg       0.82      0.84      0.82      1467\n",
      "\n",
      "\n",
      "===== Descision Tree =====\n",
      "Training Scores:\n",
      "  Accuracy: 1.0000\n",
      "  Precision: 1.0000\n",
      "  Recall: 1.0000\n",
      "  F1 Score: 1.0000\n",
      "Test Scores:\n",
      "  Accuracy: 0.8964\n",
      "  Precision: 0.7210\n",
      "  Recall: 0.7263\n",
      "  F1 Score: 0.7236\n",
      "Confusion Matrix:\n",
      "[[1116   77]\n",
      " [  75  199]]\n",
      "Classification Report:\n",
      "              precision    recall  f1-score   support\n",
      "\n",
      "           0       0.94      0.94      0.94      1193\n",
      "           1       0.72      0.73      0.72       274\n",
      "\n",
      "    accuracy                           0.90      1467\n",
      "   macro avg       0.83      0.83      0.83      1467\n",
      "weighted avg       0.90      0.90      0.90      1467\n",
      "\n",
      "\n",
      "===== Random Forest =====\n",
      "Training Scores:\n",
      "  Accuracy: 1.0000\n",
      "  Precision: 1.0000\n",
      "  Recall: 1.0000\n",
      "  F1 Score: 1.0000\n",
      "Test Scores:\n",
      "  Accuracy: 0.9230\n",
      "  Precision: 0.9448\n",
      "  Recall: 0.6241\n",
      "  F1 Score: 0.7516\n",
      "Confusion Matrix:\n",
      "[[1183   10]\n",
      " [ 103  171]]\n",
      "Classification Report:\n",
      "              precision    recall  f1-score   support\n",
      "\n",
      "           0       0.92      0.99      0.95      1193\n",
      "           1       0.94      0.62      0.75       274\n",
      "\n",
      "    accuracy                           0.92      1467\n",
      "   macro avg       0.93      0.81      0.85      1467\n",
      "weighted avg       0.92      0.92      0.92      1467\n",
      "\n",
      "\n",
      "===== Adaboost Classifier =====\n",
      "Training Scores:\n",
      "  Accuracy: 0.8433\n",
      "  Precision: 0.7696\n",
      "  Recall: 0.2430\n",
      "  F1 Score: 0.3694\n",
      "Test Scores:\n",
      "  Accuracy: 0.8316\n",
      "  Precision: 0.6484\n",
      "  Recall: 0.2153\n",
      "  F1 Score: 0.3233\n",
      "Confusion Matrix:\n",
      "[[1161   32]\n",
      " [ 215   59]]\n",
      "Classification Report:\n",
      "              precision    recall  f1-score   support\n",
      "\n",
      "           0       0.84      0.97      0.90      1193\n",
      "           1       0.65      0.22      0.32       274\n",
      "\n",
      "    accuracy                           0.83      1467\n",
      "   macro avg       0.75      0.59      0.61      1467\n",
      "weighted avg       0.81      0.83      0.80      1467\n",
      "\n"
     ]
    }
   ],
   "source": [
    "models = {\n",
    "    \"Logistic Regression\": LogisticRegression(),\n",
    "    \"Descision Tree\": DecisionTreeClassifier(),\n",
    "    \"Random Forest\": RandomForestClassifier(),\n",
    "    \"Adaboost Classifier\": AdaBoostClassifier()\n",
    "}\n",
    "for model_name, model in models.items():\n",
    "    print(f\"\\n===== {model_name} =====\")\n",
    "    \n",
    "    # Train model\n",
    "    model.fit(X_train, Y_train)\n",
    "    \n",
    "    # Predictions\n",
    "    Y_train_pred = model.predict(X_train)\n",
    "    Y_test_pred = model.predict(X_test)\n",
    "    \n",
    "    # Training Scores\n",
    "    print(\"Training Scores:\")\n",
    "    print(f\"  Accuracy: {accuracy_score(Y_train, Y_train_pred):.4f}\")\n",
    "    print(f\"  Precision: {precision_score(Y_train, Y_train_pred):.4f}\")\n",
    "    print(f\"  Recall: {recall_score(Y_train, Y_train_pred):.4f}\")\n",
    "    print(f\"  F1 Score: {f1_score(Y_train, Y_train_pred):.4f}\")\n",
    "    \n",
    "    # Test Scores\n",
    "    print(\"Test Scores:\")\n",
    "    print(f\"  Accuracy: {accuracy_score(Y_test, Y_test_pred):.4f}\")\n",
    "    print(f\"  Precision: {precision_score(Y_test, Y_test_pred):.4f}\")\n",
    "    print(f\"  Recall: {recall_score(Y_test, Y_test_pred):.4f}\")\n",
    "    print(f\"  F1 Score: {f1_score(Y_test, Y_test_pred):.4f}\")\n",
    "    \n",
    "    # Confusion Matrix & Classification Report\n",
    "    print(\"Confusion Matrix:\")\n",
    "    print(confusion_matrix(Y_test, Y_test_pred))\n",
    "    print(\"Classification Report:\")\n",
    "    print(classification_report(Y_test, Y_test_pred))"
   ]
  },
  {
   "cell_type": "markdown",
   "id": "c1c263f1-e61d-4bb4-970d-63f53776c321",
   "metadata": {},
   "source": [
    "## Hyperparamter Tuning using RandomizeSearchCv"
   ]
  },
  {
   "cell_type": "code",
   "execution_count": 38,
   "id": "edf91eaf-4e19-4bdb-81c9-507947352397",
   "metadata": {},
   "outputs": [],
   "source": [
    "from sklearn.ensemble import RandomForestClassifier\n",
    "from sklearn.model_selection import RandomizedSearchCV\n",
    "rf_params = {\n",
    "    \"max_depth\":[5,8,15,None,10],\n",
    "    \"max_features\": [5,7, 'auto', 8],\n",
    "    \"min_samples_split\": [2,8,15,20],\n",
    "    \"n_estimators\": [100,200,500,1000]\n",
    "}\n",
    "rf_params\n",
    "\n",
    "AdaBoostClassifier()\n",
    "ada_params = {\n",
    "    \"n_estimators\": [50,100,150,200,250],\n",
    "    \"learning_rate\": [1.0, 1.1, 0.1, 0.5]\n",
    "}"
   ]
  },
  {
   "cell_type": "code",
   "execution_count": 39,
   "id": "e16e74b6-27c1-4e10-9288-67c081db7ec5",
   "metadata": {},
   "outputs": [
    {
     "name": "stdout",
     "output_type": "stream",
     "text": [
      "Fitting 3 folds for each of 100 candidates, totalling 300 fits\n",
      "Fitting 3 folds for each of 20 candidates, totalling 60 fits\n",
      "----------Best Params for RF--------------\n",
      "{'n_estimators': 1000, 'min_samples_split': 2, 'max_features': 8, 'max_depth': None}\n",
      "----------Best Params for AdaBoost--------------\n",
      "{'n_estimators': 150, 'learning_rate': 1.1}\n"
     ]
    }
   ],
   "source": [
    "random_cv_models = [\n",
    "    (\"RF\", RandomForestClassifier(), rf_params),\n",
    "     (\"AdaBoost\", AdaBoostClassifier(), ada_params)\n",
    "    # similarly we can use different models with (name, models, params for models)\n",
    "]\n",
    "model_param = {}\n",
    "\n",
    "for name, model, params in random_cv_models:\n",
    "    random = RandomizedSearchCV(estimator=model, param_distributions=params, n_iter=100, cv=3, verbose=2, n_jobs=-1)\n",
    "    random.fit(X_train, Y_train)\n",
    "    model_param[name] = random.best_params_\n",
    "\n",
    "for model_name in model_param:\n",
    "    print(f\"----------Best Params for {model_name}--------------\")\n",
    "    print(model_param[model_name])"
   ]
  },
  {
   "cell_type": "markdown",
   "id": "67d2ef1d-1828-4f56-a093-f7a3fd078d3f",
   "metadata": {},
   "source": [
    "### Now again train this model using Adaboost Classifier and check the score"
   ]
  },
  {
   "cell_type": "code",
   "execution_count": 40,
   "id": "00d5f0ed-3c97-42a5-a34f-79b6ac69eb42",
   "metadata": {},
   "outputs": [
    {
     "name": "stdout",
     "output_type": "stream",
     "text": [
      "\n",
      "===== AdaBoost =====\n",
      "Training Scores:\n",
      "  Accuracy: 0.8492\n",
      "  Precision: 0.8342\n",
      "  Recall: 0.8492\n",
      "  F1 Score: 0.8268\n",
      "Test Scores:\n",
      "  Accuracy: 0.8344\n",
      "  Precision: 0.8111\n",
      "  Recall: 0.8344\n",
      "  F1 Score: 0.8093\n",
      "Confusion Matrix:\n",
      "[[1144   49]\n",
      " [ 194   80]]\n",
      "Classification Report:\n",
      "              precision    recall  f1-score   support\n",
      "\n",
      "           0       0.86      0.96      0.90      1193\n",
      "           1       0.62      0.29      0.40       274\n",
      "\n",
      "    accuracy                           0.83      1467\n",
      "   macro avg       0.74      0.63      0.65      1467\n",
      "weighted avg       0.81      0.83      0.81      1467\n",
      "\n",
      "\n",
      "===== RandomForrest =====\n",
      "Training Scores:\n",
      "  Accuracy: 1.0000\n",
      "  Precision: 1.0000\n",
      "  Recall: 1.0000\n",
      "  F1 Score: 1.0000\n",
      "Test Scores:\n",
      "  Accuracy: 0.9216\n",
      "  Precision: 0.9229\n",
      "  Recall: 0.9216\n",
      "  F1 Score: 0.9151\n",
      "Confusion Matrix:\n",
      "[[1182   11]\n",
      " [ 104  170]]\n",
      "Classification Report:\n",
      "              precision    recall  f1-score   support\n",
      "\n",
      "           0       0.92      0.99      0.95      1193\n",
      "           1       0.94      0.62      0.75       274\n",
      "\n",
      "    accuracy                           0.92      1467\n",
      "   macro avg       0.93      0.81      0.85      1467\n",
      "weighted avg       0.92      0.92      0.92      1467\n",
      "\n"
     ]
    },
    {
     "data": {
      "image/png": "[encoded data removed]",
      "text/plain": [
       "<Figure size 800x600 with 1 Axes>"
      ]
     },
     "metadata": {},
     "output_type": "display_data"
    }
   ],
   "source": [
    "import matplotlib.pyplot as plt\n",
    "from sklearn.metrics import roc_curve, auc, roc_auc_score\n",
    "\n",
    "models = {\n",
    "    \"AdaBoost\": AdaBoostClassifier(n_estimators=150, learning_rate=1.1, random_state=10),\n",
    "    \"RandomForrest\": RandomForestClassifier(n_estimators=1000, min_samples_split=2, max_features=5, max_depth=None, random_state=10)\n",
    "}\n",
    "\n",
    "best_model = None\n",
    "best_Y_test_prob = None  # To store probabilities of the best model\n",
    "\n",
    "for model_name, model in models.items():\n",
    "    print(f\"\\n===== {model_name} =====\")\n",
    "    \n",
    "    # Train model\n",
    "    model.fit(X_train, Y_train)\n",
    "    \n",
    "    # Predictions\n",
    "    Y_train_pred = model.predict(X_train)\n",
    "    Y_test_pred = model.predict(X_test)\n",
    "    \n",
    "    # Probability Scores (for ROC-AUC)\n",
    "    Y_test_prob = model.predict_proba(X_test)[:, 1]  # Get probabilities for positive class\n",
    "    \n",
    "    # Save the first model (or later modify this logic to store the best model)\n",
    "    if best_Y_test_prob is None:\n",
    "        best_model = model\n",
    "        best_Y_test_prob = Y_test_prob\n",
    "\n",
    "    # Training Scores\n",
    "    print(\"Training Scores:\")\n",
    "    print(f\"  Accuracy: {accuracy_score(Y_train, Y_train_pred):.4f}\")\n",
    "    print(f\"  Precision: {precision_score(Y_train, Y_train_pred, average='weighted'):.4f}\")\n",
    "    print(f\"  Recall: {recall_score(Y_train, Y_train_pred, average='weighted'):.4f}\")\n",
    "    print(f\"  F1 Score: {f1_score(Y_train, Y_train_pred, average='weighted'):.4f}\")\n",
    "    \n",
    "    # Test Scores\n",
    "    print(\"Test Scores:\")\n",
    "    print(f\"  Accuracy: {accuracy_score(Y_test, Y_test_pred):.4f}\")\n",
    "    print(f\"  Precision: {precision_score(Y_test, Y_test_pred, average='weighted'):.4f}\")\n",
    "    print(f\"  Recall: {recall_score(Y_test, Y_test_pred, average='weighted'):.4f}\")\n",
    "    print(f\"  F1 Score: {f1_score(Y_test, Y_test_pred, average='weighted'):.4f}\")\n",
    "    \n",
    "    # Confusion Matrix & Classification Report\n",
    "    print(\"Confusion Matrix:\")\n",
    "    print(confusion_matrix(Y_test, Y_test_pred))\n",
    "    print(\"Classification Report:\")\n",
    "    print(classification_report(Y_test, Y_test_pred))\n",
    "\n",
    "# Plot ROC-AUC Curve **outside** the loop using stored best model probabilities\n",
    "if best_Y_test_prob is not None:\n",
    "    fpr, tpr, _ = roc_curve(Y_test, best_Y_test_prob)\n",
    "    roc_auc = auc(fpr, tpr)\n",
    "\n",
    "    plt.figure(figsize=(8, 6))\n",
    "    plt.plot(fpr, tpr, color=\"blue\", lw=2, label=f\"ROC Curve (AUC = {roc_auc:.4f})\")\n",
    "    plt.plot([0, 1], [0, 1], color=\"grey\", linestyle=\"--\")  # Random classifier line\n",
    "    plt.xlim([0.0, 1.0])\n",
    "    plt.ylim([0.0, 1.05])\n",
    "    plt.xlabel(\"False Positive Rate\")\n",
    "    plt.ylabel(\"True Positive Rate\")\n",
    "    plt.title(f\"ROC-AUC Curve for {model_name}\")\n",
    "    plt.legend(loc=\"lower right\")\n",
    "    plt.show()\n"
   ]
  },
  {
   "cell_type": "markdown",
   "id": "e6b9daeb-6bdc-48ee-ad43-641e309bc2d2",
   "metadata": {},
   "source": []
  },
  {
   "cell_type": "code",
   "execution_count": null,
   "id": "2b5cb1a1-5344-45d1-b8af-75ff561310a6",
   "metadata": {},
   "outputs": [],
   "source": []
  },
  {
   "cell_type": "code",
   "execution_count": null,
   "id": "74d51eee-a8dd-4e31-8e80-c3d457b74794",
   "metadata": {},
   "outputs": [],
   "source": []
  },
  {
   "cell_type": "code",
   "execution_count": null,
   "id": "4abd9179-9e71-431e-8ef9-7d33d0e71488",
   "metadata": {},
   "outputs": [],
   "source": []
  },
  {
   "cell_type": "code",
   "execution_count": null,
   "id": "6bbe7bee-1f9a-4d42-aa0f-5edc3e3cb645",
   "metadata": {},
   "outputs": [],
   "source": []
  }
 ],
 "metadata": {
  "kernelspec": {
   "display_name": "Python 3 (ipykernel)",
   "language": "python",
   "name": "python3"
  },
  "language_info": {
   "codemirror_mode": {
    "name": "ipython",
    "version": 3
   },
   "file_extension": ".py",
   "mimetype": "text/x-python",
   "name": "python",
   "nbconvert_exporter": "python",
   "pygments_lexer": "ipython3",
   "version": "3.13.1"
  }
 },
 "nbformat": 4,
 "nbformat_minor": 5
}
