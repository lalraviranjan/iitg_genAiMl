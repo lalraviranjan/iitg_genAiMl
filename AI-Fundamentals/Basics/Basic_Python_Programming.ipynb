{
  "nbformat": 4,
  "nbformat_minor": 0,
  "metadata": {
    "colab": {
      "provenance": []
    },
    "kernelspec": {
      "name": "python3",
      "display_name": "Python 3"
    },
    "language_info": {
      "name": "python"
    }
  },
  "cells": [
    {
      "cell_type": "markdown",
      "source": [
        " # Explain `List` vs. `Tuple` in Python\n",
        " #### Explanation: Lists and tuples are both sequence data types that can store a collection of items. Lists are mutable (can be modified after creation), whereas tuples are immutable (cannot be modified after creation).\n",
        "\n",
        "#### List:\n",
        "\n",
        "1. Mutable: Elements can be changed after creation.\n",
        "2. Memory Usage: Consumes more memory.\n",
        "3. Performance: Slower iteration compared to tuples but better for insertion and deletion operations.\n",
        "4. Methods: Offers various built-in methods for manipulation.\n",
        "\n",
        "#### Tuple:\n",
        "1. Immutable: Elements cannot be changed after creation.\n",
        "2. Memory Usage: Consumes less memory.\n",
        "3. Performance: Faster iteration compared to lists but lacks the flexibility of lists.\n",
        "4. Methods: Limited built-in methods."
      ],
      "metadata": {
        "id": "IxSoLgNYgyXn"
      }
    },
    {
      "cell_type": "code",
      "source": [
        "fruits = [\"Apple\", 'Banana', 'Mango', 'Grapes']\n",
        "fruits[1] = 'Cherry' # Lists are mutable so this works and updates the list\n",
        "fruits"
      ],
      "metadata": {
        "colab": {
          "base_uri": "https://localhost:8080/"
        },
        "id": "ELdK9FO2g1kF",
        "outputId": "faf37135-b0aa-46fe-c7b6-f65476db2161"
      },
      "execution_count": 22,
      "outputs": [
        {
          "output_type": "execute_result",
          "data": {
            "text/plain": [
              "['Apple', 'Cherry', 'Mango', 'Grapes']"
            ]
          },
          "metadata": {},
          "execution_count": 22
        }
      ]
    },
    {
      "cell_type": "code",
      "source": [
        "colors = (\"red\", \"blue\", \"green\")\n",
        "# colors[0] = \"yellow\" # this gives error since tuple are immutable"
      ],
      "metadata": {
        "id": "ROpnq6pXhlEW"
      },
      "execution_count": 23,
      "outputs": []
    },
    {
      "cell_type": "markdown",
      "source": [
        "# Write a function to `reverse a string` without using built-in functions.\n",
        "\n",
        "Slicing with s[::-1]: This is a slicing technique in Python.\n",
        "\n",
        "- s[start:stop:step] is the general format for slicing.\n",
        "- Here, start and stop are omitted, so the slicing includes the entire string.\n",
        "- The step is -1, which means to traverse the string from the end to the beginning, effectively reversing it.\n"
      ],
      "metadata": {
        "id": "1NHS52U3kBIN"
      }
    },
    {
      "cell_type": "code",
      "source": [
        "def reverse(str) :\n",
        "  return str[::-1]"
      ],
      "metadata": {
        "id": "enRLI83uhvQm"
      },
      "execution_count": 24,
      "outputs": []
    },
    {
      "cell_type": "code",
      "source": [
        "reverse(\"IAMAI\")"
      ],
      "metadata": {
        "colab": {
          "base_uri": "https://localhost:8080/",
          "height": 35
        },
        "id": "2w8f3dVOk1La",
        "outputId": "906325dc-ba39-4ca3-a15e-c13b6a76009e"
      },
      "execution_count": 25,
      "outputs": [
        {
          "output_type": "execute_result",
          "data": {
            "text/plain": [
              "'IAMAI'"
            ],
            "application/vnd.google.colaboratory.intrinsic+json": {
              "type": "string"
            }
          },
          "metadata": {},
          "execution_count": 25
        }
      ]
    },
    {
      "cell_type": "markdown",
      "source": [
        "# How would you check if a string is a `palindrome`?\n",
        "\n",
        "#### Explanation: A string is a palindrome if it reads the same backward and forward. We can use String slicing and Indexing"
      ],
      "metadata": {
        "id": "ZXPnLeMglrc1"
      }
    },
    {
      "cell_type": "code",
      "source": [
        "def palindrome(str) :\n",
        "  if str == str[::-1] :\n",
        "    return True\n",
        "  return False\n"
      ],
      "metadata": {
        "id": "rWWbXkAql2CM"
      },
      "execution_count": 26,
      "outputs": []
    },
    {
      "cell_type": "code",
      "source": [
        "palindrome(\"madams\")"
      ],
      "metadata": {
        "colab": {
          "base_uri": "https://localhost:8080/"
        },
        "id": "5HHE1fm8mVGE",
        "outputId": "8436912e-42e0-46f9-dfc4-e42b5ce3b53e"
      },
      "execution_count": 27,
      "outputs": [
        {
          "output_type": "execute_result",
          "data": {
            "text/plain": [
              "False"
            ]
          },
          "metadata": {},
          "execution_count": 27
        }
      ]
    },
    {
      "cell_type": "markdown",
      "source": [
        "# Write a function to find the `maximum element in a list`"
      ],
      "metadata": {
        "id": "ilFtq32Rmhk-"
      }
    },
    {
      "cell_type": "code",
      "source": [
        "def find_maximum(lst):\n",
        "  if not lst:\n",
        "    return None\n",
        "\n",
        "  maximum = lst[0]\n",
        "  for element in lst:\n",
        "    if element > maximum :\n",
        "      maximum = element\n",
        "  return maximum"
      ],
      "metadata": {
        "id": "SdscEmGynL0k"
      },
      "execution_count": 28,
      "outputs": []
    },
    {
      "cell_type": "code",
      "source": [
        "find_maximum([3, 5, 1, 9, 12, 2])"
      ],
      "metadata": {
        "colab": {
          "base_uri": "https://localhost:8080/"
        },
        "id": "WhIzP3LKodMF",
        "outputId": "ea2cd43f-addf-4606-cee3-407331f1d047"
      },
      "execution_count": 29,
      "outputs": [
        {
          "output_type": "execute_result",
          "data": {
            "text/plain": [
              "12"
            ]
          },
          "metadata": {},
          "execution_count": 29
        }
      ]
    },
    {
      "cell_type": "markdown",
      "source": [
        "# Explain how to handle `exceptions` in Python\n",
        "1. try Block:\n",
        "\n",
        "  - Code that might raise an exception is placed inside a try block.\n",
        "  - If no exceptions occur, the code in the try block runs normally.\n",
        "\n",
        "2. except Block:\n",
        "  - This block handles specific exceptions that might occur in the try block.\n",
        "  You can catch specific exceptions (like ZeroDivisionError, FileNotFoundError, etc.) or use a general except statement to handle any exception.\n",
        "\n",
        "3. else Block:\n",
        "  - Runs if no exception occurs in the try block.\n",
        "\n",
        "4. finally Block:\n",
        "  - The finally block runs no matter what—whether an exception occurs or not.\n",
        "  This block is often used for cleanup actions, like closing files or releasing resources."
      ],
      "metadata": {
        "id": "2ZlKI7m9phhq"
      }
    },
    {
      "cell_type": "code",
      "source": [
        "def divide_numbers(num1, num2):\n",
        "  try:\n",
        "    result = num1 / num2\n",
        "  except ZeroDivisionError:\n",
        "    print(\"Error: Can not divide number by Zero.\")\n",
        "  except TypeError:\n",
        "    print(\"Error: Both inputs must be numbers\")\n",
        "  else:\n",
        "    print(result)\n",
        "  finally:\n",
        "    print(\"Division completed\\n\")"
      ],
      "metadata": {
        "id": "znSvDUylp_G0"
      },
      "execution_count": 30,
      "outputs": []
    },
    {
      "cell_type": "code",
      "source": [
        "divide_numbers(10, 5)\n",
        "divide_numbers(10, 0)\n",
        "divide_numbers(10, 'a')"
      ],
      "metadata": {
        "colab": {
          "base_uri": "https://localhost:8080/"
        },
        "id": "hjhuE9EurRtO",
        "outputId": "31ae4ca4-48a8-4ec1-b314-4696910adf83"
      },
      "execution_count": 31,
      "outputs": [
        {
          "output_type": "stream",
          "name": "stdout",
          "text": [
            "2.0\n",
            "Division completed\n",
            "\n",
            "Error: Can not divide number by Zero.\n",
            "Division completed\n",
            "\n",
            "Error: Both inputs must be numbers\n",
            "Division completed\n",
            "\n"
          ]
        }
      ]
    },
    {
      "cell_type": "markdown",
      "source": [
        "# Write a program to print the `Fibonacci sequence` up to n terms.\n",
        "1. Input Validation:\n",
        "  - If n <= 0, the program prompts for a positive integer.\n",
        "2. Special Case for n = 1:\n",
        "  - If n is 1, the program prints only the first term (0) of the Fibonacci sequence.\n",
        "3. General Case (n > 1):\n",
        "  - If n is greater than 1, it initializes the first two terms of the Fibonacci sequence: a = 0 and b = 1.\n",
        "  - Using a for loop, it prints the current term (a), then updates a and b to the next two terms in the sequence (a = b and b = a + b).\n",
        "\n",
        "#### Why Use _ inside for loop?\n",
        "- _ (Underscore): _ is used as a \"throwaway\" variable in Python. It’s a common convention for variables that are required syntactically but won’t actually be used in the code."
      ],
      "metadata": {
        "id": "d5jA5fi4s2mW"
      }
    },
    {
      "cell_type": "code",
      "source": [
        "def fibonacci_sequence(n):\n",
        "  if n <= 0:\n",
        "    print(\"Please enter a positive number\")\n",
        "  elif n == 1:\n",
        "    print(f\"Fibonacci sequence upto {n} terms: \")\n",
        "    print(0)\n",
        "  else:\n",
        "    a = 0\n",
        "    b = 1\n",
        "    print(f\"Fibonacci sequence upto {n} terms: \")\n",
        "    for _ in range(n):\n",
        "      print(a, end=\" \")\n",
        "      a , b = b, a + b # This creates a tuple on the right side and the left side so that we can pdate the variable a and b at the same time . Otherwise we need to use a temp variable to perform this\n"
      ],
      "metadata": {
        "id": "YtXMZCpMtY5N"
      },
      "execution_count": 32,
      "outputs": []
    },
    {
      "cell_type": "code",
      "source": [
        "fibonacci_sequence(10)"
      ],
      "metadata": {
        "colab": {
          "base_uri": "https://localhost:8080/"
        },
        "id": "RBiWfCp1u4U8",
        "outputId": "6ab566eb-76c5-4052-d5cd-ff4ffde69120"
      },
      "execution_count": 33,
      "outputs": [
        {
          "output_type": "stream",
          "name": "stdout",
          "text": [
            "Fibonacci sequence upto 10 terms: \n",
            "0 1 1 2 3 5 8 13 21 34 "
          ]
        }
      ]
    },
    {
      "cell_type": "markdown",
      "source": [
        "# Explain the difference between `==` and `is`.\n",
        "- ### Key Points to Remember\n",
        "- == checks for equality of value: It tells us if the contents of two variables are the same.\n",
        "- is checks for identity: It tells us if two variables point to the same object in memory.\n",
        "\n",
        "## (==)Equality\n",
        "  ### Summary of Dictionary Equality\n",
        "      - Two dictionaries are equal if they have the same set of keys and each key has the same associated value.\n",
        "      - The order of the key-value pairs doesn't affect equality.\n",
        "      - For nested dictionaries, equality is checked recursively.\n",
        "\n",
        "  ### Summary of Tuple Equality\n",
        "      - Order matters: Two tuples are equal only if they have the same number of elements, and those elements are the same and in the same order.\n",
        "      - Element-wise comparison: Python checks the elements of the tuples in sequence.\n",
        "      - This makes tuples similar to lists in terms of equality checks, but unlike lists, tuples are immutable, meaning their elements cannot be changed once created.\n",
        "\n"
      ],
      "metadata": {
        "id": "lgqwimCV7-Nm"
      }
    },
    {
      "cell_type": "code",
      "source": [
        "a = [1, 2, 3]\n",
        "b = [1, 2, 3]\n",
        "print(a == b)  # Output: True, because the contents of `a` and `b` are the same"
      ],
      "metadata": {
        "colab": {
          "base_uri": "https://localhost:8080/"
        },
        "id": "hQPlByYT8DjG",
        "outputId": "b364967a-2f96-4748-9d49-450a07466463"
      },
      "execution_count": 34,
      "outputs": [
        {
          "output_type": "stream",
          "name": "stdout",
          "text": [
            "True\n"
          ]
        }
      ]
    },
    {
      "cell_type": "code",
      "source": [
        "a = [1, 3, 2]\n",
        "b = [1, 2, 3]\n",
        "print(a == b)  # Output: False, because the contents of `a` and `b` are the same but not in sequence, sequence matters for equality check"
      ],
      "metadata": {
        "colab": {
          "base_uri": "https://localhost:8080/"
        },
        "id": "IvAHEW2o91pM",
        "outputId": "ec29ee68-6fcf-45e6-f81c-e670802d746f"
      },
      "execution_count": 35,
      "outputs": [
        {
          "output_type": "stream",
          "name": "stdout",
          "text": [
            "False\n"
          ]
        }
      ]
    },
    {
      "cell_type": "code",
      "source": [
        "a = [1, 2, 3]\n",
        "b = [1, 2, 3]\n",
        "print(a is b)  # Output: False, because `a` and `b` are different objects in memory\n"
      ],
      "metadata": {
        "colab": {
          "base_uri": "https://localhost:8080/"
        },
        "id": "8YiXfcMc-sUZ",
        "outputId": "1408a12b-f0ed-456b-9a96-983fde9d4770"
      },
      "execution_count": 36,
      "outputs": [
        {
          "output_type": "stream",
          "name": "stdout",
          "text": [
            "False\n"
          ]
        }
      ]
    },
    {
      "cell_type": "code",
      "source": [
        "a = {\"person\": {\"name\": \"Alice\", \"age\": 25}, \"city\": \"New York\"}\n",
        "b = {\"person\": {\"name\": \"Alice\", \"age\": 25}, \"city\": \"New York\"}\n",
        "\n",
        "print(a == b)  # Output: True, because both dictionaries have the same structure and values\n"
      ],
      "metadata": {
        "colab": {
          "base_uri": "https://localhost:8080/"
        },
        "id": "BRxi7wWI_MmP",
        "outputId": "50c4fdae-8ea9-4568-d64a-c1764f2897f0"
      },
      "execution_count": 37,
      "outputs": [
        {
          "output_type": "stream",
          "name": "stdout",
          "text": [
            "True\n"
          ]
        }
      ]
    },
    {
      "cell_type": "code",
      "source": [
        "a = {\"person\": {\"name\": \"Alice\", \"age\": 25}, \"city\": \"New York\"}\n",
        "b = {\"person\": {\"name\": \"Bob\", \"age\": 25}, \"city\": \"New York\"}\n",
        "\n",
        "print(a == b)  # Output: False, because the `name` key in the nested dictionary is different\n"
      ],
      "metadata": {
        "colab": {
          "base_uri": "https://localhost:8080/"
        },
        "id": "6C2BQM-F_Oli",
        "outputId": "97a236b9-b1d6-4b19-f677-1df67a09c009"
      },
      "execution_count": 38,
      "outputs": [
        {
          "output_type": "stream",
          "name": "stdout",
          "text": [
            "False\n"
          ]
        }
      ]
    },
    {
      "cell_type": "code",
      "source": [
        "a = (1, 2, 3)\n",
        "b = (1, 2, 3)\n",
        "print(a == b)  # Output: True, because the elements and their order are the same in the Tuple\n"
      ],
      "metadata": {
        "colab": {
          "base_uri": "https://localhost:8080/"
        },
        "id": "edGkImbs_TZm",
        "outputId": "d48fec97-0e6b-4925-cc61-14b192ae9fbe"
      },
      "execution_count": 39,
      "outputs": [
        {
          "output_type": "stream",
          "name": "stdout",
          "text": [
            "True\n"
          ]
        }
      ]
    },
    {
      "cell_type": "code",
      "source": [
        "a = (1, 2, 3)\n",
        "b = (3, 2, 1)\n",
        "print(a == b)  # Output: False, because the order of elements is different in Tuple\n"
      ],
      "metadata": {
        "colab": {
          "base_uri": "https://localhost:8080/"
        },
        "id": "FyLLByga_YXj",
        "outputId": "07e961a1-1059-4afa-e1be-424609344943"
      },
      "execution_count": 40,
      "outputs": [
        {
          "output_type": "stream",
          "name": "stdout",
          "text": [
            "False\n"
          ]
        }
      ]
    },
    {
      "cell_type": "markdown",
      "source": [
        "##### In Python, `None is a singleton`, meaning there's only one instance of None in memory, so is works as expected here."
      ],
      "metadata": {
        "id": "13sc-D7Y-5yI"
      }
    },
    {
      "cell_type": "code",
      "source": [
        "x = None\n",
        "y = None\n",
        "print(x == y)  # Output: True, because `None` is equal to `None`\n",
        "print(x is y)  # Output: True, because both `x` and `y` point to the same `None` object in memory\n"
      ],
      "metadata": {
        "colab": {
          "base_uri": "https://localhost:8080/"
        },
        "id": "yshkzV_r-2n5",
        "outputId": "a4ada0ea-4f74-4598-b63f-1b70dd50c7f4"
      },
      "execution_count": 41,
      "outputs": [
        {
          "output_type": "stream",
          "name": "stdout",
          "text": [
            "True\n",
            "True\n"
          ]
        }
      ]
    },
    {
      "cell_type": "markdown",
      "source": [
        "**Strings** are `immutable` in Python: This means that once a string is created, it cannot be changed. Because of this,\n",
        "- Python often reuses the same object in memory for identical string literals.\n",
        "- When you assign x = \"hello\" and y = \"hello\", Python doesn't create two separate objects for these strings. Instead, both x and y point to the same string object in memory.\n",
        "- Therefore, x is y will return True because both x and y refer to the exact same object in memory."
      ],
      "metadata": {
        "id": "XqQEQkbJ_6Ii"
      }
    },
    {
      "cell_type": "code",
      "source": [
        "x = \"hello\"\n",
        "y = \"hello\"\n",
        "x is y"
      ],
      "metadata": {
        "colab": {
          "base_uri": "https://localhost:8080/"
        },
        "id": "dw31zjTm_nhj",
        "outputId": "e8aa92b3-ffed-4ac9-ffad-93e46e95f7af"
      },
      "execution_count": 42,
      "outputs": [
        {
          "output_type": "execute_result",
          "data": {
            "text/plain": [
              "True"
            ]
          },
          "metadata": {},
          "execution_count": 42
        }
      ]
    },
    {
      "cell_type": "markdown",
      "source": [
        "Example with Different Strings:\n",
        "If you create two strings dynamically, for example:\n",
        "- Here, y is created by concatenating two strings (\"hel\" and \"lo\"), which results in a new string object in memory, so x is y will be False. Even though x and y have the same value, they are different objects in memory."
      ],
      "metadata": {
        "id": "u_ZUq3v1Aktz"
      }
    },
    {
      "cell_type": "code",
      "source": [
        "x = \"hello\"\n",
        "y = \"hel\" + \"lo\"\n",
        "print(x is y)  # Output: False\n"
      ],
      "metadata": {
        "colab": {
          "base_uri": "https://localhost:8080/"
        },
        "id": "Y2WE_97oAoFE",
        "outputId": "d159dd95-24e6-48b9-e98f-810edce92959"
      },
      "execution_count": 43,
      "outputs": [
        {
          "output_type": "stream",
          "name": "stdout",
          "text": [
            "True\n"
          ]
        }
      ]
    },
    {
      "cell_type": "code",
      "source": [
        "x = True\n",
        "y = True\n",
        "print(x is y)  # Output: True, because `True` is a singleton object in Python\n",
        "\n",
        "x = False\n",
        "y = False\n",
        "print(x is y)  # Output: True, because `False` is also a singleton object\n"
      ],
      "metadata": {
        "colab": {
          "base_uri": "https://localhost:8080/"
        },
        "id": "oHzC7Qn7DJnv",
        "outputId": "61b0ea95-3a8f-42d8-e588-d7acee7939f4"
      },
      "execution_count": 44,
      "outputs": [
        {
          "output_type": "stream",
          "name": "stdout",
          "text": [
            "True\n",
            "True\n"
          ]
        }
      ]
    },
    {
      "cell_type": "code",
      "source": [
        "x = ...\n",
        "y = ...\n",
        "print(x is y)  # Output: True, because `Ellipsis` is a singleton\n"
      ],
      "metadata": {
        "colab": {
          "base_uri": "https://localhost:8080/"
        },
        "id": "_PwCT_FnDQPh",
        "outputId": "ca6e5fae-2940-4684-d945-aab4ca7b7df8"
      },
      "execution_count": 45,
      "outputs": [
        {
          "output_type": "stream",
          "name": "stdout",
          "text": [
            "True\n"
          ]
        }
      ]
    },
    {
      "cell_type": "markdown",
      "source": [
        "# What is `Ellipsis`. When and how we use it ?\n",
        "The ellipsis (...) object in Python is a unique singleton, often used as a placeholder or for special cases where the implementation is to be done later, or when you need to indicate that something has been intentionally omitted."
      ],
      "metadata": {
        "id": "93D0GBNvEW9N"
      }
    },
    {
      "cell_type": "code",
      "source": [
        "def some_function(x):\n",
        "    if x < 0:\n",
        "        return \"Negative value\"\n",
        "    elif x == 0:\n",
        "        return \"Zero value\"\n",
        "    else:\n",
        "        # Ellipsis used here as a placeholder for future implementation\n",
        "        return ...\n",
        "\n",
        "# Testing the function\n",
        "print(some_function(-5))  # Output: Negative value\n",
        "print(some_function(0))   # Output: Zero value\n",
        "print(some_function(10))  # Output: Ellipsis (because the case is not implemented yet)"
      ],
      "metadata": {
        "colab": {
          "base_uri": "https://localhost:8080/"
        },
        "id": "Q0zo6QEQER29",
        "outputId": "ae279838-9ede-453e-ac79-a143e54eb06b"
      },
      "execution_count": 46,
      "outputs": [
        {
          "output_type": "stream",
          "name": "stdout",
          "text": [
            "Negative value\n",
            "Zero value\n",
            "Ellipsis\n"
          ]
        }
      ]
    },
    {
      "cell_type": "markdown",
      "source": [
        "# Write a program to check if a `number is prime`.\n",
        "### Understanding `while i * i <= n`\n",
        "\n",
        "1. **Why `i * i <= n`?**\n",
        "   - Instead of checking every single number from 1 up to \\( n \\), we only need to check up to the square root of \\( n \\) (written as √n). This is because, if \\( n \\) has any divisors, they will appear before or around √n.\n",
        "   - Checking up to √n means we're only going to test small numbers.\n",
        "   - `i * i <= n` just means \"keep checking while \\( i \\) squared is less than or equal to \\( n \\).\" If \\( i \\) squared gets bigger than \\( n \\), we stop.\n",
        "\n",
        "### Understanding `if n % i == 0 or n % (i + 2) == 0`\n",
        "\n",
        "2. **Why `if n % i == 0`?**\n",
        "   - `%` is the \"modulus\" operator, and `n % i` means \"divide \\( n \\) by \\( i \\) and see if there’s a remainder.\"\n",
        "   - If `n % i == 0`, it means \\( i \\) divides evenly into \\( n \\) with no remainder, so \\( i \\) is a divisor of \\( n \\). If this happens, \\( n \\) is **not prime**.\n",
        "\n",
        "3. **Why `or n % (i + 2) == 0`?**\n",
        "   - We check two numbers at a time: \\( i \\) and \\( i + 2 \\). This skips over even numbers and some multiples of 3, making our code faster.\n",
        "   - For example, if \\( i = 5 \\), we check 5 and 7; then we skip to 11 and 13; then 17 and 19, and so on.\n",
        "   - This lets us only check numbers that might actually be divisors without wasting time on ones that can't be.\n",
        "\n",
        "### Putting It Together with an Example\n",
        "\n",
        "Let’s say we’re testing if \\( n = 29 \\) is a prime number:\n",
        "\n",
        "- **First iteration**: Start with \\( i = 5 \\).\n",
        "  - Check `i * i <= n`: \\( 5 * 5 = 25 \\), and \\( 25 \\leq 29 \\), so continue.\n",
        "  - Now, check `if n % i == 0 or n % (i + 2) == 0`:\n",
        "    - `29 % 5` is not 0 (so 5 doesn’t divide 29).\n",
        "    - `29 % 7` is not 0 (so 7 doesn’t divide 29).\n",
        "  - Since neither condition is true, we move to the next \\( i \\) by adding 6: \\( i = 11 \\).\n",
        "\n",
        "- **Second iteration**: Now \\( i = 11 \\).\n",
        "  - Check `i * i <= n`: \\( 11 * 11 = 121 \\), and \\( 121 > 29 \\), so we stop.\n",
        "\n",
        "Since we found no divisors in the loop, \\( n = 29 \\) is prime. The function would return `True`.\n",
        "\n",
        "---\n",
        "\n",
        "### Summary:\n",
        "- **`while i * i <= n`**: We only check divisors up to √n.\n",
        "- **`if n % i == 0 or n % (i + 2) == 0`**: We check pairs of numbers like 5 and 7, 11 and 13, etc., to see if any are divisors.\n",
        "- If we find a divisor, \\( n \\) is not prime. If we don’t, then \\( n \\) is prime!"
      ],
      "metadata": {
        "id": "HZBtdIEFYA8o"
      }
    },
    {
      "cell_type": "code",
      "source": [
        "def is_prime(n):\n",
        "    # Check if n is less than or equal to 1\n",
        "    if n <= 1:\n",
        "        return False\n",
        "    # Check if n is 2 or 3, both of which are prime\n",
        "    if n <= 3:\n",
        "        return True\n",
        "    # Eliminate even numbers and multiples of 3\n",
        "    if n % 2 == 0 or n % 3 == 0:\n",
        "        return False\n",
        "    # Check for factors from 5 to √n with step 6\n",
        "    i = 5\n",
        "    while i * i <= n:\n",
        "        if n % i == 0 or n % (i + 2) == 0:\n",
        "            return False\n",
        "        i += 6\n",
        "    return True\n",
        "\n",
        "# Test the function\n",
        "num = int(input(\"Enter a number: \"))\n",
        "if is_prime(num):\n",
        "    print(f\"{num} is a prime number.\")\n",
        "else:\n",
        "    print(f\"{num} is not a prime number.\")\n"
      ],
      "metadata": {
        "colab": {
          "base_uri": "https://localhost:8080/"
        },
        "id": "bDgvWqVYYDHz",
        "outputId": "f077ea1d-412f-419b-d1e1-6d7a460ac4a6"
      },
      "execution_count": 47,
      "outputs": [
        {
          "output_type": "stream",
          "name": "stdout",
          "text": [
            "Enter a number: 29\n",
            "29 is a prime number.\n"
          ]
        }
      ]
    },
    {
      "cell_type": "markdown",
      "source": [
        "# Explain `append` vs `extend` in list\n",
        "  - append adds the entire list as a single element (creating a nested list).\n",
        "  - extend adds each element of the list individually."
      ],
      "metadata": {
        "id": "cem6IHF_bsTr"
      }
    },
    {
      "cell_type": "code",
      "source": [
        "numbers = [1,2,3]\n",
        "numbers.append([4,5,6])\n",
        "numbers"
      ],
      "metadata": {
        "colab": {
          "base_uri": "https://localhost:8080/"
        },
        "id": "xUwqrKn0b4Vm",
        "outputId": "32c491be-2802-4452-da42-fc9915f560c4"
      },
      "execution_count": 48,
      "outputs": [
        {
          "output_type": "execute_result",
          "data": {
            "text/plain": [
              "[1, 2, 3, [4, 5, 6]]"
            ]
          },
          "metadata": {},
          "execution_count": 48
        }
      ]
    },
    {
      "cell_type": "code",
      "source": [
        "numbers = [1,2,3]\n",
        "numbers.extend([4,5,6])\n",
        "numbers"
      ],
      "metadata": {
        "colab": {
          "base_uri": "https://localhost:8080/"
        },
        "id": "sNQ7gXKQcB6O",
        "outputId": "d37bea19-2834-426c-e842-a4e1086718cb"
      },
      "execution_count": 49,
      "outputs": [
        {
          "output_type": "execute_result",
          "data": {
            "text/plain": [
              "[1, 2, 3, 4, 5, 6]"
            ]
          },
          "metadata": {},
          "execution_count": 49
        }
      ]
    },
    {
      "cell_type": "markdown",
      "source": [
        "# What is `isinstance()`?\n",
        "\n",
        "`isinstance()` is a built-in Python function used to check if an object is an instance of a specific class or data type. It checks whether an object belongs to a particular class or a subclass of that class.\n",
        "\n",
        "### Syntax\n",
        "\n",
        "```python\n",
        "isinstance(object, classinfo)\n",
        "```"
      ],
      "metadata": {
        "id": "uhZF6UCgcsJe"
      }
    },
    {
      "cell_type": "code",
      "source": [
        "### Example in Real World\n",
        "# Suppose you are writing a function that accepts either an integer or a string, and you want to handle them differently:\n",
        "def process_input(data):\n",
        "    if isinstance(data, int):\n",
        "        return data * 2\n",
        "    elif isinstance(data, str):\n",
        "        return data.upper()\n",
        "    else:\n",
        "        return \"Invalid input\"\n",
        "\n",
        "print(process_input(5))  # Output: 10\n",
        "print(process_input(\"hello\"))  # Output: HELLO\n",
        "print(process_input([1, 2, 3]))  # Output: Invalid input\n"
      ],
      "metadata": {
        "colab": {
          "base_uri": "https://localhost:8080/"
        },
        "id": "TqusafaNcv5R",
        "outputId": "35a4e40c-dd88-4658-87f0-d5a03b2903fe"
      },
      "execution_count": 50,
      "outputs": [
        {
          "output_type": "stream",
          "name": "stdout",
          "text": [
            "10\n",
            "HELLO\n",
            "Invalid input\n"
          ]
        }
      ]
    },
    {
      "cell_type": "markdown",
      "source": [
        "# Write a function to flatten a nested list.\n",
        "### Example Input : `[1, [2, [3, 4], 5], [6, 7], 8]`\n",
        "### Output: `[1, 2, 3, 4, 5, 6, 7, 8]`"
      ],
      "metadata": {
        "id": "eViKVMZldZnn"
      }
    },
    {
      "cell_type": "code",
      "source": [
        "def flatten_list(nested_list):\n",
        "  flat_list = []\n",
        "  for item in nested_list:\n",
        "    if isinstance(item, list):\n",
        "      flat_list.extend(flatten_list(item))\n",
        "    else:\n",
        "      flat_list.append(item)\n",
        "  return flat_list\n"
      ],
      "metadata": {
        "id": "o1ZSTIyVdbH1"
      },
      "execution_count": 51,
      "outputs": []
    },
    {
      "cell_type": "code",
      "source": [
        "nested = [1, [2, [3, 4], 5], [6, 7], 8]\n",
        "result = flatten_list(nested)\n",
        "result"
      ],
      "metadata": {
        "colab": {
          "base_uri": "https://localhost:8080/"
        },
        "id": "s154UWaRe7vg",
        "outputId": "c890d8fb-434d-43d6-bccd-6f102e29f8e3"
      },
      "execution_count": 52,
      "outputs": [
        {
          "output_type": "execute_result",
          "data": {
            "text/plain": [
              "[1, 2, 3, 4, 5, 6, 7, 8]"
            ]
          },
          "metadata": {},
          "execution_count": 52
        }
      ]
    },
    {
      "cell_type": "markdown",
      "source": [
        "# What is the purpose of `lambda` functions?\n",
        "\n",
        "### Why Use Lambda Functions?\n",
        "`Lambda functions` are often used when:\n",
        "1. A function is required temporarily: For example, when a small function is needed as an argument to another function, or only for a short, simple operation.\n",
        "2. **Simplicity and readability**: For small, one-line functions, lambda functions make code more compact.\n",
        "3. **Functional programming**: They are commonly used with functions like `map()`, `filter()`, and `sorted()` that take functions as arguments."
      ],
      "metadata": {
        "id": "KEccYNOyhu8b"
      }
    },
    {
      "cell_type": "code",
      "source": [
        "# Regular function for addition\n",
        "def add(x, y):\n",
        "    return x + y\n",
        "\n",
        "# Equivalent lambda function\n",
        "add_lambda = lambda x, y: x + y\n",
        "\n",
        "print(add(2, 3))         # Output: 5\n",
        "print(add_lambda(2, 3))  # Output: 5\n"
      ],
      "metadata": {
        "colab": {
          "base_uri": "https://localhost:8080/"
        },
        "id": "YjnEzIKViE_v",
        "outputId": "9447fded-261f-40e4-90b4-8f285b711643"
      },
      "execution_count": 53,
      "outputs": [
        {
          "output_type": "stream",
          "name": "stdout",
          "text": [
            "5\n",
            "5\n"
          ]
        }
      ]
    },
    {
      "cell_type": "code",
      "source": [
        "# Using lambda with map to square each number in the list\n",
        "numbers = [1, 2, 3, 4]\n",
        "squared = list(map(lambda x: x**2, numbers))\n",
        "print(squared)  # Output: [1, 4, 9, 16]\n"
      ],
      "metadata": {
        "colab": {
          "base_uri": "https://localhost:8080/"
        },
        "id": "SvhDVuAFh8ao",
        "outputId": "fb8b14cf-9cbd-439c-a655-e163671aa39b"
      },
      "execution_count": 54,
      "outputs": [
        {
          "output_type": "stream",
          "name": "stdout",
          "text": [
            "[1, 4, 9, 16]\n"
          ]
        }
      ]
    },
    {
      "cell_type": "code",
      "source": [
        "# Using lambda with filter to keep only even numbers\n",
        "numbers = [1, 2, 3, 4, 5, 6]\n",
        "evens = list(filter(lambda x: x % 2 == 0, numbers))\n",
        "print(evens)  # Output: [2, 4, 6]\n"
      ],
      "metadata": {
        "colab": {
          "base_uri": "https://localhost:8080/"
        },
        "id": "JpKsgBSBiCJ-",
        "outputId": "26ea6dca-e36c-4bff-c0f0-0dc676851bdd"
      },
      "execution_count": 55,
      "outputs": [
        {
          "output_type": "stream",
          "name": "stdout",
          "text": [
            "[2, 4, 6]\n"
          ]
        }
      ]
    },
    {
      "cell_type": "code",
      "source": [
        "# Using lambda with sorted to sort a list of tuples by the second element\n",
        "points = [(1, 2), (3, 1), (5, 0)]\n",
        "sorted_points = sorted(points, key=lambda x: x[1])\n",
        "print(sorted_points)  # Output: [(5, 0), (3, 1), (1, 2)]\n"
      ],
      "metadata": {
        "colab": {
          "base_uri": "https://localhost:8080/"
        },
        "id": "xC3t3H5diKCX",
        "outputId": "dfd48014-ea6a-427f-bc96-8d5d7bbe9c7b"
      },
      "execution_count": 56,
      "outputs": [
        {
          "output_type": "stream",
          "name": "stdout",
          "text": [
            "[(5, 0), (3, 1), (1, 2)]\n"
          ]
        }
      ]
    },
    {
      "cell_type": "markdown",
      "source": [
        " # Explain the difference between `*args` and `**kwargs`.\n",
        "\n",
        " ### In Python, `*args` and `**kwargs` are used in function definitions to allow a variable number of arguments to be passed to a function. They provide flexibility when you don't know in advance how many arguments will be passed.\n",
        "\n",
        "1. `*args`: For Positional Arguments\n",
        "  - *args allows a function to accept any number of positional arguments.\n",
        "  - The arguments passed as *args are collected into a tuple.\n",
        "2. `**kwargs`: For Keyword Arguments\n",
        "  - **kwargs allows a function to accept any number of keyword arguments.\n",
        "  - The arguments passed as **kwargs are collected into a dictionary."
      ],
      "metadata": {
        "id": "SkI22fN_spzs"
      }
    },
    {
      "cell_type": "code",
      "source": [
        "# Using *args: A Function to display Names\n",
        "def greet(*names):\n",
        "  for name in names:\n",
        "    print(f\"Hello {name}!\")\n",
        "\n",
        "greet(\"John\", \"Alexa\", \"Mike\")"
      ],
      "metadata": {
        "colab": {
          "base_uri": "https://localhost:8080/"
        },
        "id": "DM6k0xDptPdZ",
        "outputId": "44d0796f-04d1-459b-a7a6-bbb3a9616f44"
      },
      "execution_count": 57,
      "outputs": [
        {
          "output_type": "stream",
          "name": "stdout",
          "text": [
            "Hello John!\n",
            "Hello Alexa!\n",
            "Hello Mike!\n"
          ]
        }
      ]
    },
    {
      "cell_type": "code",
      "source": [
        "# Using *args: A Function to add numbers\n",
        "def add_numbers(*numbers):\n",
        "  return sum(numbers)\n",
        "\n",
        "result = add_numbers(1,2,3,4)\n",
        "result"
      ],
      "metadata": {
        "colab": {
          "base_uri": "https://localhost:8080/"
        },
        "id": "w2BazKh7wKuI",
        "outputId": "12a6e4d3-3ce4-4da3-f989-c924d43c9cd5"
      },
      "execution_count": 58,
      "outputs": [
        {
          "output_type": "execute_result",
          "data": {
            "text/plain": [
              "10"
            ]
          },
          "metadata": {},
          "execution_count": 58
        }
      ]
    },
    {
      "cell_type": "code",
      "source": [
        "# Using **kwargs: Configuring a Function\n",
        "def log_message(message, **config):\n",
        "  print(f\"Message : {message}\")\n",
        "  for key, value in config.items():\n",
        "    print(f\"{key.capitalize()} : {value}\")\n",
        "\n",
        "log_message(\"System  Started\", level=\"Info\", timeStamp=\"15-11-2024 10:00:01\")\n"
      ],
      "metadata": {
        "colab": {
          "base_uri": "https://localhost:8080/"
        },
        "id": "CXBLrzyMwjCj",
        "outputId": "685fb566-5292-45ee-d0d3-a54bbddae557"
      },
      "execution_count": 59,
      "outputs": [
        {
          "output_type": "stream",
          "name": "stdout",
          "text": [
            "Message : System  Started\n",
            "Level : Info\n",
            "Timestamp : 15-11-2024 10:00:01\n"
          ]
        }
      ]
    },
    {
      "cell_type": "code",
      "source": [
        "# Combining *args and **kwargs: Function for E-commerce Orders\n",
        "def process_order(*items, **options):\n",
        "    print(\"Items ordered:\", items)\n",
        "    for key, value in options.items():\n",
        "        print(f\"{key.capitalize()}: {value}\")\n",
        "\n",
        "# Real-world usage\n",
        "process_order(\n",
        "    \"laptop\", \"mouse\", \"keyboard\",\n",
        "    delivery_date=\"2024-11-16\",\n",
        "    discount=\"10%\",\n",
        "    gift_wrap=True\n",
        ")\n"
      ],
      "metadata": {
        "colab": {
          "base_uri": "https://localhost:8080/"
        },
        "id": "uZ60Tiw25Q8H",
        "outputId": "83c52279-13ef-41a6-b802-eee3a4e6220e"
      },
      "execution_count": 60,
      "outputs": [
        {
          "output_type": "stream",
          "name": "stdout",
          "text": [
            "Items ordered: ('laptop', 'mouse', 'keyboard')\n",
            "Delivery_date: 2024-11-16\n",
            "Discount: 10%\n",
            "Gift_wrap: True\n"
          ]
        }
      ]
    },
    {
      "cell_type": "markdown",
      "source": [
        "# How does `list comprehension` work in Python?\n",
        "\n",
        "### `List comprehension` in Python is a concise way to create lists. It allows you to generate a new list by applying an expression to each item in an iterable, optionally including a condition for filtering.\n",
        "---\n",
        "### Syntax for `list comprehension`\n",
        "`[expression for item in iterable if condition]`\n",
        "- **`expression`**: An operation or value to include in the new list.\n",
        "- **`item`**: Each element from the iterable.\n",
        "- **`iterable`**: A sequence (like a list, range, or string) to iterate over.\n",
        "- **`if condition`** *(optional)*: A filter to include only certain elements.\n",
        "\n",
        "### Summary\n",
        "- **List comprehension** is a Pythonic way to create new lists by applying an expression to an iterable.\n",
        "- It can include conditions to filter elements.\n",
        "- It's versatile, supporting complex operations like nested loops and `if-else` logic.\n"
      ],
      "metadata": {
        "id": "CoFnobot6jRt"
      }
    },
    {
      "cell_type": "markdown",
      "source": [
        "Example 1: `Basic List Comprehension`\n",
        "###### Generate a list of squares for numbers from 1 to 5."
      ],
      "metadata": {
        "id": "ZoLA5Ff37lh0"
      }
    },
    {
      "cell_type": "code",
      "source": [
        "squares = [x**2 for x in range(1,6)]\n",
        "squares"
      ],
      "metadata": {
        "colab": {
          "base_uri": "https://localhost:8080/"
        },
        "id": "1MQAedxp7Aqi",
        "outputId": "61d2b192-f1a7-451e-b3e2-af70ea38d1c0"
      },
      "execution_count": 61,
      "outputs": [
        {
          "output_type": "execute_result",
          "data": {
            "text/plain": [
              "[1, 4, 9, 16, 25]"
            ]
          },
          "metadata": {},
          "execution_count": 61
        }
      ]
    },
    {
      "cell_type": "markdown",
      "source": [
        "Example 2: `List Comprehension with a Condition`\n",
        "###### Create a list of even numbers from 1 to 10."
      ],
      "metadata": {
        "id": "YSpJOSdd8IAD"
      }
    },
    {
      "cell_type": "code",
      "source": [
        "even = [x for x in range(1,11) if x % 2 == 0]\n",
        "even"
      ],
      "metadata": {
        "colab": {
          "base_uri": "https://localhost:8080/"
        },
        "id": "sace2M9r8SaM",
        "outputId": "36c77e89-90eb-4771-81ad-3636f5e03295"
      },
      "execution_count": 62,
      "outputs": [
        {
          "output_type": "execute_result",
          "data": {
            "text/plain": [
              "[2, 4, 6, 8, 10]"
            ]
          },
          "metadata": {},
          "execution_count": 62
        }
      ]
    },
    {
      "cell_type": "markdown",
      "source": [
        "Example 3: ` Nested List Comprehension`\n",
        "###### Flatten a 2D list into a 1D list.\n",
        "\n",
        "- **How it works**:\n",
        "  - The outer loop `for row in matrix` iterates through each sub-list.\n",
        "  - The inner loop `for num in row` iterates through each element in the sub-list."
      ],
      "metadata": {
        "id": "y1qJOemW82EI"
      }
    },
    {
      "cell_type": "code",
      "source": [
        "matrix = [[1, 2, 3], [4, 5, 6], [7, 8, 9]]\n",
        "flattened = [num for row in matrix for num in row]\n",
        "print(flattened)\n"
      ],
      "metadata": {
        "colab": {
          "base_uri": "https://localhost:8080/"
        },
        "id": "zWK2YDHG9AvL",
        "outputId": "c6359467-084a-433b-b103-3fbff3385c72"
      },
      "execution_count": 63,
      "outputs": [
        {
          "output_type": "stream",
          "name": "stdout",
          "text": [
            "[1, 2, 3, 4, 5, 6, 7, 8, 9]\n"
          ]
        }
      ]
    },
    {
      "cell_type": "markdown",
      "source": [
        "Example 4: `Using List Comprehension with if-else`\n",
        "###### Replace even numbers with \"even\" and odd numbers with \"odd\""
      ],
      "metadata": {
        "id": "CPTdGegv9fQ9"
      }
    },
    {
      "cell_type": "code",
      "source": [
        "numbers = [1, 2, 3, 4, 5]\n",
        "labels = [\"even\" if x % 2 == 0 else \"odd\" for x in numbers]\n",
        "labels"
      ],
      "metadata": {
        "colab": {
          "base_uri": "https://localhost:8080/"
        },
        "id": "yg-liq7D9mPb",
        "outputId": "a8594b3f-4a05-4ae3-ec5b-d7846336c01e"
      },
      "execution_count": 64,
      "outputs": [
        {
          "output_type": "execute_result",
          "data": {
            "text/plain": [
              "['odd', 'even', 'odd', 'even', 'odd']"
            ]
          },
          "metadata": {},
          "execution_count": 64
        }
      ]
    },
    {
      "cell_type": "markdown",
      "source": [
        "# Write a program to `merge two dictionaries`.\n",
        "\n",
        "The **most efficient way** to merge dictionaries depends on the **Python version** you're using and the **context** of the problem (e.g., whether you need to handle duplicates or preserve original dictionaries).\n",
        "###### dict1 = `{'a': 1, 'b': 2}`\n",
        "###### dict2 = `{'b': 3, 'c': 4}`\n",
        "\n",
        "##### Output: `{'a': 1, 'b': 3, 'c': 4}`\n",
        "\n",
        "\n",
        "---\n",
        "\n",
        "### **1. Python 3.9+: Using the `|` Operator**\n",
        "The `|` operator is the **most efficient** and concise way to merge dictionaries in Python 3.9+.\n",
        "\n",
        "- **Performance**: Very fast because it's implemented at the C level within Python.\n",
        "- **Mutability**: Creates a `new dictionary without modifying the original` ones.\n",
        "- **Usage**: Suitable for direct merging where values from the second dictionary override the first for duplicate keys.\n"
      ],
      "metadata": {
        "id": "DAOyAGD5-nUq"
      }
    },
    {
      "cell_type": "code",
      "source": [
        "dict1 = {'a': 1, 'b': 2}\n",
        "dict2 = {'b': 3, 'c': 4}\n",
        "merged_dict = dict1 | dict2\n",
        "print(merged_dict)\n",
        "print(dict1)\n",
        "print(dict2)"
      ],
      "metadata": {
        "colab": {
          "base_uri": "https://localhost:8080/"
        },
        "id": "YnRnM5OM_037",
        "outputId": "2fc663f9-7568-419d-fe8e-23c910fa5e20"
      },
      "execution_count": 65,
      "outputs": [
        {
          "output_type": "stream",
          "name": "stdout",
          "text": [
            "{'a': 1, 'b': 3, 'c': 4}\n",
            "{'a': 1, 'b': 2}\n",
            "{'b': 3, 'c': 4}\n"
          ]
        }
      ]
    },
    {
      "cell_type": "markdown",
      "source": [
        "### **2. Python 3.5+: Using Dictionary Unpacking (`{**dict1, **dict2}`)**\n",
        "For Python 3.5 to 3.8, dictionary unpacking is the most efficient.\n",
        "\n",
        "- **Performance**: Comparable to `|` in Python 3.9+, as it also avoids explicit loops and is internally optimized.\n",
        "- **Mutability**: Produces a `new dictionary, preserving the originals`.\n",
        "- **Usage**: Best for pre-3.9 versions when concise syntax is needed."
      ],
      "metadata": {
        "id": "TxJ77MJnBTiO"
      }
    },
    {
      "cell_type": "code",
      "source": [
        "dict1 = {'a': 1, 'b': 2}\n",
        "dict2 = {'b': 3, 'c': 4}\n",
        "merged_dict = {**dict1, **dict2}\n",
        "print(merged_dict)\n",
        "print(dict1)\n",
        "print(dict2)"
      ],
      "metadata": {
        "colab": {
          "base_uri": "https://localhost:8080/"
        },
        "id": "GorRWDc4BbTn",
        "outputId": "3f9b5959-599d-423f-8aa1-c337ee1d91e8"
      },
      "execution_count": 66,
      "outputs": [
        {
          "output_type": "stream",
          "name": "stdout",
          "text": [
            "{'a': 1, 'b': 3, 'c': 4}\n",
            "{'a': 1, 'b': 2}\n",
            "{'b': 3, 'c': 4}\n"
          ]
        }
      ]
    },
    {
      "cell_type": "markdown",
      "source": [
        "### **3. Universal Method: Using `update()`**\n",
        "The `update()` method is universal and works across all Python versions.\n",
        "- **Performance**: Slightly slower than `|` or unpacking because it requires an explicit copy operation.\n",
        "- **Mutability**: Creates a new dictionary if you use `copy()`. Otherwise, modifies the original dictionary.\n",
        "- **Usage**: Suitable for all Python versions when compatibility is important.\n"
      ],
      "metadata": {
        "id": "B4C-DlD-Bzke"
      }
    },
    {
      "cell_type": "code",
      "source": [
        "dict1 = {'a': 1, 'b': 2}\n",
        "dict2 = {'b': 3, 'c': 4}\n",
        "merged_dict = dict1.copy()\n",
        "merged_dict.update(dict2)\n",
        "print(merged_dict)\n",
        "print(dict1)\n",
        "print(dict2)"
      ],
      "metadata": {
        "colab": {
          "base_uri": "https://localhost:8080/"
        },
        "id": "tsmSm3wABzLi",
        "outputId": "fc13809f-dc44-43b7-f339-aa73cbbf1dc5"
      },
      "execution_count": 67,
      "outputs": [
        {
          "output_type": "stream",
          "name": "stdout",
          "text": [
            "{'a': 1, 'b': 3, 'c': 4}\n",
            "{'a': 1, 'b': 2}\n",
            "{'b': 3, 'c': 4}\n"
          ]
        }
      ]
    },
    {
      "cell_type": "markdown",
      "source": [
        "# Handling `Duplicate Keys with Custom Logic`.\n",
        "If you want to handle duplicate keys in a custom way (e.g., adding their values)"
      ],
      "metadata": {
        "id": "BSJZuDPUCMhM"
      }
    },
    {
      "cell_type": "code",
      "source": [
        "def merge_dicts_custom(dict1, dict2):\n",
        "    merged = dict1.copy()\n",
        "    for key, value in dict2.items():\n",
        "        if key in merged:\n",
        "            merged[key] += value  # Custom logic: Add values for duplicate keys\n",
        "        else:\n",
        "            merged[key] = value\n",
        "    return merged\n",
        "\n",
        "# Example\n",
        "dict1 = {'a': 1, 'b': 2}\n",
        "dict2 = {'b': 3, 'c': 4}\n",
        "merged_dict = merge_dicts_custom(dict1, dict2)\n",
        "print(merged_dict)\n",
        "print(dict1)\n",
        "print(dict2)"
      ],
      "metadata": {
        "colab": {
          "base_uri": "https://localhost:8080/"
        },
        "id": "q3XZhqe2CTwf",
        "outputId": "abeb72be-08d2-46a9-acf5-183c4e57d5d7"
      },
      "execution_count": 68,
      "outputs": [
        {
          "output_type": "stream",
          "name": "stdout",
          "text": [
            "{'a': 1, 'b': 5, 'c': 4}\n",
            "{'a': 1, 'b': 2}\n",
            "{'b': 3, 'c': 4}\n"
          ]
        }
      ]
    },
    {
      "cell_type": "markdown",
      "source": [
        "# Write a function to find the `most common word in a list of words`.\n",
        "\n",
        "# Example\n",
        "words = `[\"apple\", \"banana\", \"apple\", \"orange\", \"banana\", \"apple\"]`\n",
        "\n",
        "output = The most common word is `'apple'` with `3` occurrences."
      ],
      "metadata": {
        "id": "WoZVHBYfDV9U"
      }
    },
    {
      "cell_type": "code",
      "source": [
        "def most_common_words(words):\n",
        "  if not words:\n",
        "    return None\n",
        "  word_count = {}\n",
        "  for word in words:\n",
        "    word_count[word] = word_count.get(word, 0) + 1\n",
        "  most_common = max(word_count.items(), key = lambda x: x[1])\n",
        "  return most_common\n",
        "\n",
        "words = [\"apple\", \"banana\", \"apple\", \"orange\", \"banana\", \"apple\"]\n",
        "result = most_common_words(words)\n",
        "print(result)\n",
        "print(f\"The most common word is '{result[0]}' with {result[1]} occurrences.\")\n"
      ],
      "metadata": {
        "colab": {
          "base_uri": "https://localhost:8080/"
        },
        "id": "5anep0JKCmwG",
        "outputId": "c170a7e3-8b1a-4467-b595-d7e0d0543382"
      },
      "execution_count": 69,
      "outputs": [
        {
          "output_type": "stream",
          "name": "stdout",
          "text": [
            "('apple', 3)\n",
            "The most common word is 'apple' with 3 occurrences.\n"
          ]
        }
      ]
    }
  ]
}