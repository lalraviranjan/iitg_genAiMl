{
 "cells": [
  {
   "cell_type": "code",
   "execution_count": 19,
   "metadata": {},
   "outputs": [],
   "source": [
    "# Imports\n",
    "import bcrypt\n",
    "import pandas as pd\n",
    "import os\n",
    "import sqlite3\n",
    "from models.db_setup import create_connection"
   ]
  },
  {
   "cell_type": "code",
   "execution_count": 21,
   "metadata": {},
   "outputs": [],
   "source": [
    "def connect_db():\n",
    "    conn = create_connection()\n",
    "    cursor = conn.cursor()\n",
    "    return conn, cursor"
   ]
  },
  {
   "cell_type": "code",
   "execution_count": 22,
   "metadata": {},
   "outputs": [
    {
     "data": {
      "text/html": [
       "<div>\n",
       "<style scoped>\n",
       "    .dataframe tbody tr th:only-of-type {\n",
       "        vertical-align: middle;\n",
       "    }\n",
       "\n",
       "    .dataframe tbody tr th {\n",
       "        vertical-align: top;\n",
       "    }\n",
       "\n",
       "    .dataframe thead th {\n",
       "        text-align: right;\n",
       "    }\n",
       "</style>\n",
       "<table border=\"1\" class=\"dataframe\">\n",
       "  <thead>\n",
       "    <tr style=\"text-align: right;\">\n",
       "      <th></th>\n",
       "      <th>id</th>\n",
       "      <th>username</th>\n",
       "      <th>password</th>\n",
       "    </tr>\n",
       "  </thead>\n",
       "  <tbody>\n",
       "    <tr>\n",
       "      <th>0</th>\n",
       "      <td>1</td>\n",
       "      <td>raviranjan</td>\n",
       "      <td>b'$2b$12$TVSHgBSYTKOKPM94L2keEeN0cTv.2NXOfS46O...</td>\n",
       "    </tr>\n",
       "    <tr>\n",
       "      <th>1</th>\n",
       "      <td>2</td>\n",
       "      <td>sweeti</td>\n",
       "      <td>b'$2b$12$9TTH21WFaHhGd5Zz3Q06j./y4RJfZwm5LmC5H...</td>\n",
       "    </tr>\n",
       "  </tbody>\n",
       "</table>\n",
       "</div>"
      ],
      "text/plain": [
       "   id    username                                           password\n",
       "0   1  raviranjan  b'$2b$12$TVSHgBSYTKOKPM94L2keEeN0cTv.2NXOfS46O...\n",
       "1   2      sweeti  b'$2b$12$9TTH21WFaHhGd5Zz3Q06j./y4RJfZwm5LmC5H..."
      ]
     },
     "metadata": {},
     "output_type": "display_data"
    }
   ],
   "source": [
    "conn, cursor = connect_db()\n",
    "df = pd.read_sql_query(\"SELECT * from users\", conn)\n",
    "display(df)"
   ]
  },
  {
   "cell_type": "code",
   "execution_count": 15,
   "metadata": {},
   "outputs": [],
   "source": [
    "def is_user_registered(username):\n",
    "    conn, cursor = connect_db()\n",
    "    cursor.execute(\"SELECT 1 FROM users WHERE username = ?\", (username,))\n",
    "    result = cursor.fetchone()\n",
    "    conn.close()\n",
    "    print(\"User Name******** : \", result)\n",
    "\n",
    "    return result is not None"
   ]
  },
  {
   "cell_type": "code",
   "execution_count": 16,
   "metadata": {},
   "outputs": [],
   "source": [
    "def register_user():\n",
    "    conn, cursor = connect_db()\n",
    "    while True:\n",
    "        user_name = input(\"Enter username (or Type 'exit' to quit): \")\n",
    "        if user_name.lower() == 'exit':\n",
    "            return \"exit\"\n",
    "        elif is_user_registered(user_name):\n",
    "            print(\"Username already exists. Please try a different username.\")\n",
    "        else:\n",
    "            break\n",
    "\n",
    "    password = input(\"Enter password: \")\n",
    "    hashed_password = bcrypt.hashpw(password.encode('utf-8'), bcrypt.gensalt())\n",
    "\n",
    "    try:\n",
    "        cursor.execute(\"INSERT INTO users (username, password) VALUES (?, ?)\", (user_name, hashed_password))\n",
    "        conn.commit()\n",
    "        print(\"Registration Successfull ! You can now log in to create your task.\")\n",
    "    except sqlite3.IntegrityError:\n",
    "        print(\"Username already exists. Please try different username.\")\n",
    "    finally:\n",
    "        conn.close()\n",
    "\n",
    "    return \"registered\"\n"
   ]
  },
  {
   "cell_type": "code",
   "execution_count": 17,
   "metadata": {},
   "outputs": [],
   "source": [
    "def user_login_register():\n",
    "    print(\"Welcome to Task Manager\")\n",
    "    print(\"*\" * 30)\n",
    "    while True:\n",
    "        print(\"\\nType 'L' to Login or 'R' to Register (or Type 'exit' to Exit)\")\n",
    "        user_input = input(\"Enter your choice: \").strip().upper()\n",
    "\n",
    "        if user_input == 'L':\n",
    "            # call the login function\n",
    "            break\n",
    "        elif user_input == 'R':\n",
    "            registration_status = register_user()\n",
    "            if registration_status == 'exit':\n",
    "                continue\n",
    "        elif user_input.lower() == 'exit':\n",
    "            print(\"Exiting the task manager.\")\n",
    "            break\n",
    "        else:\n",
    "            print(\"\\nInvalid Choice. Please Type 'L' to Login or 'R' to Register (or Type 'E' to Exit)\")"
   ]
  },
  {
   "cell_type": "code",
   "execution_count": null,
   "metadata": {},
   "outputs": [],
   "source": [
    "user_login_register()"
   ]
  }
 ],
 "metadata": {
  "kernelspec": {
   "display_name": "Python 3",
   "language": "python",
   "name": "python3"
  },
  "language_info": {
   "codemirror_mode": {
    "name": "ipython",
    "version": 3
   },
   "file_extension": ".py",
   "mimetype": "text/x-python",
   "name": "python",
   "nbconvert_exporter": "python",
   "pygments_lexer": "ipython3",
   "version": "3.12.3"
  }
 },
 "nbformat": 4,
 "nbformat_minor": 2
}
