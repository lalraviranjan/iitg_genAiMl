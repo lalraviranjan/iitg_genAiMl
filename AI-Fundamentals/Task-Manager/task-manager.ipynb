{
 "cells": [
  {
   "cell_type": "code",
   "execution_count": 4,
   "metadata": {},
   "outputs": [],
   "source": [
    "# Imports\n",
    "import getpass\n",
    "import bcrypt\n",
    "import pandas as pd\n",
    "import sqlite3\n",
    "from models.db_setup import create_connection"
   ]
  },
  {
   "cell_type": "code",
   "execution_count": null,
   "metadata": {},
   "outputs": [],
   "source": [
    "def connect_db():\n",
    "    conn = create_connection()\n",
    "    cursor = conn.cursor()\n",
    "    return conn, cursor"
   ]
  },
  {
   "cell_type": "code",
   "execution_count": null,
   "metadata": {},
   "outputs": [],
   "source": [
    "# conn, cursor = connect_db()\n",
    "# df = pd.read_sql_query(\"SELECT * from users\", conn)\n",
    "# print(df.to_string(index=False))"
   ]
  },
  {
   "cell_type": "code",
   "execution_count": 7,
   "metadata": {},
   "outputs": [],
   "source": [
    "def is_user_registered(type, username):\n",
    "    conn, cursor = connect_db()\n",
    "    if type == 'login':\n",
    "       cursor.execute(\"SELECT id, password FROM users WHERE username = ?\", (username,))\n",
    "    else:\n",
    "        cursor.execute(\"SELECT 1 FROM users WHERE username = ?\", (username,))\n",
    "        \n",
    "    result = cursor.fetchone()\n",
    "    conn.close()\n",
    "    if type == 'login':\n",
    "        return (result[0], result[1]) if result else None\n",
    "    else:\n",
    "        return result if result else None"
   ]
  },
  {
   "cell_type": "code",
   "execution_count": 15,
   "metadata": {},
   "outputs": [],
   "source": [
    "def register_user():\n",
    "    conn, cursor = connect_db()\n",
    "    while True:\n",
    "        user_name = input(\"Enter username (or Type 'exit' to quit): \")\n",
    "        if user_name.lower() == 'exit':\n",
    "            conn.close()\n",
    "            return \"exit\"\n",
    "        \n",
    "        if is_user_registered('register', user_name):\n",
    "            print(\"\\nUsername already exists. Please try a different username.\")\n",
    "            continue\n",
    "\n",
    "        password = getpass.getpass(\"Enter password (or Type 'exit' to quit): \")\n",
    "        if password.lower() == 'exit':\n",
    "            conn.close()\n",
    "            return \"exit\"\n",
    "        \n",
    "        hashed_password = bcrypt.hashpw(password.encode('utf-8'), bcrypt.gensalt())\n",
    "        try:\n",
    "            cursor.execute(\"INSERT INTO users (username, password) VALUES (?, ?)\", (user_name, hashed_password))\n",
    "            conn.commit()\n",
    "            print(\"\\nRegistration Successfull ! You can now log in to create your task.\")\n",
    "        except sqlite3.IntegrityError:\n",
    "            print(\"\\nUsername already exists. Please try different username.\")\n",
    "        finally:\n",
    "            conn.close()\n",
    "\n",
    "        return \"registered\""
   ]
  },
  {
   "cell_type": "code",
   "execution_count": 178,
   "metadata": {},
   "outputs": [],
   "source": [
    "def login():\n",
    "    while True:\n",
    "        name = input(\"Enter user name (or type 'exit' to quit): \")\n",
    "        if name.lower() == 'exit':\n",
    "            return \"exit\"\n",
    "        \n",
    "        user_data = is_user_registered('login', name)\n",
    "        if user_data:\n",
    "            password = getpass.getpass(\"Enter password (or type 'exit') to quit: \")\n",
    "            if password.lower() == 'exit':\n",
    "                return \"exit\"\n",
    "            if bcrypt.checkpw(password.encode('utf-8'), user_data[1]):\n",
    "                print(f\"\\nLogin successfull! Welcome to the Task Manager {name}.\")\n",
    "                return user_data[0]\n",
    "            else:\n",
    "                print(\"\\nInavid Password. Please trye again.\")\n",
    "                continue\n",
    "        else:\n",
    "            print(\"\\nUsername not found! Please register to login.\")\n",
    "            continue"
   ]
  },
  {
   "cell_type": "code",
   "execution_count": 179,
   "metadata": {},
   "outputs": [],
   "source": [
    "def get_task(user_id):\n",
    "    conn, cursor = connect_db()\n",
    "    cursor.execute(\"SELECT task_id, description, status FROM tasks WHERE user_id = ?\", (user_id,))\n",
    "    result = cursor.fetchall()\n",
    "    conn.close()\n",
    "\n",
    "    return result if result else []"
   ]
  },
  {
   "cell_type": "code",
   "execution_count": 180,
   "metadata": {},
   "outputs": [],
   "source": [
    "def view_task(user_id):\n",
    "    task_data = get_task(user_id)\n",
    "    print(\"*\"*30)\n",
    "    if task_data:\n",
    "        df = pd.DataFrame(task_data, columns=[\"Task Id\", \"Description\", \"Status\"])\n",
    "        print(df.to_string(index=False))\n",
    "    else:\n",
    "        print(\"No Task added yet. Type 1 to Add your task.\")"
   ]
  },
  {
   "cell_type": "code",
   "execution_count": 181,
   "metadata": {},
   "outputs": [],
   "source": [
    "def add_task(user_id):\n",
    "    description = input(\"Enter the task description (or type 'exit' to quit): \")\n",
    "    if description.lower() == 'exit':\n",
    "        return \"exit\"\n",
    "    status = \"Pending\"\n",
    "\n",
    "    conn, cursor = connect_db()\n",
    "    try:\n",
    "        cursor.execute(\"INSERT INTO tasks (user_id, description, status) VALUES (?, ?, ?)\", (user_id, description, status))\n",
    "        conn.commit()\n",
    "        print(\"\\nTask Added Successfully!\")\n",
    "    except sqlite3.Error as err:\n",
    "        print(\"Error adding task: \", err)\n",
    "    finally:\n",
    "        conn.close()"
   ]
  },
  {
   "cell_type": "code",
   "execution_count": 182,
   "metadata": {},
   "outputs": [],
   "source": [
    "def get_task_from_task_id(task_id):\n",
    "    conn, cursor = connect_db()\n",
    "    cursor.execute(\"SELECT 1 FROM tasks WHERE task_id = ?\", (task_id,))\n",
    "    result = cursor.fetchone()\n",
    "    conn.close()\n",
    "    return result if result else None"
   ]
  },
  {
   "cell_type": "code",
   "execution_count": 183,
   "metadata": {},
   "outputs": [],
   "source": [
    "def update_task(task_id, type):\n",
    "    conn, cursor = connect_db()\n",
    "    if type == 'complete':\n",
    "        cursor.execute(\"UPDATE tasks SET status = 'Completed' WHERE task_id = ?\", (task_id,))\n",
    "        conn.commit()\n",
    "    elif type == 'delete':\n",
    "       cursor.execute(\"DELETE FROM tasks WHERE task_id = ?\", (task_id,))\n",
    "       conn.commit()\n",
    "    else:\n",
    "        print(\"Invalid type for task Update.\")"
   ]
  },
  {
   "cell_type": "code",
   "execution_count": 184,
   "metadata": {},
   "outputs": [],
   "source": [
    "def complete_task(user_id):\n",
    "    while True:\n",
    "        view_task(user_id)\n",
    "        task_id = input(\"Enter the task id to mark as completed (or type 'exit' to quit): \")\n",
    "        if task_id.lower() == 'exit':\n",
    "            break\n",
    "        task = get_task_from_task_id(task_id)\n",
    "        if task:\n",
    "            update_task(task_id, 'complete')\n",
    "            print(f\"Task Id - {task_id} marked as Completed.\")\n",
    "            break\n",
    "        else:\n",
    "            print(\"\\nInvalid Task Id. Please enter the valid task id to mark as completed.\")\n",
    "            continue\n",
    "    "
   ]
  },
  {
   "cell_type": "code",
   "execution_count": 185,
   "metadata": {},
   "outputs": [],
   "source": [
    "def delete_task(user_id):\n",
    "    while True:\n",
    "        view_task(user_id)\n",
    "        task_id = input(\"Enter the task id to delete (or type 'exit' to quit): \")\n",
    "        if task_id.lower() == 'exit':\n",
    "            return\n",
    "        task = get_task_from_task_id(task_id)\n",
    "        if task:\n",
    "            while True:\n",
    "                confirm_delete = input(f\"Are you sure you want to delete Task id - {task_id} ? (type 'yes' to Confirm or 'exit' to quit): \")\n",
    "                if confirm_delete.lower() == 'exit':\n",
    "                    break\n",
    "                elif confirm_delete.lower() == 'yes':\n",
    "                    update_task(task_id, 'delete')\n",
    "                    print(f\"Task Id - {task_id} is deleted.\")\n",
    "                    break\n",
    "                else:\n",
    "                    print(\"\\nPlease confirm a valid choice\")\n",
    "                    continue\n",
    "            break\n",
    "        else:\n",
    "            print(\"\\nInvalid Task Id. Please enter the valid task id to delete.\")\n",
    "            continue"
   ]
  },
  {
   "cell_type": "code",
   "execution_count": 186,
   "metadata": {},
   "outputs": [],
   "source": [
    "def task_menu(user_id):\n",
    "    while True:\n",
    "        print(\"*\"*30)\n",
    "        print(\"Task Manager Menu: \")\n",
    "        print(\"1. Add Task\")\n",
    "        print(\"2. View Task\")\n",
    "        print(\"3. Mark a Task as Completed\")\n",
    "        print(\"4. Delete a Task\")\n",
    "        print(\"5. Logout\")\n",
    "\n",
    "        option = input(\"Enter an option of your choice: \")\n",
    "        if option == \"1\":\n",
    "            add_task(user_id)\n",
    "        elif option == \"2\":\n",
    "            view_task(user_id)\n",
    "        elif option == \"3\":\n",
    "            complete_task(user_id)\n",
    "        elif option == \"4\":\n",
    "            delete_task(user_id)\n",
    "        elif option == \"5\":\n",
    "            return \"logout\"\n",
    "        else:\n",
    "            print(\"Please select a correct option\")"
   ]
  },
  {
   "cell_type": "code",
   "execution_count": 187,
   "metadata": {},
   "outputs": [],
   "source": [
    "def user_login_register():\n",
    "    print(\"\\nWelcome to Task Manager. Login to Manage your tasks.\")\n",
    "    print(\"*\" * 30)\n",
    "    while True:\n",
    "        print(\"\\nType 'L' to Login or 'R' to Register (or Type 'exit' to Exit)\")\n",
    "        user_input = input(\"Enter your choice: \").strip().upper()\n",
    "\n",
    "        if user_input == 'L':\n",
    "            user_id = login()\n",
    "            if user_id == 'exit':\n",
    "                continue\n",
    "            \n",
    "            login_status = task_menu(user_id)\n",
    "            if login_status == 'logout':\n",
    "                print(\"\\nYou are logged out successfully!\")\n",
    "                break\n",
    "        elif user_input == 'R':\n",
    "            registration_status = register_user()\n",
    "            if registration_status == 'exit':\n",
    "                continue\n",
    "        elif user_input.lower() == 'exit':\n",
    "            print(\"Exiting the task manager.\")\n",
    "            break\n",
    "        else:\n",
    "            print(\"\\nInvalid Choice. Please Type 'L' to Login or 'R' to Register (or Type 'E' to Exit)\")"
   ]
  },
  {
   "cell_type": "code",
   "execution_count": null,
   "metadata": {},
   "outputs": [],
   "source": [
    "user_login_register()"
   ]
  }
 ],
 "metadata": {
  "kernelspec": {
   "display_name": "Python 3",
   "language": "python",
   "name": "python3"
  },
  "language_info": {
   "codemirror_mode": {
    "name": "ipython",
    "version": 3
   },
   "file_extension": ".py",
   "mimetype": "text/x-python",
   "name": "python",
   "nbconvert_exporter": "python",
   "pygments_lexer": "ipython3",
   "version": "3.12.3"
  }
 },
 "nbformat": 4,
 "nbformat_minor": 2
}
