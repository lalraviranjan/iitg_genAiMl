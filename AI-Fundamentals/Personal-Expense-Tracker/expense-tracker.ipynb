{
 "cells": [
  {
   "cell_type": "code",
   "execution_count": 13,
   "metadata": {},
   "outputs": [
    {
     "name": "stdout",
     "output_type": "stream",
     "text": [
      "Hello World\n"
     ]
    }
   ],
   "source": [
    "print(\"Hello World\")"
   ]
  },
  {
   "cell_type": "code",
   "execution_count": 14,
   "metadata": {},
   "outputs": [],
   "source": [
    "expenses = []"
   ]
  },
  {
   "cell_type": "code",
   "execution_count": 24,
   "metadata": {},
   "outputs": [],
   "source": [
    "def add_expense():\n",
    "    dt = input(\"Enter the expense date in YYYY-MM-DD format\")\n",
    "    categ = input(\"Enter the expense category\")\n",
    "    amt = float(input(\"Enter the expense amount\"))\n",
    "    desc = input(\"Enter description for your expense\")\n",
    "    expenses.append({'category':categ, 'amount': amt, 'date': dt, 'description': desc})"
   ]
  },
  {
   "cell_type": "code",
   "execution_count": 33,
   "metadata": {},
   "outputs": [],
   "source": [
    "def view_expense():\n",
    "    if not expenses:\n",
    "        print(\"No Expenses Found.\")\n",
    "    else :\n",
    "        print(\"\\nExpenses List:\")\n",
    "        for i, expense in enumerate(expenses, start=1):\n",
    "            missing_fields = []\n",
    "            if 'category' not in expense or not expense['category']:\n",
    "                missing_fields.append('Category')\n",
    "            if 'amount' not in expense or not expense['amount']:\n",
    "                missing_fields.append('Amount')\n",
    "            if 'date' not in expense or not expense['date']:\n",
    "                missing_fields.append('Date')\n",
    "            if 'description' not in expense or not expense['description']:\n",
    "                missing_fields.append('Description')\n",
    "            \n",
    "            if missing_fields:\n",
    "                print(f\"{i}. {', '.join(missing_fields)} is missing for this expense.\")\n",
    "            else :\n",
    "                print(f\"{i}. {expense['date']} | {expense['category']} | ${expense['amount']:.2f} | {expense['description']}\")\n"
   ]
  },
  {
   "cell_type": "code",
   "execution_count": 17,
   "metadata": {},
   "outputs": [],
   "source": [
    "def track_budget():\n",
    "    budget = float(input(\"Enter the amount you want to budget for the month\"))"
   ]
  },
  {
   "cell_type": "code",
   "execution_count": 27,
   "metadata": {},
   "outputs": [],
   "source": [
    "add_expense()"
   ]
  },
  {
   "cell_type": "code",
   "execution_count": 19,
   "metadata": {},
   "outputs": [
    {
     "data": {
      "text/plain": [
       "[{'category': 'Lunch',\n",
       "  'amount': 2000.0,\n",
       "  'date': '2024-10-24',\n",
       "  'description': 'Lunch with Friends '}]"
      ]
     },
     "execution_count": 19,
     "metadata": {},
     "output_type": "execute_result"
    }
   ],
   "source": [
    "expenses"
   ]
  },
  {
   "cell_type": "code",
   "execution_count": 34,
   "metadata": {},
   "outputs": [
    {
     "name": "stdout",
     "output_type": "stream",
     "text": [
      "\n",
      "Expenses List:\n",
      "1. 2024-10-24 | Lunch | $2000.00 | Lunch with Friends \n",
      "2. Category is missing for this expense.\n"
     ]
    }
   ],
   "source": [
    "view_expense()"
   ]
  },
  {
   "cell_type": "code",
   "execution_count": 21,
   "metadata": {},
   "outputs": [],
   "source": [
    "def main_menu():\n",
    "    while True:\n",
    "        print(\"Expense Tracker Menu: \")\n",
    "        print(\"1. Add Expense\")\n",
    "        print(\"2. View Expenses\")\n",
    "        print(\"3. Track Budget\")\n",
    "        print(\"4. Save Expenses\")\n",
    "        print(\"5. Exit\")\n",
    "\n",
    "        option = input(\"Enter the number for your option\")\n",
    "\n",
    "        if(option == \"1\") :\n",
    "            pass\n",
    "        \n",
    "\n"
   ]
  }
 ],
 "metadata": {
  "kernelspec": {
   "display_name": "Python 3",
   "language": "python",
   "name": "python3"
  },
  "language_info": {
   "codemirror_mode": {
    "name": "ipython",
    "version": 3
   },
   "file_extension": ".py",
   "mimetype": "text/x-python",
   "name": "python",
   "nbconvert_exporter": "python",
   "pygments_lexer": "ipython3",
   "version": "3.12.3"
  }
 },
 "nbformat": 4,
 "nbformat_minor": 4
}
