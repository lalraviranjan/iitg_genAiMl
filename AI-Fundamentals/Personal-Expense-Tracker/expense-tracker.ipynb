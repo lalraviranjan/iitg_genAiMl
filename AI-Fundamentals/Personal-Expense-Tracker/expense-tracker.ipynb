{
 "cells": [
  {
   "cell_type": "code",
   "execution_count": 2,
   "metadata": {},
   "outputs": [],
   "source": [
    "from datetime import datetime\n",
    "import pandas as pd"
   ]
  },
  {
   "cell_type": "code",
   "execution_count": 3,
   "metadata": {},
   "outputs": [],
   "source": [
    "expenses = []"
   ]
  },
  {
   "cell_type": "code",
   "execution_count": 4,
   "metadata": {},
   "outputs": [],
   "source": [
    "def view_expenses():\n",
    "    if not expenses:\n",
    "        print(\"No Expenses Found.\")\n",
    "    else :\n",
    "        print(\"Expenses List:\")\n",
    "        for i, expense in enumerate(expenses, start=1):\n",
    "            missing_fields = []\n",
    "            if 'category' not in expense or not expense['category']:\n",
    "                missing_fields.append('Category')\n",
    "            if 'amount' not in expense or not expense['amount']:\n",
    "                missing_fields.append('Amount')\n",
    "            if 'date' not in expense or not expense['date']:\n",
    "                missing_fields.append('Date')\n",
    "            if 'description' not in expense or not expense['description']:\n",
    "                missing_fields.append('Description')\n",
    "            \n",
    "            if missing_fields:\n",
    "                print(f\"{i}. {', '.join(missing_fields)} is missing for this expense.\")\n",
    "            else :\n",
    "                print(f\"{i}. {expense['date']} | {expense['category']} | ${expense['amount']:.2f} | {expense['description']}\")"
   ]
  },
  {
   "cell_type": "code",
   "execution_count": 13,
   "metadata": {},
   "outputs": [
    {
     "name": "stdout",
     "output_type": "stream",
     "text": [
      "Expenses List:\n",
      "1. 05-10-2024 | Grocery | $150.00 | Grocery shopping\n",
      "2. 12-10-2024 | Lunch | $12.50 | Lunch at a restaurant\n",
      "3. 10-11-2024 | Vacation | $500.00 | Hotel booking for vacation\n",
      "4. Description is missing for this expense.\n",
      "5. Description is missing for this expense.\n",
      "6. 2024-10-12 | Lunch | $1234.00 | Lunch With Friends\n"
     ]
    }
   ],
   "source": [
    "def read_expenses_from_csv(file_name):\n",
    "    global expenses\n",
    "    try:\n",
    "        df = pd.read_csv(file_name)\n",
    "        df = df.fillna('')\n",
    "        expenses = df.to_dict(orient='records')\n",
    "    except FileNotFoundError:\n",
    "        print(f\"No {file_name}.csv found\")\n",
    "    except Exception as e:\n",
    "        print(f\"An error occured: {e}\")\n",
    "\n",
    "read_expenses_from_csv(\"expenses.csv\")\n",
    "view_expenses()"
   ]
  },
  {
   "cell_type": "code",
   "execution_count": 6,
   "metadata": {},
   "outputs": [],
   "source": [
    "def validate_date(date_str):\n",
    "    if date_str.lower() == \"exit\":\n",
    "        return \"exit\"\n",
    "    try:\n",
    "        datetime.strptime(date_str, \"%Y-%m-%d\")\n",
    "        return True\n",
    "    except ValueError:\n",
    "        print(\"\\nInvalid date format, date must be in YYYY-MM-DD format\")\n",
    "        return False"
   ]
  },
  {
   "cell_type": "code",
   "execution_count": 7,
   "metadata": {},
   "outputs": [],
   "source": [
    "def valid_amount(amt_val):\n",
    "    try:\n",
    "        amt = float(amt_val)\n",
    "        if amt > 0:\n",
    "            return True\n",
    "        else:\n",
    "            print(\"\\nPlease enter amount greater than 0\")\n",
    "            return False\n",
    "    except ValueError:\n",
    "        if amt_val.lower() == \"exit\":\n",
    "            return \"exit\"\n",
    "        else:\n",
    "            print(\"\\nPlease enter a valid amount\")\n",
    "            return False"
   ]
  },
  {
   "cell_type": "code",
   "execution_count": 8,
   "metadata": {},
   "outputs": [],
   "source": [
    "def add_expense():\n",
    "    while True:\n",
    "        dt = input(\"Enter the expense date in YYYY-MM-DD format (or type 'exit' to quit ): \")\n",
    "        if validate_date(dt) == \"exit\":\n",
    "            return\n",
    "        elif validate_date(dt):\n",
    "            break\n",
    "\n",
    "    categ = input(\"Enter the expense category : \")\n",
    "\n",
    "    while True:\n",
    "        amt_input = input(\"Enter the expense amount : \")\n",
    "        if valid_amount(amt_input) == \"exit\":\n",
    "            return\n",
    "        elif valid_amount(amt_input):\n",
    "            break\n",
    "\n",
    "    desc = input(\"Enter description for your expense : \")\n",
    "    expenses.append({'category':categ, 'amount': float(amt_input), 'date': dt, 'description': desc})\n",
    "    print(\"\\nExpense added to the List\")"
   ]
  },
  {
   "cell_type": "code",
   "execution_count": 9,
   "metadata": {},
   "outputs": [],
   "source": [
    "def claculate_total_expense():\n",
    "    total = sum(expense[\"amount\"] for expense in expenses if expense.get(\"date\", \"\").startswith(datetime.now().strftime(\"%Y-%m\")))\n",
    "    return total"
   ]
  },
  {
   "cell_type": "code",
   "execution_count": 10,
   "metadata": {},
   "outputs": [],
   "source": [
    "def track_budget():\n",
    "    while True:\n",
    "        try:\n",
    "            monthly_budget_input = input(\"Enter your total monthly budget (or type exit to quit): \")\n",
    "            if monthly_budget_input.lower() == 'exit':\n",
    "                print(\"Exiting the Budget Tracker\")\n",
    "                break\n",
    "\n",
    "            monthly_budget = float(monthly_budget_input)\n",
    "            if monthly_budget > 0:\n",
    "                print(f\"Monthly Budget set to : ${monthly_budget:.2f}\")\n",
    "\n",
    "                total_expense = claculate_total_expense()\n",
    "                if total_expense > monthly_budget:\n",
    "                    print(\"Warning! You have exceeded your budget for this month.\")\n",
    "                else :\n",
    "                    remaining_budget = monthly_budget - total_expense\n",
    "                    print(f\"Your remaining budget for this month is: ${remaining_budget}\")\n",
    "\n",
    "                break\n",
    "            else:\n",
    "                print(f\"Monthly Budget should be greater than 0\")\n",
    "        except:\n",
    "            print(f\"Please enter a numerical value for the monthly budget\")"
   ]
  },
  {
   "cell_type": "code",
   "execution_count": 11,
   "metadata": {},
   "outputs": [],
   "source": [
    "def save_expenses():\n",
    "    if not expenses:\n",
    "        print(\"No Expense Data to save\")\n",
    "        return\n",
    "    \n",
    "    df = pd.DataFrame(expenses)\n",
    "    df.to_csv(\"expenses.csv\", index=False)\n",
    "    print(\"Expenses saved to expenses.csv\")"
   ]
  },
  {
   "cell_type": "code",
   "execution_count": 12,
   "metadata": {},
   "outputs": [
    {
     "name": "stdout",
     "output_type": "stream",
     "text": [
      "********************\n",
      "Expense Tracker Menu: \n",
      "1. Add Expense\n",
      "2. View Expenses\n",
      "3. Track Budget\n",
      "4. Save Expenses\n",
      "5. Exit\n"
     ]
    },
    {
     "name": "stdout",
     "output_type": "stream",
     "text": [
      "Enter the number to select an option :  1\n"
     ]
    },
    {
     "name": "stdout",
     "output_type": "stream",
     "text": [
      "********************\n"
     ]
    },
    {
     "name": "stdout",
     "output_type": "stream",
     "text": [
      "Enter the expense date in YYYY-MM-DD format (or type 'exit' to quit ):  dsdsds\n"
     ]
    },
    {
     "name": "stdout",
     "output_type": "stream",
     "text": [
      "\n",
      "Invalid date format, date must be in YYYY-MM-DD format\n",
      "\n",
      "Invalid date format, date must be in YYYY-MM-DD format\n"
     ]
    },
    {
     "name": "stdout",
     "output_type": "stream",
     "text": [
      "Enter the expense date in YYYY-MM-DD format (or type 'exit' to quit ):  2024-10-12\n",
      "Enter the expense category :  Lunch\n",
      "Enter the expense amount :  sdds\n"
     ]
    },
    {
     "name": "stdout",
     "output_type": "stream",
     "text": [
      "\n",
      "Please enter a valid amount\n",
      "\n",
      "Please enter a valid amount\n"
     ]
    },
    {
     "name": "stdout",
     "output_type": "stream",
     "text": [
      "Enter the expense amount :  1234\n",
      "Enter description for your expense :  Lunch With Friends\n"
     ]
    },
    {
     "name": "stdout",
     "output_type": "stream",
     "text": [
      "\n",
      "Expense added to the List\n",
      "********************\n",
      "Expense Tracker Menu: \n",
      "1. Add Expense\n",
      "2. View Expenses\n",
      "3. Track Budget\n",
      "4. Save Expenses\n",
      "5. Exit\n"
     ]
    },
    {
     "name": "stdout",
     "output_type": "stream",
     "text": [
      "Enter the number to select an option :  2\n"
     ]
    },
    {
     "name": "stdout",
     "output_type": "stream",
     "text": [
      "********************\n",
      "Expenses List:\n",
      "1. 05-10-2024 | Grocery | $150.00 | Grocery shopping\n",
      "2. 12-10-2024 | Lunch | $12.50 | Lunch at a restaurant\n",
      "3. 10-11-2024 | Vacation | $500.00 | Hotel booking for vacation\n",
      "4. Description is missing for this expense.\n",
      "5. Description is missing for this expense.\n",
      "6. 2024-10-12 | Lunch | $1234.00 | Lunch With Friends\n",
      "********************\n",
      "Expense Tracker Menu: \n",
      "1. Add Expense\n",
      "2. View Expenses\n",
      "3. Track Budget\n",
      "4. Save Expenses\n",
      "5. Exit\n"
     ]
    },
    {
     "name": "stdout",
     "output_type": "stream",
     "text": [
      "Enter the number to select an option :  3\n"
     ]
    },
    {
     "name": "stdout",
     "output_type": "stream",
     "text": [
      "********************\n"
     ]
    },
    {
     "name": "stdout",
     "output_type": "stream",
     "text": [
      "Enter your total monthly budget (or type exit to quit):  3400\n"
     ]
    },
    {
     "name": "stdout",
     "output_type": "stream",
     "text": [
      "Monthly Budget set to : $3400.00\n",
      "Warning! You have exceeded your budget for this month.\n",
      "********************\n",
      "Expense Tracker Menu: \n",
      "1. Add Expense\n",
      "2. View Expenses\n",
      "3. Track Budget\n",
      "4. Save Expenses\n",
      "5. Exit\n"
     ]
    },
    {
     "name": "stdout",
     "output_type": "stream",
     "text": [
      "Enter the number to select an option :  3\n"
     ]
    },
    {
     "name": "stdout",
     "output_type": "stream",
     "text": [
      "********************\n"
     ]
    },
    {
     "name": "stdout",
     "output_type": "stream",
     "text": [
      "Enter your total monthly budget (or type exit to quit):  126565\n"
     ]
    },
    {
     "name": "stdout",
     "output_type": "stream",
     "text": [
      "Monthly Budget set to : $126565.00\n",
      "Your remaining budget for this month is: $112986.0\n",
      "********************\n",
      "Expense Tracker Menu: \n",
      "1. Add Expense\n",
      "2. View Expenses\n",
      "3. Track Budget\n",
      "4. Save Expenses\n",
      "5. Exit\n"
     ]
    },
    {
     "name": "stdout",
     "output_type": "stream",
     "text": [
      "Enter the number to select an option :  4\n"
     ]
    },
    {
     "name": "stdout",
     "output_type": "stream",
     "text": [
      "********************\n",
      "Expenses saved to expenses.csv\n",
      "********************\n",
      "Expense Tracker Menu: \n",
      "1. Add Expense\n",
      "2. View Expenses\n",
      "3. Track Budget\n",
      "4. Save Expenses\n",
      "5. Exit\n"
     ]
    },
    {
     "name": "stdout",
     "output_type": "stream",
     "text": [
      "Enter the number to select an option :  5\n"
     ]
    },
    {
     "name": "stdout",
     "output_type": "stream",
     "text": [
      "********************\n"
     ]
    }
   ],
   "source": [
    "def expense_menu():\n",
    "    while True:\n",
    "        print(\"*\" * 20) \n",
    "        print(\"Expense Tracker Menu: \")\n",
    "        print(\"1. Add Expense\")\n",
    "        print(\"2. View Expenses\")\n",
    "        print(\"3. Track Budget\")\n",
    "        print(\"4. Save Expenses\")\n",
    "        print(\"5. Exit\")\n",
    "\n",
    "        option = input(\"Enter the number to select an option : \")\n",
    "        print(\"*\" * 20) \n",
    "\n",
    "        if(option == \"1\"):\n",
    "            add_expense()\n",
    "        elif(option == \"2\"):\n",
    "            view_expenses()\n",
    "        elif(option == \"3\"):\n",
    "            track_budget()\n",
    "        elif(option == \"4\"):\n",
    "            save_expenses()\n",
    "        elif(option == \"5\"):\n",
    "            break\n",
    "        else:\n",
    "            print(\"Please select a correct option\")\n",
    "\n",
    "expense_menu()"
   ]
  }
 ],
 "metadata": {
  "kernelspec": {
   "display_name": "Python 3 (ipykernel)",
   "language": "python",
   "name": "python3"
  },
  "language_info": {
   "codemirror_mode": {
    "name": "ipython",
    "version": 3
   },
   "file_extension": ".py",
   "mimetype": "text/x-python",
   "name": "python",
   "nbconvert_exporter": "python",
   "pygments_lexer": "ipython3",
   "version": "3.12.3"
  }
 },
 "nbformat": 4,
 "nbformat_minor": 4
}
