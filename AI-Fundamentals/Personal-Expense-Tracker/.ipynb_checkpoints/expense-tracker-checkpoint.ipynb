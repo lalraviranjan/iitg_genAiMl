{
 "cells": [
  {
   "cell_type": "code",
   "execution_count": 2,
   "metadata": {},
   "outputs": [
    {
     "name": "stdout",
     "output_type": "stream",
     "text": [
      "Hello World\n"
     ]
    }
   ],
   "source": [
    "print(\"Hello World\")"
   ]
  },
  {
   "cell_type": "code",
   "execution_count": 6,
   "metadata": {},
   "outputs": [],
   "source": [
    "expenses = []"
   ]
  },
  {
   "cell_type": "code",
   "execution_count": 9,
   "metadata": {},
   "outputs": [],
   "source": [
    "def add_expense():\n",
    "    categ = input(\"Enter the expense category\")\n",
    "    amt = float(input(\"Enter the expense amount\"))\n",
    "    dt = input(\"Enter the expense date in YY-MM-DD format\")\n",
    "    desc = input(\"Enter description for your expense\")\n",
    "    expenses.append({'category':categ, 'amount': amt, 'date': dt, 'description': desc})"
   ]
  },
  {
   "cell_type": "code",
   "execution_count": 18,
   "metadata": {},
   "outputs": [],
   "source": [
    "def view_expense():\n",
    "    if not expenses:\n",
    "        print(\"No Expenses Found.\")\n",
    "    else :\n",
    "        print(\"\\nExpenses List:\")\n",
    "        for i, expense in enumerate(expenses, start=1):\n",
    "            print(f\"{i}. {expense['category']} - Amount: {expense['amount']:.2f} - Date: {expense['date']} - Description: {expense['description']}\")\n"
   ]
  },
  {
   "cell_type": "code",
   "execution_count": 20,
   "metadata": {},
   "outputs": [],
   "source": [
    "def track_budget():\n",
    "    budget = float(input(\"Enter the amount you want to budget for the month\"))"
   ]
  },
  {
   "cell_type": "code",
   "execution_count": 12,
   "metadata": {},
   "outputs": [],
   "source": [
    "add_expense()"
   ]
  },
  {
   "cell_type": "code",
   "execution_count": 13,
   "metadata": {},
   "outputs": [
    {
     "data": {
      "text/plain": [
       "[{'category': 'Lunch',\n",
       "  'amount': 111.0,\n",
       "  'date': '2024-10-23',\n",
       "  'description': 'Lunch with firends'},\n",
       " {'category': 'Dinner',\n",
       "  'amount': 2555.0,\n",
       "  'date': '2024-10-12',\n",
       "  'description': 'Dinner with Wife'}]"
      ]
     },
     "execution_count": 13,
     "metadata": {},
     "output_type": "execute_result"
    }
   ],
   "source": [
    "expenses"
   ]
  },
  {
   "cell_type": "code",
   "execution_count": 19,
   "metadata": {},
   "outputs": [
    {
     "name": "stdout",
     "output_type": "stream",
     "text": [
      "\n",
      "Expenses List:\n",
      "1. Lunch - Amount: 111.00 - Date: 2024-10-23 - Description: Lunch with firends\n",
      "2. Dinner - Amount: 2555.00 - Date: 2024-10-12 - Description: Dinner with Wife\n"
     ]
    }
   ],
   "source": [
    "view_expense()"
   ]
  },
  {
   "cell_type": "code",
   "execution_count": 21,
   "metadata": {},
   "outputs": [],
   "source": [
    "def main_menu():\n",
    "    while True:\n",
    "        print(\"Expense Tracker Menu: \")\n",
    "        print(\"1. Add Expense\")\n",
    "        print(\"2. View Expenses\")\n",
    "        print(\"3. Track Budget\")\n",
    "        print(\"4. Save Expenses\")\n",
    "        print(\"5. Exit\")\n",
    "\n",
    "        option = input(\"Enter the number for your option\")\n",
    "\n",
    "        if(option == \"1\") :\n",
    "            pass\n",
    "        \n",
    "\n"
   ]
  }
 ],
 "metadata": {
  "kernelspec": {
   "display_name": "Python 3",
   "language": "python",
   "name": "python3"
  },
  "language_info": {
   "codemirror_mode": {
    "name": "ipython",
    "version": 3
   },
   "file_extension": ".py",
   "mimetype": "text/x-python",
   "name": "python",
   "nbconvert_exporter": "python",
   "pygments_lexer": "ipython3",
   "version": "3.12.3"
  }
 },
 "nbformat": 4,
 "nbformat_minor": 2
}
